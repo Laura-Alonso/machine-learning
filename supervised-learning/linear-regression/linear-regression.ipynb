{
 "cells": [
  {
   "cell_type": "markdown",
   "id": "2bcf71dd",
   "metadata": {
    "papermill": {
     "duration": 0.030412,
     "end_time": "2024-05-14T09:15:59.884606",
     "exception": false,
     "start_time": "2024-05-14T09:15:59.854194",
     "status": "completed"
    },
    "tags": []
   },
   "source": [
    "# INTRODUCTION TO THE NOTEBOOK\n",
    " \n",
    "## Aim\n",
    "\n",
    "In this notebook, we will explore the principal characteristics of the linear regression models. This document is designed to emphasize technical details over the typical step-by-step procedure for implementing a regression model. Consequently, the organization of sections does not follow the traditional sequence. \n",
    "\n",
    "Some limitations of this notebook:\n",
    "\n",
    "* We didn´t split data into training and test. \n",
    "* No cleaning or exploration of the data was carried out.\n",
    "* The assumptions of the model we not tested.\n",
    "\n",
    "A complementary document will be provided, featuring a practical example to cover it thoroughly.\n",
    "\n",
    "Please feel free to suggest any corrections, modifications, or improvements. **Your feedback is greatly appreciated!**.\n",
    "\n",
    "## Programming Language: Python\n",
    "\n",
    "The code in the following sections is developed using Python (v. 3.10.13). The versions of the packages used are:\n",
    "\n",
    "* **Pandas**: '2.2.2' \n",
    "* **scikit-learn**: '1.2.2' \n",
    "* **Matplotlib**: '3.7.5'\n",
    "* **Numpy**: '1.26.4'\n",
    "* **Statsmodels**: '0.14.1'"
   ]
  },
  {
   "cell_type": "code",
   "execution_count": 1,
   "id": "72f806da",
   "metadata": {
    "execution": {
     "iopub.execute_input": "2024-05-14T09:15:59.947429Z",
     "iopub.status.busy": "2024-05-14T09:15:59.946965Z",
     "iopub.status.idle": "2024-05-14T09:16:04.475248Z",
     "shell.execute_reply": "2024-05-14T09:16:04.474007Z"
    },
    "papermill": {
     "duration": 4.562532,
     "end_time": "2024-05-14T09:16:04.478258",
     "exception": false,
     "start_time": "2024-05-14T09:15:59.915726",
     "status": "completed"
    },
    "tags": []
   },
   "outputs": [],
   "source": [
    "import pandas as pd                                  # Read csv\n",
    "from sklearn.linear_model  import LinearRegression\n",
    "from sklearn.preprocessing import PolynomialFeatures # interaction effect, no linear models\n",
    "from sklearn.linear_model  import Ridge, RidgeCV, Lasso, LassoCV # regularizationy, best value of alpha Ridge, reduce features, best value of alpha Lasso\n",
    "from sklearn.metrics import r2_score, mean_squared_error\n",
    "from sklearn.dummy import DummyRegressor\n",
    "import matplotlib\n",
    "from sklearn.preprocessing import StandardScaler # standardization\n",
    "import matplotlib.pyplot as plt                  # plot\n",
    "import numpy as np\n",
    "import statsmodels.api as sm\n",
    "\n",
    "\n",
    "# Check Python and packages version.\n",
    "import sys\n",
    "from sklearn import __version__ as sklearn_version # Only needed for sklearn\n",
    "\n",
    "versions = {\n",
    "    \"Python\": sys.version.split(\" \")[0],  # Simplifying to just the version number\n",
    "    \"Pandas\": pd.__version__,\n",
    "    \"scikit-learn\": sklearn_version,\n",
    "    \"Matplotlib\": matplotlib.__version__,\n",
    "    \"Numpy\": np.__version__,\n",
    "    \"Statsmodels\": sm.__version__\n",
    "}\n",
    "\n",
    "# print(versions)"
   ]
  },
  {
   "cell_type": "markdown",
   "id": "5c6169d2",
   "metadata": {
    "papermill": {
     "duration": 0.029312,
     "end_time": "2024-05-14T09:16:04.538701",
     "exception": false,
     "start_time": "2024-05-14T09:16:04.509389",
     "status": "completed"
    },
    "tags": []
   },
   "source": [
    "## Database\n",
    "\n",
    "Throughout this notebook, we will use the \"Red Wine Quality\" database. You can find a complete description of this dataset by following this link: [Red Wine Quality Dataset Description](https://www.kaggle.com/datasets/uciml/red-wine-quality-cortez-et-al-2009).\n",
    "\n",
    "* All the variable in this database are quantitative.\n",
    "* The target variable is \"quality\", which ranges from 0 to 10.\n",
    "\n",
    "Now, we are going to upload the data and separate target from features. "
   ]
  },
  {
   "cell_type": "code",
   "execution_count": 2,
   "id": "0dccbfce",
   "metadata": {
    "execution": {
     "iopub.execute_input": "2024-05-14T09:16:04.600025Z",
     "iopub.status.busy": "2024-05-14T09:16:04.599496Z",
     "iopub.status.idle": "2024-05-14T09:16:04.656358Z",
     "shell.execute_reply": "2024-05-14T09:16:04.654851Z"
    },
    "papermill": {
     "duration": 0.090915,
     "end_time": "2024-05-14T09:16:04.659175",
     "exception": false,
     "start_time": "2024-05-14T09:16:04.568260",
     "status": "completed"
    },
    "tags": []
   },
   "outputs": [
    {
     "name": "stdout",
     "output_type": "stream",
     "text": [
      "Number of rows: 1599\n",
      "   fixed acidity  volatile acidity  citric acid  residual sugar  chlorides  \\\n",
      "0            7.4              0.70         0.00             1.9      0.076   \n",
      "1            7.8              0.88         0.00             2.6      0.098   \n",
      "2            7.8              0.76         0.04             2.3      0.092   \n",
      "3           11.2              0.28         0.56             1.9      0.075   \n",
      "4            7.4              0.70         0.00             1.9      0.076   \n",
      "\n",
      "   free sulfur dioxide  total sulfur dioxide  density    pH  sulphates  \\\n",
      "0                 11.0                  34.0   0.9978  3.51       0.56   \n",
      "1                 25.0                  67.0   0.9968  3.20       0.68   \n",
      "2                 15.0                  54.0   0.9970  3.26       0.65   \n",
      "3                 17.0                  60.0   0.9980  3.16       0.58   \n",
      "4                 11.0                  34.0   0.9978  3.51       0.56   \n",
      "\n",
      "   alcohol  quality  \n",
      "0      9.4        5  \n",
      "1      9.8        5  \n",
      "2      9.8        5  \n",
      "3      9.8        6  \n",
      "4      9.4        5  \n",
      "\n",
      "\n",
      "The compleate df has 1599 cases and 12 columns\n",
      "df_target has 1599 cases and 1 column\n",
      "df_features has 1599 cases and 11 columns\n"
     ]
    }
   ],
   "source": [
    "# Read csv and see the chaacteristics\n",
    "df = pd.read_csv('/kaggle/input/red-wine-quality-cortez-et-al-2009/winequality-red.csv')\n",
    "print(\"Number of rows:\", len(df))\n",
    "print(df.head(5))\n",
    "\n",
    "# Separate target and features:\n",
    "\n",
    "df_target   = df[['quality']]      # Use doble [[ ]] to avoid transform in serie (because is only one column)\n",
    "df_features = df.drop('quality', axis=1)\n",
    "\n",
    "print(\"\\n\")\n",
    "print(\"The compleate df has\", len(df),          \"cases and\", df.shape[1],          \"columns\")\n",
    "print(\"df_target has\",        len(df_target),   \"cases and\", df_target.shape[1],   \"column\")\n",
    "print(\"df_features has\",      len(df_features), \"cases and\", df_features.shape[1], \"columns\")"
   ]
  },
  {
   "cell_type": "markdown",
   "id": "9d9f7a48",
   "metadata": {
    "papermill": {
     "duration": 0.029829,
     "end_time": "2024-05-14T09:16:04.719337",
     "exception": false,
     "start_time": "2024-05-14T09:16:04.689508",
     "status": "completed"
    },
    "tags": []
   },
   "source": [
    "<br>\n",
    "\n",
    "**Summary of the data**\n",
    "\n",
    "We have 1,599 entries (cases,rows), one target variable (\"quality\") and 11 features.\n",
    "\n",
    "<br>\n",
    "<br>\n",
    "\n",
    "## Some clarifications\n",
    "\n",
    "Along this document, different models will be studied. The table bellow shows a summary of the nomenclature used in Python. I hope this will make it easier to keep track of the code.\n",
    "\n",
    "| Model number | Model name                           | Target name | Target Variable | Feature/s name    | Feature/s Variable      | Model created    | Fit model | Predicted value |\n",
    "|--------------|--------------------------------------|-------------|-----------------|-------------------|-------------------------|------------------|-----------|-----------------|\n",
    "| 0            | Null model                           | Quality     | df_target       | Mean              |                         |                  | model0    | model0_y        |\n",
    "| 1            | Simple Linear Regression             | Quality     | df_target       | Alochol           | df_feature_one          | regression1      | model1    | model1_y        |\n",
    "| 2            | Multiple Linear Regression           | Quality     | df_target       | All               | df_feature              | regression2      | model2    | model2_y        |\n",
    "| 3            | Interaction                          | Quality     | df_target       | All + interaction | df_features_interaction | regression3      | model3    | model3_y        |\n",
    "| 4            | Polynomial                           | Quality     | df_target       | All + polynomial  | df_features_polynomial  | regression4      | model4    | model4_y        |\n",
    "| 5            | Ridge                                | Quality     | df_target       | All               | df_feature              | ridge_parameters | model5    | model5_y        |\n",
    "| 6            | Lasso                                | Quality     | df_target       | All               | df_feature              | lasso_parameters | model6    | model6_y        |\n",
    "| 7            | Multiple Linear Regression Stanrized | Quality     | df_target_stand | All standarized   | df_features_stand       | regression7      | model7    | model7_y        |"
   ]
  },
  {
   "cell_type": "markdown",
   "id": "cb64ca98",
   "metadata": {
    "papermill": {
     "duration": 0.0297,
     "end_time": "2024-05-14T09:16:04.778823",
     "exception": false,
     "start_time": "2024-05-14T09:16:04.749123",
     "status": "completed"
    },
    "tags": []
   },
   "source": [
    "# 1. Introduction to Linear Regression\n",
    "\n",
    "**Linear regression** is a machine learning algorithm classified under \"supervised learning\" techniques.\n",
    "\n",
    "The **aim** of linear regression algorithm is to predict one variable (VD, also known as *target* or *y*) using one or more features (VI, *predictors* or *$x_i$*).\n",
    "\n",
    "There are two type of models depending on the number of features involve:\n",
    "\n",
    "* **Simple Linear Regression**. The model use only one feature to predict the target:\n",
    "\n",
    "$$\n",
    "\\hat{y} = \\hat{\\beta}_0 + \\hat{\\beta}_1 x_1 + \\epsilon\n",
    "$$\n",
    "\n",
    "* **Multiple Linear Regression**. This model use two or more features to predict the target.\n",
    "\n",
    "$$\n",
    "\\hat{y} = \\hat{\\beta}_0 + \\hat{\\beta}_1 x_1 +  \\hat{\\beta}_2 x_2 + ... + \\hat{\\beta}_n x_n + \\epsilon\n",
    "$$\n",
    "\n",
    "Where:\n",
    "\n",
    "* $ \\hat{y} $: Is the target we predict.\n",
    "* $ \\hat{\\beta}_0 $: Is the *intercept* or *bias*.\n",
    "* $ \\hat{\\beta}_1, \\hat{\\beta}_2, ... $: Are the *coefficients* (*weights*, *effect*) associated with each feature. Is the effect of one feature on the target.\n",
    "* $ \\epsilon $: Represents the error term.\n",
    "\n",
    "\n",
    "**Note**: When discussing estimations (like parameter estimations or model residuals) or predictions, we use the hat notation, as in $\\hat{y}$."
   ]
  },
  {
   "cell_type": "markdown",
   "id": "4dcb3bcd",
   "metadata": {
    "papermill": {
     "duration": 0.029981,
     "end_time": "2024-05-14T09:16:04.839409",
     "exception": false,
     "start_time": "2024-05-14T09:16:04.809428",
     "status": "completed"
    },
    "tags": []
   },
   "source": [
    "## A. Model 1: Simple Linear Regression Model\n",
    "\n",
    "This model uses only one feature to predict the \"quality\" of the wine, which is our target variable stored in *df_target*. \n",
    "\n",
    "\n",
    "The predictor we will use is the \"alcohol\" level, currently housed within *df_features* along with other features. To simplify our analysis, we will first extract this specific feature into a new object dedicated solely to it."
   ]
  },
  {
   "cell_type": "code",
   "execution_count": 3,
   "id": "1b97cad5",
   "metadata": {
    "execution": {
     "iopub.execute_input": "2024-05-14T09:16:04.902814Z",
     "iopub.status.busy": "2024-05-14T09:16:04.902424Z",
     "iopub.status.idle": "2024-05-14T09:16:04.912735Z",
     "shell.execute_reply": "2024-05-14T09:16:04.911578Z"
    },
    "papermill": {
     "duration": 0.045748,
     "end_time": "2024-05-14T09:16:04.915602",
     "exception": false,
     "start_time": "2024-05-14T09:16:04.869854",
     "status": "completed"
    },
    "tags": []
   },
   "outputs": [
    {
     "name": "stdout",
     "output_type": "stream",
     "text": [
      "Target quality \n",
      "    quality\n",
      "0        5\n",
      "1        5\n",
      "2        5\n",
      "3        6\n",
      "4        5 \n",
      "\n",
      "Feature alcohol \n",
      "    alcohol\n",
      "0      9.4\n",
      "1      9.8\n",
      "2      9.8\n",
      "3      9.8\n",
      "4      9.4\n"
     ]
    }
   ],
   "source": [
    "# Select only the feature alcohol\n",
    "df_feature_one = df_features[['alcohol']]\n",
    "\n",
    "# Print results\n",
    "print(\"Target quality \\n\", df_target.sort_index().head(5), \"\\n\")\n",
    "print(\"Feature alcohol \\n\", df_feature_one.sort_index().head(5))"
   ]
  },
  {
   "cell_type": "markdown",
   "id": "0edd3928",
   "metadata": {
    "papermill": {
     "duration": 0.030191,
     "end_time": "2024-05-14T09:16:04.975846",
     "exception": false,
     "start_time": "2024-05-14T09:16:04.945655",
     "status": "completed"
    },
    "tags": []
   },
   "source": [
    "We can see that the first wine [0] have a real \"quality\" of 5 and an \"alcohol\" level of 9.4.\n",
    "\n",
    "<br>\n",
    "\n",
    "Next, we'll construct the model to establish the relationship between \"quality\" and \"alcohol\" content. Here's the step-by-step process:\n",
    "\n",
    "* **Create the model**. In this case, Linear Regression model.\n",
    "* **Fit the model**. Train the model with our data. During this process, the model will adjust its parameters to best fit the relationship between \"quality\" and \"alcohol\" content. As a result, we'll obtain the coefficients and the intercept.\n",
    "* **Display Coefficients and Intercept**: After fitting the model, we'll showcase the numerical values for the intercept and coefficients. These values provide insights into the baseline \"quality\" (intercept) and the magnitude of influence (coefficient) that \"alcohol\" level has on the \"quality\" of the product."
   ]
  },
  {
   "cell_type": "code",
   "execution_count": 4,
   "id": "e5063383",
   "metadata": {
    "execution": {
     "iopub.execute_input": "2024-05-14T09:16:05.041127Z",
     "iopub.status.busy": "2024-05-14T09:16:05.039780Z",
     "iopub.status.idle": "2024-05-14T09:16:05.066564Z",
     "shell.execute_reply": "2024-05-14T09:16:05.065200Z"
    },
    "papermill": {
     "duration": 0.061149,
     "end_time": "2024-05-14T09:16:05.069009",
     "exception": false,
     "start_time": "2024-05-14T09:16:05.007860",
     "status": "completed"
    },
    "tags": []
   },
   "outputs": [
    {
     "name": "stdout",
     "output_type": "stream",
     "text": [
      "Intercept: 1.875\n",
      "Coefficients : 0.361\n"
     ]
    }
   ],
   "source": [
    "# Create SLRM and fit it\n",
    "regression1 = LinearRegression()\n",
    "\n",
    "# Fit the model\n",
    "model1 = regression1.fit(df_feature_one.sort_index(),   # Features first then target\n",
    "                         df_target.sort_index()) \n",
    "\n",
    "# Show the results (round to three decimals):\n",
    "print(\"Intercept:\",     model1.intercept_[0].round(3))\n",
    "print(\"Coefficients :\", model1.coef_[0][0].round(3))"
   ]
  },
  {
   "cell_type": "markdown",
   "id": "5f4dc320",
   "metadata": {
    "papermill": {
     "duration": 0.030743,
     "end_time": "2024-05-14T09:16:05.193646",
     "exception": false,
     "start_time": "2024-05-14T09:16:05.162903",
     "status": "completed"
    },
    "tags": []
   },
   "source": [
    "Whith this information, we can construct the equation of the model:\n",
    "\n",
    "$$\n",
    "\\hat{y} = 1.875 + 0.361 · x_1 + \\epsilon\n",
    "$$\n",
    "\n",
    "The error $ \\epsilon $ epresents the disparity between the actual value of  $ y $ and the predicted value $ \\hat{y} $. We can only ascertain this value when we possess the actual result, not during prediction. We display the error only here but it is present in all equations we are going to see in which we made predictions.\n",
    "\n",
    "Nevertheless, we can substitute the feature value into the equation. For our initial scenario, this value is:"
   ]
  },
  {
   "cell_type": "code",
   "execution_count": 5,
   "id": "4f954f25",
   "metadata": {
    "execution": {
     "iopub.execute_input": "2024-05-14T09:16:05.256271Z",
     "iopub.status.busy": "2024-05-14T09:16:05.255812Z",
     "iopub.status.idle": "2024-05-14T09:16:05.264347Z",
     "shell.execute_reply": "2024-05-14T09:16:05.263034Z"
    },
    "papermill": {
     "duration": 0.042891,
     "end_time": "2024-05-14T09:16:05.266780",
     "exception": false,
     "start_time": "2024-05-14T09:16:05.223889",
     "status": "completed"
    },
    "tags": []
   },
   "outputs": [
    {
     "name": "stdout",
     "output_type": "stream",
     "text": [
      "Value of alcohol feature for our first case :    alcohol\n",
      "0      9.4\n"
     ]
    }
   ],
   "source": [
    "print(\"Value of alcohol feature for our first case :\", df_feature_one.iloc[0:1])"
   ]
  },
  {
   "cell_type": "markdown",
   "id": "aabf091d",
   "metadata": {
    "papermill": {
     "duration": 0.031,
     "end_time": "2024-05-14T09:16:05.329162",
     "exception": false,
     "start_time": "2024-05-14T09:16:05.298162",
     "status": "completed"
    },
    "tags": []
   },
   "source": [
    "The equation for the first case is:\n",
    "\n",
    "$$\n",
    "\\hat{y} = 1.875 + 0.361 · 9.4 \n",
    "$$\n",
    "\n",
    "So, the predicted value of our first case is:\n",
    "\n",
    "$$\n",
    "\\hat{y} = 1.875 + 0.361 · 10 \\approx 5.268\n",
    "$$\n",
    "\n",
    "We can achieve this using our script:"
   ]
  },
  {
   "cell_type": "code",
   "execution_count": 6,
   "id": "c8cfa9df",
   "metadata": {
    "execution": {
     "iopub.execute_input": "2024-05-14T09:16:05.392323Z",
     "iopub.status.busy": "2024-05-14T09:16:05.391846Z",
     "iopub.status.idle": "2024-05-14T09:16:05.402826Z",
     "shell.execute_reply": "2024-05-14T09:16:05.401459Z"
    },
    "papermill": {
     "duration": 0.045488,
     "end_time": "2024-05-14T09:16:05.405633",
     "exception": false,
     "start_time": "2024-05-14T09:16:05.360145",
     "status": "completed"
    },
    "tags": []
   },
   "outputs": [
    {
     "name": "stdout",
     "output_type": "stream",
     "text": [
      "Quality predicted value for the frst case:    Simple Model\n",
      "0         5.267\n"
     ]
    }
   ],
   "source": [
    "model1_y = pd.DataFrame(model1.predict(df_feature_one.sort_index()), \n",
    "                      index=df_feature_one.index, \n",
    "                      columns=['Simple Model'])\n",
    "\n",
    "print(\"Quality predicted value for the frst case:\", model1_y.sort_index().round(3).head(1))"
   ]
  },
  {
   "cell_type": "markdown",
   "id": "5598d87d",
   "metadata": {
    "papermill": {
     "duration": 0.030991,
     "end_time": "2024-05-14T09:16:05.468687",
     "exception": false,
     "start_time": "2024-05-14T09:16:05.437696",
     "status": "completed"
    },
    "tags": []
   },
   "source": [
    "Now, we are going to plot our model, putting in relation the predicted and real values of the \"quality\" of wine. The elements are:\n",
    "\n",
    "* **x-axis**: Real value of the target.\n",
    "* **y-axis**: Predicted value of the target.\n",
    "* **Dots**: Represent each wine \"quality\" (predicted vs real). The more filled dots are, the more cases concentrated on that relation.\n",
    "* **Predicted line**. Dashed red line. Represents the predictions if the model was perfect. The closer the dots to the line, the better predictions are made.\n",
    "* **Axis limits**. Ranging between 0 to 10, which are the minimum and maximum theoretical values of the \"quality\".\n",
    "\n",
    "The interpretation that we can make is:\n",
    "\n",
    "* The real values of the target range between 3 and 9, while the predicted values range between 5 and 7 (approximately). So not all the variability is captured by the model.\n",
    "* Dots are closer to the predicted line in the medium values. This means that our model is not good at predicting when the \"quality\" of wine is lower or higher. However, overall, the model doesn't predict very well.\n",
    "\n",
    "You can see the code to make this plot and the output of it:"
   ]
  },
  {
   "cell_type": "code",
   "execution_count": 7,
   "id": "3623119e",
   "metadata": {
    "execution": {
     "iopub.execute_input": "2024-05-14T09:16:05.533598Z",
     "iopub.status.busy": "2024-05-14T09:16:05.532615Z",
     "iopub.status.idle": "2024-05-14T09:16:05.989792Z",
     "shell.execute_reply": "2024-05-14T09:16:05.988583Z"
    },
    "papermill": {
     "duration": 0.492958,
     "end_time": "2024-05-14T09:16:05.992714",
     "exception": false,
     "start_time": "2024-05-14T09:16:05.499756",
     "status": "completed"
    },
    "tags": []
   },
   "outputs": [
    {
     "data": {
      "image/png": "[encoded data removed]",
      "text/plain": [
       "<Figure size 800x600 with 1 Axes>"
      ]
     },
     "metadata": {},
     "output_type": "display_data"
    }
   ],
   "source": [
    "plt.figure(figsize=(8, 6))\n",
    "plt.scatter(df_target.sort_index(),     # Real value\n",
    "            model1_y.sort_index(),      # Predicted\n",
    "            color='lightskyblue',\n",
    "            edgecolor = \"black\",\n",
    "            label='Predicted vs Real',\n",
    "            alpha = 0.3)\n",
    "\n",
    "# Plot a diagonal line representing perfect predictions and customize\n",
    "max_val = max(np.max(df_target), np.max(model1_y))\n",
    "plt.plot([0, max_val], [0, max_val], \n",
    "         color='red', \n",
    "         linestyle='--', \n",
    "         label='Perfect Prediction')\n",
    "\n",
    "plt.xticks(np.arange(0,10+1, 1))\n",
    "plt.yticks(np.arange(0,10+1, 1))\n",
    "plt.xlabel('Real \"Quality\"')\n",
    "plt.ylabel('Predicted \"Quality\"')\n",
    "plt.title('Predicted vs Real Values')\n",
    "plt.legend()\n",
    "plt.grid(color = \"gray\",\n",
    "         alpha = 0.3)\n",
    "plt.show()"
   ]
  },
  {
   "cell_type": "markdown",
   "id": "0d81181d",
   "metadata": {
    "papermill": {
     "duration": 0.031439,
     "end_time": "2024-05-14T09:16:06.056315",
     "exception": false,
     "start_time": "2024-05-14T09:16:06.024876",
     "status": "completed"
    },
    "tags": []
   },
   "source": [
    "## B. Model 2: Multiple Linear Regression Model\n",
    "\n",
    "This model uses more than one feature to predict the \"quality\" of the wine, which is our target variable stored in df_target.\n",
    "\n",
    "The predictors we will use are all the available features (11 variables), stored in df_features.\n",
    "\n",
    "The steps are identical to those in model 1."
   ]
  },
  {
   "cell_type": "code",
   "execution_count": 8,
   "id": "7bd11b44",
   "metadata": {
    "execution": {
     "iopub.execute_input": "2024-05-14T09:16:06.122270Z",
     "iopub.status.busy": "2024-05-14T09:16:06.121573Z",
     "iopub.status.idle": "2024-05-14T09:16:06.147193Z",
     "shell.execute_reply": "2024-05-14T09:16:06.145483Z"
    },
    "papermill": {
     "duration": 0.063455,
     "end_time": "2024-05-14T09:16:06.151535",
     "exception": false,
     "start_time": "2024-05-14T09:16:06.088080",
     "status": "completed"
    },
    "tags": []
   },
   "outputs": [
    {
     "name": "stdout",
     "output_type": "stream",
     "text": [
      "Intercept : 21.965\n",
      "Coefficients :\n",
      "fixed acidity: 0.025\n",
      "volatile acidity: -1.084\n",
      "citric acid: -0.183\n",
      "residual sugar: 0.016\n",
      "chlorides: -1.874\n",
      "free sulfur dioxide: 0.004\n",
      "total sulfur dioxide: -0.003\n",
      "density: -17.881\n",
      "pH: -0.414\n",
      "sulphates: 0.916\n",
      "alcohol: 0.276\n"
     ]
    }
   ],
   "source": [
    "# Create MLRM and fit it\n",
    "regression2 = LinearRegression()\n",
    "\n",
    "# Fit the model\n",
    "model2 = regression2.fit(df_features.sort_index(), \n",
    "                         df_target.sort_index()) \n",
    "\n",
    "# Show the equation values:\n",
    "print(\"Intercept :\",    model2.intercept_ [0].round(3))\n",
    "\n",
    "coefficient_dict = dict(zip(df_features.columns,\n",
    "                            model2.coef_[0]))\n",
    "print(\"Coefficients :\")\n",
    "for feature, coef in coefficient_dict.items():\n",
    "    print(f\"{feature}: {coef:.3f}\")"
   ]
  },
  {
   "cell_type": "markdown",
   "id": "5e32f659",
   "metadata": {
    "papermill": {
     "duration": 0.051253,
     "end_time": "2024-05-14T09:16:06.272818",
     "exception": false,
     "start_time": "2024-05-14T09:16:06.221565",
     "status": "completed"
    },
    "tags": []
   },
   "source": [
    "Whith this information we can build the equation of the model:\n",
    "\n",
    "$$\n",
    "\\hat{y} = 21.956 + 0.025 · x_1 - 1.084 · x_2 - 0.183 · x_3 + 0.016 · x_4 - 1.874 · x_5 + 0.004 · x_6 - 0.003 · x_7 - 17.881 · x_8 - 0.414 · x_9 + 0.916 · x_{10} + 0.276 · x_{11}\n",
    "$$\n",
    "\n",
    "We can see that we have negative and positive values in the coeficients. We interpret them as follows:\n",
    "\n",
    "* **Positive**: A high value in that feature increases the value of the target.\n",
    "* **Negative**: A high value in that feature decreases the value of the target.\n",
    "\n",
    "If we replace the features for our first case, we obtain this:"
   ]
  },
  {
   "cell_type": "code",
   "execution_count": 9,
   "id": "a5e403d7",
   "metadata": {
    "execution": {
     "iopub.execute_input": "2024-05-14T09:16:06.337866Z",
     "iopub.status.busy": "2024-05-14T09:16:06.337457Z",
     "iopub.status.idle": "2024-05-14T09:16:06.345824Z",
     "shell.execute_reply": "2024-05-14T09:16:06.344623Z"
    },
    "papermill": {
     "duration": 0.044241,
     "end_time": "2024-05-14T09:16:06.348492",
     "exception": false,
     "start_time": "2024-05-14T09:16:06.304251",
     "status": "completed"
    },
    "tags": []
   },
   "outputs": [
    {
     "name": "stdout",
     "output_type": "stream",
     "text": [
      "Value of all features for our first case :                            0\n",
      "fixed acidity          7.400\n",
      "volatile acidity       0.700\n",
      "citric acid            0.000\n",
      "residual sugar         1.900\n",
      "chlorides              0.076\n",
      "free sulfur dioxide   11.000\n",
      "total sulfur dioxide  34.000\n",
      "density                0.998\n",
      "pH                     3.510\n",
      "sulphates              0.560\n",
      "alcohol                9.400\n"
     ]
    }
   ],
   "source": [
    "print(\"Value of all features for our first case :\", df_features.iloc[0:1].transpose().round(3))"
   ]
  },
  {
   "cell_type": "markdown",
   "id": "a5e4847e",
   "metadata": {
    "papermill": {
     "duration": 0.032779,
     "end_time": "2024-05-14T09:16:06.412949",
     "exception": false,
     "start_time": "2024-05-14T09:16:06.380170",
     "status": "completed"
    },
    "tags": []
   },
   "source": [
    "For the first case the final equation looks like:\n",
    "\n",
    "$$\n",
    "\\hat{y} = 21.956 + 0.025 · 7.4 - 1.084 · 0.7 - 0.183 · 0 + 0.016 · 1.9 - 1.874 · 0.076 + 0.004 · 11 - 0.003 · 34 - 17.881 · 0.998 - 0.414 · 3.510 + 0.916 · 0.560 + 0.276 · 9.4\n",
    "$$\n",
    "\n",
    "And the \"quality\" predicted value :\n",
    "\n",
    "$$\n",
    "\\hat{y} \\approx 5.021\n",
    "$$\n",
    "\n",
    "We can obtain this result using our script (discrepancies might be due to differences in decimal precision)"
   ]
  },
  {
   "cell_type": "code",
   "execution_count": 10,
   "id": "abf55a62",
   "metadata": {
    "execution": {
     "iopub.execute_input": "2024-05-14T09:16:06.479681Z",
     "iopub.status.busy": "2024-05-14T09:16:06.478438Z",
     "iopub.status.idle": "2024-05-14T09:16:06.497346Z",
     "shell.execute_reply": "2024-05-14T09:16:06.494889Z"
    },
    "papermill": {
     "duration": 0.056757,
     "end_time": "2024-05-14T09:16:06.501985",
     "exception": false,
     "start_time": "2024-05-14T09:16:06.445228",
     "status": "completed"
    },
    "tags": []
   },
   "outputs": [
    {
     "name": "stdout",
     "output_type": "stream",
     "text": [
      "Quality predicted value for the frst case:    Multiple Model\n",
      "0           5.033\n"
     ]
    }
   ],
   "source": [
    "model2_y = pd.DataFrame(model2.predict(df_features.sort_index()), \n",
    "                        index=df_features.index, \n",
    "                        columns=['Multiple Model'])\n",
    "\n",
    "print(\"Quality predicted value for the frst case:\", model2_y.sort_index().round(3).head(1))"
   ]
  },
  {
   "cell_type": "markdown",
   "id": "7be4809d",
   "metadata": {
    "papermill": {
     "duration": 0.05254,
     "end_time": "2024-05-14T09:16:06.620891",
     "exception": false,
     "start_time": "2024-05-14T09:16:06.568351",
     "status": "completed"
    },
    "tags": []
   },
   "source": [
    "As before, we represent the relation between prediction and real value using a plot. We plot the result from model 1 and model 2 side by side to compare both models.\n",
    "\n",
    "There are no large differences between both models. Model 2 performe a slightly better than model 1. We can affirm that because the dots are more close to the red line in model 2 (look when real wine \"quality\" is 5).\n"
   ]
  },
  {
   "cell_type": "code",
   "execution_count": 11,
   "id": "8d2d1a21",
   "metadata": {
    "execution": {
     "iopub.execute_input": "2024-05-14T09:16:06.686111Z",
     "iopub.status.busy": "2024-05-14T09:16:06.685649Z",
     "iopub.status.idle": "2024-05-14T09:16:07.360278Z",
     "shell.execute_reply": "2024-05-14T09:16:07.359219Z"
    },
    "papermill": {
     "duration": 0.710466,
     "end_time": "2024-05-14T09:16:07.362991",
     "exception": false,
     "start_time": "2024-05-14T09:16:06.652525",
     "status": "completed"
    },
    "tags": []
   },
   "outputs": [
    {
     "data": {
      "image/png": "[encoded data removed]",
      "text/plain": [
       "<Figure size 1200x600 with 2 Axes>"
      ]
     },
     "metadata": {},
     "output_type": "display_data"
    }
   ],
   "source": [
    "plt.figure(figsize=(12, 6))\n",
    "\n",
    "\n",
    "# Plot model 1\n",
    "plt.subplot(1, 2, 1)\n",
    "\n",
    "plt.scatter(df_target.sort_index(),     # Real value\n",
    "            model1_y.sort_index(),      # Predicted\n",
    "            color='lightskyblue',\n",
    "            edgecolor = \"black\",\n",
    "            label='Predicted vs Real',\n",
    "            alpha = 0.3)\n",
    "\n",
    "# Plot a diagonal line representing perfect predictions and customize\n",
    "max_val = max(np.max(df_target), np.max(model1_y))\n",
    "plt.plot([0, max_val], [0, max_val], \n",
    "         color='red', \n",
    "         linestyle='--', \n",
    "         label='Perfect Prediction')\n",
    "\n",
    "plt.xticks(np.arange(0,10+1, 1))\n",
    "plt.yticks(np.arange(0,10+1, 1))\n",
    "plt.xlabel('Real \"Quality\"')\n",
    "plt.ylabel('Predicted \"Quality\"')\n",
    "plt.title('Simple Regression: Predicted vs Real Values')\n",
    "plt.legend()\n",
    "plt.grid(color = \"gray\",\n",
    "         alpha = 0.3)\n",
    "\n",
    "\n",
    "\n",
    "# Plot model 2\n",
    "plt.subplot(1, 2, 2)\n",
    "\n",
    "plt.scatter(df_target.sort_index(),     # Real value\n",
    "                model2_y.sort_index(),      # Predicted\n",
    "                color='lightskyblue',\n",
    "                edgecolor = \"black\",\n",
    "                label='Predicted vs Real',\n",
    "                alpha = 0.3)\n",
    "\n",
    "# Plot a diagonal line representing perfect predictions and customize\n",
    "max_val = max(np.max(df_target), np.max(model2_y))\n",
    "plt.plot([0, max_val], [0, max_val], \n",
    "         color='red', \n",
    "         linestyle='--', \n",
    "         label='Perfect Prediction')\n",
    "\n",
    "plt.xticks(np.arange(0,10+1, 1))\n",
    "plt.yticks(np.arange(0,10+1, 1))\n",
    "plt.xlabel('Real \"Quality\"')\n",
    "plt.ylabel('Predicted \"Quality\"')\n",
    "plt.title('Multiple Regression: Predicted vs Real Values')\n",
    "plt.legend()\n",
    "plt.grid(color = \"gray\",\n",
    "         alpha = 0.3)\n",
    "\n",
    "\n",
    "plt.show()\n"
   ]
  },
  {
   "cell_type": "markdown",
   "id": "c3cf564b",
   "metadata": {
    "papermill": {
     "duration": 0.033224,
     "end_time": "2024-05-14T09:16:07.429669",
     "exception": false,
     "start_time": "2024-05-14T09:16:07.396445",
     "status": "completed"
    },
    "tags": []
   },
   "source": [
    "# 2. Features modifications \n",
    "\n",
    "## A. Interacction effect\n",
    "\n",
    "Sometimes, individual features may not exhibit a significant effect on the target variable by themselves, but their combination does. We can account for this type of effect by including an interaction term in the model.\n",
    "\n",
    "Including interaction terms in the model allows for the possibility that the relationship between predictors and the target variable is not additive ($ \\hat{\\beta}_1 \\cdot x_1 + \\hat{\\beta}_2 \\cdot x_2 $), but varies depending on the levels of other predictors ($ \\hat{\\beta}_3 \\cdot x_1 \\cdot x_2 $).\n",
    "\n",
    "Imagine we have an original model with two features: $x_1$ and $x_2$. As explained in the introduction, the model will take this form:\n",
    "\n",
    "$$\n",
    "\\hat{y} = \\hat{\\beta}_0 + \\hat{\\beta}_1 x_1 + \\hat{\\beta}_2 x_2 + \\epsilon\n",
    "$$\n",
    "\n",
    "If we suspect there is an interaction between these two features, we can add the interaction effect as follows:\n",
    "\n",
    "$$\n",
    "\\hat{y} = \\hat{\\beta}_0 + \\hat{\\beta}_1 x_1 + \\hat{\\beta}_2 x_2 + \\hat{\\beta}_3 x_1 x_2 + \\epsilon\n",
    "$$\n",
    "\n",
    "Some relevant points:\n",
    "\n",
    "* We can include as many interaction effects as we want if they are interesting. However, we should consider the relevance of including them because we run the risk of overfitting our model.\n",
    "* An interaction effect could involve more than two features. For example, ($ \\hat{\\beta}_3 · x_1 · x_2 · x_3 $). If you decide this is interesting in your case, be cautious about overfitting and the difficulty of interpreting the interaction.\n",
    "* It is not necessary to include interactions for all the features involved in the model. If we have a model with three features and we think only the interaction between $ x_1 $ and $ x_2 $ is ineresting, then we can create a model like this: \n",
    "\n",
    "$$ \n",
    "\\hat{y} = \\hat{\\beta}_0 + \\hat{\\beta}_1 x_1 + \\hat{\\beta}_2 x_2 + \\hat{\\beta}_3 x_3 + \\hat{\\beta}_4 x_1 x_2 + \\epsilon \n",
    "$$\n",
    "\n",
    "Now, let's learn how to implement this in Python.\n",
    "\n",
    "As before, our target variable is \"quality\". For predictors, we'll include all the features, along with the interaction between \"free sulfur dioxide\" and \"alcohol\".\n",
    "\n",
    "First, we'll create the interaction term:\n"
   ]
  },
  {
   "cell_type": "code",
   "execution_count": 12,
   "id": "408f4cdb",
   "metadata": {
    "execution": {
     "iopub.execute_input": "2024-05-14T09:16:07.501689Z",
     "iopub.status.busy": "2024-05-14T09:16:07.501254Z",
     "iopub.status.idle": "2024-05-14T09:16:07.506671Z",
     "shell.execute_reply": "2024-05-14T09:16:07.505426Z"
    },
    "papermill": {
     "duration": 0.043073,
     "end_time": "2024-05-14T09:16:07.509339",
     "exception": false,
     "start_time": "2024-05-14T09:16:07.466266",
     "status": "completed"
    },
    "tags": []
   },
   "outputs": [],
   "source": [
    "interaction = PolynomialFeatures(\n",
    "    degree=2,                    # How many features combinations we want to create\n",
    "    include_bias=False,          # Exclude the bias term \n",
    "    interaction_only=True        # Only include interaction effects (not x^2, x^3, etc.)\n",
    "    )"
   ]
  },
  {
   "cell_type": "markdown",
   "id": "5e6857b6",
   "metadata": {
    "papermill": {
     "duration": 0.033718,
     "end_time": "2024-05-14T09:16:07.578664",
     "exception": false,
     "start_time": "2024-05-14T09:16:07.544946",
     "status": "completed"
    },
    "tags": []
   },
   "source": [
    "<br>\n",
    "\n",
    "Now, we have to transform and fit the interaction between \"free sulfur dioxide\" and \"alcohol\":"
   ]
  },
  {
   "cell_type": "code",
   "execution_count": 13,
   "id": "fb65785a",
   "metadata": {
    "execution": {
     "iopub.execute_input": "2024-05-14T09:16:07.649034Z",
     "iopub.status.busy": "2024-05-14T09:16:07.647764Z",
     "iopub.status.idle": "2024-05-14T09:16:07.662458Z",
     "shell.execute_reply": "2024-05-14T09:16:07.661201Z"
    },
    "papermill": {
     "duration": 0.053362,
     "end_time": "2024-05-14T09:16:07.665347",
     "exception": false,
     "start_time": "2024-05-14T09:16:07.611985",
     "status": "completed"
    },
    "tags": []
   },
   "outputs": [
    {
     "name": "stdout",
     "output_type": "stream",
     "text": [
      "   free sulfur dioxide  alcohol  free sulfur dioxide alcohol\n",
      "0                 11.0      9.4                        103.4\n"
     ]
    }
   ],
   "source": [
    "features_interaction = interaction.fit_transform(df_features[['free sulfur dioxide', 'alcohol']])\n",
    "\n",
    "# This is not necessary but is good to see the results. Transform the array into a dataframe:\n",
    "features_interaction = pd.DataFrame(features_interaction,\n",
    "                                      columns = interaction.get_feature_names_out(['free sulfur dioxide', 'alcohol']),\n",
    "                                      index=df_features.index  # This line ensures the index is carried over. Example, index 10 doesn´t should appear\n",
    "                                   )\n",
    "print(features_interaction.sort_index().head(1))\n"
   ]
  },
  {
   "cell_type": "markdown",
   "id": "f31a9a0b",
   "metadata": {
    "papermill": {
     "duration": 0.033708,
     "end_time": "2024-05-14T09:16:07.732851",
     "exception": false,
     "start_time": "2024-05-14T09:16:07.699143",
     "status": "completed"
    },
    "tags": []
   },
   "source": [
    "<br>\n",
    "\n",
    "As we observed, the interaction term includes both the simple features (since degree = 2 encompasses degree = 1, which represents the simple effects) and the interaction itself. We are specifically interested in the interaction between \"free sulfur dioxide\" and \"alcohol\". Therefore, we extract only that column and add it to our original features DataFrame:"
   ]
  },
  {
   "cell_type": "code",
   "execution_count": 14,
   "id": "7d4766c3",
   "metadata": {
    "execution": {
     "iopub.execute_input": "2024-05-14T09:16:07.803278Z",
     "iopub.status.busy": "2024-05-14T09:16:07.801995Z",
     "iopub.status.idle": "2024-05-14T09:16:07.811801Z",
     "shell.execute_reply": "2024-05-14T09:16:07.810645Z"
    },
    "papermill": {
     "duration": 0.04777,
     "end_time": "2024-05-14T09:16:07.814625",
     "exception": false,
     "start_time": "2024-05-14T09:16:07.766855",
     "status": "completed"
    },
    "tags": []
   },
   "outputs": [
    {
     "name": "stdout",
     "output_type": "stream",
     "text": [
      "   free sulfur dioxide alcohol\n",
      "0                        103.4\n",
      "1                        245.0\n",
      "2                        147.0\n",
      "3                        166.6\n",
      "4                        103.4\n"
     ]
    }
   ],
   "source": [
    "interaction_column = features_interaction[['free sulfur dioxide alcohol']].sort_index()\n",
    "print(interaction_column.sort_index().head(5))"
   ]
  },
  {
   "cell_type": "markdown",
   "id": "e5b7221f",
   "metadata": {
    "papermill": {
     "duration": 0.033157,
     "end_time": "2024-05-14T09:16:07.881301",
     "exception": false,
     "start_time": "2024-05-14T09:16:07.848144",
     "status": "completed"
    },
    "tags": []
   },
   "source": [
    "<br>\n",
    "We add the interaction column to our original features DataFrame. To demonstrate that this DataFrame has been modified, we will create a new DataFrame to display the modified version."
   ]
  },
  {
   "cell_type": "code",
   "execution_count": 15,
   "id": "149743ef",
   "metadata": {
    "execution": {
     "iopub.execute_input": "2024-05-14T09:16:07.951974Z",
     "iopub.status.busy": "2024-05-14T09:16:07.950957Z",
     "iopub.status.idle": "2024-05-14T09:16:07.968741Z",
     "shell.execute_reply": "2024-05-14T09:16:07.966950Z"
    },
    "papermill": {
     "duration": 0.058186,
     "end_time": "2024-05-14T09:16:07.974114",
     "exception": false,
     "start_time": "2024-05-14T09:16:07.915928",
     "status": "completed"
    },
    "tags": []
   },
   "outputs": [
    {
     "name": "stdout",
     "output_type": "stream",
     "text": [
      "   fixed acidity  volatile acidity  citric acid  residual sugar  chlorides  \\\n",
      "0            7.4              0.70         0.00             1.9      0.076   \n",
      "1            7.8              0.88         0.00             2.6      0.098   \n",
      "2            7.8              0.76         0.04             2.3      0.092   \n",
      "3           11.2              0.28         0.56             1.9      0.075   \n",
      "4            7.4              0.70         0.00             1.9      0.076   \n",
      "\n",
      "   free sulfur dioxide  total sulfur dioxide  density    pH  sulphates  \\\n",
      "0                 11.0                  34.0   0.9978  3.51       0.56   \n",
      "1                 25.0                  67.0   0.9968  3.20       0.68   \n",
      "2                 15.0                  54.0   0.9970  3.26       0.65   \n",
      "3                 17.0                  60.0   0.9980  3.16       0.58   \n",
      "4                 11.0                  34.0   0.9978  3.51       0.56   \n",
      "\n",
      "   alcohol  free sulfur dioxide alcohol  \n",
      "0      9.4                        103.4  \n",
      "1      9.8                        245.0  \n",
      "2      9.8                        147.0  \n",
      "3      9.8                        166.6  \n",
      "4      9.4                        103.4  \n"
     ]
    }
   ],
   "source": [
    "df_features_interaction = df_features.join(interaction_column, how='outer')\n",
    "\n",
    "print(df_features_interaction.sort_index().head(5))"
   ]
  },
  {
   "cell_type": "markdown",
   "id": "eb910f17",
   "metadata": {
    "papermill": {
     "duration": 0.035437,
     "end_time": "2024-05-14T09:16:08.047208",
     "exception": false,
     "start_time": "2024-05-14T09:16:08.011771",
     "status": "completed"
    },
    "tags": []
   },
   "source": [
    "<br>\n",
    "\n",
    "Now, we have a new DataFrame with all the original features plus one additional column for the interaction term (which is the last column, \"free sulfur dioxide alcohol\").\n",
    "\n",
    "**Important Note**: In this notebook, we are only utilizing the global database without splitting it into train and test sets. However, if we were to conduct such a split, the calculation of the interaction should be performed before splitting the data.\n",
    "\n",
    "With our final DataFrame, df_features_interaction, we can proceed to fit the model and obtain the intercept and coefficients:"
   ]
  },
  {
   "cell_type": "code",
   "execution_count": 16,
   "id": "b0762d38",
   "metadata": {
    "execution": {
     "iopub.execute_input": "2024-05-14T09:16:08.117467Z",
     "iopub.status.busy": "2024-05-14T09:16:08.116757Z",
     "iopub.status.idle": "2024-05-14T09:16:08.132957Z",
     "shell.execute_reply": "2024-05-14T09:16:08.131220Z"
    },
    "papermill": {
     "duration": 0.056823,
     "end_time": "2024-05-14T09:16:08.137637",
     "exception": false,
     "start_time": "2024-05-14T09:16:08.080814",
     "status": "completed"
    },
    "tags": []
   },
   "outputs": [
    {
     "name": "stdout",
     "output_type": "stream",
     "text": [
      "Intercept : 21.055\n",
      "Coefficients :\n",
      "fixed acidity: 0.024\n",
      "volatile acidity: -1.082\n",
      "citric acid: -0.170\n",
      "residual sugar: 0.019\n",
      "chlorides: -1.840\n",
      "free sulfur dioxide: -0.018\n",
      "total sulfur dioxide: -0.003\n",
      "density: -16.610\n",
      "pH: -0.420\n",
      "sulphates: 0.903\n",
      "alcohol: 0.245\n",
      "free sulfur dioxide alcohol: 0.002\n"
     ]
    }
   ],
   "source": [
    "# Create MLRM and fit it\n",
    "regression3 = LinearRegression()\n",
    "\n",
    "# Fit the model\n",
    "model3 = regression3.fit(df_features_interaction.sort_index(), \n",
    "                         df_target.sort_index()) # Features first then target\n",
    "\n",
    "# Show the equation values:\n",
    "print(\"Intercept :\",    model3.intercept_[0].round(3))\n",
    "\n",
    "coefficient_dict = dict(zip(df_features_interaction.columns,\n",
    "                            model3.coef_[0]))\n",
    "print(\"Coefficients :\")\n",
    "for feature, coef in coefficient_dict.items():\n",
    "    print(f\"{feature}: {coef:.3f}\")"
   ]
  },
  {
   "cell_type": "markdown",
   "id": "1ad5c545",
   "metadata": {
    "papermill": {
     "duration": 0.053086,
     "end_time": "2024-05-14T09:16:08.264024",
     "exception": false,
     "start_time": "2024-05-14T09:16:08.210938",
     "status": "completed"
    },
    "tags": []
   },
   "source": [
    "Now create the equation of the model:\n",
    "\n",
    "$$\n",
    "\\hat{y} = 21.055 + 0.024 · x_1 - 1.082 · x_2 - 0.170 · x_3 + 0.019 · x_4 - 1.840 · x_5 - 0.018 · x_6 - 0.003 · x_7 - 16.610 · x_8 - 0.420 · x_9 + 0.903 · x_{10} + 0.245 · x_{11} + 0.002 · x_{6} · x_{11}\n",
    "$$\n",
    "\n",
    "If we substitute the features for our first case, we obtain the following:"
   ]
  },
  {
   "cell_type": "code",
   "execution_count": 17,
   "id": "c1021aac",
   "metadata": {
    "execution": {
     "iopub.execute_input": "2024-05-14T09:16:08.334019Z",
     "iopub.status.busy": "2024-05-14T09:16:08.333618Z",
     "iopub.status.idle": "2024-05-14T09:16:08.342626Z",
     "shell.execute_reply": "2024-05-14T09:16:08.341430Z"
    },
    "papermill": {
     "duration": 0.047313,
     "end_time": "2024-05-14T09:16:08.345781",
     "exception": false,
     "start_time": "2024-05-14T09:16:08.298468",
     "status": "completed"
    },
    "tags": []
   },
   "outputs": [
    {
     "name": "stdout",
     "output_type": "stream",
     "text": [
      "Value of all features for our first case :                                    0\n",
      "fixed acidity                  7.400\n",
      "volatile acidity               0.700\n",
      "citric acid                    0.000\n",
      "residual sugar                 1.900\n",
      "chlorides                      0.076\n",
      "free sulfur dioxide           11.000\n",
      "total sulfur dioxide          34.000\n",
      "density                        0.998\n",
      "pH                             3.510\n",
      "sulphates                      0.560\n",
      "alcohol                        9.400\n",
      "free sulfur dioxide alcohol  103.400\n"
     ]
    }
   ],
   "source": [
    "# Notice that we use df_features_interaction\n",
    "print(\"Value of all features for our first case :\", df_features_interaction.iloc[0:1].transpose().round(3))"
   ]
  },
  {
   "cell_type": "markdown",
   "id": "7ef7850e",
   "metadata": {
    "papermill": {
     "duration": 0.033347,
     "end_time": "2024-05-14T09:16:08.412870",
     "exception": false,
     "start_time": "2024-05-14T09:16:08.379523",
     "status": "completed"
    },
    "tags": []
   },
   "source": [
    "<br>\n",
    "\n",
    "We replace with the features information:\n",
    "\n",
    "$$\n",
    "\\hat{y} = 21.055 + 0.024 · 7.4 - 1.082 · 0.7 - 0.170 · 0 + 0.019 · 1.9 - 1.840 · 0.076 - 0.018 · 11 - 0.003 · 34 - 16.610 · 0.998 - 0.420 · 3.510 + 0.903 · 0.560 + 0.245 · 9.4 + 0.002 · 103.4 \\approx 5.036\n",
    "$$\n",
    "\n",
    "Using Python:"
   ]
  },
  {
   "cell_type": "code",
   "execution_count": 18,
   "id": "682bbffe",
   "metadata": {
    "execution": {
     "iopub.execute_input": "2024-05-14T09:16:08.483948Z",
     "iopub.status.busy": "2024-05-14T09:16:08.482794Z",
     "iopub.status.idle": "2024-05-14T09:16:08.500477Z",
     "shell.execute_reply": "2024-05-14T09:16:08.498722Z"
    },
    "papermill": {
     "duration": 0.058325,
     "end_time": "2024-05-14T09:16:08.505235",
     "exception": false,
     "start_time": "2024-05-14T09:16:08.446910",
     "status": "completed"
    },
    "tags": []
   },
   "outputs": [
    {
     "name": "stdout",
     "output_type": "stream",
     "text": [
      "Quality predicted value for the frst case:    Interaction Model\n",
      "0               5.04\n"
     ]
    }
   ],
   "source": [
    "model3_y = pd.DataFrame(model3.predict(df_features_interaction.sort_index()), \n",
    "                        index=df_features_interaction.index, \n",
    "                        columns=['Interaction Model'])\n",
    "\n",
    "print(\"Quality predicted value for the frst case:\", model3_y.sort_index().round(3).head(1))"
   ]
  },
  {
   "cell_type": "markdown",
   "id": "8b23c470",
   "metadata": {
    "papermill": {
     "duration": 0.051139,
     "end_time": "2024-05-14T09:16:08.629371",
     "exception": false,
     "start_time": "2024-05-14T09:16:08.578232",
     "status": "completed"
    },
    "tags": []
   },
   "source": [
    "<br>\n",
    "We are set to examine the relationship between the actual \"quality\" and the predicted \"quality\" of our model. We include two plots with two models: multiple regresion and interaction. Both include the 11 original features, but the second model also incorporates an interaction term. Despite these differences in model configuration, our findings indicate that there are no discernible differences in their predictions."
   ]
  },
  {
   "cell_type": "code",
   "execution_count": 19,
   "id": "24855f30",
   "metadata": {
    "execution": {
     "iopub.execute_input": "2024-05-14T09:16:08.700056Z",
     "iopub.status.busy": "2024-05-14T09:16:08.699609Z",
     "iopub.status.idle": "2024-05-14T09:16:09.420204Z",
     "shell.execute_reply": "2024-05-14T09:16:09.419035Z"
    },
    "papermill": {
     "duration": 0.760225,
     "end_time": "2024-05-14T09:16:09.423480",
     "exception": false,
     "start_time": "2024-05-14T09:16:08.663255",
     "status": "completed"
    },
    "tags": []
   },
   "outputs": [
    {
     "data": {
      "image/png": "[encoded data removed]",
      "text/plain": [
       "<Figure size 1200x600 with 2 Axes>"
      ]
     },
     "metadata": {},
     "output_type": "display_data"
    }
   ],
   "source": [
    "plt.figure(figsize=(12, 6))\n",
    "\n",
    "\n",
    "# Plot model 2\n",
    "plt.subplot(1, 2, 1)\n",
    "\n",
    "plt.scatter(df_target.sort_index(),     # Real value\n",
    "            model2_y.sort_index(),      # Predicted\n",
    "            color='lightskyblue',\n",
    "            edgecolor = \"black\",\n",
    "            label='Predicted vs Real',\n",
    "            alpha = 0.3)\n",
    "\n",
    "# Plot a diagonal line representing perfect predictions and customize\n",
    "max_val = max(np.max(df_target), np.max(model1_y))\n",
    "plt.plot([0, max_val], [0, max_val], \n",
    "         color='red', \n",
    "         linestyle='--', \n",
    "         label='Perfect Prediction')\n",
    "\n",
    "plt.xticks(np.arange(0,10+1, 1))\n",
    "plt.yticks(np.arange(0,10+1, 1))\n",
    "plt.xlabel('Real \"Quality\"')\n",
    "plt.ylabel('Predicted \"Quality\"')\n",
    "plt.title('Multiple Regression: Predicted vs Real Values')\n",
    "plt.legend()\n",
    "plt.grid(color = \"gray\",\n",
    "         alpha = 0.3)\n",
    "\n",
    "\n",
    "\n",
    "# Plot model 3\n",
    "plt.subplot(1, 2, 2)\n",
    "\n",
    "plt.scatter(df_target.sort_index(),     # Real value\n",
    "                model3_y.sort_index(),      # Predicted\n",
    "                color='lightskyblue',\n",
    "                edgecolor = \"black\",\n",
    "                label='Predicted vs Real',\n",
    "                alpha = 0.3)\n",
    "\n",
    "# Plot a diagonal line representing perfect predictions and customize\n",
    "max_val = max(np.max(df_target), np.max(model3_y))\n",
    "plt.plot([0, max_val], [0, max_val], \n",
    "         color='red', \n",
    "         linestyle='--', \n",
    "         label='Perfect Prediction')\n",
    "\n",
    "plt.xticks(np.arange(0,10+1, 1))\n",
    "plt.yticks(np.arange(0,10+1, 1))\n",
    "plt.xlabel('Real \"Quality\"')\n",
    "plt.ylabel('Predicted \"Quality\"')\n",
    "plt.title('Multiple Regression with interaction term: Predicted vs Real Values')\n",
    "plt.legend()\n",
    "plt.grid(color = \"gray\",\n",
    "         alpha = 0.3)\n",
    "\n",
    "\n",
    "plt.show()"
   ]
  },
  {
   "cell_type": "markdown",
   "id": "16b28349",
   "metadata": {
    "papermill": {
     "duration": 0.036389,
     "end_time": "2024-05-14T09:16:09.495354",
     "exception": false,
     "start_time": "2024-05-14T09:16:09.458965",
     "status": "completed"
    },
    "tags": []
   },
   "source": [
    "## B. Nonlinear relationships\n",
    "\n",
    "In linear models, we typically expect the relationship between the target and features to be constant. However, when this assumption doesn't hold true, the relationship is deemed nonlinear. For instance, consider a student preparing for an exam. Generally, more hours of study lead to higher scores. However, this relationship is not linear. Spending one additional hour studying doesn't necessarily result in a score of one additional score on the test, nor does studying for seven hours guarantee an increase on seven points on the score. Instead, the relationship between the target (\"score\") and the feature (\"number of hours of study\") is not necessarily linear if not maybe exponential.\n",
    "\n",
    "A model that incorporates a nonlinear effect in a feature accounts for this aspect:\n",
    "\n",
    "$$\n",
    "\\hat{y} = \\hat{\\beta}_0 + \\hat{\\beta}_1 x_1 +  \\hat{\\beta}_2 x_1^2 + ... + \\hat{\\beta}_n x_n + \\epsilon\n",
    "$$\n",
    "\n",
    "Where:\n",
    "\n",
    "* $ x_1 $: Represents the feature with a linear effect.\n",
    "* $ x_1^2 $: Represents the same feature with a nonlinear association. The exponent $ ^2 $ indicates the polynomial degree.\n",
    "\n",
    "<br>\n",
    "\n",
    "**Include only nonlinear relationshiph or both?**\n",
    "\n",
    "If you believe that the relationship between a feature and the target variable is purely nonlinear, then you might only include the nonlinear term in your model. However, in many cases, including both linear and nonlinear terms can provide a more flexible and accurate representation of the relationship.\n",
    "Additionally, including both linear and nonlinear terms can help prevent issues like omitted variable bias, where failing to include relevant variables in the model leads to biased and inconsistent parameter estimates.\n",
    "\n",
    "\n",
    "\n",
    "The approach (Python) is similar to that of incorporating interaction effects. We will create the complete model, including nonlinear effect for the \"sulfite\" feature and then create and fit the model.\n",
    "We begin by creating a new feature \"$ sulphite^2 $\", which represents the square of the \"sulfite\" feature. This is essentially an interaction between the same feature.\n",
    "\n"
   ]
  },
  {
   "cell_type": "code",
   "execution_count": 20,
   "id": "6a44226d",
   "metadata": {
    "execution": {
     "iopub.execute_input": "2024-05-14T09:16:09.572336Z",
     "iopub.status.busy": "2024-05-14T09:16:09.571855Z",
     "iopub.status.idle": "2024-05-14T09:16:09.577008Z",
     "shell.execute_reply": "2024-05-14T09:16:09.575775Z"
    },
    "papermill": {
     "duration": 0.045477,
     "end_time": "2024-05-14T09:16:09.579373",
     "exception": false,
     "start_time": "2024-05-14T09:16:09.533896",
     "status": "completed"
    },
    "tags": []
   },
   "outputs": [],
   "source": [
    "polynomial = PolynomialFeatures(\n",
    "    degree=2,                    # We need a interaction with two degrees.\n",
    "    include_bias=False,          # Exclude the bias term \n",
    "    interaction_only=False       # NEW. Include polynomia effects. In our case only x^2 because we are interesting in 2 degrees.\n",
    "    )"
   ]
  },
  {
   "cell_type": "markdown",
   "id": "7198a379",
   "metadata": {
    "papermill": {
     "duration": 0.035363,
     "end_time": "2024-05-14T09:16:09.650211",
     "exception": false,
     "start_time": "2024-05-14T09:16:09.614848",
     "status": "completed"
    },
    "tags": []
   },
   "source": [
    "Now, we have to transform and fit the polynomial effect of \"sulphates\":"
   ]
  },
  {
   "cell_type": "code",
   "execution_count": 21,
   "id": "8abaacd7",
   "metadata": {
    "execution": {
     "iopub.execute_input": "2024-05-14T09:16:09.723499Z",
     "iopub.status.busy": "2024-05-14T09:16:09.722730Z",
     "iopub.status.idle": "2024-05-14T09:16:09.735596Z",
     "shell.execute_reply": "2024-05-14T09:16:09.734317Z"
    },
    "papermill": {
     "duration": 0.052646,
     "end_time": "2024-05-14T09:16:09.738196",
     "exception": false,
     "start_time": "2024-05-14T09:16:09.685550",
     "status": "completed"
    },
    "tags": []
   },
   "outputs": [
    {
     "name": "stdout",
     "output_type": "stream",
     "text": [
      "   sulphates  sulphates^2\n",
      "0       0.56       0.3136\n"
     ]
    }
   ],
   "source": [
    "polynomial_features = polynomial.fit_transform(df_features[['sulphates']].sort_index())\n",
    "\n",
    "# This is not necessary but is good to see the results. Transform the array into a dataframe:\n",
    "features_polynomial = pd.DataFrame(polynomial_features,\n",
    "                                   columns = polynomial.get_feature_names_out(),\n",
    "                                   index=df_features.index  # This line ensures the index is carried over. Example, index 10 doesn´t should appear\n",
    "                                   )\n",
    "print(features_polynomial.sort_index().head(1))"
   ]
  },
  {
   "cell_type": "markdown",
   "id": "26b0c8ff",
   "metadata": {
    "papermill": {
     "duration": 0.035499,
     "end_time": "2024-05-14T09:16:09.808972",
     "exception": false,
     "start_time": "2024-05-14T09:16:09.773473",
     "status": "completed"
    },
    "tags": []
   },
   "source": [
    "<br>\n",
    "We only need incorporate the $ sulphates^2 $ column. First, we isolete that column and then we add it to the original feature df (we create a new dataframe for this new data)"
   ]
  },
  {
   "cell_type": "code",
   "execution_count": 22,
   "id": "139b9da6",
   "metadata": {
    "execution": {
     "iopub.execute_input": "2024-05-14T09:16:09.883786Z",
     "iopub.status.busy": "2024-05-14T09:16:09.883000Z",
     "iopub.status.idle": "2024-05-14T09:16:09.899624Z",
     "shell.execute_reply": "2024-05-14T09:16:09.898083Z"
    },
    "papermill": {
     "duration": 0.056539,
     "end_time": "2024-05-14T09:16:09.902350",
     "exception": false,
     "start_time": "2024-05-14T09:16:09.845811",
     "status": "completed"
    },
    "tags": []
   },
   "outputs": [
    {
     "name": "stdout",
     "output_type": "stream",
     "text": [
      "   fixed acidity  volatile acidity  citric acid  residual sugar  chlorides  \\\n",
      "0            7.4              0.70         0.00             1.9      0.076   \n",
      "1            7.8              0.88         0.00             2.6      0.098   \n",
      "2            7.8              0.76         0.04             2.3      0.092   \n",
      "3           11.2              0.28         0.56             1.9      0.075   \n",
      "4            7.4              0.70         0.00             1.9      0.076   \n",
      "\n",
      "   free sulfur dioxide  total sulfur dioxide  density    pH  sulphates  \\\n",
      "0                 11.0                  34.0   0.9978  3.51       0.56   \n",
      "1                 25.0                  67.0   0.9968  3.20       0.68   \n",
      "2                 15.0                  54.0   0.9970  3.26       0.65   \n",
      "3                 17.0                  60.0   0.9980  3.16       0.58   \n",
      "4                 11.0                  34.0   0.9978  3.51       0.56   \n",
      "\n",
      "   alcohol  sulphates^2  \n",
      "0      9.4       0.3136  \n",
      "1      9.8       0.4624  \n",
      "2      9.8       0.4225  \n",
      "3      9.8       0.3364  \n",
      "4      9.4       0.3136  \n"
     ]
    }
   ],
   "source": [
    "# Isolate the polynomial feature\n",
    "polynomial_column = features_polynomial[['sulphates^2']].sort_index()\n",
    "\n",
    "# Add to the other features (and create a new features df)\n",
    "df_features_polynomial = df_features.join(polynomial_column, how='outer')\n",
    "print(df_features_polynomial.sort_index().head(5))"
   ]
  },
  {
   "cell_type": "markdown",
   "id": "8917ecba",
   "metadata": {
    "papermill": {
     "duration": 0.03547,
     "end_time": "2024-05-14T09:16:09.974786",
     "exception": false,
     "start_time": "2024-05-14T09:16:09.939316",
     "status": "completed"
    },
    "tags": []
   },
   "source": [
    "<br>\n",
    "\n",
    "**Important Note**. As we say in the interaction section, if we are going to split the data into training and testing, then this steps should be done before.\n",
    "\n",
    "With our final DataFrame, df_features_polynomial, we can proceed to fit the model and obtain the intercept and coefficients:"
   ]
  },
  {
   "cell_type": "code",
   "execution_count": 23,
   "id": "c36678c0",
   "metadata": {
    "execution": {
     "iopub.execute_input": "2024-05-14T09:16:10.051997Z",
     "iopub.status.busy": "2024-05-14T09:16:10.050912Z",
     "iopub.status.idle": "2024-05-14T09:16:10.067886Z",
     "shell.execute_reply": "2024-05-14T09:16:10.066217Z"
    },
    "papermill": {
     "duration": 0.061001,
     "end_time": "2024-05-14T09:16:10.072632",
     "exception": false,
     "start_time": "2024-05-14T09:16:10.011631",
     "status": "completed"
    },
    "tags": []
   },
   "outputs": [
    {
     "name": "stdout",
     "output_type": "stream",
     "text": [
      "Intercept : 32.52\n",
      "Coefficients :\n",
      "fixed acidity: 0.013\n",
      "volatile acidity: -0.967\n",
      "citric acid: -0.214\n",
      "residual sugar: 0.017\n",
      "chlorides: -1.599\n",
      "free sulfur dioxide: 0.003\n",
      "total sulfur dioxide: -0.003\n",
      "density: -28.532\n",
      "pH: -0.662\n",
      "sulphates: 3.640\n",
      "alcohol: 0.260\n",
      "sulphates^2: -1.565\n"
     ]
    }
   ],
   "source": [
    "# Create MLRM and fit it\n",
    "regression4 = LinearRegression()\n",
    "\n",
    "# Fit the model\n",
    "model4 = regression4.fit(df_features_polynomial.sort_index(), \n",
    "                         df_target.sort_index()) # Features first then target\n",
    "\n",
    "# Show the equation values:\n",
    "print(\"Intercept :\",    model4.intercept_[0].round(3))\n",
    "\n",
    "coefficient_dict = dict(zip(df_features_polynomial.columns,\n",
    "                            model4.coef_[0]))\n",
    "print(\"Coefficients :\")\n",
    "for feature, coef in coefficient_dict.items():\n",
    "    print(f\"{feature}: {coef:.3f}\")"
   ]
  },
  {
   "cell_type": "markdown",
   "id": "07a12b7a",
   "metadata": {
    "papermill": {
     "duration": 0.05311,
     "end_time": "2024-05-14T09:16:10.206324",
     "exception": false,
     "start_time": "2024-05-14T09:16:10.153214",
     "status": "completed"
    },
    "tags": []
   },
   "source": [
    "\n",
    "<br>\n",
    "\n",
    "Now build the equation of the model:\n",
    "\n",
    "$$\n",
    "\\hat{y} = 32.52 + 0.013 · x_1 - 0.967 · x_2 - 0.214 · x_3 + 0.017 · x_4 -1.599 · x_5 + 0.003 · x_6 - 0.003 · x_7 - 28.532 · x_8 - 0.662 · x_9 + 3.640 · x_{10} + 0.260 · x_{11} - 1.565 · x_{10}^2\n",
    "$$\n",
    "\n",
    "Observing the polynomial coefficient, it becomes evident that it's negative. This signifies that as the levels of \"sulfates\" increase, the \"quality\" of the wine tends to decrease. Given its polynomial nature, this decline in \"quality\" accelerates, indicating a rapid deterioration with higher \"sulfates\".\n",
    "\n",
    "Upon substituting the features in our initial case, the resultant trend emerges as follows:"
   ]
  },
  {
   "cell_type": "code",
   "execution_count": 24,
   "id": "b501a84d",
   "metadata": {
    "execution": {
     "iopub.execute_input": "2024-05-14T09:16:10.283704Z",
     "iopub.status.busy": "2024-05-14T09:16:10.282682Z",
     "iopub.status.idle": "2024-05-14T09:16:10.291652Z",
     "shell.execute_reply": "2024-05-14T09:16:10.290121Z"
    },
    "papermill": {
     "duration": 0.050253,
     "end_time": "2024-05-14T09:16:10.294013",
     "exception": false,
     "start_time": "2024-05-14T09:16:10.243760",
     "status": "completed"
    },
    "tags": []
   },
   "outputs": [
    {
     "name": "stdout",
     "output_type": "stream",
     "text": [
      "Value of all features for our first case :                            0\n",
      "fixed acidity          7.400\n",
      "volatile acidity       0.700\n",
      "citric acid            0.000\n",
      "residual sugar         1.900\n",
      "chlorides              0.076\n",
      "free sulfur dioxide   11.000\n",
      "total sulfur dioxide  34.000\n",
      "density                0.998\n",
      "pH                     3.510\n",
      "sulphates              0.560\n",
      "alcohol                9.400\n",
      "sulphates^2            0.314\n"
     ]
    }
   ],
   "source": [
    "# Notice that we use df_features_interaction\n",
    "print(\"Value of all features for our first case :\", df_features_polynomial.iloc[0:1].transpose().round(3))"
   ]
  },
  {
   "cell_type": "markdown",
   "id": "cbb1bca2",
   "metadata": {
    "papermill": {
     "duration": 0.035823,
     "end_time": "2024-05-14T09:16:10.366518",
     "exception": false,
     "start_time": "2024-05-14T09:16:10.330695",
     "status": "completed"
    },
    "tags": []
   },
   "source": [
    "<br>\n",
    "\n",
    "We replace our model with the features information case one:\n",
    "\n",
    "$$\n",
    "\\hat{y} = 32.52 + 0.013 · 7.4 - 0.967 · 0.7 - 0.214 · 0 + 0.017 · 1.9 -1.599 · 0.076 + 0.003 · 11 - 0.003 · 34 - 28.532 · 0.998 - 0.662 · 3.510 + 3.640 · 0.560 + 0.260 · 9.4 - 1.565 · 0.314 \\approx 4.973\n",
    "$$\n",
    "\n",
    "Using Python:"
   ]
  },
  {
   "cell_type": "code",
   "execution_count": 25,
   "id": "ef6d22d5",
   "metadata": {
    "execution": {
     "iopub.execute_input": "2024-05-14T09:16:10.441714Z",
     "iopub.status.busy": "2024-05-14T09:16:10.441125Z",
     "iopub.status.idle": "2024-05-14T09:16:10.457429Z",
     "shell.execute_reply": "2024-05-14T09:16:10.455896Z"
    },
    "papermill": {
     "duration": 0.05854,
     "end_time": "2024-05-14T09:16:10.461799",
     "exception": false,
     "start_time": "2024-05-14T09:16:10.403259",
     "status": "completed"
    },
    "tags": []
   },
   "outputs": [
    {
     "name": "stdout",
     "output_type": "stream",
     "text": [
      "Quality predicted value for the frst case:    Polinomyal Model\n",
      "0          4.988998\n"
     ]
    }
   ],
   "source": [
    "model4_y = pd.DataFrame(model4.predict(df_features_polynomial.sort_index()), \n",
    "                      index=df_features_polynomial.index, \n",
    "                      columns=['Polinomyal Model'])\n",
    "\n",
    "print(\"Quality predicted value for the frst case:\", model4_y.sort_index().head(1))"
   ]
  },
  {
   "cell_type": "markdown",
   "id": "669d6059",
   "metadata": {
    "papermill": {
     "duration": 0.051088,
     "end_time": "2024-05-14T09:16:10.595040",
     "exception": false,
     "start_time": "2024-05-14T09:16:10.543952",
     "status": "completed"
    },
    "tags": []
   },
   "source": [
    "We create again the two plots: multiple regression and regression with polynomical term. Again, no differences are detected."
   ]
  },
  {
   "cell_type": "code",
   "execution_count": 26,
   "id": "f8d1d2a5",
   "metadata": {
    "execution": {
     "iopub.execute_input": "2024-05-14T09:16:10.672066Z",
     "iopub.status.busy": "2024-05-14T09:16:10.671637Z",
     "iopub.status.idle": "2024-05-14T09:16:11.421333Z",
     "shell.execute_reply": "2024-05-14T09:16:11.419968Z"
    },
    "papermill": {
     "duration": 0.792908,
     "end_time": "2024-05-14T09:16:11.424190",
     "exception": false,
     "start_time": "2024-05-14T09:16:10.631282",
     "status": "completed"
    },
    "tags": []
   },
   "outputs": [
    {
     "data": {
      "image/png": "[encoded data removed]",
      "text/plain": [
       "<Figure size 1200x600 with 2 Axes>"
      ]
     },
     "metadata": {},
     "output_type": "display_data"
    }
   ],
   "source": [
    "plt.figure(figsize=(12, 6))\n",
    "\n",
    "\n",
    "# Plot model 2\n",
    "plt.subplot(1, 2, 1)\n",
    "\n",
    "plt.scatter(df_target.sort_index(),     # Real value\n",
    "            model2_y.sort_index(),      # Predicted\n",
    "            color='lightskyblue',\n",
    "            edgecolor = \"black\",\n",
    "            label='Predicted vs Real',\n",
    "            alpha = 0.3)\n",
    "\n",
    "# Plot a diagonal line representing perfect predictions and customize\n",
    "max_val = max(np.max(df_target), np.max(model1_y))\n",
    "plt.plot([0, max_val], [0, max_val], \n",
    "         color='red', \n",
    "         linestyle='--', \n",
    "         label='Perfect Prediction')\n",
    "\n",
    "plt.xticks(np.arange(0,10+1, 1))\n",
    "plt.yticks(np.arange(0,10+1, 1))\n",
    "plt.xlabel('Real \"Quality\"')\n",
    "plt.ylabel('Predicted \"Quality\"')\n",
    "plt.title('Multiple Regression: Predicted vs Real Values')\n",
    "plt.legend()\n",
    "plt.grid(color = \"gray\",\n",
    "         alpha = 0.3)\n",
    "\n",
    "\n",
    "\n",
    "# Plot model 4\n",
    "plt.subplot(1, 2, 2)\n",
    "\n",
    "plt.scatter(df_target.sort_index(),     # Real value\n",
    "                model4_y.sort_index(),      # Predicted\n",
    "                color='lightskyblue',\n",
    "                edgecolor = \"black\",\n",
    "                label='Predicted vs Real',\n",
    "                alpha = 0.3)\n",
    "\n",
    "# Plot a diagonal line representing perfect predictions and customize\n",
    "max_val = max(np.max(df_target), np.max(model4_y))\n",
    "plt.plot([0, max_val], [0, max_val], \n",
    "         color='red', \n",
    "         linestyle='--', \n",
    "         label='Perfect Prediction')\n",
    "\n",
    "plt.xticks(np.arange(0,10+1, 1))\n",
    "plt.yticks(np.arange(0,10+1, 1))\n",
    "plt.xlabel('Real \"Quality\"')\n",
    "plt.ylabel('Predicted \"Quality\"')\n",
    "plt.title('Multiple Regression with polynomical term: Predicted vs Real Values')\n",
    "plt.legend()\n",
    "plt.grid(color = \"gray\",\n",
    "         alpha = 0.3)\n",
    "\n",
    "\n",
    "plt.show()"
   ]
  },
  {
   "cell_type": "markdown",
   "id": "cfd0fd18",
   "metadata": {
    "papermill": {
     "duration": 0.039412,
     "end_time": "2024-05-14T09:16:11.501547",
     "exception": false,
     "start_time": "2024-05-14T09:16:11.462135",
     "status": "completed"
    },
    "tags": []
   },
   "source": [
    "<br>\n",
    "<br>\n",
    "\n",
    "# 3. Optimization Techniques\n",
    "\n",
    "Scikit-learn offers a wide array of estimator options, covering various techniques beyond regression. The image below illustrates the extensive variety included in this package. For more details, you can explore [Scikit-learn estimators](https://scikit-learn.org/stable/tutorial/machine_learning_map/index.html).\n",
    "<br>\n",
    "\n",
    "<div style=\"text-align:center\">\n",
    "    <img src=\"https://scikit-learn.org/stable/_static/ml_map.png\" alt=\"Scikit-Learn estimators\" width=\"700\" height=\"500\">\n",
    "</div>\n",
    "\n",
    "<br>\n",
    "\n",
    "**Optimization algorithms** are tools used to find the best solution to a problem, typically aiming to minimize or maximize a function. Key concepts include:\n",
    "\n",
    "* **Objective Function**: The function we aim to optimize.\n",
    "* **Minimum and Maximum**: We seek the minimum when optimizing parameters to minimize error and the maximum when maximizing profits.\n",
    "* **Stopping Conditions**: Criteria indicating when to cease the search for the optimal solution. For instance, fixed iteration counts or when improvements in the objective function fall below a specific threshold.\n",
    "* **Optimal Point**: The input value yielding the minimum or maximum of the objective function.\n",
    "* **Gradient**: A vector indicating both the direction and magnitude of the steepest change in a function.\n",
    "\n",
    "<br>\n",
    "\n",
    "## A. Residual Sum of Squares (RSS)\n",
    "\n",
    "The **Residual Sum of Squares (RSS)** serves as a metric to compute differences between real and estimated values. It's calculated using the formula:\n",
    "\n",
    "$$\n",
    "RSS = \\sum_{i=1}^{n} ( y_i - \\hat{y}_i )^2\n",
    "$$\n",
    "\n",
    "Where:\n",
    "\n",
    "* **i**: Denotes a specific row/case.\n",
    "* **n**: Represents the total sample.\n",
    "* $y_i$ : Refers to the real value of the target.\n",
    "* $\\hat{y}_i$: Refers to the estimated value of the target.\n",
    "\n",
    "Regularization model includes some penalization into this RSS.\n",
    "\n",
    "<br>\n",
    "\n",
    "### a. Ordinary Least Square (OLS)\n",
    "\n",
    "**Ordinary Least Squares (OLS)** is a method employed to minimize the sum of the squared errors, which represent the differences between predictions and actual values.\n",
    "\n",
    "* Usefull when the errors follows a normal distribution and there are no outliers in the data.\n",
    "* OLS is widely used in linear regression analysis to estimate the coefficients of the linear equation that best fits the observed data points. It provides a \"best fit\" line through the data by determining the coefficients that minimize the sum of the squared residuals.\n",
    "\n",
    "<br>\n",
    "\n",
    "## B. Gradient Descent\n",
    "\n",
    "**Gradient Descent** is an iterative optimization process used to find the optimal parameters of a model.\n",
    "\n",
    "* Is an iterative process. It repeatedly updates the parameters until convergence to minimize the loss function.\n",
    "* Use the enterie sample in each iteration to update parameters.\n",
    "* Parameter are update in the oposite direction of the gradient of the loss function.\n",
    "* Search the local or global minimun.\n",
    "* While Gradient Descent might be slower than certain methods for simple linear regression problems, it offers more flexibility and is particularly useful for complex problems with non-linear relationships.\n",
    "\n",
    "<br>\n",
    "\n",
    "## C. SGD Regressor (Stochastic Gradient Descent)\n",
    "\n",
    "**Stochastic Gradient Descent (SGD)** is a variant of Gradient Descent used in machine learning. It seeks to minimize the loss function to update the model parameters.\n",
    "\n",
    "* Search for the minimun to update the model parameters.\n",
    "* Use when you have large samples.\n",
    "* Unlike traditional Gradient Descent, SGD utilizes a random sample of the data in each iteration. This characteristic makes it efficient for large training samples, as it processes smaller batches of data at a time.\n",
    "\n",
    "<br>\n",
    "\n",
    "## D. Regularization\n",
    "\n",
    "Regularization methods are used to prevent overfitting by adding a penalty term to the loss function. This penalty term encourages the model to learn simpler patterns and helps prevent it from fitting noise in the training data. By optimizing both the original loss function and the regularization term, regularization techniques strike a balance between fitting the training data well and generalizing to unseen data, thus improving the overall performance of the model.\n",
    "\n",
    "**Differences between Lasso and Ridge Regression**:\n",
    "\n",
    "| | Ridge Regression (L2) | Lasso Regression (L1)|\n",
    "|:--:| :--:|:--:|\n",
    "|Penalty term| Proportional to the square of the square of the magnitude of the coefficients: $ \\Theta^2 $ | Proportional to the absolute value of the coefficients $ |\\Theta| $. It could drive some coefficients to 0|\n",
    "|Objetive| Reduces overfitting and model complexity| Reduces complexity and automatically selects some features (by setting their coefficients to 0. In other words, deleting it)|\n",
    "|Predictions| Generally yields better predictions| More interpretable due to feature selection|\n",
    "\n",
    "**$\\alpha$**: Hiperparameter that controls how much is going to be penalize. Higher the value, simpler the models. To select the best value, a tuning process must be done. **WARNING** in Lasso, if we pick a large value we can deleate a lot of features because their coefficients will go to 0.\n",
    "\n",
    "<br>\n",
    "\n",
    "### a. Ridge Regression (L2)\n",
    "\n",
    "When to use it:\n",
    "* High correlation among features.\n",
    "* Number of features > number of observations (overdimensional models)\n",
    "* When aiming to reduce overfitting while maintaining multicollinearity.\n",
    "\n",
    "This model penalizes as follows:\n",
    "\n",
    "$$\n",
    "RSS + \\alpha ·  \\sum_{j=1}^{p} (\\hat{\\beta} _j )^2\n",
    "$$\n",
    "\n",
    "Where:\n",
    "\n",
    "* **j**: Represent a specific feature.\n",
    "* **p**: Denotes total number of features.\n",
    "* $\\beta$: Denotes the coeficient of the feature.\n",
    "* $\\alpha$: Represent the hiperparameter.\n",
    "\n",
    "<br>\n",
    "\n",
    "### b. Lasso Regression (L1)\n",
    "\n",
    "This model penalizes as follow:\n",
    "\n",
    "$$\n",
    "\\frac{1}{2n}· RSS + \\alpha ·  \\sum_{j=1}^{p} |\\hat{\\beta}_j|\n",
    "$$\n",
    "\n",
    "Where:\n",
    "\n",
    "* **j**: Denotes a specific feature.\n",
    "* **p**: Represents the total number of features.\n",
    "* $\\beta$: Represents the coeficient of the feature.\n",
    "* $\\alpha$: Denotes the hiperparameter.\n",
    "* **n**: Represents the number of obervations.\n",
    "\n",
    "<br>\n",
    "\n",
    "### c. Elastic Net\n",
    "\n",
    "Combines the penalties of both Lasso (L1) and Ridge (L2) regression. It aims to overcome the limitations of each method individually by incorporating their strengths.\n",
    "\n",
    "In Elastic Net, the loss function is augmented with two penalty terms: one that is proportional to the absolute values of the coefficients (L1 penalty), and another that is proportional to the square of the coefficients (L2 penalty). The objective of Elastic Net is to find a balance between feature selection (like Lasso) and parameter shrinkage (like Ridge).\n",
    "\n",
    "Elastic Net is particularly useful when dealing with datasets where there are multiple correlated features, as it can select groups of correlated features together, unlike Lasso which tends to arbitrarily select only one feature from a group.\n",
    "\n",
    "The Elastic Net hyperparameters include $\\alpha$, controlling the overall strength of regularization, and the mixing parameter $\\rho$, determining the balance between L1 and L2 penalties.\n",
    "\n",
    "  <br>\n",
    "\n",
    "\n",
    "        \n",
    "We are going to investigate the regularization options in Python starting with **Ridge Regression**.\n",
    "First of all, we select different values for the hiperparameter $\\alpha$."
   ]
  },
  {
   "cell_type": "code",
   "execution_count": 27,
   "id": "16c810a8",
   "metadata": {
    "execution": {
     "iopub.execute_input": "2024-05-14T09:16:11.582180Z",
     "iopub.status.busy": "2024-05-14T09:16:11.581761Z",
     "iopub.status.idle": "2024-05-14T09:16:11.587226Z",
     "shell.execute_reply": "2024-05-14T09:16:11.585908Z"
    },
    "papermill": {
     "duration": 0.0471,
     "end_time": "2024-05-14T09:16:11.589754",
     "exception": false,
     "start_time": "2024-05-14T09:16:11.542654",
     "status": "completed"
    },
    "tags": []
   },
   "outputs": [],
   "source": [
    "# Create the model with different values for alpha\n",
    "ridge_parameters = RidgeCV(alphas=[0.001, 0.01, 0.1, 1, 10, 100])"
   ]
  },
  {
   "cell_type": "markdown",
   "id": "866641b1",
   "metadata": {
    "papermill": {
     "duration": 0.037012,
     "end_time": "2024-05-14T09:16:11.664341",
     "exception": false,
     "start_time": "2024-05-14T09:16:11.627329",
     "status": "completed"
    },
    "tags": []
   },
   "source": [
    "<br>\n",
    "Now we fit the model and see what is the best value for $\\alpha$"
   ]
  },
  {
   "cell_type": "code",
   "execution_count": 28,
   "id": "c544095c",
   "metadata": {
    "execution": {
     "iopub.execute_input": "2024-05-14T09:16:11.742039Z",
     "iopub.status.busy": "2024-05-14T09:16:11.741213Z",
     "iopub.status.idle": "2024-05-14T09:16:11.782989Z",
     "shell.execute_reply": "2024-05-14T09:16:11.779283Z"
    },
    "papermill": {
     "duration": 0.085395,
     "end_time": "2024-05-14T09:16:11.787395",
     "exception": false,
     "start_time": "2024-05-14T09:16:11.702000",
     "status": "completed"
    },
    "tags": []
   },
   "outputs": [
    {
     "name": "stdout",
     "output_type": "stream",
     "text": [
      "Coefficients : 0.1\n",
      "Intercept : 4.574\n",
      "Coefficients :\n",
      "fixed acidity: 0.009\n",
      "volatile acidity: -1.099\n",
      "citric acid: -0.187\n",
      "residual sugar: 0.009\n",
      "chlorides: -1.830\n",
      "free sulfur dioxide: 0.005\n",
      "total sulfur dioxide: -0.003\n",
      "density: -0.165\n",
      "pH: -0.495\n",
      "sulphates: 0.883\n",
      "alcohol: 0.293\n"
     ]
    }
   ],
   "source": [
    "# Fit the model\n",
    "model5 = ridge_parameters.fit(df_features.sort_index(), \n",
    "                              df_target.sort_index())\n",
    "\n",
    "# Show alpha, intercept value ,and coefficients:\n",
    "print(\"Coefficients :\", model5.alpha_)\n",
    "print(\"Intercept :\", model5.intercept_ [0].round(3))\n",
    "\n",
    "coefficient_dict = dict(zip(df_features.columns,\n",
    "                            model5.coef_[0]))\n",
    "print(\"Coefficients :\")\n",
    "for feature, coef in coefficient_dict.items():\n",
    "    print(f\"{feature}: {coef:.3f}\")"
   ]
  },
  {
   "cell_type": "markdown",
   "id": "96dcc3e3",
   "metadata": {
    "papermill": {
     "duration": 0.038932,
     "end_time": "2024-05-14T09:16:11.935768",
     "exception": false,
     "start_time": "2024-05-14T09:16:11.896836",
     "status": "completed"
    },
    "tags": []
   },
   "source": [
    "<br>\n",
    "\n",
    "As we see, alpha take a optimal value of 0.1.\n",
    "\n",
    "Now build the equation of the model:\n",
    "\n",
    "$$\n",
    "\\hat{y} = 4.574 + 0.009 · x_1 -1.099 · x_2 - 0.187 · x_3 + 0.009 · x_4 - 1.830 · x_5 + 0.005 · x_6 - 0.003 · x_7 - 0.165 · x_8 - 0.495 · x_9 + 0.883 · x_{10} + 0.293 · x_{11} \n",
    "$$\n",
    "\n",
    "If we substitute the features for our first case, we obtain the following:"
   ]
  },
  {
   "cell_type": "code",
   "execution_count": 29,
   "id": "43f2f8e3",
   "metadata": {
    "execution": {
     "iopub.execute_input": "2024-05-14T09:16:12.016173Z",
     "iopub.status.busy": "2024-05-14T09:16:12.015743Z",
     "iopub.status.idle": "2024-05-14T09:16:12.030467Z",
     "shell.execute_reply": "2024-05-14T09:16:12.029312Z"
    },
    "papermill": {
     "duration": 0.05762,
     "end_time": "2024-05-14T09:16:12.034127",
     "exception": false,
     "start_time": "2024-05-14T09:16:11.976507",
     "status": "completed"
    },
    "tags": []
   },
   "outputs": [
    {
     "name": "stdout",
     "output_type": "stream",
     "text": [
      "Value of all features for our first case :                            0\n",
      "fixed acidity          7.400\n",
      "volatile acidity       0.700\n",
      "citric acid            0.000\n",
      "residual sugar         1.900\n",
      "chlorides              0.076\n",
      "free sulfur dioxide   11.000\n",
      "total sulfur dioxide  34.000\n",
      "density                0.998\n",
      "pH                     3.510\n",
      "sulphates              0.560\n",
      "alcohol                9.400\n"
     ]
    }
   ],
   "source": [
    "print(\"Value of all features for our first case :\", df_features.sort_index().iloc[0:1].transpose().round(3)) "
   ]
  },
  {
   "cell_type": "markdown",
   "id": "511030c7",
   "metadata": {
    "papermill": {
     "duration": 0.03768,
     "end_time": "2024-05-14T09:16:12.117584",
     "exception": false,
     "start_time": "2024-05-14T09:16:12.079904",
     "status": "completed"
    },
    "tags": []
   },
   "source": [
    "<br>\n",
    "\n",
    "We replace the $x$ variables with the features information:\n",
    "\n",
    "$$\n",
    "\\hat{y} = 4.574 + 0.009 · 7.4 -1.099 · 0.7 - 0.187 · 0 + 0.009 · 1.9 - 1.830 · 0.076 + 0.005 · 11 - 0.003 · 34 - 0.165 · 0.998 - 0.495 · 3.51 + 0.883 · 0.56 + 0.293 · 9.4 \\approx 5.049\n",
    "$$\n",
    "\n",
    "If we compute in Python:"
   ]
  },
  {
   "cell_type": "code",
   "execution_count": 30,
   "id": "533c9867",
   "metadata": {
    "execution": {
     "iopub.execute_input": "2024-05-14T09:16:12.195719Z",
     "iopub.status.busy": "2024-05-14T09:16:12.195332Z",
     "iopub.status.idle": "2024-05-14T09:16:12.212285Z",
     "shell.execute_reply": "2024-05-14T09:16:12.210746Z"
    },
    "papermill": {
     "duration": 0.060834,
     "end_time": "2024-05-14T09:16:12.216273",
     "exception": false,
     "start_time": "2024-05-14T09:16:12.155439",
     "status": "completed"
    },
    "tags": []
   },
   "outputs": [
    {
     "name": "stdout",
     "output_type": "stream",
     "text": [
      "Quality predicted value for the frst case:    Ridge Model\n",
      "0     5.038231\n"
     ]
    }
   ],
   "source": [
    "model5_y = pd.DataFrame(model5.predict(df_features.sort_index()), \n",
    "                      index=df_features.index, \n",
    "                      columns=['Ridge Model'])\n",
    "\n",
    "print(\"Quality predicted value for the frst case:\", model5_y.sort_index().head(1))"
   ]
  },
  {
   "cell_type": "markdown",
   "id": "56d9ce73",
   "metadata": {
    "papermill": {
     "duration": 0.050608,
     "end_time": "2024-05-14T09:16:12.348277",
     "exception": false,
     "start_time": "2024-05-14T09:16:12.297669",
     "status": "completed"
    },
    "tags": []
   },
   "source": [
    "<br>\n",
    "\n",
    "Now, we a build the model following the **Lasso Regression**. The steps to follow are the same as in Ridge Regression. So first of all, we select the optimal value of alpha and then we fix the model."
   ]
  },
  {
   "cell_type": "code",
   "execution_count": 31,
   "id": "0529a56c",
   "metadata": {
    "execution": {
     "iopub.execute_input": "2024-05-14T09:16:12.427083Z",
     "iopub.status.busy": "2024-05-14T09:16:12.426687Z",
     "iopub.status.idle": "2024-05-14T09:16:12.497302Z",
     "shell.execute_reply": "2024-05-14T09:16:12.493805Z"
    },
    "papermill": {
     "duration": 0.11453,
     "end_time": "2024-05-14T09:16:12.501672",
     "exception": false,
     "start_time": "2024-05-14T09:16:12.387142",
     "status": "completed"
    },
    "tags": []
   },
   "outputs": [
    {
     "name": "stdout",
     "output_type": "stream",
     "text": [
      "Alpha : 0.001\n",
      "Intercept : 3.903\n",
      "Coefficients :\n",
      "fixed acidity: 0.013\n",
      "volatile acidity: -1.075\n",
      "citric acid: -0.115\n",
      "residual sugar: 0.006\n",
      "chlorides: -1.248\n",
      "free sulfur dioxide: 0.005\n",
      "total sulfur dioxide: -0.003\n",
      "density: -0.000\n",
      "pH: -0.364\n",
      "sulphates: 0.786\n",
      "alcohol: 0.296\n"
     ]
    }
   ],
   "source": [
    "# Create the model with different values for alpha\n",
    "lasso_parameters = LassoCV(alphas=[0.001, 0.01, 0.1, 1, 10, 100])\n",
    "\n",
    "# Fit the model\n",
    "model6 = lasso_parameters.fit(df_features.sort_index(), \n",
    "                              df_target.sort_index().values.ravel()) # With Lasso scikit learn forces us to use an array (1-D)\n",
    "\n",
    "# Show alpha, intercept value ,and coefficients:\n",
    "print(\"Alpha :\", model6.alpha_)\n",
    "print(\"Intercept :\", model6.intercept_.round(3))\n",
    "\n",
    "coefficient_dict = dict(zip(df_features.columns,\n",
    "                            model6.coef_))\n",
    "print(\"Coefficients :\")\n",
    "for feature, coef in coefficient_dict.items():\n",
    "    print(f\"{feature}: {coef:.3f}\")"
   ]
  },
  {
   "cell_type": "markdown",
   "id": "b6d9d789",
   "metadata": {
    "papermill": {
     "duration": 0.051594,
     "end_time": "2024-05-14T09:16:12.671661",
     "exception": false,
     "start_time": "2024-05-14T09:16:12.620067",
     "status": "completed"
    },
    "tags": []
   },
   "source": [
    "As we can see, here the best alpha of those we have proposed is 0.001. Now, the \"density\" coefficient drops to 0 which means that this characteristic doesn't affect the predictions. If we build the model's equation we obtain:\n",
    "\n",
    "$$\n",
    "\\hat{y} = 3.903 + 0.013 · x_1 -1.075 · x_2 - 0.115 · x_3 + 0.006 · x_4 - 1.248 · x_5 + 0.005 · x_6 - 0.003 · x_7 - 0.000 · x_8 - 0.364 · x_9 + 0.786 · x_{10} + 0.296 · x_{11} \n",
    "$$\n",
    "\n",
    "\n",
    "If we replace the features for our first case we obtain this:"
   ]
  },
  {
   "cell_type": "code",
   "execution_count": 32,
   "id": "35ac2fff",
   "metadata": {
    "execution": {
     "iopub.execute_input": "2024-05-14T09:16:12.752005Z",
     "iopub.status.busy": "2024-05-14T09:16:12.751586Z",
     "iopub.status.idle": "2024-05-14T09:16:12.762188Z",
     "shell.execute_reply": "2024-05-14T09:16:12.760255Z"
    },
    "papermill": {
     "duration": 0.053153,
     "end_time": "2024-05-14T09:16:12.764772",
     "exception": false,
     "start_time": "2024-05-14T09:16:12.711619",
     "status": "completed"
    },
    "tags": []
   },
   "outputs": [
    {
     "name": "stdout",
     "output_type": "stream",
     "text": [
      "Value of all features for our first case :                            0\n",
      "fixed acidity          7.400\n",
      "volatile acidity       0.700\n",
      "citric acid            0.000\n",
      "residual sugar         1.900\n",
      "chlorides              0.076\n",
      "free sulfur dioxide   11.000\n",
      "total sulfur dioxide  34.000\n",
      "density                0.998\n",
      "pH                     3.510\n",
      "sulphates              0.560\n",
      "alcohol                9.400\n"
     ]
    }
   ],
   "source": [
    "print(\"Value of all features for our first case :\", df_features.sort_index().iloc[0:1].transpose().round(3))"
   ]
  },
  {
   "cell_type": "markdown",
   "id": "e858701c",
   "metadata": {
    "papermill": {
     "duration": 0.03847,
     "end_time": "2024-05-14T09:16:12.842280",
     "exception": false,
     "start_time": "2024-05-14T09:16:12.803810",
     "status": "completed"
    },
    "tags": []
   },
   "source": [
    "In the equation:\n",
    "\n",
    "$$\n",
    "\\hat{y} = 3.903 + 0.013 · 7.4 -1.075 · 0.7 - 0.115 · 0 + 0.006 · 1.9 - 1.248 · 0.076 + 0.005 · 11 - 0.003 · 34 - 0.000 · 0.998 - 0.364 · 3.510 + 0.786 · 0.560 + 0.296 · 9.4  \\approx 5.061\n",
    "$$\n",
    "\n",
    "In Python we obtain a similar value:"
   ]
  },
  {
   "cell_type": "code",
   "execution_count": 33,
   "id": "5ec36efc",
   "metadata": {
    "execution": {
     "iopub.execute_input": "2024-05-14T09:16:12.921388Z",
     "iopub.status.busy": "2024-05-14T09:16:12.920961Z",
     "iopub.status.idle": "2024-05-14T09:16:12.936276Z",
     "shell.execute_reply": "2024-05-14T09:16:12.935022Z"
    },
    "papermill": {
     "duration": 0.059181,
     "end_time": "2024-05-14T09:16:12.940475",
     "exception": false,
     "start_time": "2024-05-14T09:16:12.881294",
     "status": "completed"
    },
    "tags": []
   },
   "outputs": [
    {
     "name": "stdout",
     "output_type": "stream",
     "text": [
      "Quality predicted value for the frst case:    Lasso Model\n",
      "0        5.047\n"
     ]
    }
   ],
   "source": [
    "model6_y = pd.DataFrame(model6.predict(df_features.sort_index()), \n",
    "                        index=df_features.index, \n",
    "                        columns=['Lasso Model'])\n",
    "\n",
    "print(\"Quality predicted value for the frst case:\", model6_y.sort_index().round(3).head(1))"
   ]
  },
  {
   "cell_type": "markdown",
   "id": "c7a07d7e",
   "metadata": {
    "papermill": {
     "duration": 0.051825,
     "end_time": "2024-05-14T09:16:13.074564",
     "exception": false,
     "start_time": "2024-05-14T09:16:13.022739",
     "status": "completed"
    },
    "tags": []
   },
   "source": [
    "Now, we are going to draw a scatter plot with the differences between the actual value of \"quality\" and the predicted values comparing three models: Multiple Linear Regression, Ridge Regression, and Lasso Regression.\n",
    "\n",
    "No large differences are shown between the three models."
   ]
  },
  {
   "cell_type": "code",
   "execution_count": 34,
   "id": "092bdfc7",
   "metadata": {
    "execution": {
     "iopub.execute_input": "2024-05-14T09:16:13.154699Z",
     "iopub.status.busy": "2024-05-14T09:16:13.154250Z",
     "iopub.status.idle": "2024-05-14T09:16:14.245635Z",
     "shell.execute_reply": "2024-05-14T09:16:14.244035Z"
    },
    "papermill": {
     "duration": 1.135575,
     "end_time": "2024-05-14T09:16:14.248536",
     "exception": false,
     "start_time": "2024-05-14T09:16:13.112961",
     "status": "completed"
    },
    "tags": []
   },
   "outputs": [
    {
     "data": {
      "image/png": "[encoded data removed]",
      "text/plain": [
       "<Figure size 1000x400 with 3 Axes>"
      ]
     },
     "metadata": {},
     "output_type": "display_data"
    }
   ],
   "source": [
    "plt.figure(figsize=(10, 4))\n",
    "\n",
    "\n",
    "# Plot model 2\n",
    "plt.subplot(1, 3, 1)\n",
    "\n",
    "plt.scatter(df_target.sort_index(),     # Real value\n",
    "            model2_y.sort_index(),      # Predicted\n",
    "            color='lightskyblue',\n",
    "            edgecolor = \"black\",\n",
    "            label='Predicted vs Real',\n",
    "            alpha = 0.3)\n",
    "\n",
    "# Plot a diagonal line representing perfect predictions and customize\n",
    "max_val = max(np.max(df_target), np.max(model1_y))\n",
    "plt.plot([0, max_val], [0, max_val], \n",
    "         color='red', \n",
    "         linestyle='--', \n",
    "         label='Perfect Prediction')\n",
    "\n",
    "plt.xticks(np.arange(0,10+1, 1))\n",
    "plt.yticks(np.arange(0,10+1, 1))\n",
    "plt.xlabel('Real \"Quality\"')\n",
    "plt.ylabel('Predicted \"Quality\"')\n",
    "plt.title('Multiple Regression: \\nPredicted vs Real Values', fontsize=10)\n",
    "plt.legend()\n",
    "plt.grid(color = \"gray\",\n",
    "         alpha = 0.3)\n",
    "\n",
    "\n",
    "# Plot model 5\n",
    "plt.subplot(1, 3, 2)\n",
    "\n",
    "plt.scatter(df_target.sort_index(),     # Real value\n",
    "                model5_y.sort_index(),      # Predicted\n",
    "                color='lightskyblue',\n",
    "                edgecolor = \"black\",\n",
    "                label='Predicted vs Real',\n",
    "                alpha = 0.3)\n",
    "\n",
    "# Plot a diagonal line representing perfect predictions and customize\n",
    "max_val = max(np.max(df_target), np.max(model5_y))\n",
    "plt.plot([0, max_val], [0, max_val], \n",
    "         color='red', \n",
    "         linestyle='--', \n",
    "         label='Perfect Prediction')\n",
    "\n",
    "plt.xticks(np.arange(0,10+1, 1))\n",
    "plt.yticks(np.arange(0,10+1, 1))\n",
    "plt.xlabel('Real \"Quality\"')\n",
    "plt.ylabel('Predicted \"Quality\"')\n",
    "plt.title('Ridge Regression: \\nPredicted vs Real Values', fontsize=10)\n",
    "plt.legend()\n",
    "plt.grid(color = \"gray\",\n",
    "         alpha = 0.3)\n",
    "\n",
    "# Plot model 6\n",
    "plt.subplot(1, 3, 3)\n",
    "\n",
    "plt.scatter(df_target.sort_index(),     # Real value\n",
    "                model6_y.sort_index(),      # Predicted\n",
    "                color='lightskyblue',\n",
    "                edgecolor = \"black\",\n",
    "                label='Predicted vs Real',\n",
    "                alpha = 0.3)\n",
    "\n",
    "# Plot a diagonal line representing perfect predictions and customize\n",
    "max_val = max(np.max(df_target), np.max(model6_y))\n",
    "plt.plot([0, max_val], [0, max_val], \n",
    "         color='red', \n",
    "         linestyle='--', \n",
    "         label='Perfect Prediction')\n",
    "\n",
    "plt.xticks(np.arange(0,10+1, 1))\n",
    "plt.yticks(np.arange(0,10+1, 1))\n",
    "plt.xlabel('Real \"Quality\"')\n",
    "plt.ylabel('Predicted \"Quality\"')\n",
    "plt.title('Lasso Regression: \\nPredicted vs Real Values', fontsize=10)\n",
    "plt.legend()\n",
    "plt.grid(color = \"gray\",\n",
    "         alpha = 0.3)\n",
    "\n",
    "plt.show()"
   ]
  },
  {
   "cell_type": "markdown",
   "id": "e05ddc9c",
   "metadata": {
    "papermill": {
     "duration": 0.040436,
     "end_time": "2024-05-14T09:16:14.329014",
     "exception": false,
     "start_time": "2024-05-14T09:16:14.288578",
     "status": "completed"
    },
    "tags": []
   },
   "source": [
    "<br>\n",
    "\n",
    "# 4. Quantify the fit\n",
    "\n",
    "## A. Coefficient of determination $R^2$\n",
    "\n",
    "**Definition**: \"Proportion of target varianze that could be predict using the targets\".\n",
    "\n",
    "This coefficient is used to compare the efficiency of different models and determine which of them fits the observate data better.\n",
    "\n",
    "The formula is as follow:\n",
    "\n",
    "$$\n",
    "R^2 = 1 - \\frac{SS_{res}}{SS_{total}}\n",
    "$$\n",
    "\n",
    "* Residual Sum Square ($SS_{res}$): \n",
    "\n",
    "$$\n",
    "SS_{res} = \\sum(y_i - \\hat{y_i})^2\n",
    "$$\n",
    "\n",
    "* Total Sum Square ($SS_{total}$): \n",
    "\n",
    "$$\n",
    "SS_{total} = \\sum(y_i - \\bar{y_i})^2\n",
    "$$\n",
    "\n",
    "<br>\n",
    "\n",
    "The **nomenclature** used in these formulas:\n",
    "\n",
    "* $y_i$: Real values of the target.\n",
    "* $\\hat{y_i}$: Target values predicted by the model.\n",
    "* $\\bar{y_i}$: Mean of the real values ($y_i$).\n",
    "\n",
    "<br>\n",
    "\n",
    "**Interpretation**:\n",
    "\n",
    "* $R^2$ = 1. The model is perfect. The features explain all the variability of the target. The residues are minimus.\n",
    "* $R^2$ = 0. The model doesn't explain the variability in the data. It's not more useful than using the mean of the data as a predictor of each observation.\n",
    "* $R^2$ < 0. The model performance worse than using simply the mean.\n",
    "\n",
    "<br>\n",
    "\n",
    "**Characteristics**:\n",
    "\n",
    "* Although it is rare, the model could be worse than use only the mean.\n",
    "* When the prediction residuals have a zero mean, the score is identical to the Explained Variance score.\n",
    "\n",
    "We are going to explore the models that we generate in previous steps:"
   ]
  },
  {
   "cell_type": "code",
   "execution_count": 35,
   "id": "0645faeb",
   "metadata": {
    "execution": {
     "iopub.execute_input": "2024-05-14T09:16:14.411418Z",
     "iopub.status.busy": "2024-05-14T09:16:14.410788Z",
     "iopub.status.idle": "2024-05-14T09:16:14.428794Z",
     "shell.execute_reply": "2024-05-14T09:16:14.427616Z"
    },
    "papermill": {
     "duration": 0.062041,
     "end_time": "2024-05-14T09:16:14.431210",
     "exception": false,
     "start_time": "2024-05-14T09:16:14.369169",
     "status": "completed"
    },
    "tags": []
   },
   "outputs": [
    {
     "name": "stdout",
     "output_type": "stream",
     "text": [
      "Indices match successfully!\n",
      "   Actual Target  Simple Model  Multiple Model  Interaction Model  \\\n",
      "0              5      5.266887        5.032850           5.040084   \n",
      "1              5      5.411224        5.137880           5.126022   \n",
      "2              5      5.411224        5.209895           5.209883   \n",
      "3              6      5.411224        5.693858           5.693117   \n",
      "4              5      5.266887        5.032850           5.040084   \n",
      "\n",
      "   Polynomial Model  Ridge Model  Lasso Model  \n",
      "0          4.988998     5.038231     5.046736  \n",
      "1          5.292153     5.141132     5.117490  \n",
      "2          5.315795     5.215449     5.198441  \n",
      "3          5.639909     5.680801     5.687292  \n",
      "4          4.988998     5.038231     5.046736  \n"
     ]
    }
   ],
   "source": [
    "# Sort by index\n",
    "df_target = df_target.sort_index()\n",
    "model1_y = model1_y.sort_index()\n",
    "model2_y = model2_y.sort_index()\n",
    "model3_y = model3_y.sort_index()\n",
    "model4_y = model4_y.sort_index()\n",
    "model5_y = model5_y.sort_index()\n",
    "model6_y = model6_y.sort_index()\n",
    "\n",
    "# Ensure all preidctions and real observations has the same index:\n",
    "assert df_target.index.equals(model1_y.index), \"Indices do not match\"\n",
    "assert df_target.index.equals(model2_y.index), \"Indices do not match\"\n",
    "assert df_target.index.equals(model3_y.index), \"Indices do not match\"\n",
    "assert df_target.index.equals(model4_y.index), \"Indices do not match\"\n",
    "assert df_target.index.equals(model5_y.index), \"Indices do not match\"\n",
    "assert df_target.index.equals(model6_y.index), \"Indices do not match\"\n",
    "print(\"Indices match successfully!\")\n",
    "\n",
    "predictions = pd.DataFrame({\n",
    "    'Actual Target': np.squeeze(df_target), # Real values\n",
    "    'Simple Model': np.squeeze(model1_y),\n",
    "    'Multiple Model': np.squeeze(model2_y),\n",
    "    'Interaction Model': np.squeeze(model3_y),\n",
    "    'Polynomial Model': np.squeeze(model4_y),\n",
    "    'Ridge Model': np.squeeze(model5_y),\n",
    "    'Lasso Model': np.squeeze(model6_y),\n",
    "})\n",
    "\n",
    "print(predictions.head())"
   ]
  },
  {
   "cell_type": "markdown",
   "id": "e53995f0",
   "metadata": {
    "papermill": {
     "duration": 0.039388,
     "end_time": "2024-05-14T09:16:14.510281",
     "exception": false,
     "start_time": "2024-05-14T09:16:14.470893",
     "status": "completed"
    },
    "tags": []
   },
   "source": [
    "Now we are going to calculate the $R^2$ coefficient:"
   ]
  },
  {
   "cell_type": "code",
   "execution_count": 36,
   "id": "9ec890ee",
   "metadata": {
    "execution": {
     "iopub.execute_input": "2024-05-14T09:16:14.593436Z",
     "iopub.status.busy": "2024-05-14T09:16:14.592665Z",
     "iopub.status.idle": "2024-05-14T09:16:14.607215Z",
     "shell.execute_reply": "2024-05-14T09:16:14.606000Z"
    },
    "papermill": {
     "duration": 0.058968,
     "end_time": "2024-05-14T09:16:14.609503",
     "exception": false,
     "start_time": "2024-05-14T09:16:14.550535",
     "status": "completed"
    },
    "tags": []
   },
   "outputs": [
    {
     "name": "stdout",
     "output_type": "stream",
     "text": [
      "R2 score for Simple Model: 0.2267\n",
      "R2 score for Multiple Model: 0.3606\n",
      "R2 score for Interaction Model: 0.3613\n",
      "R2 score for Polynomial Model: 0.3804\n",
      "R2 score for Ridge Model: 0.3603\n",
      "R2 score for Lasso Model: 0.3588\n"
     ]
    }
   ],
   "source": [
    "r2_scores = {}\n",
    "r2_scores['Simple Model'] = r2_score(predictions['Actual Target'], predictions['Simple Model'])\n",
    "r2_scores['Multiple Model'] = r2_score(predictions['Actual Target'], predictions['Multiple Model'])\n",
    "r2_scores['Interaction Model'] = r2_score(predictions['Actual Target'], predictions['Interaction Model'])\n",
    "r2_scores['Polynomial Model'] = r2_score(predictions['Actual Target'], predictions['Polynomial Model'])\n",
    "r2_scores['Ridge Model'] = r2_score(predictions['Actual Target'], predictions['Ridge Model'])\n",
    "r2_scores['Lasso Model'] = r2_score(predictions['Actual Target'], predictions['Lasso Model'])\n",
    "\n",
    "# Print the R2 scores\n",
    "for model, score in r2_scores.items():\n",
    "    print(f\"R2 score for {model}: {score:.4f}\")\n"
   ]
  },
  {
   "cell_type": "markdown",
   "id": "0d119e0d",
   "metadata": {
    "papermill": {
     "duration": 0.040073,
     "end_time": "2024-05-14T09:16:14.689860",
     "exception": false,
     "start_time": "2024-05-14T09:16:14.649787",
     "status": "completed"
    },
    "tags": []
   },
   "source": [
    "We can see that the model that includes all the features plus the polynomial effect of \"sulphite\" is the one that performs better. The model that performs the worst is the simple regression model, where predictions are made only with \"alcohol\" information."
   ]
  },
  {
   "cell_type": "markdown",
   "id": "dffa436d",
   "metadata": {
    "papermill": {
     "duration": 0.039218,
     "end_time": "2024-05-14T09:16:14.769022",
     "exception": false,
     "start_time": "2024-05-14T09:16:14.729804",
     "status": "completed"
    },
    "tags": []
   },
   "source": [
    "## B. Adjusted coefficient of determination $R^2$\n",
    "\n",
    "**Why use it?**: When we add more predictiors to the model, $R^2$ always increase (or at least doesn´t decrease). The problem is that adjusted is not as inerpretable as $R^2$.\n",
    "\n",
    "Formula looks like follows:\n",
    "\n",
    "$$\n",
    "R^2 = 1 - \\left( \\frac{SS_{\\text{res}}}{SS_{\\text{total}}} \\right) \\cdot \\left( \\frac{N-1}{N-K-1} \\right)\n",
    "$$\n",
    "\n",
    "Where:\n",
    "\n",
    "* $SS_{\\text{res}}$ and $SS_{\\text{total}}$ are the same as in $R^2$.\n",
    "* **N**: Number of observations in the data.\n",
    "* **K**: Number of features used in the model (excluding the intercept).\n",
    "\n",
    "The second part of the formula is the part that adjust for Degrees of Freedom.\n",
    "\n",
    "<br>\n",
    "<br>\n",
    "\n",
    "\n",
    "# 5. Hypothesis tests\n",
    "\n",
    "Two aproximations:\n",
    "\n",
    "* A. See if the model proposed is better than the null model.\n",
    "* B. Test if a particular coefficient is statistical different from 0.\n",
    "\n",
    "<br>\n",
    "## A. Compare with the null model\n",
    "\n",
    "The null model (baseline model) is the one that doesn't use any feature to predict the target.\n",
    "\n",
    "The null hypothesis says that there is no relation between the features and the target.\n",
    "\n",
    "**Null model**: Consist of a model that predict using only the mean or the median.\n",
    "\n",
    "$$\n",
    "\\hat{y_i} = \\bar{y_i}:\n",
    "$$\n",
    "\n",
    "Where:\n",
    "\n",
    "* $\\hat{y_i}$: Prediction.\n",
    "* $\\bar{y_i}$: Mean of the target values in the training set.\n",
    "\n",
    "We can follow three strategies:\n",
    "\n",
    "<br>\n",
    "\n",
    "\n",
    "### a. Difference in $R^2$\n",
    "\n",
    "Compare the values of the coefficient of determination between the null model and an alternative model. Following this, we can know which model works better, but we cannot ensure if one works significatilly better than the other. \n",
    "\n",
    "<br>\n",
    "\n",
    "### b. F-test for nested models (Extra Sum of Squares Test)\n",
    "\n",
    "This approach is used when the alternative model is equal to the null model plus some additional predictors.\n",
    "\n",
    "We calculate if the explained variance in the full modell is significantly greater than in the null model relative to the increase in degrees of fredoon (number of predictors).\n",
    "\n",
    "Formula:\n",
    "\n",
    "$$\n",
    "F = \\frac{\\frac{(R^2_{\\text{full}} - R^2_{\\text{reduced}})}{p}}{\\frac{(1 - R^2_{\\text{full}})}{(n - p - 1)}} \n",
    "$$\n",
    "\n",
    "\n",
    "Where:\n",
    "* $R^2_{\\text{full}}$ is the R-squared of the full model (with the additional predictors).\n",
    "* $R^2_{\\text{reduced}}$ is the R-squared of the reduced model (null model).\n",
    "* $p$ is the number of extra predictors added to the reduced model to get the full model.\n",
    "* $n$ is the total number of observations.\n",
    "\n",
    "### c. Information Criteria (AIC\\BIC)\n",
    "\n",
    "* **AIC: Akaike Information Criterion**. Focuses on selecting the model that most closely approximates the truth. **Disadvantage**: It can favor more complex model (risk of overfitting). Use when all model to compare have the same complexity or when the models are nested.\n",
    "* **BIC: Bayesian Information Criterion**. Strong penalty for complexity, often favoring simpler model especially as the sample size grows. Preferable when dealing with very large datasets.\n",
    "\n",
    "**Characteristics**:\n",
    "\n",
    "* Meassure the complexity of the model penalizing unnecessary complexity (too many predictors). \n",
    "* Lower values of AIC and BIC means a better model.\n",
    "* A significant drop in AIC and BIC values when moving from the null model to the alternative model can suggest that the increase in the model complexity is justified.\n",
    "* Interesting when you are interested in model selection or balancing models.\n",
    "\n",
    "**Interpretation**: There is no way to test if the improvements is significant. However, there is a rule of thumb. We can apply it for both AIC and BIC:\n",
    "\n",
    "* **Diferences < 2**: No siginificant.\n",
    "* **Differences between 2 and 6**: Some evidence against the model with the higher value of the criterion. This means the model with the lower AIC\\BIC is better.\n",
    "* **Differences between 6 and 10**: Strong evidence that the model with the lower criterion is better.\n",
    "* **Differences > 10**. Very strong evidence.\n",
    "\n",
    "\n",
    "<br>\n",
    "\n",
    "Now we are going to implement these three approachs in Python<br>\n",
    "\n",
    "### a. Difference in $R^2$\n",
    "\n",
    "We are going to start with the difference in $R^2$. First, we create the null value and compare with the other models we have, then we use the F-test approach and finally the Information Criteria approach."
   ]
  },
  {
   "cell_type": "code",
   "execution_count": 37,
   "id": "6f9a5a05",
   "metadata": {
    "execution": {
     "iopub.execute_input": "2024-05-14T09:16:14.851754Z",
     "iopub.status.busy": "2024-05-14T09:16:14.850736Z",
     "iopub.status.idle": "2024-05-14T09:16:14.860422Z",
     "shell.execute_reply": "2024-05-14T09:16:14.859170Z"
    },
    "papermill": {
     "duration": 0.053474,
     "end_time": "2024-05-14T09:16:14.862784",
     "exception": false,
     "start_time": "2024-05-14T09:16:14.809310",
     "status": "completed"
    },
    "tags": []
   },
   "outputs": [
    {
     "name": "stdout",
     "output_type": "stream",
     "text": [
      "Quality predicted value (same for all cases): 5.636\n"
     ]
    }
   ],
   "source": [
    "# Empty model: Always predict the mean\n",
    "\n",
    "# Create the model\n",
    "regression0 = DummyRegressor(strategy='mean')\n",
    "\n",
    "# Fit the model\n",
    "model0 = regression0.fit(df_features.sort_index(),\n",
    "                         df_target.sort_index())\n",
    "\n",
    "# Predicted value (same for all cases)\n",
    "model0_y = model0.predict(df_features.sort_index())\n",
    "print(\"Quality predicted value (same for all cases):\", model0_y[0].round(3))"
   ]
  },
  {
   "cell_type": "code",
   "execution_count": 38,
   "id": "d5eb1cfe",
   "metadata": {
    "execution": {
     "iopub.execute_input": "2024-05-14T09:16:14.947763Z",
     "iopub.status.busy": "2024-05-14T09:16:14.946903Z",
     "iopub.status.idle": "2024-05-14T09:16:14.955329Z",
     "shell.execute_reply": "2024-05-14T09:16:14.953457Z"
    },
    "papermill": {
     "duration": 0.053995,
     "end_time": "2024-05-14T09:16:14.957755",
     "exception": false,
     "start_time": "2024-05-14T09:16:14.903760",
     "status": "completed"
    },
    "tags": []
   },
   "outputs": [
    {
     "name": "stdout",
     "output_type": "stream",
     "text": [
      "R² of null model: 0.0\n"
     ]
    }
   ],
   "source": [
    "r2_null_model = r2_score(df_target, \n",
    "                         model0_y)\n",
    "print(\"R² of null model:\", r2_null_model)"
   ]
  },
  {
   "cell_type": "markdown",
   "id": "89b940b1",
   "metadata": {
    "papermill": {
     "duration": 0.039645,
     "end_time": "2024-05-14T09:16:15.037198",
     "exception": false,
     "start_time": "2024-05-14T09:16:14.997553",
     "status": "completed"
    },
    "tags": []
   },
   "source": [
    "We obtaining an $R^2$ score of 0 for the null model is expected and indicates that the model's predictions are no better than simply predicting the mean of the target variable.\n",
    "\n",
    "<br>\n",
    "\n",
    "Now create a table with the $R^2$ of each model:"
   ]
  },
  {
   "cell_type": "code",
   "execution_count": 39,
   "id": "426fbafb",
   "metadata": {
    "execution": {
     "iopub.execute_input": "2024-05-14T09:16:15.119321Z",
     "iopub.status.busy": "2024-05-14T09:16:15.118573Z",
     "iopub.status.idle": "2024-05-14T09:16:15.128663Z",
     "shell.execute_reply": "2024-05-14T09:16:15.127472Z"
    },
    "papermill": {
     "duration": 0.053936,
     "end_time": "2024-05-14T09:16:15.131071",
     "exception": false,
     "start_time": "2024-05-14T09:16:15.077135",
     "status": "completed"
    },
    "tags": []
   },
   "outputs": [
    {
     "name": "stdout",
     "output_type": "stream",
     "text": [
      "               Model  R-squared\n",
      "0         Null Model   0.000000\n",
      "1       Simple Model   0.226734\n",
      "2     Multiple Model   0.360552\n",
      "3  Interaction Model   0.361306\n",
      "4   Polynomial Model   0.380431\n",
      "5        Ridge Model   0.360267\n",
      "6        Lasso Model   0.358756\n"
     ]
    }
   ],
   "source": [
    "# Predictions as df\n",
    "df_r2_scores = pd.DataFrame(list(r2_scores.items()), \n",
    "                            columns=['Model', 'R-squared'])\n",
    "\n",
    "# Add the new column\n",
    "null_model_row = pd.DataFrame({'Model': ['Null Model'], \n",
    "                               'R-squared': [r2_null_model]})\n",
    "df_r2_scores = pd.concat([null_model_row,\n",
    "                         df_r2_scores],\n",
    "                         ignore_index=True)\n",
    "\n",
    "print(df_r2_scores)"
   ]
  },
  {
   "cell_type": "markdown",
   "id": "5c0b350c",
   "metadata": {
    "papermill": {
     "duration": 0.039741,
     "end_time": "2024-05-14T09:16:15.211508",
     "exception": false,
     "start_time": "2024-05-14T09:16:15.171767",
     "status": "completed"
    },
    "tags": []
   },
   "source": [
    "<br>\n",
    "\n",
    "As we can see, the all the models predict better than the null model.\n",
    "\n",
    "<br>\n",
    "\n",
    "Let's plot the predictions made with the null model and the multiple model (referred to as the full model in the next step). We can see the null model predict a line, because all the predictions take the same value: the mean."
   ]
  },
  {
   "cell_type": "code",
   "execution_count": 40,
   "id": "b50c87ca",
   "metadata": {
    "execution": {
     "iopub.execute_input": "2024-05-14T09:16:15.294569Z",
     "iopub.status.busy": "2024-05-14T09:16:15.293798Z",
     "iopub.status.idle": "2024-05-14T09:16:16.037380Z",
     "shell.execute_reply": "2024-05-14T09:16:16.036027Z"
    },
    "papermill": {
     "duration": 0.789153,
     "end_time": "2024-05-14T09:16:16.040705",
     "exception": false,
     "start_time": "2024-05-14T09:16:15.251552",
     "status": "completed"
    },
    "tags": []
   },
   "outputs": [
    {
     "data": {
      "image/png": "[encoded data removed]",
      "text/plain": [
       "<Figure size 1200x600 with 2 Axes>"
      ]
     },
     "metadata": {},
     "output_type": "display_data"
    }
   ],
   "source": [
    "plt.figure(figsize=(12, 6))\n",
    "\n",
    "\n",
    "# Plot model 0\n",
    "plt.subplot(1, 2, 1)\n",
    "\n",
    "plt.scatter(df_target.sort_index(),     # Real value\n",
    "            model0_y,      # Predicted\n",
    "            color='lightskyblue',\n",
    "            edgecolor = \"black\",\n",
    "            label='Predicted vs Real',\n",
    "            alpha = 0.3)\n",
    "\n",
    "# Plot a diagonal line representing perfect predictions and customize\n",
    "max_val = max(np.max(df_target), np.max(model0_y))\n",
    "plt.plot([0, max_val], [0, max_val], \n",
    "         color='red', \n",
    "         linestyle='--', \n",
    "         label='Perfect Prediction')\n",
    "\n",
    "plt.xticks(np.arange(0,10+1, 1))\n",
    "plt.yticks(np.arange(0,10+1, 1))\n",
    "plt.xlabel('Real \"Quality\"')\n",
    "plt.ylabel('Predicted \"Quality\"')\n",
    "plt.title('Null model: Predicted vs Real Values')\n",
    "plt.legend()\n",
    "plt.grid(color = \"gray\",\n",
    "         alpha = 0.3)\n",
    "\n",
    "\n",
    "\n",
    "# Plot model 2\n",
    "plt.subplot(1, 2, 2)\n",
    "\n",
    "plt.scatter(df_target.sort_index(),     # Real value\n",
    "                model2_y.sort_index(),      # Predicted\n",
    "                color='lightskyblue',\n",
    "                edgecolor = \"black\",\n",
    "                label='Predicted vs Real',\n",
    "                alpha = 0.3)\n",
    "\n",
    "# Plot a diagonal line representing perfect predictions and customize\n",
    "max_val = max(np.max(df_target), np.max(model2_y))\n",
    "plt.plot([0, max_val], [0, max_val], \n",
    "         color='red', \n",
    "         linestyle='--', \n",
    "         label='Perfect Prediction')\n",
    "\n",
    "plt.xticks(np.arange(0,10+1, 1))\n",
    "plt.yticks(np.arange(0,10+1, 1))\n",
    "plt.xlabel('Real \"Quality\"')\n",
    "plt.ylabel('Predicted \"Quality\"')\n",
    "plt.title('Full model (Multiple Regression): Predicted vs Real Values')\n",
    "plt.legend()\n",
    "plt.grid(color = \"gray\",\n",
    "         alpha = 0.3)\n",
    "\n",
    "\n",
    "plt.show()"
   ]
  },
  {
   "cell_type": "markdown",
   "id": "b054be18",
   "metadata": {
    "papermill": {
     "duration": 0.041212,
     "end_time": "2024-05-14T09:16:16.123197",
     "exception": false,
     "start_time": "2024-05-14T09:16:16.081985",
     "status": "completed"
    },
    "tags": []
   },
   "source": [
    "<br>\n",
    "\n",
    "### b. F-test for nested models (Extra Sum of Squares Test)\n",
    "\n",
    "Now we are going to see if on specific model performs better than the null model. We are going to use model 2 (Multiple Regression Model). \n",
    "\n",
    "**Important**: In statsmodel (sm) we need to include a constant if we want an intercept in the model."
   ]
  },
  {
   "cell_type": "code",
   "execution_count": 41,
   "id": "ffe583a0",
   "metadata": {
    "execution": {
     "iopub.execute_input": "2024-05-14T09:16:16.208583Z",
     "iopub.status.busy": "2024-05-14T09:16:16.208178Z",
     "iopub.status.idle": "2024-05-14T09:16:16.229508Z",
     "shell.execute_reply": "2024-05-14T09:16:16.228541Z"
    },
    "papermill": {
     "duration": 0.066767,
     "end_time": "2024-05-14T09:16:16.231918",
     "exception": false,
     "start_time": "2024-05-14T09:16:16.165151",
     "status": "completed"
    },
    "tags": []
   },
   "outputs": [
    {
     "name": "stdout",
     "output_type": "stream",
     "text": [
      "Null features:\n",
      "    const\n",
      "0    1.0 \n",
      "Multiple Regression features:\n",
      "       const  fixed acidity  volatile acidity  citric acid  residual sugar  \\\n",
      "1598    1.0            6.0              0.31         0.47             3.6   \n",
      "\n",
      "      chlorides  free sulfur dioxide  total sulfur dioxide  density    pH  \\\n",
      "1598      0.067                 18.0                  42.0  0.99549  3.39   \n",
      "\n",
      "      sulphates  alcohol  \n",
      "1598       0.66     11.0  \n"
     ]
    }
   ],
   "source": [
    "# Creare a df for the null model. As we don´t have predictors, only a constant is present.\n",
    "null_features   = sm.add_constant(pd.DataFrame(index=df_features.index)).sort_index()\n",
    "full_features   = sm.add_constant(df_features).sort_index()\n",
    "\n",
    "#reduce_model = sm.add_constant(X_reduced)\n",
    "print(\"Null features:\\n\", null_features.head(1), \n",
    "      \"\\nMultiple Regression features:\\n\", full_features.tail(1))"
   ]
  },
  {
   "cell_type": "markdown",
   "id": "fd00fbbf",
   "metadata": {
    "papermill": {
     "duration": 0.040894,
     "end_time": "2024-05-14T09:16:16.314732",
     "exception": false,
     "start_time": "2024-05-14T09:16:16.273838",
     "status": "completed"
    },
    "tags": []
   },
   "source": [
    "<br>\n",
    "\n",
    "Use OLS to fit each model:"
   ]
  },
  {
   "cell_type": "code",
   "execution_count": 42,
   "id": "812dcd33",
   "metadata": {
    "execution": {
     "iopub.execute_input": "2024-05-14T09:16:16.400191Z",
     "iopub.status.busy": "2024-05-14T09:16:16.399747Z",
     "iopub.status.idle": "2024-05-14T09:16:16.482505Z",
     "shell.execute_reply": "2024-05-14T09:16:16.475300Z"
    },
    "papermill": {
     "duration": 0.130694,
     "end_time": "2024-05-14T09:16:16.487019",
     "exception": false,
     "start_time": "2024-05-14T09:16:16.356325",
     "status": "completed"
    },
    "tags": []
   },
   "outputs": [
    {
     "name": "stdout",
     "output_type": "stream",
     "text": [
      "Null Model Summary:\n",
      "                            OLS Regression Results                            \n",
      "==============================================================================\n",
      "Dep. Variable:                quality   R-squared:                      -0.000\n",
      "Model:                            OLS   Adj. R-squared:                 -0.000\n",
      "Method:                 Least Squares   F-statistic:                       nan\n",
      "Date:                Tue, 14 May 2024   Prob (F-statistic):                nan\n",
      "Time:                        09:16:16   Log-Likelihood:                -1926.6\n",
      "No. Observations:                1599   AIC:                             3855.\n",
      "Df Residuals:                    1598   BIC:                             3861.\n",
      "Df Model:                           0                                         \n",
      "Covariance Type:            nonrobust                                         \n",
      "==============================================================================\n",
      "                 coef    std err          t      P>|t|      [0.025      0.975]\n",
      "------------------------------------------------------------------------------\n",
      "const          5.6360      0.020    279.073      0.000       5.596       5.676\n",
      "==============================================================================\n",
      "Omnibus:                       17.262   Durbin-Watson:                   1.726\n",
      "Prob(Omnibus):                  0.000   Jarque-Bera (JB):               18.300\n",
      "Skew:                           0.218   Prob(JB):                     0.000106\n",
      "Kurtosis:                       3.292   Cond. No.                         1.00\n",
      "==============================================================================\n",
      "\n",
      "Notes:\n",
      "[1] Standard Errors assume that the covariance matrix of the errors is correctly specified.\n",
      "\n",
      "Full Model Summary:\n",
      "                            OLS Regression Results                            \n",
      "==============================================================================\n",
      "Dep. Variable:                quality   R-squared:                       0.361\n",
      "Model:                            OLS   Adj. R-squared:                  0.356\n",
      "Method:                 Least Squares   F-statistic:                     81.35\n",
      "Date:                Tue, 14 May 2024   Prob (F-statistic):          1.79e-145\n",
      "Time:                        09:16:16   Log-Likelihood:                -1569.1\n",
      "No. Observations:                1599   AIC:                             3162.\n",
      "Df Residuals:                    1587   BIC:                             3227.\n",
      "Df Model:                          11                                         \n",
      "Covariance Type:            nonrobust                                         \n",
      "========================================================================================\n",
      "                           coef    std err          t      P>|t|      [0.025      0.975]\n",
      "----------------------------------------------------------------------------------------\n",
      "const                   21.9652     21.195      1.036      0.300     -19.607      63.538\n",
      "fixed acidity            0.0250      0.026      0.963      0.336      -0.026       0.076\n",
      "volatile acidity        -1.0836      0.121     -8.948      0.000      -1.321      -0.846\n",
      "citric acid             -0.1826      0.147     -1.240      0.215      -0.471       0.106\n",
      "residual sugar           0.0163      0.015      1.089      0.276      -0.013       0.046\n",
      "chlorides               -1.8742      0.419     -4.470      0.000      -2.697      -1.052\n",
      "free sulfur dioxide      0.0044      0.002      2.009      0.045       0.000       0.009\n",
      "total sulfur dioxide    -0.0033      0.001     -4.480      0.000      -0.005      -0.002\n",
      "density                -17.8812     21.633     -0.827      0.409     -60.314      24.551\n",
      "pH                      -0.4137      0.192     -2.159      0.031      -0.789      -0.038\n",
      "sulphates                0.9163      0.114      8.014      0.000       0.692       1.141\n",
      "alcohol                  0.2762      0.026     10.429      0.000       0.224       0.328\n",
      "==============================================================================\n",
      "Omnibus:                       27.376   Durbin-Watson:                   1.757\n",
      "Prob(Omnibus):                  0.000   Jarque-Bera (JB):               40.965\n",
      "Skew:                          -0.168   Prob(JB):                     1.27e-09\n",
      "Kurtosis:                       3.708   Cond. No.                     1.13e+05\n",
      "==============================================================================\n",
      "\n",
      "Notes:\n",
      "[1] Standard Errors assume that the covariance matrix of the errors is correctly specified.\n",
      "[2] The condition number is large, 1.13e+05. This might indicate that there are\n",
      "strong multicollinearity or other numerical problems.\n"
     ]
    }
   ],
   "source": [
    "# Fit the models using OLS\n",
    "model_null = sm.OLS(df_target.sort_index(), \n",
    "                    null_features.sort_index()).fit()\n",
    "model_full = sm.OLS(df_target.sort_index(), \n",
    "                    full_features.sort_index()).fit()\n",
    "\n",
    "# Summary of the models\n",
    "print(\"Null Model Summary:\")\n",
    "print(model_null.summary())\n",
    "print(\"\\nFull Model Summary:\")\n",
    "print(model_full.summary())"
   ]
  },
  {
   "cell_type": "markdown",
   "id": "dbcae26c",
   "metadata": {
    "papermill": {
     "duration": 0.042028,
     "end_time": "2024-05-14T09:16:16.616031",
     "exception": false,
     "start_time": "2024-05-14T09:16:16.574003",
     "status": "completed"
    },
    "tags": []
   },
   "source": [
    "<br>\n",
    "\n",
    "For each model we have three tables:\n",
    "\n",
    "* **OLS Regression Results**. We have **General model information** and **Fit statistics**.\n",
    "* **Coefficients table**. Information related with intercpt and coefficients.\n",
    "* **Residual test**.\n",
    "\n",
    "Lest's see what information do we have. We are going to try to give a little explenation of all the fields.\n",
    "\n",
    "<br>\n",
    "\n",
    "**General model information**\n",
    "\n",
    "* **Dep. Variable**: The dependent variable for the model, which in this case is 'quality'.\n",
    "* **Model**: Indicates the type of model used, here it's OLS.\n",
    "* **Method**: The method of estimation used, which is \"Least Squares.\"\n",
    "* **Date, Time**: The date and time when the model was run.\n",
    "* **No. Observations**: Total number of observations used in the model (1599).\n",
    "* **Df Residuals**: Degrees of freedom of the residuals. There are calculated as the number of observations minus the number of parameters. Null model = 1599 - 1 (constant, intercept) = 1598. Full model = 1599 - 12 (intercept + predictors)  = 1587.\n",
    "* **Df Model**: Number of predictors in the model. The null model doesn't use predictors (0). The full model use 11 features.\n",
    "* **Covariance Type**: Specifies the type of covariance calculation method used, here it's \"nonrobust\".\n",
    "\n",
    "<br>\n",
    "\n",
    "**Fit Statistics**:\n",
    "\n",
    "* **R-squared**: The proportion of variance in the dependent variable that is predictable from the independent variables. 0 for null model and 0.361 (as wee check before).\n",
    "* **Adj. R-squared**: Adjusted R-squared, which is adjusted for the number of predictors in the model. It is useful for comparing models with different numbers of predictors. Again, null model take 0 value and full model 0.356.\n",
    "* **F-statistic**: A measure of how significant the fit is. The higher the F-statistic, the more evidence against the null hypothesis that the model provides no better fit than a model with no predictors. Interpreta it with the associated probability.\n",
    "* **Prob (F-statistic)**: The probability of observing the data if the null hypothesis is true (null hypothesis is use the mean so is the null model). Extremely small, indicating a significant model, like we observate in the full model.\n",
    "* **Log-Likelihood**: The log of the likelihood function, which measures the goodness of fit of the model, Measure the probability of observing the data given the parameters. A higher value means the model fits better the data. However, to compare model we use to transform into AIC and BIC that takes into account the number of observations and the complexity of the model.  \n",
    "* **AIC**: Akaike Information Criterion, a measure of the relative quality of statistical models for a given set of data. Allow us to compare one model against other. Consider both the complexity of the model and the fit of the model to the dataset. Used to find the model that best explains the data with a minimun number of parameters. Lower AIC, better model. In our case, full model is better than null (lower AIC).\n",
    "* **BIC**: Bayesian Information Criterion, another criterion for model selection. Comparing with AIC, BIC includes a stronger penalty for models with more parameters. As AIC, lower BIC value indicate a better model. Useful with large datasets. Again, the full model shows a lower BIC than null model.\n",
    "\n",
    "<br>\n",
    "\n",
    "**Coefficients Table**\n",
    "\n",
    "In the null model, only the constant is presented.\n",
    "\n",
    "* **coef**: Estimated coefficients for the predictor variables. In the null model take the mean value. In the full model, if we compare with the obtained in 1.B, we see there are the samen. The sign of the coefficient is used to interpretated the relation between the current feature and the target. Negative means that more value in that characteristics supose a decrease in the target variable. A positive sign means that more value of the feature, more value of the target. \n",
    "* **std err**: Standard error of the estimated coefficients.\n",
    "* **t**: The t-statistic, which is the coefficient divided by its standard error.\n",
    "* **P>|t|**: The p-value for a hypothesis test whose null hypothesis is that the coefficient is zero (no effect). Using an $\\alpha$ = 0.05 we see that the unique variables that have an effect are: \"volatile acidity\", \"chlorides\", \"free sulfur dioxide\", \"total sulfur dioxide\", \"pH\", \"sulphates\", and \"alcohol\".\n",
    "* **[0.025 0.975]** (aka Confidence intervals): The 95% confidence intervals for the coefficients.\n",
    "\n",
    "<br>\n",
    "\n",
    "**Residual Tests**\n",
    "* **Omnibus**: Omnibus D'Angostino's test. Provides a combined statistical test for the presence of skewness and kurtosis. When the model resides of the model are not normally distributed, this can imply that the model assumption for the linear regression are violated.This canaffect the reliability of some standard test of the coefficients, leading to incorrect conclusions. In our case, no assumption test were used so it´s none a surpise.\n",
    "* **Prob(Omnibus)**: The *p-value* associated with the Omnibus test. In models is close to 0 indicating non-normal residuals.\n",
    "* **Skew**: A measure of data symmetry- In the null model is slightly positive, indicating the tail is on the rigth side. In the full model is slightly negative, indicating the tail is on the left side.\n",
    "* **Kurtosis**: A measure of whether data are peaked or flat relative to a normal distribution. Here it indicates a leptokurtic distribution (peaked) in both model.\n",
    "* **Durbin-Watson**: A test statistic that checks for autocorrelation in the residuals from a regression analysis. In both models is close to 2, suggesting minimal autocorrelation. Low autocorrelation is good because it indicates that residuals are independent from each other, which is an assumption of OLS regression.\n",
    "* **Jarque-Bera (JB)**: A goodness-of-fit test of whether sample data have the skewness and kurtosis matching a normal distribution.\n",
    "* **Prob(JB)**: The *p-value* for the Jarque-Bera test, here indicating departure from normality in both models. This may lead to inefficiencies in the parameter estimates and standard errors, potentially affecting hypothesis tests about the coefficients.\n",
    "* **Cond. No**: Condition number, which measures the sensitivity of the function's output to its input. High values indicate potential multicollinearity or other numerical problems in the regression (ex. the scale of the input variables is not balanced). This can lead to instability in the estimation of regression coefficients, where small changes in the data might lead to large changes in the model estimates. The model might also be overly sensitive to small changes in the model or the data. We have 1 in the null model. It indicates perfect stability and no multicollinearity (since there are no features). It’s a baseline or reference point indicating no correlation or dependency issues among predictors because there aren’t any in the model.\n",
    "\n",
    "\n",
    "<br>\n",
    "\n",
    "Now we compare if full model is nested within null model:"
   ]
  },
  {
   "cell_type": "code",
   "execution_count": 43,
   "id": "56c117f4",
   "metadata": {
    "execution": {
     "iopub.execute_input": "2024-05-14T09:16:16.703307Z",
     "iopub.status.busy": "2024-05-14T09:16:16.702871Z",
     "iopub.status.idle": "2024-05-14T09:16:16.708753Z",
     "shell.execute_reply": "2024-05-14T09:16:16.707806Z"
    },
    "papermill": {
     "duration": 0.053999,
     "end_time": "2024-05-14T09:16:16.712226",
     "exception": false,
     "start_time": "2024-05-14T09:16:16.658227",
     "status": "completed"
    },
    "tags": []
   },
   "outputs": [
    {
     "name": "stdout",
     "output_type": "stream",
     "text": [
      "\n",
      "F-test result: (81.34790219539153, 1.791449773214154e-145, 11.0)\n"
     ]
    }
   ],
   "source": [
    "f_test = model_full.compare_f_test(model_null)\n",
    "print(\"\\nF-test result:\", f_test)"
   ]
  },
  {
   "cell_type": "markdown",
   "id": "b5412a0f",
   "metadata": {
    "papermill": {
     "duration": 0.042251,
     "end_time": "2024-05-14T09:16:16.797137",
     "exception": false,
     "start_time": "2024-05-14T09:16:16.754886",
     "status": "completed"
    },
    "tags": []
   },
   "source": [
    "**Results**:\n",
    "\n",
    "* **F statistic value**: 81.348. This is the calculated F-statistic for the test. It represents the ratio of the model fit improvement per added predictor to the error of the larger model (including all predictors). A higher F-statistic indicates that the additional predictors in the full model provide a significant improvement in fit over the reduced model.\n",
    "* **P-value**: <0.001. Probability under the null hypothesis of observing the F-statistic, or one more extreme, given that the null hypothesis is true. Here, the null hypothesis typically states that the additional predictors in the full model do not improve the fit of the model meaningfully compared to the reduced model. A very small p-value, as in this case (which is virtually zero), strongly suggests rejecting the null hypothesis. This means that the additional predictors do significantly improve the model.\n",
    "* **Degrees of Freedom**: 11.0. This number represents the degrees of freedom associated with the numerator of the F-statistic, which is generally equal to the number of additional parameters added to the reduced model to get the full model. Here, 11 extra parameters were added to the reduced model to form the full model.\n",
    "\n",
    "**Overall conclusion**: The features in the full model improve the prediction compared to the null model.\n",
    "\n",
    "<br>\n",
    "\n",
    "### c. Information criteria (AIC/BIC)\n",
    "\n",
    "Follow the same steps as in part **5.A.b** to obtain model_null and model_full. Once we have completed these steps, we will move on to examine the AIC and BIC criteria for each model."
   ]
  },
  {
   "cell_type": "code",
   "execution_count": 44,
   "id": "5604e367",
   "metadata": {
    "execution": {
     "iopub.execute_input": "2024-05-14T09:16:16.884417Z",
     "iopub.status.busy": "2024-05-14T09:16:16.883598Z",
     "iopub.status.idle": "2024-05-14T09:16:16.890468Z",
     "shell.execute_reply": "2024-05-14T09:16:16.889035Z"
    },
    "papermill": {
     "duration": 0.053434,
     "end_time": "2024-05-14T09:16:16.893069",
     "exception": false,
     "start_time": "2024-05-14T09:16:16.839635",
     "status": "completed"
    },
    "tags": []
   },
   "outputs": [
    {
     "name": "stdout",
     "output_type": "stream",
     "text": [
      "Null model AIC: 3855.269 Full model AIC: 3162.277\n",
      "Null model BIC: 3860.646 Full model BIC: 3226.802\n"
     ]
    }
   ],
   "source": [
    "print(\"Null model AIC:\", round(model_null.aic, 3), \"Full model AIC:\", round(model_full.aic, 3))\n",
    "print(\"Null model BIC:\", round(model_null.bic, 3), \"Full model BIC:\", round(model_full.bic, 3))"
   ]
  },
  {
   "cell_type": "markdown",
   "id": "b861b1be",
   "metadata": {
    "papermill": {
     "duration": 0.045533,
     "end_time": "2024-05-14T09:16:16.981431",
     "exception": false,
     "start_time": "2024-05-14T09:16:16.935898",
     "status": "completed"
    },
    "tags": []
   },
   "source": [
    "<br>\n",
    "\n",
    "We compute Deltas (differences) to interpretate the results:"
   ]
  },
  {
   "cell_type": "code",
   "execution_count": 45,
   "id": "8f4e6209",
   "metadata": {
    "execution": {
     "iopub.execute_input": "2024-05-14T09:16:17.068710Z",
     "iopub.status.busy": "2024-05-14T09:16:17.068281Z",
     "iopub.status.idle": "2024-05-14T09:16:17.074992Z",
     "shell.execute_reply": "2024-05-14T09:16:17.074012Z"
    },
    "papermill": {
     "duration": 0.054053,
     "end_time": "2024-05-14T09:16:17.077903",
     "exception": false,
     "start_time": "2024-05-14T09:16:17.023850",
     "status": "completed"
    },
    "tags": []
   },
   "outputs": [
    {
     "name": "stdout",
     "output_type": "stream",
     "text": [
      "Delta AIC: 693 \n",
      "Delta BIC: 634\n"
     ]
    }
   ],
   "source": [
    "# Diferences:\n",
    "delta_aic = model_null.aic - model_full.aic\n",
    "delta_bic = model_null.bic - model_full.bic\n",
    "\n",
    "print(\"Delta AIC:\", round(delta_aic), \"\\nDelta BIC:\", round(delta_bic))\n"
   ]
  },
  {
   "cell_type": "markdown",
   "id": "18a44d92",
   "metadata": {
    "papermill": {
     "duration": 0.042674,
     "end_time": "2024-05-14T09:16:17.163963",
     "exception": false,
     "start_time": "2024-05-14T09:16:17.121289",
     "status": "completed"
    },
    "tags": []
   },
   "source": [
    "As we can see, the differences are large (differences >10), so we can conclude that the full model is better at making predictions than the null model.\n",
    "\n",
    "<br>\n",
    "<br>\n",
    "\n",
    "## B. Test if a particular coefficient is statistical different from 0\n",
    "\n",
    "This approach allows us to examine each predictor in the model separately. We can test whether a particular predictor has a statistically significant relationship with the target variable. If the coefficient is statistically different from 0, then we can conclude there is a relationship.\n",
    "\n",
    "The Scikit-learn package does not have a direct way to compute this, but we can fit the model with Scikit-Learn and then use the statsmodel package from the stats module to explore the statistical summary.\n",
    "\n",
    "We are going to use the model with all features that we computed in the Multiple Linear Regression section."
   ]
  },
  {
   "cell_type": "code",
   "execution_count": 46,
   "id": "8d6f4854",
   "metadata": {
    "execution": {
     "iopub.execute_input": "2024-05-14T09:16:17.251658Z",
     "iopub.status.busy": "2024-05-14T09:16:17.251159Z",
     "iopub.status.idle": "2024-05-14T09:16:17.258584Z",
     "shell.execute_reply": "2024-05-14T09:16:17.257599Z"
    },
    "papermill": {
     "duration": 0.053763,
     "end_time": "2024-05-14T09:16:17.260979",
     "exception": false,
     "start_time": "2024-05-14T09:16:17.207216",
     "status": "completed"
    },
    "tags": []
   },
   "outputs": [
    {
     "name": "stdout",
     "output_type": "stream",
     "text": [
      "Intercept : 21.965\n",
      "Coefficients :\n",
      "fixed acidity: 0.025\n",
      "volatile acidity: -1.084\n",
      "citric acid: -0.183\n",
      "residual sugar: 0.016\n",
      "chlorides: -1.874\n",
      "free sulfur dioxide: 0.004\n",
      "total sulfur dioxide: -0.003\n",
      "density: -17.881\n",
      "pH: -0.414\n",
      "sulphates: 0.916\n",
      "alcohol: 0.276\n"
     ]
    }
   ],
   "source": [
    "print(\"Intercept :\",    model2.intercept_ [0].round(3))\n",
    "\n",
    "coefficient_dict = dict(zip(df_features.columns,\n",
    "                            model2.coef_[0]))\n",
    "print(\"Coefficients :\")\n",
    "for feature, coef in coefficient_dict.items():\n",
    "    print(f\"{feature}: {coef:.3f}\")"
   ]
  },
  {
   "cell_type": "markdown",
   "id": "6c0f6a68",
   "metadata": {
    "papermill": {
     "duration": 0.041962,
     "end_time": "2024-05-14T09:16:17.345927",
     "exception": false,
     "start_time": "2024-05-14T09:16:17.303965",
     "status": "completed"
    },
    "tags": []
   },
   "source": [
    "<br>\n",
    "\n",
    "Now, we'll obtain the statistical summary using statsmodels. This summary includes the standard errors, t-statistics, and *p*-values of the coefficients, as we did in the previous section.Now, we obtain the statistical summary using statsmodels. We had do this in the previous section."
   ]
  },
  {
   "cell_type": "code",
   "execution_count": 47,
   "id": "61c2db85",
   "metadata": {
    "execution": {
     "iopub.execute_input": "2024-05-14T09:16:17.433618Z",
     "iopub.status.busy": "2024-05-14T09:16:17.432454Z",
     "iopub.status.idle": "2024-05-14T09:16:17.454715Z",
     "shell.execute_reply": "2024-05-14T09:16:17.453801Z"
    },
    "papermill": {
     "duration": 0.069143,
     "end_time": "2024-05-14T09:16:17.457788",
     "exception": false,
     "start_time": "2024-05-14T09:16:17.388645",
     "status": "completed"
    },
    "scrolled": true,
    "tags": []
   },
   "outputs": [
    {
     "name": "stdout",
     "output_type": "stream",
     "text": [
      "                            OLS Regression Results                            \n",
      "==============================================================================\n",
      "Dep. Variable:                quality   R-squared:                       0.361\n",
      "Model:                            OLS   Adj. R-squared:                  0.356\n",
      "Method:                 Least Squares   F-statistic:                     81.35\n",
      "Date:                Tue, 14 May 2024   Prob (F-statistic):          1.79e-145\n",
      "Time:                        09:16:17   Log-Likelihood:                -1569.1\n",
      "No. Observations:                1599   AIC:                             3162.\n",
      "Df Residuals:                    1587   BIC:                             3227.\n",
      "Df Model:                          11                                         \n",
      "Covariance Type:            nonrobust                                         \n",
      "========================================================================================\n",
      "                           coef    std err          t      P>|t|      [0.025      0.975]\n",
      "----------------------------------------------------------------------------------------\n",
      "const                   21.9652     21.195      1.036      0.300     -19.607      63.538\n",
      "fixed acidity            0.0250      0.026      0.963      0.336      -0.026       0.076\n",
      "volatile acidity        -1.0836      0.121     -8.948      0.000      -1.321      -0.846\n",
      "citric acid             -0.1826      0.147     -1.240      0.215      -0.471       0.106\n",
      "residual sugar           0.0163      0.015      1.089      0.276      -0.013       0.046\n",
      "chlorides               -1.8742      0.419     -4.470      0.000      -2.697      -1.052\n",
      "free sulfur dioxide      0.0044      0.002      2.009      0.045       0.000       0.009\n",
      "total sulfur dioxide    -0.0033      0.001     -4.480      0.000      -0.005      -0.002\n",
      "density                -17.8812     21.633     -0.827      0.409     -60.314      24.551\n",
      "pH                      -0.4137      0.192     -2.159      0.031      -0.789      -0.038\n",
      "sulphates                0.9163      0.114      8.014      0.000       0.692       1.141\n",
      "alcohol                  0.2762      0.026     10.429      0.000       0.224       0.328\n",
      "==============================================================================\n",
      "Omnibus:                       27.376   Durbin-Watson:                   1.757\n",
      "Prob(Omnibus):                  0.000   Jarque-Bera (JB):               40.965\n",
      "Skew:                          -0.168   Prob(JB):                     1.27e-09\n",
      "Kurtosis:                       3.708   Cond. No.                     1.13e+05\n",
      "==============================================================================\n",
      "\n",
      "Notes:\n",
      "[1] Standard Errors assume that the covariance matrix of the errors is correctly specified.\n",
      "[2] The condition number is large, 1.13e+05. This might indicate that there are\n",
      "strong multicollinearity or other numerical problems.\n"
     ]
    }
   ],
   "source": [
    "print(model_full.summary())"
   ]
  },
  {
   "cell_type": "markdown",
   "id": "ce626197",
   "metadata": {
    "papermill": {
     "duration": 0.041789,
     "end_time": "2024-05-14T09:16:17.542126",
     "exception": false,
     "start_time": "2024-05-14T09:16:17.500337",
     "status": "completed"
    },
    "tags": []
   },
   "source": [
    "<br>\n",
    "\n",
    "In the table above we have a list with all the features informations as well as the intercept.\n",
    "\n",
    "**Coefficients statistical significative** at 0.05 level:\n",
    "\n",
    "* \"Volatile acidity\", \"chlorides\", \"free sulfur dioxide\", \"total sulfur dioxide\", \"density\", \"pH\", \"sulphates\", and \"alcohol\".\n",
    "\n",
    "<br>\n",
    "\n",
    "# 6. Standardised coefficients\n",
    "\n",
    "It is common for our variables (target) to have different scales. The units of measurement influence the refgession coefficients.\n",
    "\n",
    "**Standardized coefficients**: Coefficients obtained when converting all the variables to standard scores ($z$-score). \n",
    "\n",
    "**BEFORE** running the regression. When we standarization involves making the variable have a mean 0 and a standard deviation of 1. \n",
    "\n",
    "**Reasons to use**:\n",
    "\n",
    "* It is specially important when we want to compare the strenght of different predictors (features). An absolute value of $\\beta$ indicates a stronger relationship with the target.\n",
    "* Coefficients of standardized variables represent the change in the dependent variable for a one standard deviation change in the predictor, making it easier to compare the effects of different variables.\n",
    "* Moreover, when we use regularization, standarization is crital because it penalize the coefficients base on their size. \n",
    "* Accelerate convergence in algorithms that use gradient descent (like logistic regression or when using regularitation).\n",
    "\n",
    "We will now see how to do this in Python step by step. We start with the standarization of the variables. \n",
    "\n",
    "**Important Note**: If we split our data into training and test sets, we may do this before the splitting."
   ]
  },
  {
   "cell_type": "code",
   "execution_count": 48,
   "id": "33a5808a",
   "metadata": {
    "execution": {
     "iopub.execute_input": "2024-05-14T09:16:17.632301Z",
     "iopub.status.busy": "2024-05-14T09:16:17.630954Z",
     "iopub.status.idle": "2024-05-14T09:16:17.646560Z",
     "shell.execute_reply": "2024-05-14T09:16:17.645201Z"
    },
    "papermill": {
     "duration": 0.062278,
     "end_time": "2024-05-14T09:16:17.649217",
     "exception": false,
     "start_time": "2024-05-14T09:16:17.586939",
     "status": "completed"
    },
    "tags": []
   },
   "outputs": [
    {
     "name": "stdout",
     "output_type": "stream",
     "text": [
      "Features standarized: \n",
      " [-0.52835961  0.96187667 -1.39147228 -0.45321841 -0.24370669 -0.46619252\n",
      " -0.37913269  0.55827446  1.28864292 -0.57920652 -0.96024611]\n",
      "Target standarize: \n",
      " [-0.78782264]\n"
     ]
    }
   ],
   "source": [
    "scaler_features = StandardScaler()\n",
    "scaler_target = StandardScaler()\n",
    "\n",
    "df_features_stand = scaler_features.fit_transform(df_features)\n",
    "df_target_stand = scaler_target.fit_transform(df_target)\n",
    "\n",
    "print(\"Features standarized: \\n\", df_features_stand[0][0:])\n",
    "print(\"Target standarize: \\n\", df_target_stand[0][0:3])"
   ]
  },
  {
   "cell_type": "markdown",
   "id": "eb801ea5",
   "metadata": {
    "papermill": {
     "duration": 0.042314,
     "end_time": "2024-05-14T09:16:17.736020",
     "exception": false,
     "start_time": "2024-05-14T09:16:17.693706",
     "status": "completed"
    },
    "tags": []
   },
   "source": [
    "<br>\n",
    "\n",
    "To use StandarScaler() it is necessary transform our data into an array. We need to recover the index and the columns names before made the regression"
   ]
  },
  {
   "cell_type": "code",
   "execution_count": 49,
   "id": "78a7c444",
   "metadata": {
    "execution": {
     "iopub.execute_input": "2024-05-14T09:16:17.823568Z",
     "iopub.status.busy": "2024-05-14T09:16:17.823153Z",
     "iopub.status.idle": "2024-05-14T09:16:17.836063Z",
     "shell.execute_reply": "2024-05-14T09:16:17.834859Z"
    },
    "papermill": {
     "duration": 0.060448,
     "end_time": "2024-05-14T09:16:17.838679",
     "exception": false,
     "start_time": "2024-05-14T09:16:17.778231",
     "status": "completed"
    },
    "tags": []
   },
   "outputs": [
    {
     "name": "stdout",
     "output_type": "stream",
     "text": [
      "   fixed acidity  volatile acidity  citric acid  residual sugar  chlorides  \\\n",
      "0      -0.528360          0.961877    -1.391472       -0.453218  -0.243707   \n",
      "1      -0.298547          1.967442    -1.391472        0.043416   0.223875   \n",
      "2      -0.298547          1.297065    -1.186070       -0.169427   0.096353   \n",
      "\n",
      "   free sulfur dioxide  total sulfur dioxide   density        pH  sulphates  \\\n",
      "0            -0.466193             -0.379133  0.558274  1.288643  -0.579207   \n",
      "1             0.872638              0.624363  0.028261 -0.719933   0.128950   \n",
      "2            -0.083669              0.229047  0.134264 -0.331177  -0.048089   \n",
      "\n",
      "    alcohol  \n",
      "0 -0.960246  \n",
      "1 -0.584777  \n",
      "2 -0.584777  \n"
     ]
    }
   ],
   "source": [
    "# We made for features and target\n",
    "df_target_stand = pd.DataFrame(df_target_stand, \n",
    "                               index=df_target.index, \n",
    "                               columns=df_target.columns).sort_index()\n",
    "\n",
    "df_features_stand = pd.DataFrame(df_features_stand, \n",
    "                                       index=df_features.index, \n",
    "                                       columns=df_features.columns).sort_index()\n",
    "\n",
    "\n",
    "# Print the standardized features with the DataFrame structure\n",
    "print(df_features_stand.head(3))"
   ]
  },
  {
   "cell_type": "markdown",
   "id": "1c1ce1a3",
   "metadata": {
    "papermill": {
     "duration": 0.042184,
     "end_time": "2024-05-14T09:16:17.923496",
     "exception": false,
     "start_time": "2024-05-14T09:16:17.881312",
     "status": "completed"
    },
    "tags": []
   },
   "source": [
    "<br>\n",
    "\n",
    "Create and fit the model:"
   ]
  },
  {
   "cell_type": "code",
   "execution_count": 50,
   "id": "be46d705",
   "metadata": {
    "execution": {
     "iopub.execute_input": "2024-05-14T09:16:18.013961Z",
     "iopub.status.busy": "2024-05-14T09:16:18.013294Z",
     "iopub.status.idle": "2024-05-14T09:16:18.026790Z",
     "shell.execute_reply": "2024-05-14T09:16:18.025639Z"
    },
    "papermill": {
     "duration": 0.061509,
     "end_time": "2024-05-14T09:16:18.029378",
     "exception": false,
     "start_time": "2024-05-14T09:16:17.967869",
     "status": "completed"
    },
    "tags": []
   },
   "outputs": [
    {
     "name": "stdout",
     "output_type": "stream",
     "text": [
      "Intercept : -0.0\n",
      "Coefficients :\n",
      "fixed acidity: 0.054\n",
      "volatile acidity: -0.240\n",
      "citric acid: -0.044\n",
      "residual sugar: 0.029\n",
      "chlorides: -0.109\n",
      "free sulfur dioxide: 0.056\n",
      "total sulfur dioxide: -0.133\n",
      "density: -0.042\n",
      "pH: -0.079\n",
      "sulphates: 0.192\n",
      "alcohol: 0.364\n"
     ]
    }
   ],
   "source": [
    "# Create MLRM and fit it\n",
    "regression_stand = LinearRegression()\n",
    "\n",
    "# Fit the model\n",
    "model7 = regression_stand.fit(df_features_stand.sort_index(),\n",
    "                              df_target_stand.sort_index())\n",
    "\n",
    "# Show the equation values:\n",
    "print(\"Intercept :\",    model7.intercept_ [0].round(3))\n",
    "\n",
    "coefficient_dict = dict(zip(df_features_stand.columns,\n",
    "                            model7.coef_[0]))\n",
    "print(\"Coefficients :\")\n",
    "for feature, coef in coefficient_dict.items():\n",
    "    print(f\"{feature}: {coef:.3f}\")"
   ]
  },
  {
   "cell_type": "markdown",
   "id": "f122eb41",
   "metadata": {
    "papermill": {
     "duration": 0.042696,
     "end_time": "2024-05-14T09:16:18.114963",
     "exception": false,
     "start_time": "2024-05-14T09:16:18.072267",
     "status": "completed"
    },
    "tags": []
   },
   "source": [
    "<br>\n",
    "\n",
    "Now that we have all standarized, we are going to interpretate the intercept and coefficients:\n",
    "\n",
    "* **Intercept** (-0.0): Since the model's intercept is effectively zero, it suggests that the model predicts a response value of zero when all predictors are at their mean values.\n",
    "* **Fixed Acidity** (0.054): This positive coefficient indicates that increasing fixed acidity by one standard deviation, while holding other variables constant, increases the response variable by 0.054 standard deviations. It shows a moderate positive effect on the response variable.\n",
    "* **Volatile Acidity** (-0.240): The substantial negative coefficient implies that increasing volatile acidity by one standard deviation results in a decrease in the response variable by 0.240 standard deviations. This indicates a significant adverse effect.\n",
    "* **Citric Acid** (-0.044): A small negative coefficient suggests that an increase in citric acid slightly decreases the response variable, though the effect is relatively minor.\n",
    "* **Residual Sugar** (0.029): A modest positive coefficient implies that higher residual sugar levels slightly increase the response variable.\n",
    "* **Chlorides** (-0.109): A negative effect where an increase in chlorides results in a decrease in the response variable, indicating a detrimental impact.\n",
    "* **Free Sulfur Dioxide** (0.056): Indicates a positive relationship, with increases in free sulfur dioxide associated with slight increases in the response variable.\n",
    "* **Total Sulfur Dioxide** (-0.133): Reflects a negative effect, with an increase in total sulfur dioxide resulting in a decrease in the response variable.\n",
    "* **Density** (-0.042): A small negative coefficient indicates that higher density slightly reduces the response variable.\n",
    "* **pH** (-0.079): This negative coefficient suggests that higher pH values are associated with decreases in the response variable.\n",
    "* **Sulphates** (0.192): A robust positive effect, suggesting that increases in sulphates lead to significant increases in the response variable.\n",
    "* **Alcohol** (0.364): The most significant positive coefficient, indicating that an increase in alcohol content substantially increases the response variable.\n",
    "\n"
   ]
  },
  {
   "cell_type": "markdown",
   "id": "9a0cd968",
   "metadata": {
    "papermill": {
     "duration": 0.042342,
     "end_time": "2024-05-14T09:16:18.199889",
     "exception": false,
     "start_time": "2024-05-14T09:16:18.157547",
     "status": "completed"
    },
    "tags": []
   },
   "source": [
    "<br>\n",
    "\n",
    "Now build the equation of the model:\n",
    "\n",
    "$$\n",
    "\\hat{y} = 0 + 0.054 · x_1 - 0.240 · x_2 - 0.044 · x_3 + 0.029 · x_4  - 0.109 · x_5 + 0.056 · x_6 - 0.133 · x_7 - 0.042 · x_8 - 0.079 · x_9 + 0.192· x_{10} + 0.364 · x_{11} \n",
    "$$\n",
    "\n",
    "If we replace the features for our first case, we obtain the following (using the standardized features):\""
   ]
  },
  {
   "cell_type": "code",
   "execution_count": 51,
   "id": "571ab26f",
   "metadata": {
    "execution": {
     "iopub.execute_input": "2024-05-14T09:16:18.286962Z",
     "iopub.status.busy": "2024-05-14T09:16:18.286546Z",
     "iopub.status.idle": "2024-05-14T09:16:18.295704Z",
     "shell.execute_reply": "2024-05-14T09:16:18.294597Z"
    },
    "papermill": {
     "duration": 0.056172,
     "end_time": "2024-05-14T09:16:18.298635",
     "exception": false,
     "start_time": "2024-05-14T09:16:18.242463",
     "status": "completed"
    },
    "tags": []
   },
   "outputs": [
    {
     "name": "stdout",
     "output_type": "stream",
     "text": [
      "Value of all features for our first case :                           0\n",
      "fixed acidity        -0.528\n",
      "volatile acidity      0.962\n",
      "citric acid          -1.391\n",
      "residual sugar       -0.453\n",
      "chlorides            -0.244\n",
      "free sulfur dioxide  -0.466\n",
      "total sulfur dioxide -0.379\n",
      "density               0.558\n",
      "pH                    1.289\n",
      "sulphates            -0.579\n",
      "alcohol              -0.960\n"
     ]
    }
   ],
   "source": [
    "print(\"Value of all features for our first case :\", df_features_stand.sort_index().iloc[0:1].transpose().round(3)) "
   ]
  },
  {
   "cell_type": "markdown",
   "id": "85ecf413",
   "metadata": {
    "papermill": {
     "duration": 0.043251,
     "end_time": "2024-05-14T09:16:18.387159",
     "exception": false,
     "start_time": "2024-05-14T09:16:18.343908",
     "status": "completed"
    },
    "tags": []
   },
   "source": [
    "<br>\n",
    "\n",
    "The equation for our first case is like:\n",
    "\n",
    "$$\n",
    "\\hat{y} = 0 + 0.054 · (-0.528) - 0.240 · 0.962 - 0.044 · (-1.391) + 0.029 · (-0.453)  - 0.109 · (-0.244) + 0.056 · (-0.466) - 0.133 · (-0.379) - 0.042 · 0.558 - 0.079 · 1.289 + 0.192 · (-0.579) + 0.364 · (-0.960) \\approx 0.746\n",
    "$$\n"
   ]
  },
  {
   "cell_type": "code",
   "execution_count": 52,
   "id": "3d5d7855",
   "metadata": {
    "execution": {
     "iopub.execute_input": "2024-05-14T09:16:18.475818Z",
     "iopub.status.busy": "2024-05-14T09:16:18.475428Z",
     "iopub.status.idle": "2024-05-14T09:16:18.491127Z",
     "shell.execute_reply": "2024-05-14T09:16:18.489176Z"
    },
    "papermill": {
     "duration": 0.065532,
     "end_time": "2024-05-14T09:16:18.495940",
     "exception": false,
     "start_time": "2024-05-14T09:16:18.430408",
     "status": "completed"
    },
    "tags": []
   },
   "outputs": [
    {
     "name": "stdout",
     "output_type": "stream",
     "text": [
      "Quality predicted value for the first case:    Standarized model\n",
      "0             -0.747\n"
     ]
    }
   ],
   "source": [
    "model7_y_stand = pd.DataFrame(model7.predict(df_features_stand), \n",
    "                        index=df_features_stand.index, \n",
    "                        columns=['Standarized model'])\n",
    "\n",
    "print(\"Quality predicted value for the first case:\", model7_y_stand.sort_index().round(3).head(1))"
   ]
  },
  {
   "cell_type": "markdown",
   "id": "4fc8fd5e",
   "metadata": {
    "papermill": {
     "duration": 0.051002,
     "end_time": "2024-05-14T09:16:18.636690",
     "exception": false,
     "start_time": "2024-05-14T09:16:18.585688",
     "status": "completed"
    },
    "tags": []
   },
   "source": [
    "<br>\n",
    "\n",
    "Standarize the variables has several advantages (scale independence, improve algorithm performance, etc). However, the interpretation of the results is complicated. For this reason we need to get our predicionts back to the original scale. "
   ]
  },
  {
   "cell_type": "code",
   "execution_count": 53,
   "id": "75c923fa",
   "metadata": {
    "execution": {
     "iopub.execute_input": "2024-05-14T09:16:18.726571Z",
     "iopub.status.busy": "2024-05-14T09:16:18.726140Z",
     "iopub.status.idle": "2024-05-14T09:16:18.739241Z",
     "shell.execute_reply": "2024-05-14T09:16:18.737648Z"
    },
    "papermill": {
     "duration": 0.061107,
     "end_time": "2024-05-14T09:16:18.741635",
     "exception": false,
     "start_time": "2024-05-14T09:16:18.680528",
     "status": "completed"
    },
    "tags": []
   },
   "outputs": [
    {
     "name": "stdout",
     "output_type": "stream",
     "text": [
      "Quality predicted value for the first case (Multiple Linear Regression):    Multiple Model\n",
      "0           5.033\n",
      "Quality predicted value for the first case (After de-standardizing ):    Original Scale Prediction\n",
      "0                      5.033\n"
     ]
    }
   ],
   "source": [
    "df_target_des_stand = scaler_target.inverse_transform(model7_y_stand)\n",
    "\n",
    "df_target_des_stand = pd.DataFrame(df_target_des_stand, \n",
    "                                     index=df_target_stand.index, \n",
    "                                     columns=['Original Scale Prediction'])\n",
    "\n",
    "print(\"Quality predicted value for the first case (Multiple Linear Regression):\", model2_y.sort_index().round(3).head(1))\n",
    "print(\"Quality predicted value for the first case (After de-standardizing ):\", df_target_des_stand.sort_index().round(3).head(1))"
   ]
  },
  {
   "cell_type": "markdown",
   "id": "991a647d",
   "metadata": {
    "papermill": {
     "duration": 0.042592,
     "end_time": "2024-05-14T09:16:18.827424",
     "exception": false,
     "start_time": "2024-05-14T09:16:18.784832",
     "status": "completed"
    },
    "tags": []
   },
   "source": [
    "<br>\n",
    "\n",
    "As we can see, when we return to the original scale, we obtaing the same results that using th Multiple Linear Regression.\n",
    "\n",
    "<br>\n",
    "\n",
    "We will plot the predictions made with the Multiple Linear Regression model (model 2) with this with the standarized values (model 7). "
   ]
  },
  {
   "cell_type": "code",
   "execution_count": 54,
   "id": "eaed1927",
   "metadata": {
    "execution": {
     "iopub.execute_input": "2024-05-14T09:16:18.916407Z",
     "iopub.status.busy": "2024-05-14T09:16:18.915332Z",
     "iopub.status.idle": "2024-05-14T09:16:19.604730Z",
     "shell.execute_reply": "2024-05-14T09:16:19.603553Z"
    },
    "papermill": {
     "duration": 0.738119,
     "end_time": "2024-05-14T09:16:19.608523",
     "exception": false,
     "start_time": "2024-05-14T09:16:18.870404",
     "status": "completed"
    },
    "tags": []
   },
   "outputs": [
    {
     "data": {
      "image/png": "[encoded data removed]",
      "text/plain": [
       "<Figure size 1200x600 with 2 Axes>"
      ]
     },
     "metadata": {},
     "output_type": "display_data"
    }
   ],
   "source": [
    "plt.figure(figsize=(12, 6))\n",
    "\n",
    "\n",
    "# Plot model 2\n",
    "plt.subplot(1, 2, 1)\n",
    "\n",
    "plt.scatter(df_target.sort_index(),     # Real value\n",
    "            model2_y.sort_index(),      # Predicted\n",
    "            color='lightskyblue',\n",
    "            edgecolor = \"black\",\n",
    "            label='Predicted vs Real',\n",
    "            alpha = 0.3)\n",
    "\n",
    "# Plot a diagonal line representing perfect predictions and customize\n",
    "max_val = max(np.max(df_target), np.max(model2_y))\n",
    "plt.plot([0, max_val], [0, max_val], \n",
    "         color='red', \n",
    "         linestyle='--', \n",
    "         label='Perfect Prediction')\n",
    "\n",
    "plt.xticks(np.arange(0,10+1, 1))\n",
    "plt.yticks(np.arange(0,10+1, 1))\n",
    "plt.xlabel('Real \"Quality\"')\n",
    "plt.ylabel('Predicted \"Quality\"')\n",
    "plt.title('Full model no standarized: Predicted vs Real Values')\n",
    "plt.legend()\n",
    "plt.grid(color = \"gray\",\n",
    "         alpha = 0.3)\n",
    "\n",
    "\n",
    "\n",
    "# Plot model 7\n",
    "plt.subplot(1, 2, 2)\n",
    "\n",
    "plt.scatter(df_target_stand.sort_index(),     # Real value\n",
    "                model7_y_stand.sort_index(),      # Predicted\n",
    "                color='lightskyblue',\n",
    "                edgecolor = \"black\",\n",
    "                label='Predicted vs Real',\n",
    "                alpha = 0.3)\n",
    "\n",
    "# Plot a diagonal line representing perfect predictions and customize\n",
    "max_val = max(np.max(df_target_stand), np.max(model7_y_stand))\n",
    "plt.plot([-3, max_val], [-3, max_val], \n",
    "         color='red', \n",
    "         linestyle='--', \n",
    "         label='Perfect Prediction')\n",
    "\n",
    "plt.xticks(np.arange(-3,3+1, 1))\n",
    "plt.yticks(np.arange(-3,3+1, 1))\n",
    "plt.xlabel('Real \"Quality\"')\n",
    "plt.ylabel('Predicted \"Quality\"')\n",
    "plt.title('Full model standarized: Predicted vs Real Values')\n",
    "plt.legend()\n",
    "plt.grid(color = \"gray\",\n",
    "         alpha = 0.3)\n",
    "\n",
    "\n",
    "plt.show()"
   ]
  }
 ],
 "metadata": {
  "kaggle": {
   "accelerator": "none",
   "dataSources": [
    {
     "datasetId": 4458,
     "sourceId": 8204,
     "sourceType": "datasetVersion"
    }
   ],
   "dockerImageVersionId": 30698,
   "isGpuEnabled": false,
   "isInternetEnabled": false,
   "language": "python",
   "sourceType": "notebook"
  },
  "kernelspec": {
   "display_name": "Python 3",
   "language": "python",
   "name": "python3"
  },
  "language_info": {
   "codemirror_mode": {
    "name": "ipython",
    "version": 3
   },
   "file_extension": ".py",
   "mimetype": "text/x-python",
   "name": "python",
   "nbconvert_exporter": "python",
   "pygments_lexer": "ipython3",
   "version": "3.10.13"
  },
  "papermill": {
   "default_parameters": {},
   "duration": 23.689726,
   "end_time": "2024-05-14T09:16:20.377921",
   "environment_variables": {},
   "exception": null,
   "input_path": "__notebook__.ipynb",
   "output_path": "__notebook__.ipynb",
   "parameters": {},
   "start_time": "2024-05-14T09:15:56.688195",
   "version": "2.5.0"
  }
 },
 "nbformat": 4,
 "nbformat_minor": 5
}
