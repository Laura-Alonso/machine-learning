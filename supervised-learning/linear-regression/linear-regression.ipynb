{
 "cells": [
  {
   "cell_type": "markdown",
   "id": "74e5ecec",
   "metadata": {
    "papermill": {
     "duration": 0.013412,
     "end_time": "2024-05-01T18:33:49.997933",
     "exception": false,
     "start_time": "2024-05-01T18:33:49.984521",
     "status": "completed"
    },
    "tags": []
   },
   "source": [
    "# LINEAR REGRESSION\n",
    "\n",
    "In this notebook we are going to explain the principal characterisitcs of linear regression.\n",
    "\n",
    "First of all, linear regression is an algoritm used in machine learning. Specifically, it follows inside the \"supervised learning\". "
   ]
  },
  {
   "cell_type": "markdown",
   "id": "43e79389",
   "metadata": {
    "papermill": {
     "duration": 0.012701,
     "end_time": "2024-05-01T18:33:50.024523",
     "exception": false,
     "start_time": "2024-05-01T18:33:50.011822",
     "status": "completed"
    },
    "tags": []
   },
   "source": [
    "# Database and language\n",
    "\n",
    "For this notebook we are going to use the database \"red wine quiality\". You can follow the entery description follow this link https://www.kaggle.com/datasets/uciml/red-wine-quality-cortez-et-al-2009.\n",
    "\n",
    "* All the variable in this database are quantitative.\n",
    "* The target variable is \"quiality\". This variable range between 0 and 10.\n",
    "\n",
    "The code of the following lines is developed with python.\n",
    "\n",
    "We are going to import the libraries required to all the futures steps."
   ]
  },
  {
   "cell_type": "code",
   "execution_count": 1,
   "id": "81678431",
   "metadata": {
    "execution": {
     "iopub.execute_input": "2024-05-01T18:33:50.053007Z",
     "iopub.status.busy": "2024-05-01T18:33:50.052247Z",
     "iopub.status.idle": "2024-05-01T18:33:52.510108Z",
     "shell.execute_reply": "2024-05-01T18:33:52.508879Z"
    },
    "papermill": {
     "duration": 2.475925,
     "end_time": "2024-05-01T18:33:52.512972",
     "exception": false,
     "start_time": "2024-05-01T18:33:50.037047",
     "status": "completed"
    },
    "tags": []
   },
   "outputs": [],
   "source": [
    "import pandas as pd                                  # Read csv\n",
    "from sklearn.linear_model  import LinearRegression\n",
    "from sklearn.preprocessing import PolynomialFeatures # interaction effect, no linear models\n",
    "from sklearn.linear_model  import Ridge, RidgeCV, Lasso, LassoCV # regularizationy, best value of alpha Ridge, reduce features, best value of alpha Lasso\n",
    "from sklearn.preprocessing import StandardScaler # standardization\n",
    "import matplotlib.pyplot as plt                  # plot\n",
    "import numpy as np\n"
   ]
  },
  {
   "cell_type": "markdown",
   "id": "7b5af5c4",
   "metadata": {
    "papermill": {
     "duration": 0.012212,
     "end_time": "2024-05-01T18:33:52.537787",
     "exception": false,
     "start_time": "2024-05-01T18:33:52.525575",
     "status": "completed"
    },
    "tags": []
   },
   "source": [
    "Now, we are going to upload the data. As we can see, there are 12 variables: 11 features and 1 target. There are 1,599 rows"
   ]
  },
  {
   "cell_type": "code",
   "execution_count": 2,
   "id": "68550247",
   "metadata": {
    "execution": {
     "iopub.execute_input": "2024-05-01T18:33:52.565805Z",
     "iopub.status.busy": "2024-05-01T18:33:52.565223Z",
     "iopub.status.idle": "2024-05-01T18:33:52.614988Z",
     "shell.execute_reply": "2024-05-01T18:33:52.613427Z"
    },
    "papermill": {
     "duration": 0.067219,
     "end_time": "2024-05-01T18:33:52.617476",
     "exception": false,
     "start_time": "2024-05-01T18:33:52.550257",
     "status": "completed"
    },
    "tags": []
   },
   "outputs": [
    {
     "name": "stdout",
     "output_type": "stream",
     "text": [
      "Number of rows: 1599\n",
      "   fixed acidity  volatile acidity  citric acid  residual sugar  chlorides  \\\n",
      "0            7.4              0.70         0.00             1.9      0.076   \n",
      "1            7.8              0.88         0.00             2.6      0.098   \n",
      "2            7.8              0.76         0.04             2.3      0.092   \n",
      "3           11.2              0.28         0.56             1.9      0.075   \n",
      "4            7.4              0.70         0.00             1.9      0.076   \n",
      "\n",
      "   free sulfur dioxide  total sulfur dioxide  density    pH  sulphates  \\\n",
      "0                 11.0                  34.0   0.9978  3.51       0.56   \n",
      "1                 25.0                  67.0   0.9968  3.20       0.68   \n",
      "2                 15.0                  54.0   0.9970  3.26       0.65   \n",
      "3                 17.0                  60.0   0.9980  3.16       0.58   \n",
      "4                 11.0                  34.0   0.9978  3.51       0.56   \n",
      "\n",
      "   alcohol  quality  \n",
      "0      9.4        5  \n",
      "1      9.8        5  \n",
      "2      9.8        5  \n",
      "3      9.8        6  \n",
      "4      9.4        5  \n"
     ]
    }
   ],
   "source": [
    "# read csv\n",
    "df = pd.read_csv('/kaggle/input/red-wine-quality-cortez-et-al-2009/winequality-red.csv')\n",
    "print(\"Number of rows:\", len(df))\n",
    "print(df.head())"
   ]
  },
  {
   "cell_type": "markdown",
   "id": "73d63751",
   "metadata": {
    "papermill": {
     "duration": 0.013059,
     "end_time": "2024-05-01T18:33:52.643354",
     "exception": false,
     "start_time": "2024-05-01T18:33:52.630295",
     "status": "completed"
    },
    "tags": []
   },
   "source": [
    " Now we are going to split the data into training and test. \n",
    " \n",
    " df_train. Has "
   ]
  },
  {
   "cell_type": "code",
   "execution_count": 3,
   "id": "54012d01",
   "metadata": {
    "execution": {
     "iopub.execute_input": "2024-05-01T18:33:52.671972Z",
     "iopub.status.busy": "2024-05-01T18:33:52.671542Z",
     "iopub.status.idle": "2024-05-01T18:33:52.690024Z",
     "shell.execute_reply": "2024-05-01T18:33:52.688450Z"
    },
    "papermill": {
     "duration": 0.036149,
     "end_time": "2024-05-01T18:33:52.692374",
     "exception": false,
     "start_time": "2024-05-01T18:33:52.656225",
     "status": "completed"
    },
    "tags": []
   },
   "outputs": [
    {
     "name": "stdout",
     "output_type": "stream",
     "text": [
      "df_train has 1279 cases and 12 columns\n",
      "df_train_target has 1279 cases and only has one columns (target)\n",
      "df_train_features has 1279 11 columns that are equal to the number of features\n",
      "df_test has 320 cases and 12 columns\n",
      "If we add the number of cases in train, 1279 ,plus the number of cases in test, 320 , we obtain the total len of the original data 1599\n"
     ]
    }
   ],
   "source": [
    "# Split data into two df one with 80% of data and other with 20%\n",
    "df_train = df.sample(frac=0.8, random_state=200)\n",
    "df_train_target = df_train['quality']\n",
    "df_train_features = df_train.drop('quality', axis=1)\n",
    "\n",
    "df_test = df.drop(df_train.index)\n",
    "\n",
    "print(\"df_train has\", len(df_train), \"cases and\", df_train.shape[1], \"columns\")\n",
    "print(\"df_train_target has\", len(df_train_target), \"cases and only has one columns (target)\")\n",
    "print(\"df_train_features has\", len(df_train_features), df_train_features.shape[1], \"columns that are equal to the number of features\")\n",
    "\n",
    "print(\"df_test has\", len(df_test), \"cases and\", df_test.shape[1], \"columns\")\n",
    "\n",
    "print(\"If we add the number of cases in train,\", len(df_train), \",plus the number of cases in test,\", len(df_test), \", we obtain the total len of the original data\", len(df_train) + len(df_test))"
   ]
  },
  {
   "cell_type": "markdown",
   "id": "ab62f43a",
   "metadata": {
    "papermill": {
     "duration": 0.012251,
     "end_time": "2024-05-01T18:33:52.717492",
     "exception": false,
     "start_time": "2024-05-01T18:33:52.705241",
     "status": "completed"
    },
    "tags": []
   },
   "source": [
    "# 1. Introduction\n",
    "\n",
    "The aim of linear regression algorithm is to predict one variable (VD, also know as target) using one or more features (VI).\n",
    "\n",
    "There are two type of models depending on the number of features involve:\n",
    "\n",
    "* Simple Linear Regression. Only one Feature is used to predict the target:\n",
    "\n",
    "$$\n",
    "\\hat{y} = \\hat{\\beta}_0 + \\hat{\\beta}_1 x_1 + \\epsilon\n",
    "$$\n",
    "\n",
    "* Multiple Linear Regression. Two or more features are used to predict the target.\n",
    "\n",
    "$$\n",
    "\\hat{y} = \\hat{\\beta}_0 + \\hat{\\beta}_1 x_1 +  \\hat{\\beta}_2 x_2 + ... + \\hat{\\beta}_n x_n + \\epsilon\n",
    "$$\n",
    "\n",
    "Where:\n",
    "\n",
    "* $ \\hat{y} $: Is the target we predict.\n",
    "* $ \\hat{\\beta}_0 $: Is the intercept or bias.\n",
    "* $ \\hat{\\beta}_1, \\hat{\\beta}_2, ... $: Are the coefficients (weights, effect) associated with each feature. Is the effect of one feature in the target.\n",
    "* $ \\epsilon $: Is the error\n",
    "\n",
    "We assume that the relation between VD and the VI is linear."
   ]
  },
  {
   "cell_type": "markdown",
   "id": "517f62cd",
   "metadata": {
    "papermill": {
     "duration": 0.012522,
     "end_time": "2024-05-01T18:33:52.742599",
     "exception": false,
     "start_time": "2024-05-01T18:33:52.730077",
     "status": "completed"
    },
    "tags": []
   },
   "source": [
    "### A. Compute our first simple linear regression model\n",
    "\n",
    "We are going to use trainig data. As we said, our target variable is \"quality\" (stored in df_train_target). To predict the value we are going to use as feature \"alcohol\" (stored in df_train_features with the other features)."
   ]
  },
  {
   "cell_type": "code",
   "execution_count": 4,
   "id": "498b5e75",
   "metadata": {
    "execution": {
     "iopub.execute_input": "2024-05-01T18:33:52.772874Z",
     "iopub.status.busy": "2024-05-01T18:33:52.771893Z",
     "iopub.status.idle": "2024-05-01T18:33:52.786302Z",
     "shell.execute_reply": "2024-05-01T18:33:52.784481Z"
    },
    "papermill": {
     "duration": 0.033277,
     "end_time": "2024-05-01T18:33:52.788844",
     "exception": false,
     "start_time": "2024-05-01T18:33:52.755567",
     "status": "completed"
    },
    "tags": []
   },
   "outputs": [
    {
     "name": "stdout",
     "output_type": "stream",
     "text": [
      "Target quality \n",
      " 1     5\n",
      "2     5\n",
      "3     6\n",
      "4     5\n",
      "5     5\n",
      "6     5\n",
      "7     7\n",
      "8     7\n",
      "9     5\n",
      "11    5\n",
      "Name: quality, dtype: int64 \n",
      "\n",
      "Feature alcohol \n",
      "     alcohol\n",
      "1       9.8\n",
      "2       9.8\n",
      "3       9.8\n",
      "4       9.4\n",
      "5       9.4\n",
      "6       9.4\n",
      "7      10.0\n",
      "8       9.5\n",
      "9      10.5\n",
      "11     10.5\n"
     ]
    }
   ],
   "source": [
    "# Select only the feature alcohol\n",
    "df_train_feature_alcohol = df_train[['alcohol']]\n",
    "\n",
    "# Print results\n",
    "print(\"Target quality \\n\", df_train_target.sort_index().head(10), \"\\n\")\n",
    "print(\"Feature alcohol \\n\", df_train_feature_alcohol.sort_index().head(10))"
   ]
  },
  {
   "cell_type": "markdown",
   "id": "546955b7",
   "metadata": {
    "papermill": {
     "duration": 0.013076,
     "end_time": "2024-05-01T18:33:52.815963",
     "exception": false,
     "start_time": "2024-05-01T18:33:52.802887",
     "status": "completed"
    },
    "tags": []
   },
   "source": [
    "Now we create the model that put in relation quality and alcohol. Steps:\n",
    "\n",
    "* Create the model.\n",
    "* Fit the model We obtain the coefficients and the intercept here.\n",
    "* Show the values for intercept and coefficients"
   ]
  },
  {
   "cell_type": "code",
   "execution_count": 5,
   "id": "ecdf4e4c",
   "metadata": {
    "execution": {
     "iopub.execute_input": "2024-05-01T18:33:52.843902Z",
     "iopub.status.busy": "2024-05-01T18:33:52.842933Z",
     "iopub.status.idle": "2024-05-01T18:33:52.864736Z",
     "shell.execute_reply": "2024-05-01T18:33:52.863456Z"
    },
    "papermill": {
     "duration": 0.038301,
     "end_time": "2024-05-01T18:33:52.867172",
     "exception": false,
     "start_time": "2024-05-01T18:33:52.828871",
     "status": "completed"
    },
    "tags": []
   },
   "outputs": [
    {
     "name": "stdout",
     "output_type": "stream",
     "text": [
      "Intercept : 1.8296508402667544\n",
      "Coefficients : [0.36431398]\n"
     ]
    }
   ],
   "source": [
    "# Create SLRM and fit it\n",
    "regression1 = LinearRegression()\n",
    "\n",
    "# Fit the model\n",
    "model1 = regression1.fit(df_train_feature_alcohol, df_train_target) # Features first then target\n",
    "\n",
    "# Show the equation values:\n",
    "print(\"Intercept :\", model1.intercept_ )\n",
    "print(\"Coefficients :\", model1.coef_)"
   ]
  },
  {
   "cell_type": "markdown",
   "id": "596efd54",
   "metadata": {
    "papermill": {
     "duration": 0.012695,
     "end_time": "2024-05-01T18:33:52.892774",
     "exception": false,
     "start_time": "2024-05-01T18:33:52.880079",
     "status": "completed"
    },
    "tags": []
   },
   "source": [
    "Whith this information we can build the equation of the model:\n",
    "\n",
    "$$\n",
    "\\hat{y} = 1.830 + 0.364 · x_1 + \\epsilon\n",
    "$$\n",
    "\n",
    "The error $ \\epsilon $ is the difference between the real value of $ y $ and the predicted value $ \\hat{y} $. We only can know that value when we have the real result but not when we predict.\n",
    "\n",
    "However, we can replace the feature value in the equation. For our first case this value is:"
   ]
  },
  {
   "cell_type": "code",
   "execution_count": 6,
   "id": "c6ba7bf5",
   "metadata": {
    "execution": {
     "iopub.execute_input": "2024-05-01T18:33:52.923284Z",
     "iopub.status.busy": "2024-05-01T18:33:52.921965Z",
     "iopub.status.idle": "2024-05-01T18:33:52.930530Z",
     "shell.execute_reply": "2024-05-01T18:33:52.929298Z"
    },
    "papermill": {
     "duration": 0.026223,
     "end_time": "2024-05-01T18:33:52.932890",
     "exception": false,
     "start_time": "2024-05-01T18:33:52.906667",
     "status": "completed"
    },
    "tags": []
   },
   "outputs": [
    {
     "name": "stdout",
     "output_type": "stream",
     "text": [
      "Value of alcohol feature for our first case :      alcohol\n",
      "366     10.0\n"
     ]
    }
   ],
   "source": [
    "print(\"Value of alcohol feature for our first case :\", df_train_feature_alcohol.iloc[0:1])"
   ]
  },
  {
   "cell_type": "markdown",
   "id": "0107b808",
   "metadata": {
    "papermill": {
     "duration": 0.013095,
     "end_time": "2024-05-01T18:33:52.959428",
     "exception": false,
     "start_time": "2024-05-01T18:33:52.946333",
     "status": "completed"
    },
    "tags": []
   },
   "source": [
    "So, the equation for the first case is:\n",
    "\n",
    "$$\n",
    "\\hat{y} = 1.830 + 0.364 · 10 \n",
    "$$\n",
    "\n",
    "So the quality predicted value of our firsy case is:\n",
    "\n",
    "$$\n",
    "\\hat{y} = 1.830 + 0.364 · 10 \\approx 5.473\n",
    "$$\n",
    "\n",
    "We can do this using our script:"
   ]
  },
  {
   "cell_type": "code",
   "execution_count": 7,
   "id": "bfabffa2",
   "metadata": {
    "execution": {
     "iopub.execute_input": "2024-05-01T18:33:52.989042Z",
     "iopub.status.busy": "2024-05-01T18:33:52.988258Z",
     "iopub.status.idle": "2024-05-01T18:33:52.996639Z",
     "shell.execute_reply": "2024-05-01T18:33:52.995412Z"
    },
    "papermill": {
     "duration": 0.025922,
     "end_time": "2024-05-01T18:33:52.998838",
     "exception": false,
     "start_time": "2024-05-01T18:33:52.972916",
     "status": "completed"
    },
    "tags": []
   },
   "outputs": [
    {
     "name": "stdout",
     "output_type": "stream",
     "text": [
      "Quality predicted value for the frst case: [5.47279063]\n"
     ]
    }
   ],
   "source": [
    "print(\"Quality predicted value for the frst case:\", model1.predict(df_train_feature_alcohol.iloc[0:1]))"
   ]
  },
  {
   "cell_type": "markdown",
   "id": "2815fea8",
   "metadata": {
    "papermill": {
     "duration": 0.01312,
     "end_time": "2024-05-01T18:33:53.025116",
     "exception": false,
     "start_time": "2024-05-01T18:33:53.011996",
     "status": "completed"
    },
    "tags": []
   },
   "source": [
    "Now, we are going to plot our model. This graphics shows the relation between real values of alcohol (x-exe) and real quality (y-exes). The red line represents the fitted linear regression model. More close the dots to the line, better predictions we made."
   ]
  },
  {
   "cell_type": "code",
   "execution_count": 8,
   "id": "9a496839",
   "metadata": {
    "execution": {
     "iopub.execute_input": "2024-05-01T18:33:53.054110Z",
     "iopub.status.busy": "2024-05-01T18:33:53.053310Z",
     "iopub.status.idle": "2024-05-01T18:33:53.586904Z",
     "shell.execute_reply": "2024-05-01T18:33:53.585769Z"
    },
    "papermill": {
     "duration": 0.551378,
     "end_time": "2024-05-01T18:33:53.590238",
     "exception": false,
     "start_time": "2024-05-01T18:33:53.038860",
     "status": "completed"
    },
    "tags": []
   },
   "outputs": [
    {
     "data": {
      "text/plain": [
       "<matplotlib.legend.Legend at 0x7c7ad99ead40>"
      ]
     },
     "execution_count": 8,
     "metadata": {},
     "output_type": "execute_result"
    },
    {
     "data": {
      "image/png": "[encoded data removed]",
      "text/plain": [
       "<Figure size 1000x600 with 1 Axes>"
      ]
     },
     "metadata": {},
     "output_type": "display_data"
    }
   ],
   "source": [
    "# Plotting the actual data points\n",
    "plt.figure(figsize=(10, 6))\n",
    "plt.scatter(df_train_feature_alcohol, df_train_target, color='blue', label='Actual data')\n",
    "\n",
    "# Plotting the regression line\n",
    "plt.plot(df_train_feature_alcohol, model1.predict(df_train_feature_alcohol), color='red', linewidth=2, label='Fitted line')\n",
    "\n",
    "# Limits of the axes\n",
    "plt.xlim(4, 16)\n",
    "plt.ylim(0, 10)\n",
    "\n",
    "# Adding labels and title\n",
    "plt.ylabel('Quality (real value)')\n",
    "plt.xlabel('Alcohol (feature)')\n",
    "plt.title('Simple Linear Regression Fit')\n",
    "plt.legend()\n"
   ]
  },
  {
   "cell_type": "markdown",
   "id": "8f2e6b09",
   "metadata": {
    "papermill": {
     "duration": 0.013773,
     "end_time": "2024-05-01T18:33:53.619790",
     "exception": false,
     "start_time": "2024-05-01T18:33:53.606017",
     "status": "completed"
    },
    "tags": []
   },
   "source": [
    "This is what we can conclude only with the plot:\n",
    "\n",
    "* Dots follow the vertical. This indicated that the alcohol is not the unique variable that could explain the quality of the wine.\n",
    "* The prediction line increase. We could translate this as \"more alcohol, more quality of the wine\".\n",
    "* Dots are not very close to the line what means that probably there are other factor that are affecting in the quality."
   ]
  },
  {
   "cell_type": "markdown",
   "id": "dbae9358",
   "metadata": {
    "papermill": {
     "duration": 0.014117,
     "end_time": "2024-05-01T18:33:53.648259",
     "exception": false,
     "start_time": "2024-05-01T18:33:53.634142",
     "status": "completed"
    },
    "tags": []
   },
   "source": [
    "### B. Compute our first multiple linear regression model\n",
    "\n",
    "In this case, we are going to include all the features that we have to predict the quality (target). The steps are as in the simple model."
   ]
  },
  {
   "cell_type": "code",
   "execution_count": 9,
   "id": "eb0d6014",
   "metadata": {
    "execution": {
     "iopub.execute_input": "2024-05-01T18:33:53.681383Z",
     "iopub.status.busy": "2024-05-01T18:33:53.680269Z",
     "iopub.status.idle": "2024-05-01T18:33:53.704129Z",
     "shell.execute_reply": "2024-05-01T18:33:53.702850Z"
    },
    "papermill": {
     "duration": 0.044303,
     "end_time": "2024-05-01T18:33:53.707155",
     "exception": false,
     "start_time": "2024-05-01T18:33:53.662852",
     "status": "completed"
    },
    "tags": []
   },
   "outputs": [
    {
     "name": "stdout",
     "output_type": "stream",
     "text": [
      "Intercept : 16.63469349194023\n",
      "Coefficients : [ 2.03288413e-02 -1.02555421e+00 -1.51014281e-01  1.16167979e-02\n",
      " -1.49002597e+00  5.47302465e-03 -3.37647532e-03 -1.23669162e+01\n",
      " -5.33610421e-01  8.87103957e-01  2.96795462e-01]\n"
     ]
    }
   ],
   "source": [
    "# Create MLRM and fit it\n",
    "regression2 = LinearRegression()\n",
    "\n",
    "# Fit the model\n",
    "model2 = regression2.fit(df_train_features, df_train_target) # Features first then target\n",
    "\n",
    "# Show the equation values:\n",
    "print(\"Intercept :\", model2.intercept_ )\n",
    "print(\"Coefficients :\", model2.coef_)"
   ]
  },
  {
   "cell_type": "markdown",
   "id": "e989cc19",
   "metadata": {
    "papermill": {
     "duration": 0.020645,
     "end_time": "2024-05-01T18:33:53.848960",
     "exception": false,
     "start_time": "2024-05-01T18:33:53.828315",
     "status": "completed"
    },
    "tags": []
   },
   "source": [
    "Whith this information we can build the equation of the model:\n",
    "\n",
    "$$\n",
    "\\hat{y} = 16.635 + 0.020 · x_1 - 1.026 · x_2 - 0.151 · x_3 + 0.012 · x_4 - 1.490 · x_5 + 0.005 · x_6 - 0.003 · x_7 - 12.367 · x_8 - 0.534 · x_9 + 0.887 · x_{10} + 0.298 · x_{11}\n",
    "$$\n",
    "\n",
    "We can see that we have negative and positive values in the coeficients. We interpretate as follow:\n",
    "\n",
    "* **Positive**: A high value in that feature, increase the value of the taarget.\n",
    "* **Negative**: A high value in that feature, decrease the value of the taarget.\n",
    "\n",
    "If we replace the features for our first case we obtain this:"
   ]
  },
  {
   "cell_type": "code",
   "execution_count": 10,
   "id": "2c15fc68",
   "metadata": {
    "execution": {
     "iopub.execute_input": "2024-05-01T18:33:53.887909Z",
     "iopub.status.busy": "2024-05-01T18:33:53.887310Z",
     "iopub.status.idle": "2024-05-01T18:33:53.901735Z",
     "shell.execute_reply": "2024-05-01T18:33:53.900183Z"
    },
    "papermill": {
     "duration": 0.037312,
     "end_time": "2024-05-01T18:33:53.905545",
     "exception": false,
     "start_time": "2024-05-01T18:33:53.868233",
     "status": "completed"
    },
    "tags": []
   },
   "outputs": [
    {
     "name": "stdout",
     "output_type": "stream",
     "text": [
      "Value of all features for our first case :      fixed acidity  volatile acidity  citric acid  residual sugar  chlorides  \\\n",
      "366           12.8             0.615         0.66             5.8      0.083   \n",
      "\n",
      "     free sulfur dioxide  total sulfur dioxide  density    pH  sulphates  \\\n",
      "366                  7.0                  42.0   1.0022  3.07       0.73   \n",
      "\n",
      "     alcohol  \n",
      "366     10.0  \n"
     ]
    }
   ],
   "source": [
    "print(\"Value of all features for our first case :\", df_train_features.iloc[0:1])"
   ]
  },
  {
   "cell_type": "markdown",
   "id": "f45a5810",
   "metadata": {
    "papermill": {
     "duration": 0.014634,
     "end_time": "2024-05-01T18:33:53.938176",
     "exception": false,
     "start_time": "2024-05-01T18:33:53.923542",
     "status": "completed"
    },
    "tags": []
   },
   "source": [
    "For the first case the final equation looks like:\n",
    "\n",
    "$$\n",
    "\\hat{y} = 16.634 + 0.020 \\cdot 12.8 - 1.026 \\cdot 0.615 - 0.151 \\cdot 0.66 + 0.012 \\cdot 5.8 - 1.490 \\cdot 0.083 + 0.005 \\cdot 7.0 - 0.003 \\cdot 42.0 - 12.367 \\cdot 1.0022 - 0.534 \\cdot 3.07 + 0.887 \\cdot 0.73 + 0.298 \\cdot 10.0\n",
    "$$\n",
    "\n",
    "And the quality predicted value :\n",
    "\n",
    "$$\n",
    "\\hat{y} \\approx 5.608\n",
    "$$\n",
    "\n",
    "We can do this using our script:"
   ]
  },
  {
   "cell_type": "code",
   "execution_count": 11,
   "id": "d927d07b",
   "metadata": {
    "execution": {
     "iopub.execute_input": "2024-05-01T18:33:53.970035Z",
     "iopub.status.busy": "2024-05-01T18:33:53.968718Z",
     "iopub.status.idle": "2024-05-01T18:33:53.978695Z",
     "shell.execute_reply": "2024-05-01T18:33:53.977243Z"
    },
    "papermill": {
     "duration": 0.028869,
     "end_time": "2024-05-01T18:33:53.981611",
     "exception": false,
     "start_time": "2024-05-01T18:33:53.952742",
     "status": "completed"
    },
    "tags": []
   },
   "outputs": [
    {
     "name": "stdout",
     "output_type": "stream",
     "text": [
      "Quality predicted value for the frst case: [5.58795496]\n"
     ]
    }
   ],
   "source": [
    "print(\"Quality predicted value for the frst case:\", model2.predict(df_train_features.iloc[0:1]))"
   ]
  },
  {
   "cell_type": "markdown",
   "id": "a34bd19c",
   "metadata": {
    "papermill": {
     "duration": 0.01368,
     "end_time": "2024-05-01T18:33:54.010252",
     "exception": false,
     "start_time": "2024-05-01T18:33:53.996572",
     "status": "completed"
    },
    "tags": []
   },
   "source": [
    "Represent now in a plot"
   ]
  },
  {
   "cell_type": "code",
   "execution_count": 12,
   "id": "9fb79862",
   "metadata": {
    "execution": {
     "iopub.execute_input": "2024-05-01T18:33:54.043317Z",
     "iopub.status.busy": "2024-05-01T18:33:54.042891Z",
     "iopub.status.idle": "2024-05-01T18:33:54.462687Z",
     "shell.execute_reply": "2024-05-01T18:33:54.461481Z"
    },
    "papermill": {
     "duration": 0.440196,
     "end_time": "2024-05-01T18:33:54.465147",
     "exception": false,
     "start_time": "2024-05-01T18:33:54.024951",
     "status": "completed"
    },
    "tags": []
   },
   "outputs": [
    {
     "data": {
      "text/plain": [
       "<matplotlib.legend.Legend at 0x7c7ad563ffa0>"
      ]
     },
     "execution_count": 12,
     "metadata": {},
     "output_type": "execute_result"
    },
    {
     "data": {
      "image/png": "[encoded data removed]",
      "text/plain": [
       "<Figure size 1000x600 with 1 Axes>"
      ]
     },
     "metadata": {},
     "output_type": "display_data"
    }
   ],
   "source": [
    "# Plotting the actual data points\n",
    "plt.figure(figsize=(10, 6))\n",
    "plt.scatter(model2.predict(df_train_features), df_train_target, color='blue', label='Predicted vs Actual data')\n",
    "\n",
    "# Plotting the regression line\n",
    "plt.plot(df_train_target, df_train_target, color='red', linewidth=2, label='Fitted line')\n",
    "\n",
    "# Limits of the axes\n",
    "plt.xlim(0, 10)\n",
    "plt.ylim(0, 10)\n",
    "\n",
    "# Adding labels and title\n",
    "plt.xlabel('Quality (real value)')\n",
    "plt.ylabel('Predicted quality')\n",
    "plt.title('Multiple Linear Regression Fit')\n",
    "plt.legend()"
   ]
  },
  {
   "cell_type": "markdown",
   "id": "01f29c5e",
   "metadata": {
    "papermill": {
     "duration": 0.01456,
     "end_time": "2024-05-01T18:33:54.494569",
     "exception": false,
     "start_time": "2024-05-01T18:33:54.480009",
     "status": "completed"
    },
    "tags": []
   },
   "source": [
    "# 2. Features modifications \n",
    "\n",
    "### A. Interacction effect\n",
    "\n",
    "Some times, features could not show an effect in the target by it selfs, but the combinations of them does. We can include this type of effect including an interaction term in the model. \n",
    "\n",
    "Including interaction terms in the model allows for the possibility that the relationship between the predictors and the target variable is not additive ($ \\hat{\\beta}_1 · x_1 +  \\hat{\\beta}_2 · x_2 $) but varies depending on the levels of other predictors ($ \\hat{\\beta}_3 · x_1 · x_2 $).\n",
    "\n",
    "Imagine we have an original model with two features: x1 and x2. As we see the introduction, the model will take this form:\n",
    "\n",
    "$$\n",
    "\\hat{y} = \\hat{\\beta}_0 + \\hat{\\beta}_1 x_1 + \\hat{\\beta}_2 x_2 + \\epsilon\n",
    "$$\n",
    "\n",
    "If we suspect some interaction between this two features, we can add the interaction effect as follow:\n",
    "\n",
    "$$\n",
    "\\hat{y} = \\hat{\\beta}_0 + \\hat{\\beta}_1 x_1 + \\hat{\\beta}_2 x_2 + \\hat{\\beta}_3 x_1 x_2 + \\epsilon\n",
    "$$\n",
    "\n",
    "Some relevant things:\n",
    "* We can include as many interaction effects as we want, if there are interesting. However, think in the relevance for include them because we take the risk of overfitting in our model.\n",
    "* An interaction effect could include more than two features. For example ($ \\hat{\\beta}_3 · x_1 · x_2 · x_3 $). If you decide this is interesting in your case, take care about the overfitting and the dificulty of interpreate the interaction.\n",
    "* It is not necessary include interaction for all the features involve in the model. If we have a model with three features, and we thing only the interaction between $ x_1 $ and $ x_2 $ is ineresting, then we can create a model like this: $ \\hat{y} = \\hat{\\beta}_0 + \\hat{\\beta}_1 x_1 + \\hat{\\beta}_2 x_2 + \\hat{\\beta}_3 x_3 + \\hat{\\beta}_4 x_1 x_2 + \\epsilon $\n",
    "\n",
    "The domain knowledge and a visualization that shows the effect in the target using two features could be useful to decide when include an interaction.\n",
    "\n",
    "We will se how to do this in python.\n"
   ]
  },
  {
   "cell_type": "markdown",
   "id": "fa9c0a52",
   "metadata": {
    "papermill": {
     "duration": 0.014419,
     "end_time": "2024-05-01T18:33:54.523695",
     "exception": false,
     "start_time": "2024-05-01T18:33:54.509276",
     "status": "completed"
    },
    "tags": []
   },
   "source": [
    "### Multi-linear regression model all features plus an interaction between two of them\n",
    "\n",
    "As before, alochol is our target variable. As predictors we include all the feautres plus the interaction between free sulfur dioxide and alochol.\n",
    "\n",
    "First, we create the interaction:\n",
    "\n"
   ]
  },
  {
   "cell_type": "code",
   "execution_count": 13,
   "id": "7c4d9f1c",
   "metadata": {
    "execution": {
     "iopub.execute_input": "2024-05-01T18:33:54.555451Z",
     "iopub.status.busy": "2024-05-01T18:33:54.554791Z",
     "iopub.status.idle": "2024-05-01T18:33:54.559721Z",
     "shell.execute_reply": "2024-05-01T18:33:54.558911Z"
    },
    "papermill": {
     "duration": 0.023332,
     "end_time": "2024-05-01T18:33:54.561769",
     "exception": false,
     "start_time": "2024-05-01T18:33:54.538437",
     "status": "completed"
    },
    "tags": []
   },
   "outputs": [],
   "source": [
    "interaction = PolynomialFeatures(\n",
    "    degree=2,                    # How many features combinations we want to create\n",
    "    include_bias=False,          # Exclude the bias term \n",
    "    interaction_only=True        # Only include interaction effects (not x^2, x^3, etc.)\n",
    "    )"
   ]
  },
  {
   "cell_type": "markdown",
   "id": "780e1837",
   "metadata": {
    "papermill": {
     "duration": 0.014418,
     "end_time": "2024-05-01T18:33:54.590991",
     "exception": false,
     "start_time": "2024-05-01T18:33:54.576573",
     "status": "completed"
    },
    "tags": []
   },
   "source": [
    "Now, we have to transform and fit the interaction between free sulfur dioxide and alcohol:"
   ]
  },
  {
   "cell_type": "code",
   "execution_count": 14,
   "id": "4805b254",
   "metadata": {
    "execution": {
     "iopub.execute_input": "2024-05-01T18:33:54.623652Z",
     "iopub.status.busy": "2024-05-01T18:33:54.622935Z",
     "iopub.status.idle": "2024-05-01T18:33:54.638723Z",
     "shell.execute_reply": "2024-05-01T18:33:54.637511Z"
    },
    "papermill": {
     "duration": 0.035321,
     "end_time": "2024-05-01T18:33:54.641101",
     "exception": false,
     "start_time": "2024-05-01T18:33:54.605780",
     "status": "completed"
    },
    "tags": []
   },
   "outputs": [
    {
     "name": "stdout",
     "output_type": "stream",
     "text": [
      "    free sulfur dioxide  alcohol  free sulfur dioxide alcohol\n",
      "1                  25.0      9.8                        245.0\n",
      "2                  15.0      9.8                        147.0\n",
      "3                  17.0      9.8                        166.6\n",
      "4                  11.0      9.4                        103.4\n",
      "5                  13.0      9.4                        122.2\n",
      "6                  15.0      9.4                        141.0\n",
      "7                  15.0     10.0                        150.0\n",
      "8                   9.0      9.5                         85.5\n",
      "9                  17.0     10.5                        178.5\n",
      "11                 17.0     10.5                        178.5\n",
      "12                 16.0      9.9                        158.4\n",
      "13                  9.0      9.1                         81.9\n",
      "14                 52.0      9.2                        478.4\n",
      "16                 35.0     10.5                        367.5\n",
      "19                 17.0      9.2                        156.4\n",
      "20                 29.0      9.4                        272.6\n",
      "21                 23.0      9.7                        223.1\n",
      "22                 10.0      9.5                         95.0\n",
      "23                  9.0      9.4                         84.6\n",
      "24                 21.0      9.7                        203.7\n"
     ]
    }
   ],
   "source": [
    "features_interaction = interaction.fit_transform(df_train_features[['free sulfur dioxide', 'alcohol']])\n",
    "\n",
    "# This is not necessary but is good to see the results. Transform the array into a dataframe:\n",
    "features_interaction = pd.DataFrame(features_interaction,\n",
    "                                      columns = interaction.get_feature_names_out(['free sulfur dioxide', 'alcohol']),\n",
    "                                      index=df_train_features.index  # This line ensures the index is carried over. Example, index 10 doesn´t should appear\n",
    "                                   )\n",
    "print(features_interaction.sort_index().head(20))"
   ]
  },
  {
   "cell_type": "markdown",
   "id": "276d7843",
   "metadata": {
    "papermill": {
     "duration": 0.0145,
     "end_time": "2024-05-01T18:33:54.670471",
     "exception": false,
     "start_time": "2024-05-01T18:33:54.655971",
     "status": "completed"
    },
    "tags": []
   },
   "source": [
    "As we see, the interaction include the simple features (because degree = 2 includes degree = 1 that are the simple effects) and the interaction. We are only interested in the interaction column (free sulfur dioxide alcohol) so we extract only that column and we add it to our original features df: "
   ]
  },
  {
   "cell_type": "code",
   "execution_count": 15,
   "id": "b30d979b",
   "metadata": {
    "execution": {
     "iopub.execute_input": "2024-05-01T18:33:54.702526Z",
     "iopub.status.busy": "2024-05-01T18:33:54.702116Z",
     "iopub.status.idle": "2024-05-01T18:33:54.712349Z",
     "shell.execute_reply": "2024-05-01T18:33:54.711184Z"
    },
    "papermill": {
     "duration": 0.028654,
     "end_time": "2024-05-01T18:33:54.714533",
     "exception": false,
     "start_time": "2024-05-01T18:33:54.685879",
     "status": "completed"
    },
    "tags": []
   },
   "outputs": [
    {
     "name": "stdout",
     "output_type": "stream",
     "text": [
      "   free sulfur dioxide alcohol\n",
      "1                        245.0\n",
      "2                        147.0\n",
      "3                        166.6\n",
      "4                        103.4\n",
      "5                        122.2\n"
     ]
    }
   ],
   "source": [
    "interaction_column = features_interaction[['free sulfur dioxide alcohol']]\n",
    "print(interaction_column.sort_index().head(5))"
   ]
  },
  {
   "cell_type": "markdown",
   "id": "9122b1ef",
   "metadata": {
    "papermill": {
     "duration": 0.014792,
     "end_time": "2024-05-01T18:33:54.744375",
     "exception": false,
     "start_time": "2024-05-01T18:33:54.729583",
     "status": "completed"
    },
    "tags": []
   },
   "source": [
    "We add the interaction column to our original feature df. We are going to create a new df to show that is a modified version."
   ]
  },
  {
   "cell_type": "code",
   "execution_count": 16,
   "id": "a1d5cbe4",
   "metadata": {
    "execution": {
     "iopub.execute_input": "2024-05-01T18:33:54.777114Z",
     "iopub.status.busy": "2024-05-01T18:33:54.775935Z",
     "iopub.status.idle": "2024-05-01T18:33:54.798149Z",
     "shell.execute_reply": "2024-05-01T18:33:54.796708Z"
    },
    "papermill": {
     "duration": 0.041201,
     "end_time": "2024-05-01T18:33:54.800742",
     "exception": false,
     "start_time": "2024-05-01T18:33:54.759541",
     "status": "completed"
    },
    "tags": []
   },
   "outputs": [
    {
     "name": "stdout",
     "output_type": "stream",
     "text": [
      "   fixed acidity  volatile acidity  citric acid  residual sugar  chlorides  \\\n",
      "1            7.8              0.88         0.00             2.6      0.098   \n",
      "2            7.8              0.76         0.04             2.3      0.092   \n",
      "3           11.2              0.28         0.56             1.9      0.075   \n",
      "4            7.4              0.70         0.00             1.9      0.076   \n",
      "5            7.4              0.66         0.00             1.8      0.075   \n",
      "\n",
      "   free sulfur dioxide  total sulfur dioxide  density    pH  sulphates  \\\n",
      "1                 25.0                  67.0   0.9968  3.20       0.68   \n",
      "2                 15.0                  54.0   0.9970  3.26       0.65   \n",
      "3                 17.0                  60.0   0.9980  3.16       0.58   \n",
      "4                 11.0                  34.0   0.9978  3.51       0.56   \n",
      "5                 13.0                  40.0   0.9978  3.51       0.56   \n",
      "\n",
      "   alcohol  free sulfur dioxide alcohol  \n",
      "1      9.8                        245.0  \n",
      "2      9.8                        147.0  \n",
      "3      9.8                        166.6  \n",
      "4      9.4                        103.4  \n",
      "5      9.4                        122.2  \n"
     ]
    }
   ],
   "source": [
    "df_train_features_modified = df_train_features.join(interaction_column, how='outer')\n",
    "pd.set_option('display.max_rows', 1600) \n",
    "print(df_train_features_modified.sort_index().head(5))"
   ]
  },
  {
   "cell_type": "markdown",
   "id": "491c8e7a",
   "metadata": {
    "papermill": {
     "duration": 0.015719,
     "end_time": "2024-05-01T18:33:54.831813",
     "exception": false,
     "start_time": "2024-05-01T18:33:54.816094",
     "status": "completed"
    },
    "tags": []
   },
   "source": [
    "Now, we have a new df with all the original features plus one with the interaction (the last one).\n",
    "\n",
    "**!!! Important**. We have done this only for train data. In a normal workflow, this step must be done **before** split the df in test and training. In the final example we are going to see a compleate process.\n",
    "\n",
    "With our final df, features_interaction_modified, we can fit the model and obtain the intercept and coefficients:"
   ]
  },
  {
   "cell_type": "code",
   "execution_count": 17,
   "id": "89a339b8",
   "metadata": {
    "execution": {
     "iopub.execute_input": "2024-05-01T18:33:54.865058Z",
     "iopub.status.busy": "2024-05-01T18:33:54.864586Z",
     "iopub.status.idle": "2024-05-01T18:33:54.878286Z",
     "shell.execute_reply": "2024-05-01T18:33:54.876553Z"
    },
    "papermill": {
     "duration": 0.033765,
     "end_time": "2024-05-01T18:33:54.881572",
     "exception": false,
     "start_time": "2024-05-01T18:33:54.847807",
     "status": "completed"
    },
    "tags": []
   },
   "outputs": [
    {
     "name": "stdout",
     "output_type": "stream",
     "text": [
      "Intercept : -19.911852177471186\n",
      "Coefficients :\n",
      "fixed acidity: -0.013\n",
      "volatile acidity: -0.239\n",
      "citric acid: 0.199\n",
      "residual sugar: -0.022\n",
      "chlorides: 0.454\n",
      "free sulfur dioxide: 0.007\n",
      "total sulfur dioxide: 0.001\n",
      "density: 24.904\n",
      "pH: 0.136\n",
      "sulphates: -0.257\n",
      "alcohol: 0.054\n",
      "free sulfur dioxide alcohol: -0.000\n"
     ]
    }
   ],
   "source": [
    "# Create MLRM and fit it\n",
    "regression3 = LinearRegression()\n",
    "\n",
    "# Fit the model\n",
    "model3 = regression3.fit(df_train_features_modified, df_train_target) # Features first then target\n",
    "\n",
    "# Show the equation values:\n",
    "print(\"Intercept :\", model3.intercept_ )\n",
    "\n",
    "# New way to obtain the coefficients with names and round them to three decimals:\n",
    "feature_names = df_train_features_modified.columns\n",
    "coefficient_dict = dict(zip(feature_names, model3.coef_))\n",
    "print(\"Coefficients :\")\n",
    "for feature, coef in coefficient_dict.items():\n",
    "    print(f\"{feature}: {coef:.3f}\")"
   ]
  },
  {
   "cell_type": "markdown",
   "id": "23b657c0",
   "metadata": {
    "papermill": {
     "duration": 0.024894,
     "end_time": "2024-05-01T18:33:54.933800",
     "exception": false,
     "start_time": "2024-05-01T18:33:54.908906",
     "status": "completed"
    },
    "tags": []
   },
   "source": [
    "Now build the equation of the model:\n",
    "\n",
    "$$\n",
    "\\hat{y} = -19.912 -0.013 · x_1 - 0.239 · x_2 + 0.199 · x_3 - 0.022 · x_4 + 0.454 · x_5 + 0.007 · x_6 + 0.001 · x_7 + 24.904 · x_8 + 0.136 · x_9 - 0.257 · x_{10} + 0.054 · x_{11} - 0.0005 · x_{6} · x_{11}\n",
    "$$\n",
    "\n",
    "As we see, the interaction coefficient is negative. It means that when we have higher levels of alcohol, the effect of free sulfur dioxide in the quality is less positive or negative. However, as we see, the size of the coefficients is ver low.\n",
    "\n",
    "If we replace the features for our first case we obtain this:"
   ]
  },
  {
   "cell_type": "code",
   "execution_count": 18,
   "id": "2a6d24b7",
   "metadata": {
    "execution": {
     "iopub.execute_input": "2024-05-01T18:33:54.987736Z",
     "iopub.status.busy": "2024-05-01T18:33:54.986013Z",
     "iopub.status.idle": "2024-05-01T18:33:55.000097Z",
     "shell.execute_reply": "2024-05-01T18:33:54.998880Z"
    },
    "papermill": {
     "duration": 0.043407,
     "end_time": "2024-05-01T18:33:55.002240",
     "exception": false,
     "start_time": "2024-05-01T18:33:54.958833",
     "status": "completed"
    },
    "tags": []
   },
   "outputs": [
    {
     "name": "stdout",
     "output_type": "stream",
     "text": [
      "Value of all features for our first case :    fixed acidity  volatile acidity  citric acid  residual sugar  chlorides  \\\n",
      "1            7.8              0.88          0.0             2.6      0.098   \n",
      "\n",
      "   free sulfur dioxide  total sulfur dioxide  density   pH  sulphates  \\\n",
      "1                 25.0                  67.0   0.9968  3.2       0.68   \n",
      "\n",
      "   alcohol  free sulfur dioxide alcohol  \n",
      "1      9.8                        245.0  \n"
     ]
    }
   ],
   "source": [
    "# Notice that we use df_train_features_modified\n",
    "print(\"Value of all features for our first case :\", df_train_features_modified.iloc[0:1]) "
   ]
  },
  {
   "cell_type": "markdown",
   "id": "53ce4231",
   "metadata": {
    "papermill": {
     "duration": 0.015108,
     "end_time": "2024-05-01T18:33:55.033174",
     "exception": false,
     "start_time": "2024-05-01T18:33:55.018066",
     "status": "completed"
    },
    "tags": []
   },
   "source": [
    "We replace the variable information:"
   ]
  },
  {
   "cell_type": "markdown",
   "id": "0a645710",
   "metadata": {
    "execution": {
     "iopub.execute_input": "2024-04-30T13:45:11.368509Z",
     "iopub.status.busy": "2024-04-30T13:45:11.367516Z",
     "iopub.status.idle": "2024-04-30T13:45:11.379680Z",
     "shell.execute_reply": "2024-04-30T13:45:11.377633Z",
     "shell.execute_reply.started": "2024-04-30T13:45:11.368447Z"
    },
    "papermill": {
     "duration": 0.014794,
     "end_time": "2024-05-01T18:33:55.063006",
     "exception": false,
     "start_time": "2024-05-01T18:33:55.048212",
     "status": "completed"
    },
    "tags": []
   },
   "source": [
    "\n"
   ]
  },
  {
   "cell_type": "code",
   "execution_count": 19,
   "id": "8f9ffbd5",
   "metadata": {
    "execution": {
     "iopub.execute_input": "2024-05-01T18:33:55.095562Z",
     "iopub.status.busy": "2024-05-01T18:33:55.094820Z",
     "iopub.status.idle": "2024-05-01T18:33:55.102715Z",
     "shell.execute_reply": "2024-05-01T18:33:55.101561Z"
    },
    "papermill": {
     "duration": 0.026589,
     "end_time": "2024-05-01T18:33:55.104710",
     "exception": false,
     "start_time": "2024-05-01T18:33:55.078121",
     "status": "completed"
    },
    "tags": []
   },
   "outputs": [
    {
     "name": "stdout",
     "output_type": "stream",
     "text": [
      "Quality predicted value for the frst case: [5.48275789]\n"
     ]
    }
   ],
   "source": [
    "print(\"Quality predicted value for the frst case:\", model3.predict(df_train_features_modified.iloc[0:1]))"
   ]
  },
  {
   "cell_type": "markdown",
   "id": "704f2824",
   "metadata": {
    "papermill": {
     "duration": 0.015002,
     "end_time": "2024-05-01T18:33:55.135026",
     "exception": false,
     "start_time": "2024-05-01T18:33:55.120024",
     "status": "completed"
    },
    "tags": []
   },
   "source": [
    "An error occurred while committing kernel: ConcurrencyViolation Sequence number must match Draft record: KernelId=55703157, ExpectedSequence=611, ActualSequence=608, AuthorUserId=4700056\n",
    "### B. No linear relations\n",
    "\n",
    "In linear model we expect the relation between target and feature will be constant. When it does't happen the relation is no lineal. For example, imagine a student that is preparing an exam. In general, more hours of study means a better score. However, this relation is not linear. Study one hour doesn't mean obtain a one score in the test, or study seven hour doesn't mean score as seven. The relation is exponencial between the target (score) and the feature (number of hours of study).\n",
    "\n",
    "A model that include a no lineal effect in a feature take this aspect:\n",
    "\n",
    "$$\n",
    "\\hat{y} = \\hat{\\beta}_0 + \\hat{\\beta}_1 x_1 +  \\hat{\\beta}_2 x_1^2 + ... + \\hat{\\beta}_n x_n + \\epsilon\n",
    "$$\n",
    "\n",
    "Where:\n",
    "\n",
    "* $ x_1 $: Is the feature with a lineal efect.\n",
    "* $ x_1^2 $: Is the same feature with a no-linear association. $ ^2 $ are the grades of the polinomio.\n",
    "\n",
    "The procedure is similar to the interaction effect. We are going to create the compleate model including a no linear regression for sulphite feature.\n",
    "\n",
    "We start creating a new feature $ sulphite^2 $ that is the same as $ suphite · sulphite $ (a interaction between the same feature)."
   ]
  },
  {
   "cell_type": "code",
   "execution_count": 20,
   "id": "2644c3b8",
   "metadata": {
    "execution": {
     "iopub.execute_input": "2024-05-01T18:33:55.167283Z",
     "iopub.status.busy": "2024-05-01T18:33:55.166894Z",
     "iopub.status.idle": "2024-05-01T18:33:55.172146Z",
     "shell.execute_reply": "2024-05-01T18:33:55.170955Z"
    },
    "papermill": {
     "duration": 0.023622,
     "end_time": "2024-05-01T18:33:55.174270",
     "exception": false,
     "start_time": "2024-05-01T18:33:55.150648",
     "status": "completed"
    },
    "tags": []
   },
   "outputs": [],
   "source": [
    "polynomial = PolynomialFeatures(\n",
    "    degree=2,                    # We need a interaction with two degrees.\n",
    "    include_bias=False,          # Exclude the bias term \n",
    "    interaction_only=False       # NEW. Include polynomia effects. In our case only x^2 because we are interesting in 2 degrees.\n",
    "    )"
   ]
  },
  {
   "cell_type": "markdown",
   "id": "d2f8e587",
   "metadata": {
    "papermill": {
     "duration": 0.015023,
     "end_time": "2024-05-01T18:33:55.204536",
     "exception": false,
     "start_time": "2024-05-01T18:33:55.189513",
     "status": "completed"
    },
    "tags": []
   },
   "source": [
    "Fit the model:"
   ]
  },
  {
   "cell_type": "code",
   "execution_count": 21,
   "id": "4f7952ed",
   "metadata": {
    "execution": {
     "iopub.execute_input": "2024-05-01T18:33:55.239323Z",
     "iopub.status.busy": "2024-05-01T18:33:55.238254Z",
     "iopub.status.idle": "2024-05-01T18:33:55.250675Z",
     "shell.execute_reply": "2024-05-01T18:33:55.249896Z"
    },
    "papermill": {
     "duration": 0.032101,
     "end_time": "2024-05-01T18:33:55.252861",
     "exception": false,
     "start_time": "2024-05-01T18:33:55.220760",
     "status": "completed"
    },
    "tags": []
   },
   "outputs": [
    {
     "name": "stdout",
     "output_type": "stream",
     "text": [
      "    sulphates  sulphates^2\n",
      "1        0.68       0.4624\n",
      "2        0.65       0.4225\n",
      "3        0.58       0.3364\n",
      "4        0.56       0.3136\n",
      "5        0.56       0.3136\n",
      "6        0.46       0.2116\n",
      "7        0.47       0.2209\n",
      "8        0.57       0.3249\n",
      "9        0.80       0.6400\n",
      "11       0.80       0.6400\n",
      "12       0.52       0.2704\n",
      "13       1.56       2.4336\n",
      "14       0.88       0.7744\n",
      "16       0.75       0.5625\n",
      "19       1.08       1.1664\n",
      "20       0.53       0.2809\n",
      "21       0.65       0.4225\n",
      "22       0.91       0.8281\n",
      "23       0.53       0.2809\n",
      "24       0.63       0.3969\n"
     ]
    }
   ],
   "source": [
    "features_polynomial = polynomial.fit_transform(df_train_features[['sulphates']])\n",
    "\n",
    "# This is not necessary but is good to see the results. Transform the array into a dataframe:\n",
    "features_polynomial = pd.DataFrame(features_polynomial,\n",
    "                                   columns = polynomial.get_feature_names_out(),\n",
    "                                   index=df_train_features.index  # This line ensures the index is carried over. Example, index 10 doesn´t should appear\n",
    "                                   )\n",
    "print(features_polynomial.sort_index().head(20))"
   ]
  },
  {
   "cell_type": "markdown",
   "id": "e617e0f1",
   "metadata": {
    "papermill": {
     "duration": 0.015194,
     "end_time": "2024-05-01T18:33:55.283307",
     "exception": false,
     "start_time": "2024-05-01T18:33:55.268113",
     "status": "completed"
    },
    "tags": []
   },
   "source": [
    "We need only the $ sulphates^2 $ column. First, we isolete that column and then we add it to the original feature df (we create a new dataframe for this new data)"
   ]
  },
  {
   "cell_type": "code",
   "execution_count": 22,
   "id": "dd269cd0",
   "metadata": {
    "execution": {
     "iopub.execute_input": "2024-05-01T18:33:55.316034Z",
     "iopub.status.busy": "2024-05-01T18:33:55.315640Z",
     "iopub.status.idle": "2024-05-01T18:33:55.331710Z",
     "shell.execute_reply": "2024-05-01T18:33:55.330426Z"
    },
    "papermill": {
     "duration": 0.035353,
     "end_time": "2024-05-01T18:33:55.334123",
     "exception": false,
     "start_time": "2024-05-01T18:33:55.298770",
     "status": "completed"
    },
    "tags": []
   },
   "outputs": [
    {
     "name": "stdout",
     "output_type": "stream",
     "text": [
      "   fixed acidity  volatile acidity  citric acid  residual sugar  chlorides  \\\n",
      "1            7.8              0.88         0.00             2.6      0.098   \n",
      "2            7.8              0.76         0.04             2.3      0.092   \n",
      "3           11.2              0.28         0.56             1.9      0.075   \n",
      "4            7.4              0.70         0.00             1.9      0.076   \n",
      "5            7.4              0.66         0.00             1.8      0.075   \n",
      "\n",
      "   free sulfur dioxide  total sulfur dioxide  density    pH  sulphates  \\\n",
      "1                 25.0                  67.0   0.9968  3.20       0.68   \n",
      "2                 15.0                  54.0   0.9970  3.26       0.65   \n",
      "3                 17.0                  60.0   0.9980  3.16       0.58   \n",
      "4                 11.0                  34.0   0.9978  3.51       0.56   \n",
      "5                 13.0                  40.0   0.9978  3.51       0.56   \n",
      "\n",
      "   alcohol  sulphates^2  \n",
      "1      9.8       0.4624  \n",
      "2      9.8       0.4225  \n",
      "3      9.8       0.3364  \n",
      "4      9.4       0.3136  \n",
      "5      9.4       0.3136  \n"
     ]
    }
   ],
   "source": [
    "# Isolate the polynomial feature\n",
    "polynomial_column = features_polynomial[['sulphates^2']]\n",
    "\n",
    "# Add to the other features (and create a new features df)\n",
    "df_train_features_polynomial = df_train_features.join(polynomial_column, how='outer')\n",
    "print(df_train_features_polynomial.sort_index().head(5))"
   ]
  },
  {
   "cell_type": "markdown",
   "id": "30dc56e2",
   "metadata": {
    "papermill": {
     "duration": 0.015225,
     "end_time": "2024-05-01T18:33:55.365059",
     "exception": false,
     "start_time": "2024-05-01T18:33:55.349834",
     "status": "completed"
    },
    "tags": []
   },
   "source": [
    "**!!! Important**. We have done this only for train data. In a normal workflow, this step must be done **before** split the df in test and training. In the final example we are going to see a compleate process.\n",
    "\n",
    "With our final df, features_interaction_modified, we can fit the model and obtain the intercept and coefficients:"
   ]
  },
  {
   "cell_type": "code",
   "execution_count": 23,
   "id": "ec7ef896",
   "metadata": {
    "execution": {
     "iopub.execute_input": "2024-05-01T18:33:55.398519Z",
     "iopub.status.busy": "2024-05-01T18:33:55.398090Z",
     "iopub.status.idle": "2024-05-01T18:33:55.410802Z",
     "shell.execute_reply": "2024-05-01T18:33:55.408886Z"
    },
    "papermill": {
     "duration": 0.033377,
     "end_time": "2024-05-01T18:33:55.413884",
     "exception": false,
     "start_time": "2024-05-01T18:33:55.380507",
     "status": "completed"
    },
    "tags": []
   },
   "outputs": [
    {
     "name": "stdout",
     "output_type": "stream",
     "text": [
      "Intercept : -19.002252040862103\n",
      "Coefficients :\n",
      "fixed acidity: -0.014\n",
      "volatile acidity: -0.229\n",
      "citric acid: 0.199\n",
      "residual sugar: -0.021\n",
      "chlorides: 0.467\n",
      "free sulfur dioxide: 0.002\n",
      "total sulfur dioxide: 0.001\n",
      "density: 24.062\n",
      "pH: 0.114\n",
      "sulphates: 0.011\n",
      "alcohol: 0.045\n",
      "sulphates^2: -0.158\n"
     ]
    }
   ],
   "source": [
    "# Create MLRM and fit it\n",
    "regression4 = LinearRegression()\n",
    "\n",
    "# Fit the model\n",
    "model4 = regression4.fit(df_train_features_polynomial, df_train_target) # Features first then target\n",
    "\n",
    "# Show the equation values:\n",
    "print(\"Intercept :\", model4.intercept_ )\n",
    "\n",
    "# New way to obtain the coefficients with names and round them to three decimals:\n",
    "feature_names = df_train_features_polynomial.columns\n",
    "coefficient_dict = dict(zip(feature_names, model4.coef_))\n",
    "print(\"Coefficients :\")\n",
    "for feature, coef in coefficient_dict.items():\n",
    "    print(f\"{feature}: {coef:.3f}\")"
   ]
  },
  {
   "cell_type": "markdown",
   "id": "585e62fc",
   "metadata": {
    "papermill": {
     "duration": 0.026772,
     "end_time": "2024-05-01T18:33:55.469339",
     "exception": false,
     "start_time": "2024-05-01T18:33:55.442567",
     "status": "completed"
    },
    "tags": []
   },
   "source": [
    "Now build the equation of the model:\n",
    "\n",
    "$$\n",
    "\\hat{y} = -19.002 -0.014 · x_1 - 0.229 · x_2 + 0.199 · x_3 - 0.021 · x_4 + 0.467 · x_5 + 0.002 · x_6 + 0.001 · x_7 + 24.062 · x_8 + 0.114 · x_9 + 0.011 · x_{10} + 0.045 · x_{11} - 0.158 · x_{10}^2\n",
    "$$\n",
    "\n",
    "As we see, the polynomial coefficient is negative. It means that when we have higher levels of sulphates, the level of quality (target) decrees. As is a polynomial feature, it means that the decrising on quality is faster.\n",
    "\n",
    "If we replace the features for our first case we obtain this:"
   ]
  },
  {
   "cell_type": "code",
   "execution_count": 24,
   "id": "cd86de2f",
   "metadata": {
    "execution": {
     "iopub.execute_input": "2024-05-01T18:33:55.525734Z",
     "iopub.status.busy": "2024-05-01T18:33:55.525115Z",
     "iopub.status.idle": "2024-05-01T18:33:55.534354Z",
     "shell.execute_reply": "2024-05-01T18:33:55.533066Z"
    },
    "papermill": {
     "duration": 0.040776,
     "end_time": "2024-05-01T18:33:55.536523",
     "exception": false,
     "start_time": "2024-05-01T18:33:55.495747",
     "status": "completed"
    },
    "tags": []
   },
   "outputs": [
    {
     "name": "stdout",
     "output_type": "stream",
     "text": [
      "Quality predicted value for the frst case: [5.49340431]\n"
     ]
    }
   ],
   "source": [
    "print(\"Quality predicted value for the frst case:\", model4.predict(df_train_features_polynomial.iloc[0:1]))"
   ]
  },
  {
   "cell_type": "markdown",
   "id": "54ad3264",
   "metadata": {
    "papermill": {
     "duration": 0.015667,
     "end_time": "2024-05-01T18:33:55.567982",
     "exception": false,
     "start_time": "2024-05-01T18:33:55.552315",
     "status": "completed"
    },
    "tags": []
   },
   "source": [
    "We create a plot comparing the predicted value (x-axe) vs the real on (y-axe). We round our predicted value to 0 decimal because the original scale of quality (target) is an integer with no decimals. As we can see, our model predicts for all wines qualities between 5 and 6 while the original values of qualities range between 3 and 8."
   ]
  },
  {
   "cell_type": "code",
   "execution_count": 25,
   "id": "b5990d63",
   "metadata": {
    "execution": {
     "iopub.execute_input": "2024-05-01T18:33:55.601563Z",
     "iopub.status.busy": "2024-05-01T18:33:55.600830Z",
     "iopub.status.idle": "2024-05-01T18:33:55.894673Z",
     "shell.execute_reply": "2024-05-01T18:33:55.893444Z"
    },
    "papermill": {
     "duration": 0.313381,
     "end_time": "2024-05-01T18:33:55.896989",
     "exception": false,
     "start_time": "2024-05-01T18:33:55.583608",
     "status": "completed"
    },
    "tags": []
   },
   "outputs": [
    {
     "data": {
      "image/png": "[encoded data removed]",
      "text/plain": [
       "<Figure size 1000x600 with 1 Axes>"
      ]
     },
     "metadata": {},
     "output_type": "display_data"
    }
   ],
   "source": [
    "plt.figure(figsize=(10, 6))\n",
    "plt.scatter(np.round(model4.predict(df_train_features_polynomial)), df_train_target, c=df_train_target, cmap='bwr', edgecolors='k', s=100)\n",
    "plt.xlim(0, 10)\n",
    "plt.ylim(0, 10)\n",
    "plt.xlabel('Features')\n",
    "plt.ylabel('Target')\n",
    "plt.title('Logistic Regression with Polynomial Feature')\n",
    "plt.show()"
   ]
  },
  {
   "cell_type": "markdown",
   "id": "b8c746b3",
   "metadata": {
    "papermill": {
     "duration": 0.015942,
     "end_time": "2024-05-01T18:33:55.928935",
     "exception": false,
     "start_time": "2024-05-01T18:33:55.912993",
     "status": "completed"
    },
    "tags": []
   },
   "source": []
  },
  {
   "cell_type": "markdown",
   "id": "2d193c06",
   "metadata": {
    "papermill": {
     "duration": 0.015746,
     "end_time": "2024-05-01T18:33:55.960519",
     "exception": false,
     "start_time": "2024-05-01T18:33:55.944773",
     "status": "completed"
    },
    "tags": []
   },
   "source": [
    "# 3. Optimization techniques\n",
    "\n",
    "Scikit-learn give a lot of options about what estimator use. The image bellow shows the huge variety this package includes, not only for regression, if not different techniques. You can see more information in https://scikit-learn.org/stable/_static/ml_map.png\n",
    "\n",
    "<div style=\"text-align:center\">\n",
    "    <img src=\"https://scikit-learn.org/stable/_static/ml_map.png\" alt=\"Scikit-Learn estimators\" width=\"700\" height=\"500\">\n",
    "</div>\n",
    "\n",
    "The **optimization algorithms** are techniques used to find the best solution to a problem, usually trying to fin the minimun or the maximun in a function. Some key concepts:\n",
    "\n",
    "* **Objetive function**: Function we want to optimize.\n",
    "* **Minimun and Maximun**: We look for the minimun when we try to obtain the parameters that minimze the error. We look for the maximun when try to found the features that maximize the gaprofitsins.\n",
    "* **Stopping Conditions**: Criterial that sais when stop to search for the optimal solution. For example, we fix the number of iterations or when the improvements in the objetive function is bellow a specif threshold.\n",
    "* **Optimal point**: Input value that produces the minimum or maximun value of the objetive function.\n",
    "* **Gradient**: Vector that inicates the direction and magnitude of the steepest change in a function.\n",
    "\n",
    "**Residual Sum of Squares (RSS)**: Metric to compute the differences between real values and estimate values. It follows this formula:\n",
    "\n",
    "$$\n",
    "RSS = \\sum_{i=1}^{n} ( y_i - \\hat{y}_i )^2\n",
    "$$\n",
    "\n",
    "Where:\n",
    "\n",
    "* i: is the specific row.\n",
    "* n: is the total sample.\n",
    "* $y_i$ is the real value of the target.\n",
    "* $\\hat{y}_i$: is the estimated value of the target.\n",
    "\n",
    "Regularization model includes some penalization to this RSS."
   ]
  },
  {
   "cell_type": "markdown",
   "id": "1893d74c",
   "metadata": {
    "papermill": {
     "duration": 0.015834,
     "end_time": "2024-05-01T18:33:55.992348",
     "exception": false,
     "start_time": "2024-05-01T18:33:55.976514",
     "status": "completed"
    },
    "tags": []
   },
   "source": [
    "### A. Ordinary Least Square (OLS)\n",
    "\n",
    "* The aim is minimize the square sum of the errors (differences between predictions and real values). \n",
    "* Usefull when the errors follows a normal distribution and there are no outliers.\n"
   ]
  },
  {
   "cell_type": "markdown",
   "id": "007a38f1",
   "metadata": {
    "papermill": {
     "duration": 0.015499,
     "end_time": "2024-05-01T18:33:56.023748",
     "exception": false,
     "start_time": "2024-05-01T18:33:56.008249",
     "status": "completed"
    },
    "tags": []
   },
   "source": [
    "### B. Grdient Descent\n",
    "\n",
    "* Iterative process to find the optime parameters.\n",
    "* Use all the sample.\n",
    "* Parameter are update in the oposite direction of the gradient of the loss function.\n",
    "* Search the local or global minimun.\n",
    "* Slower than other model when the linear regression problem is simple but is more flexible so it is useful with complex problems."
   ]
  },
  {
   "cell_type": "markdown",
   "id": "d49ee1c5",
   "metadata": {
    "papermill": {
     "duration": 0.015584,
     "end_time": "2024-05-01T18:33:56.055158",
     "exception": false,
     "start_time": "2024-05-01T18:33:56.039574",
     "status": "completed"
    },
    "tags": []
   },
   "source": [
    "### C. SGD Regressor (Stochastic Gradient Descent)\n",
    "\n",
    "* Variant od Gradient Descent.\n",
    "* Search for the minimun to update the model parameters.\n",
    "* Use when you have large samples.\n",
    "* Use a random sample of the data in each iteration. This is the reason to use with large datasets (large training samples).\n"
   ]
  },
  {
   "cell_type": "markdown",
   "id": "0ad8f568",
   "metadata": {
    "papermill": {
     "duration": 0.015553,
     "end_time": "2024-05-01T18:33:56.086590",
     "exception": false,
     "start_time": "2024-05-01T18:33:56.071037",
     "status": "completed"
    },
    "tags": []
   },
   "source": [
    "### D. Regularization\n",
    "\n",
    "Differences between Lasso and Ridge Regression:\n",
    "\n",
    "| | Ridge Regression | Lasso Regression |\n",
    "|:--:| :--:|:--:|\n",
    "|Penalty term| Proportional to the square of the square of the magnitude of the coefficients: $ \\Theta^2 $ | Proportional to the absolute value of the coefficients $ |\\Theta| $. It could drive some coefficients to 0|\n",
    "|Aim| Reduce the overfit and reduce the complexity of the model| Reduce the complexity and automatically select some features (driven their coefficients to 0, in other words, deleting it)|\n",
    "|Predictions| Better| More interpretable|\n",
    "\n",
    "**$\\alpha$**: Hiperparameter that controls how much is going to be penalize. Higher the value, more simple models. To select the best value, a tuning process must be done. **WARNING** in Lasso, if we pick a large value we can deleate a lot of features because their coefficients will go to 0.\n",
    "\n",
    "#### A. Ridge Regression\n",
    "\n",
    "When use it:\n",
    "* Big correlation between features\n",
    "* Number of features > number of observations (sobredimensional models)\n",
    "* When we want to reduce the overfiting but not the multicollinearity.\n",
    "\n",
    "This model penalizes as follow:\n",
    "\n",
    "$$\n",
    "RSS + \\alpha ·  \\sum_{j=1}^{p} (\\hat{\\beta} _j )^2\n",
    "$$\n",
    "\n",
    "Where:\n",
    "\n",
    "* j: is a specific feature.\n",
    "* p: is total number of features.\n",
    "* $\\beta$ is the coeficient of the feature.\n",
    "* $\\alpha$: is the hiperparameter.\n",
    "\n",
    "#### B. Lasso Regression\n",
    "\n",
    "This model penalizes as follow:\n",
    "\n",
    "$$\n",
    "\\frac{1}{2n}· RSS + \\alpha ·  \\sum_{j=1}^{p} |\\hat{\\beta}_j|\n",
    "$$\n",
    "\n",
    "Where:\n",
    "\n",
    "* j: is a specific feature.\n",
    "* p: is total number of features.\n",
    "* $\\beta$ is the coeficient of the feature.\n",
    "* $\\alpha$: is the hiperparameter.\n",
    "* n: Number of obervations.\n",
    "\n",
    "#### C. Elastic Net\n",
    "\n",
    "Combine Ridge and Lasso.\n"
   ]
  },
  {
   "cell_type": "markdown",
   "id": "9b1f259b",
   "metadata": {
    "papermill": {
     "duration": 0.015478,
     "end_time": "2024-05-01T18:33:56.117894",
     "exception": false,
     "start_time": "2024-05-01T18:33:56.102416",
     "status": "completed"
    },
    "tags": []
   },
   "source": [
    "#### Ridge Regression\n",
    "\n",
    "Create the Ridge Regression Model and select different values for the hiperparameter $\\alpha$"
   ]
  },
  {
   "cell_type": "code",
   "execution_count": 26,
   "id": "114ed81b",
   "metadata": {
    "execution": {
     "iopub.execute_input": "2024-05-01T18:33:56.151558Z",
     "iopub.status.busy": "2024-05-01T18:33:56.151169Z",
     "iopub.status.idle": "2024-05-01T18:33:56.155798Z",
     "shell.execute_reply": "2024-05-01T18:33:56.154630Z"
    },
    "papermill": {
     "duration": 0.023958,
     "end_time": "2024-05-01T18:33:56.157735",
     "exception": false,
     "start_time": "2024-05-01T18:33:56.133777",
     "status": "completed"
    },
    "tags": []
   },
   "outputs": [],
   "source": [
    "# Create the model with different values for alpha\n",
    "ridge_regression = RidgeCV(alphas=[0.001, 0.01, 0.1, 1, 10, 100])\n"
   ]
  },
  {
   "cell_type": "markdown",
   "id": "2b09c46e",
   "metadata": {
    "papermill": {
     "duration": 0.015615,
     "end_time": "2024-05-01T18:33:56.189255",
     "exception": false,
     "start_time": "2024-05-01T18:33:56.173640",
     "status": "completed"
    },
    "tags": []
   },
   "source": [
    "Adjust the model:"
   ]
  },
  {
   "cell_type": "code",
   "execution_count": 27,
   "id": "af61354c",
   "metadata": {
    "execution": {
     "iopub.execute_input": "2024-05-01T18:33:56.223617Z",
     "iopub.status.busy": "2024-05-01T18:33:56.222617Z",
     "iopub.status.idle": "2024-05-01T18:33:56.236671Z",
     "shell.execute_reply": "2024-05-01T18:33:56.235430Z"
    },
    "papermill": {
     "duration": 0.034669,
     "end_time": "2024-05-01T18:33:56.239910",
     "exception": false,
     "start_time": "2024-05-01T18:33:56.205241",
     "status": "completed"
    },
    "tags": []
   },
   "outputs": [],
   "source": [
    "ridge_model = ridge_regression.fit(df_train_features, df_train_target)"
   ]
  },
  {
   "cell_type": "markdown",
   "id": "597938d4",
   "metadata": {
    "papermill": {
     "duration": 0.052442,
     "end_time": "2024-05-01T18:33:56.345377",
     "exception": false,
     "start_time": "2024-05-01T18:33:56.292935",
     "status": "completed"
    },
    "tags": []
   },
   "source": [
    "View the coefficients and the best value of $\\alpha$:"
   ]
  },
  {
   "cell_type": "code",
   "execution_count": 28,
   "id": "4bf86777",
   "metadata": {
    "execution": {
     "iopub.execute_input": "2024-05-01T18:33:56.383151Z",
     "iopub.status.busy": "2024-05-01T18:33:56.382746Z",
     "iopub.status.idle": "2024-05-01T18:33:56.390042Z",
     "shell.execute_reply": "2024-05-01T18:33:56.388943Z"
    },
    "papermill": {
     "duration": 0.026998,
     "end_time": "2024-05-01T18:33:56.392473",
     "exception": false,
     "start_time": "2024-05-01T18:33:56.365475",
     "status": "completed"
    },
    "tags": []
   },
   "outputs": [
    {
     "name": "stdout",
     "output_type": "stream",
     "text": [
      "Coefficients : 0.1\n",
      "Intercept : 4.573099054855438\n",
      "Coefficients :\n",
      "fixed acidity: 0.009\n",
      "volatile acidity: -1.037\n",
      "citric acid: -0.153\n",
      "residual sugar: 0.006\n",
      "chlorides: -1.427\n",
      "free sulfur dioxide: 0.006\n",
      "total sulfur dioxide: -0.003\n",
      "density: -0.093\n",
      "pH: -0.586\n",
      "sulphates: 0.861\n",
      "alcohol: 0.309\n"
     ]
    }
   ],
   "source": [
    "print(\"Coefficients :\", ridge_model.alpha_)\n",
    "print(\"Intercept :\", ridge_model.intercept_ )\n",
    "\n",
    "feature_names = df_train_features.columns\n",
    "coefficient_dict = dict(zip(feature_names, ridge_model.coef_))\n",
    "print(\"Coefficients :\")\n",
    "for feature, coef in coefficient_dict.items():\n",
    "    print(f\"{feature}: {coef:.3f}\")"
   ]
  },
  {
   "cell_type": "markdown",
   "id": "f15ee771",
   "metadata": {
    "papermill": {
     "duration": 0.015534,
     "end_time": "2024-05-01T18:33:56.424065",
     "exception": false,
     "start_time": "2024-05-01T18:33:56.408531",
     "status": "completed"
    },
    "tags": []
   },
   "source": [
    "Now build the equation of the model:\n",
    "\n",
    "$$\n",
    "\\hat{y} = 4.573 + 0.009 · x_1 -1.037 · x_2 + 0.199 · x_3 - 0.021 · x_4 + 0.467 · x_5 + 0.002 · x_6 + 0.001 · x_7 + 24.062 · x_8 + 0.114 · x_9 + 0.011 · x_{10} + 0.045 · x_{11} - 0.158 · x_{10}^2\n",
    "$$\n",
    "\n",
    "As we see, the polynomial coefficient is negative. It means that when we have higher levels of sulphates, the level of quality (target) decrees. As is a polynomial feature, it means that the decrising on quality is faster.\n",
    "\n",
    "If we replace the features for our first case we obtain this:"
   ]
  }
 ],
 "metadata": {
  "kaggle": {
   "accelerator": "none",
   "dataSources": [
    {
     "datasetId": 4458,
     "sourceId": 8204,
     "sourceType": "datasetVersion"
    }
   ],
   "dockerImageVersionId": 30698,
   "isGpuEnabled": false,
   "isInternetEnabled": false,
   "language": "python",
   "sourceType": "notebook"
  },
  "kernelspec": {
   "display_name": "Python 3",
   "language": "python",
   "name": "python3"
  },
  "language_info": {
   "codemirror_mode": {
    "name": "ipython",
    "version": 3
   },
   "file_extension": ".py",
   "mimetype": "text/x-python",
   "name": "python",
   "nbconvert_exporter": "python",
   "pygments_lexer": "ipython3",
   "version": "3.10.13"
  },
  "papermill": {
   "default_parameters": {},
   "duration": 10.385343,
   "end_time": "2024-05-01T18:33:57.061803",
   "environment_variables": {},
   "exception": null,
   "input_path": "__notebook__.ipynb",
   "output_path": "__notebook__.ipynb",
   "parameters": {},
   "start_time": "2024-05-01T18:33:46.676460",
   "version": "2.5.0"
  }
 },
 "nbformat": 4,
 "nbformat_minor": 5
}
