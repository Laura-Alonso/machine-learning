{
 "cells": [
  {
   "cell_type": "markdown",
   "id": "5974284c",
   "metadata": {
    "papermill": {
     "duration": 0.021747,
     "end_time": "2024-05-07T17:56:21.160313",
     "exception": false,
     "start_time": "2024-05-07T17:56:21.138566",
     "status": "completed"
    },
    "tags": []
   },
   "source": [
    "# LINEAR REGRESSION\n",
    "\n",
    "In this notebook we are going to explain the principal characterisitcs of linear regression.\n",
    "\n",
    "First of all, linear regression is an algoritm used in machine learning. Specifically, it follows inside the \"supervised learning\". "
   ]
  },
  {
   "cell_type": "markdown",
   "id": "4fe1d2b1",
   "metadata": {
    "papermill": {
     "duration": 0.020385,
     "end_time": "2024-05-07T17:56:21.203180",
     "exception": false,
     "start_time": "2024-05-07T17:56:21.182795",
     "status": "completed"
    },
    "tags": []
   },
   "source": [
    "# Database and language\n",
    "\n",
    "For this notebook we are going to use the database \"red wine quiality\". You can follow the entery description follow this link https://www.kaggle.com/datasets/uciml/red-wine-quality-cortez-et-al-2009.\n",
    "\n",
    "* All the variable in this database are quantitative.\n",
    "* The target variable is \"quiality\". This variable range between 0 and 10.\n",
    "\n",
    "The code of the following lines is developed with python.\n",
    "\n",
    "We are going to import the libraries required to all the futures steps."
   ]
  },
  {
   "cell_type": "code",
   "execution_count": 1,
   "id": "a44269df",
   "metadata": {
    "execution": {
     "iopub.execute_input": "2024-05-07T17:56:21.249276Z",
     "iopub.status.busy": "2024-05-07T17:56:21.248296Z",
     "iopub.status.idle": "2024-05-07T17:56:24.969759Z",
     "shell.execute_reply": "2024-05-07T17:56:24.968735Z"
    },
    "papermill": {
     "duration": 3.748234,
     "end_time": "2024-05-07T17:56:24.972371",
     "exception": false,
     "start_time": "2024-05-07T17:56:21.224137",
     "status": "completed"
    },
    "tags": []
   },
   "outputs": [],
   "source": [
    "import pandas as pd                                  # Read csv\n",
    "from sklearn.linear_model  import LinearRegression\n",
    "from sklearn.preprocessing import PolynomialFeatures # interaction effect, no linear models\n",
    "from sklearn.linear_model  import Ridge, RidgeCV, Lasso, LassoCV # regularizationy, best value of alpha Ridge, reduce features, best value of alpha Lasso\n",
    "from sklearn.metrics import r2_score, mean_squared_error\n",
    "from sklearn.dummy import DummyRegressor\n",
    "from sklearn.preprocessing import StandardScaler # standardization\n",
    "import matplotlib.pyplot as plt                  # plot\n",
    "import numpy as np\n",
    "import statsmodels.api as sm\n",
    "\n"
   ]
  },
  {
   "cell_type": "markdown",
   "id": "fa0bb1ee",
   "metadata": {
    "papermill": {
     "duration": 0.020689,
     "end_time": "2024-05-07T17:56:25.013864",
     "exception": false,
     "start_time": "2024-05-07T17:56:24.993175",
     "status": "completed"
    },
    "tags": []
   },
   "source": [
    "Now, we are going to upload the data. As we can see, there are 12 variables: 11 features and 1 target. There are 1,599 rows"
   ]
  },
  {
   "cell_type": "code",
   "execution_count": 2,
   "id": "d99ff594",
   "metadata": {
    "execution": {
     "iopub.execute_input": "2024-05-07T17:56:25.057111Z",
     "iopub.status.busy": "2024-05-07T17:56:25.056562Z",
     "iopub.status.idle": "2024-05-07T17:56:25.094640Z",
     "shell.execute_reply": "2024-05-07T17:56:25.093392Z"
    },
    "papermill": {
     "duration": 0.062361,
     "end_time": "2024-05-07T17:56:25.096909",
     "exception": false,
     "start_time": "2024-05-07T17:56:25.034548",
     "status": "completed"
    },
    "tags": []
   },
   "outputs": [
    {
     "name": "stdout",
     "output_type": "stream",
     "text": [
      "Number of rows: 1599\n",
      "   fixed acidity  volatile acidity  citric acid  residual sugar  chlorides  \\\n",
      "0            7.4              0.70         0.00             1.9      0.076   \n",
      "1            7.8              0.88         0.00             2.6      0.098   \n",
      "2            7.8              0.76         0.04             2.3      0.092   \n",
      "3           11.2              0.28         0.56             1.9      0.075   \n",
      "4            7.4              0.70         0.00             1.9      0.076   \n",
      "\n",
      "   free sulfur dioxide  total sulfur dioxide  density    pH  sulphates  \\\n",
      "0                 11.0                  34.0   0.9978  3.51       0.56   \n",
      "1                 25.0                  67.0   0.9968  3.20       0.68   \n",
      "2                 15.0                  54.0   0.9970  3.26       0.65   \n",
      "3                 17.0                  60.0   0.9980  3.16       0.58   \n",
      "4                 11.0                  34.0   0.9978  3.51       0.56   \n",
      "\n",
      "   alcohol  quality  \n",
      "0      9.4        5  \n",
      "1      9.8        5  \n",
      "2      9.8        5  \n",
      "3      9.8        6  \n",
      "4      9.4        5  \n"
     ]
    }
   ],
   "source": [
    "# read csv\n",
    "df = pd.read_csv('/kaggle/input/red-wine-quality-cortez-et-al-2009/winequality-red.csv')\n",
    "print(\"Number of rows:\", len(df))\n",
    "print(df.head())"
   ]
  },
  {
   "cell_type": "markdown",
   "id": "b0c2100f",
   "metadata": {
    "papermill": {
     "duration": 0.020522,
     "end_time": "2024-05-07T17:56:25.138538",
     "exception": false,
     "start_time": "2024-05-07T17:56:25.118016",
     "status": "completed"
    },
    "tags": []
   },
   "source": [
    " Now we are going to split the data into training and test. \n",
    " \n",
    " df_train. Has "
   ]
  },
  {
   "cell_type": "code",
   "execution_count": 3,
   "id": "4ed51528",
   "metadata": {
    "execution": {
     "iopub.execute_input": "2024-05-07T17:56:25.181913Z",
     "iopub.status.busy": "2024-05-07T17:56:25.181527Z",
     "iopub.status.idle": "2024-05-07T17:56:25.199507Z",
     "shell.execute_reply": "2024-05-07T17:56:25.198329Z"
    },
    "papermill": {
     "duration": 0.04235,
     "end_time": "2024-05-07T17:56:25.201734",
     "exception": false,
     "start_time": "2024-05-07T17:56:25.159384",
     "status": "completed"
    },
    "tags": []
   },
   "outputs": [
    {
     "name": "stdout",
     "output_type": "stream",
     "text": [
      "df_train has 1279 cases and 12 columns\n",
      "df_train_target has 1279 cases and only has one columns (target)\n",
      "df_train_features has 1279 11 columns that are equal to the number of features\n",
      "df_test has 320 cases and 12 columns\n",
      "If we add the number of cases in train, 1279 ,plus the number of cases in test, 320 , we obtain the total len of the original data 1599\n"
     ]
    }
   ],
   "source": [
    "# Split data into two df one with 80% of data and other with 20%\n",
    "df_train = df.sample(frac=0.8, random_state=200)\n",
    "df_train_target = df_train['quality']\n",
    "df_train_features = df_train.drop('quality', axis=1)\n",
    "\n",
    "df_test = df.drop(df_train.index)\n",
    "\n",
    "print(\"df_train has\", len(df_train), \"cases and\", df_train.shape[1], \"columns\")\n",
    "print(\"df_train_target has\", len(df_train_target), \"cases and only has one columns (target)\")\n",
    "print(\"df_train_features has\", len(df_train_features), df_train_features.shape[1], \"columns that are equal to the number of features\")\n",
    "\n",
    "print(\"df_test has\", len(df_test), \"cases and\", df_test.shape[1], \"columns\")\n",
    "\n",
    "print(\"If we add the number of cases in train,\", len(df_train), \",plus the number of cases in test,\", len(df_test), \", we obtain the total len of the original data\", len(df_train) + len(df_test))"
   ]
  },
  {
   "cell_type": "markdown",
   "id": "c94fdb84",
   "metadata": {
    "papermill": {
     "duration": 0.020608,
     "end_time": "2024-05-07T17:56:25.243347",
     "exception": false,
     "start_time": "2024-05-07T17:56:25.222739",
     "status": "completed"
    },
    "tags": []
   },
   "source": [
    "# 1. Introduction\n",
    "\n",
    "The aim of linear regression algorithm is to predict one variable (VD, also know as target) using one or more features (VI).\n",
    "\n",
    "There are two type of models depending on the number of features involve:\n",
    "\n",
    "* Simple Linear Regression. Only one Feature is used to predict the target:\n",
    "\n",
    "$$\n",
    "\\hat{y} = \\hat{\\beta}_0 + \\hat{\\beta}_1 x_1 + \\epsilon\n",
    "$$\n",
    "\n",
    "* Multiple Linear Regression. Two or more features are used to predict the target.\n",
    "\n",
    "$$\n",
    "\\hat{y} = \\hat{\\beta}_0 + \\hat{\\beta}_1 x_1 +  \\hat{\\beta}_2 x_2 + ... + \\hat{\\beta}_n x_n + \\epsilon\n",
    "$$\n",
    "\n",
    "Where:\n",
    "\n",
    "* $ \\hat{y} $: Is the target we predict.\n",
    "* $ \\hat{\\beta}_0 $: Is the intercept or bias.\n",
    "* $ \\hat{\\beta}_1, \\hat{\\beta}_2, ... $: Are the coefficients (weights, effect) associated with each feature. Is the effect of one feature in the target.\n",
    "* $ \\epsilon $: Is the error\n",
    "\n",
    "We assume that the relation between VD and the VI is linear."
   ]
  },
  {
   "cell_type": "markdown",
   "id": "f4b06aa7",
   "metadata": {
    "papermill": {
     "duration": 0.021027,
     "end_time": "2024-05-07T17:56:25.285422",
     "exception": false,
     "start_time": "2024-05-07T17:56:25.264395",
     "status": "completed"
    },
    "tags": []
   },
   "source": [
    "### A. Compute our first simple linear regression model\n",
    "\n",
    "We are going to use trainig data. As we said, our target variable is \"quality\" (stored in df_train_target). To predict the value we are going to use as feature \"alcohol\" (stored in df_train_features with the other features)."
   ]
  },
  {
   "cell_type": "code",
   "execution_count": 4,
   "id": "24d14354",
   "metadata": {
    "execution": {
     "iopub.execute_input": "2024-05-07T17:56:25.329647Z",
     "iopub.status.busy": "2024-05-07T17:56:25.328742Z",
     "iopub.status.idle": "2024-05-07T17:56:25.340630Z",
     "shell.execute_reply": "2024-05-07T17:56:25.339567Z"
    },
    "papermill": {
     "duration": 0.036179,
     "end_time": "2024-05-07T17:56:25.342940",
     "exception": false,
     "start_time": "2024-05-07T17:56:25.306761",
     "status": "completed"
    },
    "tags": []
   },
   "outputs": [
    {
     "name": "stdout",
     "output_type": "stream",
     "text": [
      "Target quality \n",
      " 1     5\n",
      "2     5\n",
      "3     6\n",
      "4     5\n",
      "5     5\n",
      "6     5\n",
      "7     7\n",
      "8     7\n",
      "9     5\n",
      "11    5\n",
      "Name: quality, dtype: int64 \n",
      "\n",
      "Feature alcohol \n",
      "     alcohol\n",
      "1       9.8\n",
      "2       9.8\n",
      "3       9.8\n",
      "4       9.4\n",
      "5       9.4\n",
      "6       9.4\n",
      "7      10.0\n",
      "8       9.5\n",
      "9      10.5\n",
      "11     10.5\n"
     ]
    }
   ],
   "source": [
    "# Select only the feature alcohol\n",
    "df_train_feature_alcohol = df_train[['alcohol']]\n",
    "\n",
    "# Print results\n",
    "print(\"Target quality \\n\", df_train_target.sort_index().head(10), \"\\n\")\n",
    "print(\"Feature alcohol \\n\", df_train_feature_alcohol.sort_index().head(10))"
   ]
  },
  {
   "cell_type": "markdown",
   "id": "64fd5d25",
   "metadata": {
    "papermill": {
     "duration": 0.020809,
     "end_time": "2024-05-07T17:56:25.444219",
     "exception": false,
     "start_time": "2024-05-07T17:56:25.423410",
     "status": "completed"
    },
    "tags": []
   },
   "source": [
    "Now we create the model that put in relation quality and alcohol. Steps:\n",
    "\n",
    "* Create the model.\n",
    "* Fit the model We obtain the coefficients and the intercept here.\n",
    "* Show the values for intercept and coefficients"
   ]
  },
  {
   "cell_type": "code",
   "execution_count": 5,
   "id": "b17e110d",
   "metadata": {
    "execution": {
     "iopub.execute_input": "2024-05-07T17:56:25.495103Z",
     "iopub.status.busy": "2024-05-07T17:56:25.494580Z",
     "iopub.status.idle": "2024-05-07T17:56:25.520173Z",
     "shell.execute_reply": "2024-05-07T17:56:25.518938Z"
    },
    "papermill": {
     "duration": 0.057319,
     "end_time": "2024-05-07T17:56:25.523225",
     "exception": false,
     "start_time": "2024-05-07T17:56:25.465906",
     "status": "completed"
    },
    "tags": []
   },
   "outputs": [
    {
     "name": "stdout",
     "output_type": "stream",
     "text": [
      "Intercept : 1.829650840266757\n",
      "Coefficients : [0.36431398]\n"
     ]
    }
   ],
   "source": [
    "# Create SLRM and fit it\n",
    "regression1 = LinearRegression()\n",
    "\n",
    "# Fit the model\n",
    "model1 = regression1.fit(df_train_feature_alcohol.sort_index(), df_train_target.sort_index()) # Features first then target\n",
    "\n",
    "# Show the equation values:\n",
    "print(\"Intercept :\", model1.intercept_ )\n",
    "print(\"Coefficients :\", model1.coef_)"
   ]
  },
  {
   "cell_type": "markdown",
   "id": "fb273f97",
   "metadata": {
    "papermill": {
     "duration": 0.023035,
     "end_time": "2024-05-07T17:56:25.572213",
     "exception": false,
     "start_time": "2024-05-07T17:56:25.549178",
     "status": "completed"
    },
    "tags": []
   },
   "source": [
    "Whith this information we can build the equation of the model:\n",
    "\n",
    "$$\n",
    "\\hat{y} = 1.830 + 0.364 · x_1 + \\epsilon\n",
    "$$\n",
    "\n",
    "The error $ \\epsilon $ is the difference between the real value of $ y $ and the predicted value $ \\hat{y} $. We only can know that value when we have the real result but not when we predict.\n",
    "\n",
    "However, we can replace the feature value in the equation. For our first case this value is:"
   ]
  },
  {
   "cell_type": "code",
   "execution_count": 6,
   "id": "16f5ccdf",
   "metadata": {
    "execution": {
     "iopub.execute_input": "2024-05-07T17:56:25.630685Z",
     "iopub.status.busy": "2024-05-07T17:56:25.629545Z",
     "iopub.status.idle": "2024-05-07T17:56:25.639387Z",
     "shell.execute_reply": "2024-05-07T17:56:25.638120Z"
    },
    "papermill": {
     "duration": 0.044168,
     "end_time": "2024-05-07T17:56:25.642377",
     "exception": false,
     "start_time": "2024-05-07T17:56:25.598209",
     "status": "completed"
    },
    "tags": []
   },
   "outputs": [
    {
     "name": "stdout",
     "output_type": "stream",
     "text": [
      "Value of alcohol feature for our first case :      alcohol\n",
      "366     10.0\n"
     ]
    }
   ],
   "source": [
    "print(\"Value of alcohol feature for our first case :\", df_train_feature_alcohol.iloc[0:1])"
   ]
  },
  {
   "cell_type": "markdown",
   "id": "bf17adea",
   "metadata": {
    "papermill": {
     "duration": 0.021338,
     "end_time": "2024-05-07T17:56:25.687745",
     "exception": false,
     "start_time": "2024-05-07T17:56:25.666407",
     "status": "completed"
    },
    "tags": []
   },
   "source": [
    "So, the equation for the first case is:\n",
    "\n",
    "$$\n",
    "\\hat{y} = 1.830 + 0.364 · 10 \n",
    "$$\n",
    "\n",
    "So the quality predicted value of our firsy case is:\n",
    "\n",
    "$$\n",
    "\\hat{y} = 1.830 + 0.364 · 10 \\approx 5.473\n",
    "$$\n",
    "\n",
    "We can do this using our script:"
   ]
  },
  {
   "cell_type": "code",
   "execution_count": 7,
   "id": "461976fb",
   "metadata": {
    "execution": {
     "iopub.execute_input": "2024-05-07T17:56:25.732572Z",
     "iopub.status.busy": "2024-05-07T17:56:25.732172Z",
     "iopub.status.idle": "2024-05-07T17:56:25.743853Z",
     "shell.execute_reply": "2024-05-07T17:56:25.742721Z"
    },
    "papermill": {
     "duration": 0.037191,
     "end_time": "2024-05-07T17:56:25.746315",
     "exception": false,
     "start_time": "2024-05-07T17:56:25.709124",
     "status": "completed"
    },
    "tags": []
   },
   "outputs": [
    {
     "name": "stdout",
     "output_type": "stream",
     "text": [
      "Quality predicted value for the frst case:    Simple Model\n",
      "1      5.327065\n"
     ]
    }
   ],
   "source": [
    "model1_y = pd.DataFrame(model1.predict(df_train_feature_alcohol.sort_index()), \n",
    "                      index=df_train_feature_alcohol.index, \n",
    "                      columns=['Simple Model'])\n",
    "\n",
    "print(\"Quality predicted value for the frst case:\", model1_y.sort_index().head(1))"
   ]
  },
  {
   "cell_type": "markdown",
   "id": "929d79ce",
   "metadata": {
    "papermill": {
     "duration": 0.021127,
     "end_time": "2024-05-07T17:56:25.789024",
     "exception": false,
     "start_time": "2024-05-07T17:56:25.767897",
     "status": "completed"
    },
    "tags": []
   },
   "source": [
    "Now, we are going to plot our model. This graphics shows the relation between real values of alcohol (x-exe) and real quality (y-exes). The red line represents the fitted linear regression model. More close the dots to the line, better predictions we made."
   ]
  },
  {
   "cell_type": "code",
   "execution_count": 8,
   "id": "b0c2f3b6",
   "metadata": {
    "execution": {
     "iopub.execute_input": "2024-05-07T17:56:25.833689Z",
     "iopub.status.busy": "2024-05-07T17:56:25.832885Z",
     "iopub.status.idle": "2024-05-07T17:56:26.238326Z",
     "shell.execute_reply": "2024-05-07T17:56:26.237199Z"
    },
    "papermill": {
     "duration": 0.430232,
     "end_time": "2024-05-07T17:56:26.240702",
     "exception": false,
     "start_time": "2024-05-07T17:56:25.810470",
     "status": "completed"
    },
    "tags": []
   },
   "outputs": [
    {
     "data": {
      "text/plain": [
       "<matplotlib.legend.Legend at 0x7b7be0023160>"
      ]
     },
     "execution_count": 8,
     "metadata": {},
     "output_type": "execute_result"
    },
    {
     "data": {
      "image/png": "[encoded data removed]",
      "text/plain": [
       "<Figure size 1000x600 with 1 Axes>"
      ]
     },
     "metadata": {},
     "output_type": "display_data"
    }
   ],
   "source": [
    "# Plotting the actual data points\n",
    "plt.figure(figsize=(10, 6))\n",
    "plt.scatter(df_train_feature_alcohol, df_train_target, color='blue', label='Actual data')\n",
    "\n",
    "# Plotting the regression line\n",
    "plt.plot(df_train_feature_alcohol, model1.predict(df_train_feature_alcohol), color='red', linewidth=2, label='Fitted line')\n",
    "\n",
    "# Limits of the axes\n",
    "plt.xlim(4, 16)\n",
    "plt.ylim(0, 10)\n",
    "\n",
    "# Adding labels and title\n",
    "plt.ylabel('Quality (real value)')\n",
    "plt.xlabel('Alcohol (feature)')\n",
    "plt.title('Simple Linear Regression Fit')\n",
    "plt.legend()\n"
   ]
  },
  {
   "cell_type": "markdown",
   "id": "5c8d6f2e",
   "metadata": {
    "papermill": {
     "duration": 0.022525,
     "end_time": "2024-05-07T17:56:26.285948",
     "exception": false,
     "start_time": "2024-05-07T17:56:26.263423",
     "status": "completed"
    },
    "tags": []
   },
   "source": [
    "This is what we can conclude only with the plot:\n",
    "\n",
    "* Dots follow the vertical. This indicated that the alcohol is not the unique variable that could explain the quality of the wine.\n",
    "* The prediction line increase. We could translate this as \"more alcohol, more quality of the wine\".\n",
    "* Dots are not very close to the line what means that probably there are other factor that are affecting in the quality."
   ]
  },
  {
   "cell_type": "markdown",
   "id": "7f44e6fc",
   "metadata": {
    "papermill": {
     "duration": 0.02208,
     "end_time": "2024-05-07T17:56:26.330489",
     "exception": false,
     "start_time": "2024-05-07T17:56:26.308409",
     "status": "completed"
    },
    "tags": []
   },
   "source": [
    "### B. Compute our first multiple linear regression model\n",
    "\n",
    "In this case, we are going to include all the features that we have to predict the quality (target). The steps are as in the simple model."
   ]
  },
  {
   "cell_type": "code",
   "execution_count": 9,
   "id": "97d0d741",
   "metadata": {
    "execution": {
     "iopub.execute_input": "2024-05-07T17:56:26.377146Z",
     "iopub.status.busy": "2024-05-07T17:56:26.376652Z",
     "iopub.status.idle": "2024-05-07T17:56:26.397042Z",
     "shell.execute_reply": "2024-05-07T17:56:26.395822Z"
    },
    "papermill": {
     "duration": 0.046337,
     "end_time": "2024-05-07T17:56:26.399457",
     "exception": false,
     "start_time": "2024-05-07T17:56:26.353120",
     "status": "completed"
    },
    "tags": []
   },
   "outputs": [
    {
     "name": "stdout",
     "output_type": "stream",
     "text": [
      "Intercept : 16.634693491940222\n",
      "Coefficients : [ 2.03288413e-02 -1.02555421e+00 -1.51014281e-01  1.16167979e-02\n",
      " -1.49002597e+00  5.47302465e-03 -3.37647532e-03 -1.23669162e+01\n",
      " -5.33610421e-01  8.87103957e-01  2.96795462e-01]\n"
     ]
    }
   ],
   "source": [
    "# Create MLRM and fit it\n",
    "regression2 = LinearRegression()\n",
    "\n",
    "# Fit the model\n",
    "model2 = regression2.fit(df_train_features.sort_index(), df_train_target.sort_index()) # Features first then target\n",
    "\n",
    "# Show the equation values:\n",
    "print(\"Intercept :\", model2.intercept_ )\n",
    "print(\"Coefficients :\", model2.coef_)"
   ]
  },
  {
   "cell_type": "markdown",
   "id": "ab883a7e",
   "metadata": {
    "papermill": {
     "duration": 0.037024,
     "end_time": "2024-05-07T17:56:26.459048",
     "exception": false,
     "start_time": "2024-05-07T17:56:26.422024",
     "status": "completed"
    },
    "tags": []
   },
   "source": [
    "Whith this information we can build the equation of the model:\n",
    "\n",
    "$$\n",
    "\\hat{y} = 16.635 + 0.020 · x_1 - 1.026 · x_2 - 0.151 · x_3 + 0.012 · x_4 - 1.490 · x_5 + 0.005 · x_6 - 0.003 · x_7 - 12.367 · x_8 - 0.534 · x_9 + 0.887 · x_{10} + 0.298 · x_{11}\n",
    "$$\n",
    "\n",
    "We can see that we have negative and positive values in the coeficients. We interpretate as follow:\n",
    "\n",
    "* **Positive**: A high value in that feature, increase the value of the taarget.\n",
    "* **Negative**: A high value in that feature, decrease the value of the taarget.\n",
    "\n",
    "If we replace the features for our first case we obtain this:"
   ]
  },
  {
   "cell_type": "code",
   "execution_count": 10,
   "id": "17ee5434",
   "metadata": {
    "execution": {
     "iopub.execute_input": "2024-05-07T17:56:26.530947Z",
     "iopub.status.busy": "2024-05-07T17:56:26.529847Z",
     "iopub.status.idle": "2024-05-07T17:56:26.542226Z",
     "shell.execute_reply": "2024-05-07T17:56:26.541060Z"
    },
    "papermill": {
     "duration": 0.049269,
     "end_time": "2024-05-07T17:56:26.544896",
     "exception": false,
     "start_time": "2024-05-07T17:56:26.495627",
     "status": "completed"
    },
    "tags": []
   },
   "outputs": [
    {
     "name": "stdout",
     "output_type": "stream",
     "text": [
      "Value of all features for our first case :      fixed acidity  volatile acidity  citric acid  residual sugar  chlorides  \\\n",
      "366           12.8             0.615         0.66             5.8      0.083   \n",
      "\n",
      "     free sulfur dioxide  total sulfur dioxide  density    pH  sulphates  \\\n",
      "366                  7.0                  42.0   1.0022  3.07       0.73   \n",
      "\n",
      "     alcohol  \n",
      "366     10.0  \n"
     ]
    }
   ],
   "source": [
    "print(\"Value of all features for our first case :\", df_train_features.iloc[0:1])"
   ]
  },
  {
   "cell_type": "markdown",
   "id": "e5ab56ae",
   "metadata": {
    "papermill": {
     "duration": 0.021953,
     "end_time": "2024-05-07T17:56:26.589113",
     "exception": false,
     "start_time": "2024-05-07T17:56:26.567160",
     "status": "completed"
    },
    "tags": []
   },
   "source": [
    "For the first case the final equation looks like:\n",
    "\n",
    "$$\n",
    "\\hat{y} = 16.634 + 0.020 \\cdot 12.8 - 1.026 \\cdot 0.615 - 0.151 \\cdot 0.66 + 0.012 \\cdot 5.8 - 1.490 \\cdot 0.083 + 0.005 \\cdot 7.0 - 0.003 \\cdot 42.0 - 12.367 \\cdot 1.0022 - 0.534 \\cdot 3.07 + 0.887 \\cdot 0.73 + 0.298 \\cdot 10.0\n",
    "$$\n",
    "\n",
    "And the quality predicted value :\n",
    "\n",
    "$$\n",
    "\\hat{y} \\approx 5.608\n",
    "$$\n",
    "\n",
    "We can do this using our script:"
   ]
  },
  {
   "cell_type": "code",
   "execution_count": 11,
   "id": "2dcd0bd6",
   "metadata": {
    "execution": {
     "iopub.execute_input": "2024-05-07T17:56:26.635664Z",
     "iopub.status.busy": "2024-05-07T17:56:26.634720Z",
     "iopub.status.idle": "2024-05-07T17:56:26.649212Z",
     "shell.execute_reply": "2024-05-07T17:56:26.648038Z"
    },
    "papermill": {
     "duration": 0.041122,
     "end_time": "2024-05-07T17:56:26.652722",
     "exception": false,
     "start_time": "2024-05-07T17:56:26.611600",
     "status": "completed"
    },
    "tags": []
   },
   "outputs": [
    {
     "name": "stdout",
     "output_type": "stream",
     "text": [
      "Quality predicted value for the frst case:    Multiple Model\n",
      "1        5.162484\n"
     ]
    }
   ],
   "source": [
    "model2_y = pd.DataFrame(model2.predict(df_train_features), \n",
    "                      index=df_train_features.index, \n",
    "                      columns=['Multiple Model'])\n",
    "\n",
    "print(\"Quality predicted value for the frst case:\", model2_y.sort_index().head(1))"
   ]
  },
  {
   "cell_type": "markdown",
   "id": "0a9354ba",
   "metadata": {
    "papermill": {
     "duration": 0.037911,
     "end_time": "2024-05-07T17:56:26.730330",
     "exception": false,
     "start_time": "2024-05-07T17:56:26.692419",
     "status": "completed"
    },
    "tags": []
   },
   "source": [
    "Represent now in a plot"
   ]
  },
  {
   "cell_type": "code",
   "execution_count": 12,
   "id": "e7e5f179",
   "metadata": {
    "execution": {
     "iopub.execute_input": "2024-05-07T17:56:26.790613Z",
     "iopub.status.busy": "2024-05-07T17:56:26.790230Z",
     "iopub.status.idle": "2024-05-07T17:56:27.149773Z",
     "shell.execute_reply": "2024-05-07T17:56:27.148725Z"
    },
    "papermill": {
     "duration": 0.386302,
     "end_time": "2024-05-07T17:56:27.152593",
     "exception": false,
     "start_time": "2024-05-07T17:56:26.766291",
     "status": "completed"
    },
    "tags": []
   },
   "outputs": [
    {
     "data": {
      "text/plain": [
       "<matplotlib.legend.Legend at 0x7b7bbfd4c1c0>"
      ]
     },
     "execution_count": 12,
     "metadata": {},
     "output_type": "execute_result"
    },
    {
     "data": {
      "image/png": "[encoded data removed]",
      "text/plain": [
       "<Figure size 1000x600 with 1 Axes>"
      ]
     },
     "metadata": {},
     "output_type": "display_data"
    }
   ],
   "source": [
    "# Plotting the actual data points\n",
    "plt.figure(figsize=(10, 6))\n",
    "plt.scatter(model2.predict(df_train_features.sort_index()), df_train_target.sort_index(), color='blue', label='Predicted vs Actual data')\n",
    "\n",
    "# Plotting the regression line\n",
    "plt.plot(df_train_target.sort_index(), df_train_target.sort_index(), color='red', linewidth=2, label='Fitted line')\n",
    "\n",
    "# Limits of the axes\n",
    "plt.xlim(0, 10)\n",
    "plt.ylim(0, 10)\n",
    "\n",
    "# Adding labels and title\n",
    "plt.xlabel('Quality (real value)')\n",
    "plt.ylabel('Predicted quality')\n",
    "plt.title('Multiple Linear Regression Fit')\n",
    "plt.legend()"
   ]
  },
  {
   "cell_type": "markdown",
   "id": "1a674ffc",
   "metadata": {
    "papermill": {
     "duration": 0.022644,
     "end_time": "2024-05-07T17:56:27.198708",
     "exception": false,
     "start_time": "2024-05-07T17:56:27.176064",
     "status": "completed"
    },
    "tags": []
   },
   "source": [
    "# 2. Features modifications \n",
    "\n",
    "### A. Interacction effect\n",
    "\n",
    "Some times, features could not show an effect in the target by it selfs, but the combinations of them does. We can include this type of effect including an interaction term in the model. \n",
    "\n",
    "Including interaction terms in the model allows for the possibility that the relationship between the predictors and the target variable is not additive ($ \\hat{\\beta}_1 · x_1 +  \\hat{\\beta}_2 · x_2 $) but varies depending on the levels of other predictors ($ \\hat{\\beta}_3 · x_1 · x_2 $).\n",
    "\n",
    "Imagine we have an original model with two features: x1 and x2. As we see the introduction, the model will take this form:\n",
    "\n",
    "$$\n",
    "\\hat{y} = \\hat{\\beta}_0 + \\hat{\\beta}_1 x_1 + \\hat{\\beta}_2 x_2 + \\epsilon\n",
    "$$\n",
    "\n",
    "If we suspect some interaction between this two features, we can add the interaction effect as follow:\n",
    "\n",
    "$$\n",
    "\\hat{y} = \\hat{\\beta}_0 + \\hat{\\beta}_1 x_1 + \\hat{\\beta}_2 x_2 + \\hat{\\beta}_3 x_1 x_2 + \\epsilon\n",
    "$$\n",
    "\n",
    "Some relevant things:\n",
    "* We can include as many interaction effects as we want, if there are interesting. However, think in the relevance for include them because we take the risk of overfitting in our model.\n",
    "* An interaction effect could include more than two features. For example ($ \\hat{\\beta}_3 · x_1 · x_2 · x_3 $). If you decide this is interesting in your case, take care about the overfitting and the dificulty of interpreate the interaction.\n",
    "* It is not necessary include interaction for all the features involve in the model. If we have a model with three features, and we thing only the interaction between $ x_1 $ and $ x_2 $ is ineresting, then we can create a model like this: $ \\hat{y} = \\hat{\\beta}_0 + \\hat{\\beta}_1 x_1 + \\hat{\\beta}_2 x_2 + \\hat{\\beta}_3 x_3 + \\hat{\\beta}_4 x_1 x_2 + \\epsilon $\n",
    "\n",
    "The domain knowledge and a visualization that shows the effect in the target using two features could be useful to decide when include an interaction.\n",
    "\n",
    "We will se how to do this in python.\n"
   ]
  },
  {
   "cell_type": "markdown",
   "id": "a206d69e",
   "metadata": {
    "papermill": {
     "duration": 0.022642,
     "end_time": "2024-05-07T17:56:27.244324",
     "exception": false,
     "start_time": "2024-05-07T17:56:27.221682",
     "status": "completed"
    },
    "tags": []
   },
   "source": [
    "### Multi-linear regression model all features plus an interaction between two of them\n",
    "\n",
    "As before, alochol is our target variable. As predictors we include all the feautres plus the interaction between free sulfur dioxide and alochol.\n",
    "\n",
    "First, we create the interaction:\n",
    "\n"
   ]
  },
  {
   "cell_type": "code",
   "execution_count": 13,
   "id": "59919052",
   "metadata": {
    "execution": {
     "iopub.execute_input": "2024-05-07T17:56:27.292002Z",
     "iopub.status.busy": "2024-05-07T17:56:27.291587Z",
     "iopub.status.idle": "2024-05-07T17:56:27.296803Z",
     "shell.execute_reply": "2024-05-07T17:56:27.295746Z"
    },
    "papermill": {
     "duration": 0.031562,
     "end_time": "2024-05-07T17:56:27.298825",
     "exception": false,
     "start_time": "2024-05-07T17:56:27.267263",
     "status": "completed"
    },
    "tags": []
   },
   "outputs": [],
   "source": [
    "interaction = PolynomialFeatures(\n",
    "    degree=2,                    # How many features combinations we want to create\n",
    "    include_bias=False,          # Exclude the bias term \n",
    "    interaction_only=True        # Only include interaction effects (not x^2, x^3, etc.)\n",
    "    )"
   ]
  },
  {
   "cell_type": "markdown",
   "id": "a8c9d7d4",
   "metadata": {
    "papermill": {
     "duration": 0.022971,
     "end_time": "2024-05-07T17:56:27.345332",
     "exception": false,
     "start_time": "2024-05-07T17:56:27.322361",
     "status": "completed"
    },
    "tags": []
   },
   "source": [
    "Now, we have to transform and fit the interaction between free sulfur dioxide and alcohol:"
   ]
  },
  {
   "cell_type": "code",
   "execution_count": 14,
   "id": "ec45e527",
   "metadata": {
    "execution": {
     "iopub.execute_input": "2024-05-07T17:56:27.393843Z",
     "iopub.status.busy": "2024-05-07T17:56:27.393447Z",
     "iopub.status.idle": "2024-05-07T17:56:27.407033Z",
     "shell.execute_reply": "2024-05-07T17:56:27.405706Z"
    },
    "papermill": {
     "duration": 0.04028,
     "end_time": "2024-05-07T17:56:27.409155",
     "exception": false,
     "start_time": "2024-05-07T17:56:27.368875",
     "status": "completed"
    },
    "tags": []
   },
   "outputs": [
    {
     "name": "stdout",
     "output_type": "stream",
     "text": [
      "   free sulfur dioxide  alcohol  free sulfur dioxide alcohol\n",
      "1                 25.0      9.8                        245.0\n"
     ]
    }
   ],
   "source": [
    "features_interaction = interaction.fit_transform(df_train_features[['free sulfur dioxide', 'alcohol']])\n",
    "\n",
    "# This is not necessary but is good to see the results. Transform the array into a dataframe:\n",
    "features_interaction = pd.DataFrame(features_interaction,\n",
    "                                      columns = interaction.get_feature_names_out(['free sulfur dioxide', 'alcohol']),\n",
    "                                      index=df_train_features.index  # This line ensures the index is carried over. Example, index 10 doesn´t should appear\n",
    "                                   )\n",
    "print(features_interaction.sort_index().head(1))\n"
   ]
  },
  {
   "cell_type": "markdown",
   "id": "5e9e5745",
   "metadata": {
    "papermill": {
     "duration": 0.022745,
     "end_time": "2024-05-07T17:56:27.454963",
     "exception": false,
     "start_time": "2024-05-07T17:56:27.432218",
     "status": "completed"
    },
    "tags": []
   },
   "source": [
    "As we see, the interaction include the simple features (because degree = 2 includes degree = 1 that are the simple effects) and the interaction. We are only interested in the interaction column (free sulfur dioxide alcohol) so we extract only that column and we add it to our original features df: "
   ]
  },
  {
   "cell_type": "code",
   "execution_count": 15,
   "id": "572b7d50",
   "metadata": {
    "execution": {
     "iopub.execute_input": "2024-05-07T17:56:27.503821Z",
     "iopub.status.busy": "2024-05-07T17:56:27.503441Z",
     "iopub.status.idle": "2024-05-07T17:56:27.513407Z",
     "shell.execute_reply": "2024-05-07T17:56:27.511946Z"
    },
    "papermill": {
     "duration": 0.037674,
     "end_time": "2024-05-07T17:56:27.515900",
     "exception": false,
     "start_time": "2024-05-07T17:56:27.478226",
     "status": "completed"
    },
    "tags": []
   },
   "outputs": [
    {
     "name": "stdout",
     "output_type": "stream",
     "text": [
      "   free sulfur dioxide alcohol\n",
      "1                        245.0\n",
      "2                        147.0\n",
      "3                        166.6\n",
      "4                        103.4\n",
      "5                        122.2\n"
     ]
    }
   ],
   "source": [
    "interaction_column = features_interaction[['free sulfur dioxide alcohol']].sort_index()\n",
    "print(interaction_column.sort_index().head(5))"
   ]
  },
  {
   "cell_type": "markdown",
   "id": "5e6621b5",
   "metadata": {
    "papermill": {
     "duration": 0.023094,
     "end_time": "2024-05-07T17:56:27.564277",
     "exception": false,
     "start_time": "2024-05-07T17:56:27.541183",
     "status": "completed"
    },
    "tags": []
   },
   "source": [
    "We add the interaction column to our original feature df. We are going to create a new df to show that is a modified version."
   ]
  },
  {
   "cell_type": "code",
   "execution_count": 16,
   "id": "67c60e2a",
   "metadata": {
    "execution": {
     "iopub.execute_input": "2024-05-07T17:56:27.613184Z",
     "iopub.status.busy": "2024-05-07T17:56:27.612152Z",
     "iopub.status.idle": "2024-05-07T17:56:27.631733Z",
     "shell.execute_reply": "2024-05-07T17:56:27.630030Z"
    },
    "papermill": {
     "duration": 0.046484,
     "end_time": "2024-05-07T17:56:27.634051",
     "exception": false,
     "start_time": "2024-05-07T17:56:27.587567",
     "status": "completed"
    },
    "tags": []
   },
   "outputs": [
    {
     "name": "stdout",
     "output_type": "stream",
     "text": [
      "   fixed acidity  volatile acidity  citric acid  residual sugar  chlorides  \\\n",
      "1            7.8              0.88         0.00             2.6      0.098   \n",
      "2            7.8              0.76         0.04             2.3      0.092   \n",
      "3           11.2              0.28         0.56             1.9      0.075   \n",
      "4            7.4              0.70         0.00             1.9      0.076   \n",
      "5            7.4              0.66         0.00             1.8      0.075   \n",
      "\n",
      "   free sulfur dioxide  total sulfur dioxide  density    pH  sulphates  \\\n",
      "1                 25.0                  67.0   0.9968  3.20       0.68   \n",
      "2                 15.0                  54.0   0.9970  3.26       0.65   \n",
      "3                 17.0                  60.0   0.9980  3.16       0.58   \n",
      "4                 11.0                  34.0   0.9978  3.51       0.56   \n",
      "5                 13.0                  40.0   0.9978  3.51       0.56   \n",
      "\n",
      "   alcohol  free sulfur dioxide alcohol  \n",
      "1      9.8                        245.0  \n",
      "2      9.8                        147.0  \n",
      "3      9.8                        166.6  \n",
      "4      9.4                        103.4  \n",
      "5      9.4                        122.2  \n"
     ]
    }
   ],
   "source": [
    "df_train_features_modified = df_train_features.join(interaction_column, how='outer')\n",
    "pd.set_option('display.max_rows', 1600) \n",
    "print(df_train_features_modified.sort_index().head(5))"
   ]
  },
  {
   "cell_type": "markdown",
   "id": "ecc749f0",
   "metadata": {
    "papermill": {
     "duration": 0.024229,
     "end_time": "2024-05-07T17:56:27.681531",
     "exception": false,
     "start_time": "2024-05-07T17:56:27.657302",
     "status": "completed"
    },
    "tags": []
   },
   "source": [
    "Now, we have a new df with all the original features plus one with the interaction (the last one).\n",
    "\n",
    "**!!! Important**. We have done this only for train data. In a normal workflow, this step must be done **before** split the df in test and training. In the final example we are going to see a compleate process.\n",
    "\n",
    "With our final df, features_interaction_modified, we can fit the model and obtain the intercept and coefficients:"
   ]
  },
  {
   "cell_type": "code",
   "execution_count": 17,
   "id": "0d5c2eeb",
   "metadata": {
    "execution": {
     "iopub.execute_input": "2024-05-07T17:56:27.730643Z",
     "iopub.status.busy": "2024-05-07T17:56:27.729715Z",
     "iopub.status.idle": "2024-05-07T17:56:27.741838Z",
     "shell.execute_reply": "2024-05-07T17:56:27.740770Z"
    },
    "papermill": {
     "duration": 0.038973,
     "end_time": "2024-05-07T17:56:27.744077",
     "exception": false,
     "start_time": "2024-05-07T17:56:27.705104",
     "status": "completed"
    },
    "tags": []
   },
   "outputs": [
    {
     "name": "stdout",
     "output_type": "stream",
     "text": [
      "Intercept : 15.24954829635005\n",
      "Coefficients :\n",
      "fixed acidity: 0.018\n",
      "volatile acidity: -1.023\n",
      "citric acid: -0.128\n",
      "residual sugar: 0.015\n",
      "chlorides: -1.459\n",
      "free sulfur dioxide: -0.021\n",
      "total sulfur dioxide: -0.003\n",
      "density: -10.538\n",
      "pH: -0.540\n",
      "sulphates: 0.872\n",
      "alcohol: 0.258\n",
      "free sulfur dioxide alcohol: 0.003\n"
     ]
    }
   ],
   "source": [
    "# Create MLRM and fit it\n",
    "regression3 = LinearRegression()\n",
    "\n",
    "# Fit the model\n",
    "model3 = regression3.fit(df_train_features_modified, df_train_target.sort_index()) # Features first then target\n",
    "\n",
    "# Show the equation values:\n",
    "print(\"Intercept :\", model3.intercept_ )\n",
    "\n",
    "# New way to obtain the coefficients with names and round them to three decimals:\n",
    "feature_names = df_train_features_modified.columns\n",
    "coefficient_dict = dict(zip(feature_names, model3.coef_))\n",
    "print(\"Coefficients :\")\n",
    "for feature, coef in coefficient_dict.items():\n",
    "    print(f\"{feature}: {coef:.3f}\")"
   ]
  },
  {
   "cell_type": "markdown",
   "id": "d5c79537",
   "metadata": {
    "papermill": {
     "duration": 0.02309,
     "end_time": "2024-05-07T17:56:27.790678",
     "exception": false,
     "start_time": "2024-05-07T17:56:27.767588",
     "status": "completed"
    },
    "tags": []
   },
   "source": [
    "Now build the equation of the model:\n",
    "\n",
    "$$\n",
    "\\hat{y} = -19.912 -0.013 · x_1 - 0.239 · x_2 + 0.199 · x_3 - 0.022 · x_4 + 0.454 · x_5 + 0.007 · x_6 + 0.001 · x_7 + 24.904 · x_8 + 0.136 · x_9 - 0.257 · x_{10} + 0.054 · x_{11} - 0.0005 · x_{6} · x_{11}\n",
    "$$\n",
    "\n",
    "As we see, the interaction coefficient is negative. It means that when we have higher levels of alcohol, the effect of free sulfur dioxide in the quality is less positive or negative. However, as we see, the size of the coefficients is ver low.\n",
    "\n",
    "If we replace the features for our first case we obtain this:"
   ]
  },
  {
   "cell_type": "code",
   "execution_count": 18,
   "id": "7600489b",
   "metadata": {
    "execution": {
     "iopub.execute_input": "2024-05-07T17:56:27.839106Z",
     "iopub.status.busy": "2024-05-07T17:56:27.838720Z",
     "iopub.status.idle": "2024-05-07T17:56:27.848549Z",
     "shell.execute_reply": "2024-05-07T17:56:27.847498Z"
    },
    "papermill": {
     "duration": 0.037291,
     "end_time": "2024-05-07T17:56:27.851399",
     "exception": false,
     "start_time": "2024-05-07T17:56:27.814108",
     "status": "completed"
    },
    "tags": []
   },
   "outputs": [
    {
     "name": "stdout",
     "output_type": "stream",
     "text": [
      "Value of all features for our first case :    fixed acidity  volatile acidity  citric acid  residual sugar  chlorides  \\\n",
      "1            7.8              0.88          0.0             2.6      0.098   \n",
      "\n",
      "   free sulfur dioxide  total sulfur dioxide  density   pH  sulphates  \\\n",
      "1                 25.0                  67.0   0.9968  3.2       0.68   \n",
      "\n",
      "   alcohol  free sulfur dioxide alcohol  \n",
      "1      9.8                        245.0  \n"
     ]
    }
   ],
   "source": [
    "# Notice that we use df_train_features_modified\n",
    "print(\"Value of all features for our first case :\", df_train_features_modified.iloc[0:1]) "
   ]
  },
  {
   "cell_type": "markdown",
   "id": "bdb5aae5",
   "metadata": {
    "papermill": {
     "duration": 0.023233,
     "end_time": "2024-05-07T17:56:27.898275",
     "exception": false,
     "start_time": "2024-05-07T17:56:27.875042",
     "status": "completed"
    },
    "tags": []
   },
   "source": [
    "We replace the variable information:"
   ]
  },
  {
   "cell_type": "markdown",
   "id": "1dfab4cd",
   "metadata": {
    "execution": {
     "iopub.execute_input": "2024-04-30T13:45:11.368509Z",
     "iopub.status.busy": "2024-04-30T13:45:11.367516Z",
     "iopub.status.idle": "2024-04-30T13:45:11.379680Z",
     "shell.execute_reply": "2024-04-30T13:45:11.377633Z",
     "shell.execute_reply.started": "2024-04-30T13:45:11.368447Z"
    },
    "papermill": {
     "duration": 0.022876,
     "end_time": "2024-05-07T17:56:27.944524",
     "exception": false,
     "start_time": "2024-05-07T17:56:27.921648",
     "status": "completed"
    },
    "tags": []
   },
   "source": [
    "\n"
   ]
  },
  {
   "cell_type": "code",
   "execution_count": 19,
   "id": "3252c19c",
   "metadata": {
    "execution": {
     "iopub.execute_input": "2024-05-07T17:56:27.993724Z",
     "iopub.status.busy": "2024-05-07T17:56:27.992809Z",
     "iopub.status.idle": "2024-05-07T17:56:28.005498Z",
     "shell.execute_reply": "2024-05-07T17:56:28.003866Z"
    },
    "papermill": {
     "duration": 0.040267,
     "end_time": "2024-05-07T17:56:28.008380",
     "exception": false,
     "start_time": "2024-05-07T17:56:27.968113",
     "status": "completed"
    },
    "tags": []
   },
   "outputs": [
    {
     "name": "stdout",
     "output_type": "stream",
     "text": [
      "Quality predicted value for the frst case:    Interaction Model\n",
      "1           5.145824\n"
     ]
    }
   ],
   "source": [
    "model3_y = pd.DataFrame(model3.predict(df_train_features_modified), \n",
    "                      index=df_train_features_modified.index, \n",
    "                      columns=['Interaction Model'])\n",
    "\n",
    "print(\"Quality predicted value for the frst case:\", model3_y.sort_index().head(1))"
   ]
  },
  {
   "cell_type": "markdown",
   "id": "ea459ad5",
   "metadata": {
    "papermill": {
     "duration": 0.039941,
     "end_time": "2024-05-07T17:56:28.088633",
     "exception": false,
     "start_time": "2024-05-07T17:56:28.048692",
     "status": "completed"
    },
    "tags": []
   },
   "source": [
    "An error occurred while committing kernel: ConcurrencyViolation Sequence number must match Draft record: KernelId=55703157, ExpectedSequence=611, ActualSequence=608, AuthorUserId=4700056\n",
    "### B. No linear relations\n",
    "\n",
    "In linear model we expect the relation between target and feature will be constant. When it does't happen the relation is no lineal. For example, imagine a student that is preparing an exam. In general, more hours of study means a better score. However, this relation is not linear. Study one hour doesn't mean obtain a one score in the test, or study seven hour doesn't mean score as seven. The relation is exponencial between the target (score) and the feature (number of hours of study).\n",
    "\n",
    "A model that include a no lineal effect in a feature take this aspect:\n",
    "\n",
    "$$\n",
    "\\hat{y} = \\hat{\\beta}_0 + \\hat{\\beta}_1 x_1 +  \\hat{\\beta}_2 x_1^2 + ... + \\hat{\\beta}_n x_n + \\epsilon\n",
    "$$\n",
    "\n",
    "Where:\n",
    "\n",
    "* $ x_1 $: Is the feature with a lineal efect.\n",
    "* $ x_1^2 $: Is the same feature with a no-linear association. $ ^2 $ are the grades of the polinomio.\n",
    "\n",
    "The procedure is similar to the interaction effect. We are going to create the compleate model including a no linear regression for sulphite feature.\n",
    "\n",
    "We start creating a new feature $ sulphite^2 $ that is the same as $ suphite · sulphite $ (a interaction between the same feature)."
   ]
  },
  {
   "cell_type": "code",
   "execution_count": 20,
   "id": "aaa75435",
   "metadata": {
    "execution": {
     "iopub.execute_input": "2024-05-07T17:56:28.151821Z",
     "iopub.status.busy": "2024-05-07T17:56:28.151441Z",
     "iopub.status.idle": "2024-05-07T17:56:28.156303Z",
     "shell.execute_reply": "2024-05-07T17:56:28.155242Z"
    },
    "papermill": {
     "duration": 0.03258,
     "end_time": "2024-05-07T17:56:28.158529",
     "exception": false,
     "start_time": "2024-05-07T17:56:28.125949",
     "status": "completed"
    },
    "tags": []
   },
   "outputs": [],
   "source": [
    "polynomial = PolynomialFeatures(\n",
    "    degree=2,                    # We need a interaction with two degrees.\n",
    "    include_bias=False,          # Exclude the bias term \n",
    "    interaction_only=False       # NEW. Include polynomia effects. In our case only x^2 because we are interesting in 2 degrees.\n",
    "    )"
   ]
  },
  {
   "cell_type": "markdown",
   "id": "647b94d8",
   "metadata": {
    "papermill": {
     "duration": 0.023388,
     "end_time": "2024-05-07T17:56:28.205574",
     "exception": false,
     "start_time": "2024-05-07T17:56:28.182186",
     "status": "completed"
    },
    "tags": []
   },
   "source": [
    "Fit the model:"
   ]
  },
  {
   "cell_type": "code",
   "execution_count": 21,
   "id": "bb65ceda",
   "metadata": {
    "execution": {
     "iopub.execute_input": "2024-05-07T17:56:28.254887Z",
     "iopub.status.busy": "2024-05-07T17:56:28.254489Z",
     "iopub.status.idle": "2024-05-07T17:56:28.268104Z",
     "shell.execute_reply": "2024-05-07T17:56:28.267134Z"
    },
    "papermill": {
     "duration": 0.041323,
     "end_time": "2024-05-07T17:56:28.270526",
     "exception": false,
     "start_time": "2024-05-07T17:56:28.229203",
     "status": "completed"
    },
    "tags": []
   },
   "outputs": [
    {
     "name": "stdout",
     "output_type": "stream",
     "text": [
      "    sulphates  sulphates^2\n",
      "1        0.70       0.4900\n",
      "2        0.76       0.5776\n",
      "3        0.60       0.3600\n",
      "4        0.73       0.5329\n",
      "5        0.49       0.2401\n",
      "6        0.64       0.4096\n",
      "7        0.57       0.3249\n",
      "8        0.50       0.2500\n",
      "9        0.70       0.4900\n",
      "11       0.50       0.2500\n",
      "12       0.66       0.4356\n",
      "13       0.50       0.2500\n",
      "14       0.82       0.6724\n",
      "16       0.60       0.3600\n",
      "19       0.84       0.7056\n",
      "20       1.13       1.2769\n",
      "21       0.57       0.3249\n",
      "22       0.60       0.3600\n",
      "23       0.46       0.2116\n",
      "24       0.82       0.6724\n"
     ]
    }
   ],
   "source": [
    "features_polynomial = polynomial.fit_transform(df_train_features[['sulphates']].sort_index())\n",
    "\n",
    "# This is not necessary but is good to see the results. Transform the array into a dataframe:\n",
    "features_polynomial = pd.DataFrame(features_polynomial,\n",
    "                                   columns = polynomial.get_feature_names_out(),\n",
    "                                   index=df_train_features.index  # This line ensures the index is carried over. Example, index 10 doesn´t should appear\n",
    "                                   )\n",
    "print(features_polynomial.sort_index().head(20))"
   ]
  },
  {
   "cell_type": "markdown",
   "id": "e754f7e8",
   "metadata": {
    "papermill": {
     "duration": 0.023191,
     "end_time": "2024-05-07T17:56:28.317368",
     "exception": false,
     "start_time": "2024-05-07T17:56:28.294177",
     "status": "completed"
    },
    "tags": []
   },
   "source": [
    "We need only the $ sulphates^2 $ column. First, we isolete that column and then we add it to the original feature df (we create a new dataframe for this new data)"
   ]
  },
  {
   "cell_type": "code",
   "execution_count": 22,
   "id": "da8f0555",
   "metadata": {
    "execution": {
     "iopub.execute_input": "2024-05-07T17:56:28.366778Z",
     "iopub.status.busy": "2024-05-07T17:56:28.366024Z",
     "iopub.status.idle": "2024-05-07T17:56:28.382229Z",
     "shell.execute_reply": "2024-05-07T17:56:28.380896Z"
    },
    "papermill": {
     "duration": 0.043196,
     "end_time": "2024-05-07T17:56:28.384459",
     "exception": false,
     "start_time": "2024-05-07T17:56:28.341263",
     "status": "completed"
    },
    "tags": []
   },
   "outputs": [
    {
     "name": "stdout",
     "output_type": "stream",
     "text": [
      "   fixed acidity  volatile acidity  citric acid  residual sugar  chlorides  \\\n",
      "1            7.8              0.88         0.00             2.6      0.098   \n",
      "2            7.8              0.76         0.04             2.3      0.092   \n",
      "3           11.2              0.28         0.56             1.9      0.075   \n",
      "4            7.4              0.70         0.00             1.9      0.076   \n",
      "5            7.4              0.66         0.00             1.8      0.075   \n",
      "\n",
      "   free sulfur dioxide  total sulfur dioxide  density    pH  sulphates  \\\n",
      "1                 25.0                  67.0   0.9968  3.20       0.68   \n",
      "2                 15.0                  54.0   0.9970  3.26       0.65   \n",
      "3                 17.0                  60.0   0.9980  3.16       0.58   \n",
      "4                 11.0                  34.0   0.9978  3.51       0.56   \n",
      "5                 13.0                  40.0   0.9978  3.51       0.56   \n",
      "\n",
      "   alcohol  sulphates^2  \n",
      "1      9.8       0.4900  \n",
      "2      9.8       0.5776  \n",
      "3      9.8       0.3600  \n",
      "4      9.4       0.5329  \n",
      "5      9.4       0.2401  \n"
     ]
    }
   ],
   "source": [
    "# Isolate the polynomial feature\n",
    "polynomial_column = features_polynomial[['sulphates^2']].sort_index()\n",
    "\n",
    "# Add to the other features (and create a new features df)\n",
    "df_train_features_polynomial = df_train_features.join(polynomial_column, how='outer')\n",
    "print(df_train_features_polynomial.sort_index().head(5))"
   ]
  },
  {
   "cell_type": "markdown",
   "id": "552bafbe",
   "metadata": {
    "papermill": {
     "duration": 0.024059,
     "end_time": "2024-05-07T17:56:28.432513",
     "exception": false,
     "start_time": "2024-05-07T17:56:28.408454",
     "status": "completed"
    },
    "tags": []
   },
   "source": [
    "**!!! Important**. We have done this only for train data. In a normal workflow, this step must be done **before** split the df in test and training. In the final example we are going to see a compleate process.\n",
    "\n",
    "With our final df, features_interaction_modified, we can fit the model and obtain the intercept and coefficients:"
   ]
  },
  {
   "cell_type": "code",
   "execution_count": 23,
   "id": "7df0539e",
   "metadata": {
    "execution": {
     "iopub.execute_input": "2024-05-07T17:56:28.481751Z",
     "iopub.status.busy": "2024-05-07T17:56:28.481355Z",
     "iopub.status.idle": "2024-05-07T17:56:28.493813Z",
     "shell.execute_reply": "2024-05-07T17:56:28.492703Z"
    },
    "papermill": {
     "duration": 0.039985,
     "end_time": "2024-05-07T17:56:28.496258",
     "exception": false,
     "start_time": "2024-05-07T17:56:28.456273",
     "status": "completed"
    },
    "tags": []
   },
   "outputs": [
    {
     "name": "stdout",
     "output_type": "stream",
     "text": [
      "Intercept : 16.66306821940761\n",
      "Coefficients :\n",
      "fixed acidity: 0.020\n",
      "volatile acidity: -1.026\n",
      "citric acid: -0.151\n",
      "residual sugar: 0.012\n",
      "chlorides: -1.487\n",
      "free sulfur dioxide: 0.005\n",
      "total sulfur dioxide: -0.003\n",
      "density: -12.404\n",
      "pH: -0.532\n",
      "sulphates: 0.887\n",
      "alcohol: 0.297\n",
      "sulphates^2: 0.008\n"
     ]
    }
   ],
   "source": [
    "# Create MLRM and fit it\n",
    "regression4 = LinearRegression()\n",
    "\n",
    "# Fit the model\n",
    "model4 = regression4.fit(df_train_features_polynomial.sort_index(), df_train_target.sort_index()) # Features first then target\n",
    "\n",
    "# Show the equation values:\n",
    "print(\"Intercept :\", model4.intercept_ )\n",
    "\n",
    "# New way to obtain the coefficients with names and round them to three decimals:\n",
    "feature_names = df_train_features_polynomial.columns\n",
    "coefficient_dict = dict(zip(feature_names, model4.coef_))\n",
    "print(\"Coefficients :\")\n",
    "for feature, coef in coefficient_dict.items():\n",
    "    print(f\"{feature}: {coef:.3f}\")"
   ]
  },
  {
   "cell_type": "markdown",
   "id": "2a44587e",
   "metadata": {
    "papermill": {
     "duration": 0.032115,
     "end_time": "2024-05-07T17:56:28.553612",
     "exception": false,
     "start_time": "2024-05-07T17:56:28.521497",
     "status": "completed"
    },
    "tags": []
   },
   "source": [
    "Now build the equation of the model:\n",
    "\n",
    "$$\n",
    "\\hat{y} = -19.002 -0.014 · x_1 - 0.229 · x_2 + 0.199 · x_3 - 0.021 · x_4 + 0.467 · x_5 + 0.002 · x_6 + 0.001 · x_7 + 24.062 · x_8 + 0.114 · x_9 + 0.011 · x_{10} + 0.045 · x_{11} - 0.158 · x_{10}^2\n",
    "$$\n",
    "\n",
    "As we see, the polynomial coefficient is negative. It means that when we have higher levels of sulphates, the level of quality (target) decrees. As is a polynomial feature, it means that the decrising on quality is faster.\n",
    "\n",
    "If we replace the features for our first case we obtain this:"
   ]
  },
  {
   "cell_type": "code",
   "execution_count": 24,
   "id": "c87a54c1",
   "metadata": {
    "execution": {
     "iopub.execute_input": "2024-05-07T17:56:28.603027Z",
     "iopub.status.busy": "2024-05-07T17:56:28.602636Z",
     "iopub.status.idle": "2024-05-07T17:56:28.614332Z",
     "shell.execute_reply": "2024-05-07T17:56:28.613027Z"
    },
    "papermill": {
     "duration": 0.040398,
     "end_time": "2024-05-07T17:56:28.617898",
     "exception": false,
     "start_time": "2024-05-07T17:56:28.577500",
     "status": "completed"
    },
    "tags": []
   },
   "outputs": [
    {
     "name": "stdout",
     "output_type": "stream",
     "text": [
      "Quality predicted value for the frst case:    Polinomyal Model\n",
      "1          5.162267\n"
     ]
    }
   ],
   "source": [
    "model4_y = pd.DataFrame(model4.predict(df_train_features_polynomial.sort_index()), \n",
    "                      index=df_train_features_polynomial.index, \n",
    "                      columns=['Polinomyal Model'])\n",
    "\n",
    "print(\"Quality predicted value for the frst case:\", model4_y.sort_index().head(1))"
   ]
  },
  {
   "cell_type": "markdown",
   "id": "4c41f7e0",
   "metadata": {
    "papermill": {
     "duration": 0.04072,
     "end_time": "2024-05-07T17:56:28.699901",
     "exception": false,
     "start_time": "2024-05-07T17:56:28.659181",
     "status": "completed"
    },
    "tags": []
   },
   "source": [
    "We create a plot comparing the predicted value (x-axe) vs the real on (y-axe). We round our predicted value to 0 decimal because the original scale of quality (target) is an integer with no decimals. As we can see, our model predicts for all wines qualities between 5 and 6 while the original values of qualities range between 3 and 8."
   ]
  },
  {
   "cell_type": "code",
   "execution_count": 25,
   "id": "5e0652f8",
   "metadata": {
    "execution": {
     "iopub.execute_input": "2024-05-07T17:56:28.761937Z",
     "iopub.status.busy": "2024-05-07T17:56:28.761552Z",
     "iopub.status.idle": "2024-05-07T17:56:29.034075Z",
     "shell.execute_reply": "2024-05-07T17:56:29.032808Z"
    },
    "papermill": {
     "duration": 0.300942,
     "end_time": "2024-05-07T17:56:29.037063",
     "exception": false,
     "start_time": "2024-05-07T17:56:28.736121",
     "status": "completed"
    },
    "tags": []
   },
   "outputs": [
    {
     "data": {
      "image/png": "[encoded data removed]",
      "text/plain": [
       "<Figure size 1000x600 with 1 Axes>"
      ]
     },
     "metadata": {},
     "output_type": "display_data"
    }
   ],
   "source": [
    "plt.figure(figsize=(10, 6))\n",
    "plt.scatter(np.round(model4.predict(df_train_features_polynomial)), df_train_target.sort_index(), c=df_train_target, cmap='bwr', edgecolors='k', s=100)\n",
    "plt.xlim(0, 10)\n",
    "plt.ylim(0, 10)\n",
    "plt.xlabel('Features')\n",
    "plt.ylabel('Target')\n",
    "plt.title('Logistic Regression with Polynomial Feature')\n",
    "plt.show()"
   ]
  },
  {
   "cell_type": "markdown",
   "id": "231b7024",
   "metadata": {
    "papermill": {
     "duration": 0.02423,
     "end_time": "2024-05-07T17:56:29.087663",
     "exception": false,
     "start_time": "2024-05-07T17:56:29.063433",
     "status": "completed"
    },
    "tags": []
   },
   "source": [
    "# 3. Optimization techniques\n",
    "\n",
    "Scikit-learn give a lot of options about what estimator use. The image bellow shows the huge variety this package includes, not only for regression, if not different techniques. You can see more information in https://scikit-learn.org/stable/_static/ml_map\n",
    "\n",
    "<div style=\"text-align:center\">\n",
    "    <img src=\"https://scikit-learn.org/stable/_static/ml_map.png\" alt=\"Scikit-Learn estimators\" width=\"700\" height=\"500\">\n",
    "</div>\n",
    "\n",
    "The **optimization algorithms** are techniques used to find the best solution to a problem, usually trying to fin the minimun or the maximun in a function. Some key concepts:\n",
    "\n",
    "* **Objetive function**: Function we want to optimize.\n",
    "* **Minimun and Maximun**: We look for the minimun when we try to obtain the parameters that minimze the error. We look for the maximun when try to found the features that maximize the gaprofitsins.\n",
    "* **Stopping Conditions**: Criterial that sais when stop to search for the optimal solution. For example, we fix the number of iterations or when the improvements in the objetive function is bellow a specif threshold.\n",
    "* **Optimal point**: Input value that produces the minimum or maximun value of the objetive function.\n",
    "* **Gradient**: Vector that inicates the direction and magnitude of the steepest change in a function.\n",
    "\n",
    "**Residual Sum of Squares (RSS)**: Metric to compute the differences between real values and estimate values. It follows this formula:\n",
    "\n",
    "$$\n",
    "RSS = \\sum_{i=1}^{n} ( y_i - \\hat{y}_i )^2\n",
    "$$\n",
    "\n",
    "Where:\n",
    "\n",
    "* i: is the specific row.\n",
    "* n: is the total sample.\n",
    "* $y_i$ is the real value of the target.\n",
    "* $\\hat{y}_i$: is the estimated value of the target.\n",
    "\n",
    "Regularization model includes some penalization to this RSS."
   ]
  },
  {
   "cell_type": "markdown",
   "id": "09961a26",
   "metadata": {
    "papermill": {
     "duration": 0.024027,
     "end_time": "2024-05-07T17:56:29.135938",
     "exception": false,
     "start_time": "2024-05-07T17:56:29.111911",
     "status": "completed"
    },
    "tags": []
   },
   "source": [
    "### A. Ordinary Least Square (OLS)\n",
    "\n",
    "* The aim is minimize the square sum of the errors (differences between predictions and real values). \n",
    "* Usefull when the errors follows a normal distribution and there are no outliers.\n"
   ]
  },
  {
   "cell_type": "markdown",
   "id": "bc4a3f14",
   "metadata": {
    "papermill": {
     "duration": 0.024519,
     "end_time": "2024-05-07T17:56:29.184954",
     "exception": false,
     "start_time": "2024-05-07T17:56:29.160435",
     "status": "completed"
    },
    "tags": []
   },
   "source": [
    "### B. Grdient Descent\n",
    "\n",
    "* Iterative process to find the optime parameters.\n",
    "* Use all the sample.\n",
    "* Parameter are update in the oposite direction of the gradient of the loss function.\n",
    "* Search the local or global minimun.\n",
    "* Slower than other model when the linear regression problem is simple but is more flexible so it is useful with complex problems."
   ]
  },
  {
   "cell_type": "markdown",
   "id": "01ad708c",
   "metadata": {
    "papermill": {
     "duration": 0.027794,
     "end_time": "2024-05-07T17:56:29.238314",
     "exception": false,
     "start_time": "2024-05-07T17:56:29.210520",
     "status": "completed"
    },
    "tags": []
   },
   "source": [
    "### C. SGD Regressor (Stochastic Gradient Descent)\n",
    "\n",
    "* Variant od Gradient Descent.\n",
    "* Search for the minimun to update the model parameters.\n",
    "* Use when you have large samples.\n",
    "* Use a random sample of the data in each iteration. This is the reason to use with large datasets (large training samples).\n"
   ]
  },
  {
   "cell_type": "markdown",
   "id": "fa3f2dab",
   "metadata": {
    "papermill": {
     "duration": 0.024372,
     "end_time": "2024-05-07T17:56:29.289436",
     "exception": false,
     "start_time": "2024-05-07T17:56:29.265064",
     "status": "completed"
    },
    "tags": []
   },
   "source": [
    "### D. Regularization\n",
    "\n",
    "Differences between Lasso and Ridge Regression:\n",
    "\n",
    "| | Ridge Regression | Lasso Regression |\n",
    "|:--:| :--:|:--:|\n",
    "|Penalty term| Proportional to the square of the square of the magnitude of the coefficients: $ \\Theta^2 $ | Proportional to the absolute value of the coefficients $ |\\Theta| $. It could drive some coefficients to 0|\n",
    "|Aim| Reduce the overfit and reduce the complexity of the model| Reduce the complexity and automatically select some features (driven their coefficients to 0, in other words, deleting it)|\n",
    "|Predictions| Better| More interpretable|\n",
    "\n",
    "**$\\alpha$**: Hiperparameter that controls how much is going to be penalize. Higher the value, more simple models. To select the best value, a tuning process must be done. **WARNING** in Lasso, if we pick a large value we can deleate a lot of features because their coefficients will go to 0.\n",
    "\n",
    "#### A. Ridge Regression\n",
    "\n",
    "When use it:\n",
    "* Big correlation between features\n",
    "* Number of features > number of observations (sobredimensional models)\n",
    "* When we want to reduce the overfiting but not the multicollinearity.\n",
    "\n",
    "This model penalizes as follow:\n",
    "\n",
    "$$\n",
    "RSS + \\alpha ·  \\sum_{j=1}^{p} (\\hat{\\beta} _j )^2\n",
    "$$\n",
    "\n",
    "Where:\n",
    "\n",
    "* j: is a specific feature.\n",
    "* p: is total number of features.\n",
    "* $\\beta$ is the coeficient of the feature.\n",
    "* $\\alpha$: is the hiperparameter.\n",
    "\n",
    "#### B. Lasso Regression\n",
    "\n",
    "This model penalizes as follow:\n",
    "\n",
    "$$\n",
    "\\frac{1}{2n}· RSS + \\alpha ·  \\sum_{j=1}^{p} |\\hat{\\beta}_j|\n",
    "$$\n",
    "\n",
    "Where:\n",
    "\n",
    "* j: is a specific feature.\n",
    "* p: is total number of features.\n",
    "* $\\beta$ is the coeficient of the feature.\n",
    "* $\\alpha$: is the hiperparameter.\n",
    "* n: Number of obervations.\n",
    "\n",
    "#### C. Elastic Net\n",
    "\n",
    "Combine Ridge and Lasso.\n"
   ]
  },
  {
   "cell_type": "markdown",
   "id": "44dd63fe",
   "metadata": {
    "papermill": {
     "duration": 0.023885,
     "end_time": "2024-05-07T17:56:29.337503",
     "exception": false,
     "start_time": "2024-05-07T17:56:29.313618",
     "status": "completed"
    },
    "tags": []
   },
   "source": [
    "#### Ridge Regression\n",
    "\n",
    "Create the Ridge Regression Model and select different values for the hiperparameter $\\alpha$"
   ]
  },
  {
   "cell_type": "code",
   "execution_count": 26,
   "id": "02991532",
   "metadata": {
    "execution": {
     "iopub.execute_input": "2024-05-07T17:56:29.388458Z",
     "iopub.status.busy": "2024-05-07T17:56:29.387527Z",
     "iopub.status.idle": "2024-05-07T17:56:29.392720Z",
     "shell.execute_reply": "2024-05-07T17:56:29.391737Z"
    },
    "papermill": {
     "duration": 0.033056,
     "end_time": "2024-05-07T17:56:29.394965",
     "exception": false,
     "start_time": "2024-05-07T17:56:29.361909",
     "status": "completed"
    },
    "tags": []
   },
   "outputs": [],
   "source": [
    "# Create the model with different values for alpha\n",
    "ridge_regression = RidgeCV(alphas=[0.001, 0.01, 0.1, 1, 10, 100])\n"
   ]
  },
  {
   "cell_type": "markdown",
   "id": "27efc47d",
   "metadata": {
    "papermill": {
     "duration": 0.023529,
     "end_time": "2024-05-07T17:56:29.442411",
     "exception": false,
     "start_time": "2024-05-07T17:56:29.418882",
     "status": "completed"
    },
    "tags": []
   },
   "source": [
    "Adjust the model:"
   ]
  },
  {
   "cell_type": "code",
   "execution_count": 27,
   "id": "43119357",
   "metadata": {
    "execution": {
     "iopub.execute_input": "2024-05-07T17:56:29.492671Z",
     "iopub.status.busy": "2024-05-07T17:56:29.492281Z",
     "iopub.status.idle": "2024-05-07T17:56:29.511746Z",
     "shell.execute_reply": "2024-05-07T17:56:29.510430Z"
    },
    "papermill": {
     "duration": 0.048499,
     "end_time": "2024-05-07T17:56:29.515103",
     "exception": false,
     "start_time": "2024-05-07T17:56:29.466604",
     "status": "completed"
    },
    "tags": []
   },
   "outputs": [],
   "source": [
    "ridge_model = ridge_regression.fit(df_train_features.sort_index(), df_train_target.sort_index())"
   ]
  },
  {
   "cell_type": "markdown",
   "id": "4ed9bd75",
   "metadata": {
    "papermill": {
     "duration": 0.048679,
     "end_time": "2024-05-07T17:56:29.638238",
     "exception": false,
     "start_time": "2024-05-07T17:56:29.589559",
     "status": "completed"
    },
    "tags": []
   },
   "source": [
    "View the coefficients and the best value of $\\alpha$:"
   ]
  },
  {
   "cell_type": "code",
   "execution_count": 28,
   "id": "2797eb22",
   "metadata": {
    "execution": {
     "iopub.execute_input": "2024-05-07T17:56:29.688199Z",
     "iopub.status.busy": "2024-05-07T17:56:29.687813Z",
     "iopub.status.idle": "2024-05-07T17:56:29.694079Z",
     "shell.execute_reply": "2024-05-07T17:56:29.693055Z"
    },
    "papermill": {
     "duration": 0.03418,
     "end_time": "2024-05-07T17:56:29.696681",
     "exception": false,
     "start_time": "2024-05-07T17:56:29.662501",
     "status": "completed"
    },
    "tags": []
   },
   "outputs": [
    {
     "name": "stdout",
     "output_type": "stream",
     "text": [
      "Coefficients : 0.1\n",
      "Intercept : 4.573099061086399\n",
      "Coefficients :\n",
      "fixed acidity: 0.009\n",
      "volatile acidity: -1.037\n",
      "citric acid: -0.153\n",
      "residual sugar: 0.006\n",
      "chlorides: -1.427\n",
      "free sulfur dioxide: 0.006\n",
      "total sulfur dioxide: -0.003\n",
      "density: -0.093\n",
      "pH: -0.586\n",
      "sulphates: 0.861\n",
      "alcohol: 0.309\n"
     ]
    }
   ],
   "source": [
    "print(\"Coefficients :\", ridge_model.alpha_)\n",
    "print(\"Intercept :\", ridge_model.intercept_ )\n",
    "\n",
    "feature_names = df_train_features.columns\n",
    "coefficient_dict = dict(zip(feature_names, ridge_model.coef_))\n",
    "print(\"Coefficients :\")\n",
    "for feature, coef in coefficient_dict.items():\n",
    "    print(f\"{feature}: {coef:.3f}\")"
   ]
  },
  {
   "cell_type": "markdown",
   "id": "c8bbfdff",
   "metadata": {
    "papermill": {
     "duration": 0.024338,
     "end_time": "2024-05-07T17:56:29.746222",
     "exception": false,
     "start_time": "2024-05-07T17:56:29.721884",
     "status": "completed"
    },
    "tags": []
   },
   "source": [
    "Now build the equation of the model:\n",
    "\n",
    "$$\n",
    "\\hat{y} = 4.573 + 0.009 · x_1 -1.037 · x_2 - 0.153 · x_3 + 0.0011 · x_4 + - 1.427 · x_5 + 0.006 · x_6 - 0.003 · x_7 - 0.093 · x_8 - 0.586 · x_9 + 0.861 · x_{10} + 0.309 · x_{11} \n",
    "$$\n",
    "\n",
    "\n",
    "As we see, the polynomial coefficient is negative. It means that when we have higher levels of sulphates, the level of quality (target) decrees. As is a polynomial feature, it means that the decrising on quality is faster.\n",
    "\n",
    "If we replace the features for our first case we obtain this:"
   ]
  },
  {
   "cell_type": "code",
   "execution_count": 29,
   "id": "b33e1c26",
   "metadata": {
    "execution": {
     "iopub.execute_input": "2024-05-07T17:56:29.798021Z",
     "iopub.status.busy": "2024-05-07T17:56:29.797032Z",
     "iopub.status.idle": "2024-05-07T17:56:29.808379Z",
     "shell.execute_reply": "2024-05-07T17:56:29.807216Z"
    },
    "papermill": {
     "duration": 0.040111,
     "end_time": "2024-05-07T17:56:29.810901",
     "exception": false,
     "start_time": "2024-05-07T17:56:29.770790",
     "status": "completed"
    },
    "tags": []
   },
   "outputs": [
    {
     "name": "stdout",
     "output_type": "stream",
     "text": [
      "Value of all features for our first case :    fixed acidity  volatile acidity  citric acid  residual sugar  chlorides  \\\n",
      "1            7.8              0.88          0.0             2.6      0.098   \n",
      "\n",
      "   free sulfur dioxide  total sulfur dioxide  density   pH  sulphates  alcohol  \n",
      "1                 25.0                  67.0   0.9968  3.2       0.68      9.8  \n"
     ]
    }
   ],
   "source": [
    "print(\"Value of all features for our first case :\", df_train_features.sort_index().iloc[0:1]) "
   ]
  },
  {
   "cell_type": "markdown",
   "id": "13699844",
   "metadata": {
    "papermill": {
     "duration": 0.024533,
     "end_time": "2024-05-07T17:56:29.859902",
     "exception": false,
     "start_time": "2024-05-07T17:56:29.835369",
     "status": "completed"
    },
    "tags": []
   },
   "source": [
    "In the equation:\n",
    "\n",
    "$$\n",
    "\\hat{y} = 4.573 + 0.009 · 7.8 - 1.037 · 0.88 - 0.153 · 0 + 0.001 · 2.6 - 1.427 · 0.098 + 0.006 · 25 - 0.003 · 67 - 0.093 · 0.997 - 0.586 · 3.2 + 0.861 · 0.68 + 0.309 · 9.8 \\approx 5.188\n",
    "$$\n",
    "\n",
    "If we compute in python:"
   ]
  },
  {
   "cell_type": "code",
   "execution_count": 30,
   "id": "c4bea1da",
   "metadata": {
    "execution": {
     "iopub.execute_input": "2024-05-07T17:56:29.910907Z",
     "iopub.status.busy": "2024-05-07T17:56:29.910507Z",
     "iopub.status.idle": "2024-05-07T17:56:29.922182Z",
     "shell.execute_reply": "2024-05-07T17:56:29.921068Z"
    },
    "papermill": {
     "duration": 0.040389,
     "end_time": "2024-05-07T17:56:29.924948",
     "exception": false,
     "start_time": "2024-05-07T17:56:29.884559",
     "status": "completed"
    },
    "tags": []
   },
   "outputs": [
    {
     "name": "stdout",
     "output_type": "stream",
     "text": [
      "Quality predicted value for the frst case:    Ridge Model\n",
      "1     5.164368\n"
     ]
    }
   ],
   "source": [
    "ridge_model_y = pd.DataFrame(ridge_model.predict(df_train_features), \n",
    "                      index=df_train_features.index, \n",
    "                      columns=['Ridge Model'])\n",
    "\n",
    "print(\"Quality predicted value for the frst case:\", ridge_model_y.sort_index().head(1))"
   ]
  },
  {
   "cell_type": "markdown",
   "id": "ed343935",
   "metadata": {
    "papermill": {
     "duration": 0.046082,
     "end_time": "2024-05-07T17:56:30.013548",
     "exception": false,
     "start_time": "2024-05-07T17:56:29.967466",
     "status": "completed"
    },
    "tags": []
   },
   "source": [
    "#### Lasso Regression\n",
    "\n",
    "Create the Lasso Regression Model and select different values for the hiperparameter $\\alpha$"
   ]
  },
  {
   "cell_type": "code",
   "execution_count": 31,
   "id": "38b04042",
   "metadata": {
    "execution": {
     "iopub.execute_input": "2024-05-07T17:56:30.075404Z",
     "iopub.status.busy": "2024-05-07T17:56:30.074749Z",
     "iopub.status.idle": "2024-05-07T17:56:30.079420Z",
     "shell.execute_reply": "2024-05-07T17:56:30.078437Z"
    },
    "papermill": {
     "duration": 0.033429,
     "end_time": "2024-05-07T17:56:30.081568",
     "exception": false,
     "start_time": "2024-05-07T17:56:30.048139",
     "status": "completed"
    },
    "tags": []
   },
   "outputs": [],
   "source": [
    "lasso_regression = LassoCV(alphas=[0.001, 0.01, 0.1, 1, 10, 100])\n"
   ]
  },
  {
   "cell_type": "markdown",
   "id": "1aef4705",
   "metadata": {
    "papermill": {
     "duration": 0.023824,
     "end_time": "2024-05-07T17:56:30.129943",
     "exception": false,
     "start_time": "2024-05-07T17:56:30.106119",
     "status": "completed"
    },
    "tags": []
   },
   "source": [
    "Adjust the model:"
   ]
  },
  {
   "cell_type": "code",
   "execution_count": 32,
   "id": "a6b94786",
   "metadata": {
    "execution": {
     "iopub.execute_input": "2024-05-07T17:56:30.181175Z",
     "iopub.status.busy": "2024-05-07T17:56:30.180268Z",
     "iopub.status.idle": "2024-05-07T17:56:30.215934Z",
     "shell.execute_reply": "2024-05-07T17:56:30.214567Z"
    },
    "papermill": {
     "duration": 0.064848,
     "end_time": "2024-05-07T17:56:30.219437",
     "exception": false,
     "start_time": "2024-05-07T17:56:30.154589",
     "status": "completed"
    },
    "tags": []
   },
   "outputs": [],
   "source": [
    "lasso_model = lasso_regression.fit(df_train_features, df_train_target)"
   ]
  },
  {
   "cell_type": "markdown",
   "id": "14546588",
   "metadata": {
    "papermill": {
     "duration": 0.041734,
     "end_time": "2024-05-07T17:56:30.339299",
     "exception": false,
     "start_time": "2024-05-07T17:56:30.297565",
     "status": "completed"
    },
    "tags": []
   },
   "source": [
    "View the coefficients and the best value of $\\alpha$:"
   ]
  },
  {
   "cell_type": "code",
   "execution_count": 33,
   "id": "edebb11d",
   "metadata": {
    "execution": {
     "iopub.execute_input": "2024-05-07T17:56:30.390582Z",
     "iopub.status.busy": "2024-05-07T17:56:30.390215Z",
     "iopub.status.idle": "2024-05-07T17:56:30.397053Z",
     "shell.execute_reply": "2024-05-07T17:56:30.396045Z"
    },
    "papermill": {
     "duration": 0.035134,
     "end_time": "2024-05-07T17:56:30.399384",
     "exception": false,
     "start_time": "2024-05-07T17:56:30.364250",
     "status": "completed"
    },
    "tags": []
   },
   "outputs": [
    {
     "name": "stdout",
     "output_type": "stream",
     "text": [
      "Coefficients : 0.001\n",
      "Intercept : 3.9810386276245433\n",
      "Coefficients :\n",
      "fixed acidity: 0.012\n",
      "volatile acidity: -1.012\n",
      "citric acid: -0.074\n",
      "residual sugar: 0.004\n",
      "chlorides: -0.803\n",
      "free sulfur dioxide: 0.006\n",
      "total sulfur dioxide: -0.003\n",
      "density: -0.000\n",
      "pH: -0.457\n",
      "sulphates: 0.768\n",
      "alcohol: 0.311\n"
     ]
    }
   ],
   "source": [
    "print(\"Coefficients :\", lasso_model.alpha_)\n",
    "print(\"Intercept :\", lasso_model.intercept_ )\n",
    "\n",
    "feature_names = df_train_features.columns\n",
    "coefficient_dict = dict(zip(feature_names, lasso_model.coef_))\n",
    "print(\"Coefficients :\")\n",
    "for feature, coef in coefficient_dict.items():\n",
    "    print(f\"{feature}: {coef:.3f}\")"
   ]
  },
  {
   "cell_type": "markdown",
   "id": "fcef3bb6",
   "metadata": {
    "papermill": {
     "duration": 0.024326,
     "end_time": "2024-05-07T17:56:30.449156",
     "exception": false,
     "start_time": "2024-05-07T17:56:30.424830",
     "status": "completed"
    },
    "tags": []
   },
   "source": [
    "Now build the equation of the model:\n",
    "\n",
    "$$\n",
    "\\hat{y} = 3.981 + 0.012 · x_1 -1.012 · x_2 - 0.074 · x_3 + 0.004 · x_4 + - 0.803 · x_5 + 0.006 · x_6 - 0.003 · x_7 - 0 · x_8 - 0.457 · x_9 + 0.768 · x_{10} + 0.311 · x_{11} \n",
    "$$\n",
    "\n",
    "\n",
    "As we see, tthe coefficient for *density* drops to 0\n",
    "\n",
    "If we replace the features for our first case we obtain this:"
   ]
  },
  {
   "cell_type": "code",
   "execution_count": 34,
   "id": "284dbf7c",
   "metadata": {
    "execution": {
     "iopub.execute_input": "2024-05-07T17:56:30.499677Z",
     "iopub.status.busy": "2024-05-07T17:56:30.499291Z",
     "iopub.status.idle": "2024-05-07T17:56:30.510792Z",
     "shell.execute_reply": "2024-05-07T17:56:30.509630Z"
    },
    "papermill": {
     "duration": 0.039293,
     "end_time": "2024-05-07T17:56:30.513007",
     "exception": false,
     "start_time": "2024-05-07T17:56:30.473714",
     "status": "completed"
    },
    "tags": []
   },
   "outputs": [
    {
     "name": "stdout",
     "output_type": "stream",
     "text": [
      "Value of all features for our first case :    fixed acidity  volatile acidity  citric acid  residual sugar  chlorides  \\\n",
      "1            7.8              0.88          0.0             2.6      0.098   \n",
      "\n",
      "   free sulfur dioxide  total sulfur dioxide  density   pH  sulphates  alcohol  \n",
      "1                 25.0                  67.0   0.9968  3.2       0.68      9.8  \n"
     ]
    }
   ],
   "source": [
    "print(\"Value of all features for our first case :\", df_train_features.sort_index().iloc[0:1]) "
   ]
  },
  {
   "cell_type": "markdown",
   "id": "0df06fae",
   "metadata": {
    "papermill": {
     "duration": 0.026788,
     "end_time": "2024-05-07T17:56:30.565582",
     "exception": false,
     "start_time": "2024-05-07T17:56:30.538794",
     "status": "completed"
    },
    "tags": []
   },
   "source": [
    "In the equation:\n",
    "\n",
    "$$\n",
    "\n",
    "\\hat{y} = 3.981 + 0.012 · 7.8 -1.012 · 0.88 - 0.074 · 0 + 0.004 · 2.6 + - 0.803 · 0.098 + 0.006 · 25 - 0.003 · 67 - 0 · 0.997 - 0.457 · 3.2 + 0.768 · 0.68 + 0.311 · 9.8 \\approx 5.172\n",
    "\n",
    "$$\n",
    "\n",
    "If we compute in python:"
   ]
  },
  {
   "cell_type": "code",
   "execution_count": 35,
   "id": "0002c288",
   "metadata": {
    "execution": {
     "iopub.execute_input": "2024-05-07T17:56:30.617300Z",
     "iopub.status.busy": "2024-05-07T17:56:30.616906Z",
     "iopub.status.idle": "2024-05-07T17:56:30.629110Z",
     "shell.execute_reply": "2024-05-07T17:56:30.628058Z"
    },
    "papermill": {
     "duration": 0.040506,
     "end_time": "2024-05-07T17:56:30.631382",
     "exception": false,
     "start_time": "2024-05-07T17:56:30.590876",
     "status": "completed"
    },
    "tags": []
   },
   "outputs": [
    {
     "name": "stdout",
     "output_type": "stream",
     "text": [
      "Quality predicted value for the first case:    Lasso Model\n",
      "1      5.14118\n"
     ]
    }
   ],
   "source": [
    "lasso_model_y = pd.DataFrame(lasso_model.predict(df_train_features), \n",
    "                      index=df_train_features.index, \n",
    "                      columns=['Lasso Model'])\n",
    "\n",
    "print(\"Quality predicted value for the first case:\", lasso_model_y.sort_index().head(1))"
   ]
  },
  {
   "cell_type": "markdown",
   "id": "f2515644",
   "metadata": {
    "papermill": {
     "duration": 0.04155,
     "end_time": "2024-05-07T17:56:30.713014",
     "exception": false,
     "start_time": "2024-05-07T17:56:30.671464",
     "status": "completed"
    },
    "tags": []
   },
   "source": [
    "# 4. Quantiy the fit\n",
    "\n",
    "### A. Coefficient of determination $R^2$\n",
    "\n",
    "Definition: \"Proportion of target varianze that could be predict using the targeys\".\n",
    "\n",
    "This coefficient is used to compare the efficiency of different models and determine which of them fix better the observate data.\n",
    "\n",
    "The formula is as follow:\n",
    "\n",
    "$$\n",
    "R^2 = 1 - \\frac{SS_{res}}{SS_{total}}\n",
    "$$\n",
    "\n",
    "* Residual Sum Square ($SS_{res}$): \n",
    "\n",
    "$$\n",
    "SS_{res} = \\sum(y_i - \\hat{y_i})^2\n",
    "$$\n",
    "\n",
    "* Total Sum Square ($SS_{total}$): \n",
    "\n",
    "$$\n",
    "SS_{total} = \\sum(y_i - \\bar{y_i})^2\n",
    "$$\n",
    "\n",
    "The nomenclature used in this is formulas:\n",
    "\n",
    "* $y_i$: Real values of the target.\n",
    "* $\\hat{y_i}$: Target values predicted by the model.\n",
    "* $\\bar{y_i}$: Mean of the real values ($y_i$).\n",
    "\n",
    "Interpretation:\n",
    "\n",
    "* $R^2$ = 1. The model is perfect. The features explain all the variability of the target. The residues are minimus.\n",
    "* $R^2$ = 0. The model doesn´t explain the variability in the data. Is not more useful than use the mean of the data as a predictor of each observation.\n",
    "* $R^2$ < 0. The model made worse than using simply the mean.\n",
    "\n",
    "Characteristics:\n",
    "\n",
    "* Although it is odd, the model could be worse than use only the mean.\n",
    "\n",
    "* When the prediction residuals have zero mean, the score is identical to the Explained Variance score.\n",
    "\n",
    "We are going to explore the models that we generate in previous steps:"
   ]
  },
  {
   "cell_type": "code",
   "execution_count": 36,
   "id": "45de69b0",
   "metadata": {
    "execution": {
     "iopub.execute_input": "2024-05-07T17:56:30.776604Z",
     "iopub.status.busy": "2024-05-07T17:56:30.775700Z",
     "iopub.status.idle": "2024-05-07T17:56:30.792762Z",
     "shell.execute_reply": "2024-05-07T17:56:30.791682Z"
    },
    "papermill": {
     "duration": 0.045369,
     "end_time": "2024-05-07T17:56:30.795174",
     "exception": false,
     "start_time": "2024-05-07T17:56:30.749805",
     "status": "completed"
    },
    "tags": []
   },
   "outputs": [
    {
     "name": "stdout",
     "output_type": "stream",
     "text": [
      "Indices match successfully!\n",
      "   Actual Target  Simple Model  Multiple Model  Interaction Model  \\\n",
      "1              5      5.327065        5.162484           5.145824   \n",
      "2              5      5.946399        5.213026           5.212054   \n",
      "3              6      5.618516        5.686151           5.685478   \n",
      "4              5      5.654948        4.995446           5.004634   \n",
      "5              5      5.144908        5.027484           5.030856   \n",
      "\n",
      "   Polynomial Model  Ridge Model  Lasso Model  \n",
      "1          5.162267     5.164368     5.141180  \n",
      "2          5.213692     5.216523     5.198900  \n",
      "3          5.685397     5.676837     5.680926  \n",
      "4          4.996003     4.999413     5.005788  \n",
      "5          5.025714     5.032526     5.038046  \n"
     ]
    }
   ],
   "source": [
    "# Sort by index\n",
    "df_train_target = df_train_target.sort_index()\n",
    "model1_y = model1_y.sort_index()\n",
    "model2_y = model2_y.sort_index()\n",
    "model3_y = model3_y.sort_index()\n",
    "model4_y = model4_y.sort_index()\n",
    "ridge_model_y = ridge_model_y.sort_index()\n",
    "lasso_model_y = lasso_model_y.sort_index()\n",
    "\n",
    "# Ensure all preidctions and real observations has the same index:\n",
    "assert df_train_target.index.equals(model1_y.index), \"Indices do not match\"\n",
    "assert df_train_target.index.equals(model2_y.index), \"Indices do not match\"\n",
    "assert df_train_target.index.equals(model3_y.index), \"Indices do not match\"\n",
    "assert df_train_target.index.equals(model4_y.index), \"Indices do not match\"\n",
    "assert df_train_target.index.equals(ridge_model_y.index), \"Indices do not match\"\n",
    "assert df_train_target.index.equals(lasso_model_y.index), \"Indices do not match\"\n",
    "print(\"Indices match successfully!\")\n",
    "\n",
    "predictions = pd.DataFrame({\n",
    "    'Actual Target': np.squeeze(df_train_target), # Real values\n",
    "    'Simple Model': np.squeeze(model1_y),\n",
    "    'Multiple Model': np.squeeze(model2_y),\n",
    "    'Interaction Model': np.squeeze(model3_y),\n",
    "    'Polynomial Model': np.squeeze(model4_y),\n",
    "    'Ridge Model': np.squeeze(ridge_model_y),\n",
    "    'Lasso Model': np.squeeze(lasso_model_y),\n",
    "})\n",
    "\n",
    "print(predictions.head())"
   ]
  },
  {
   "cell_type": "markdown",
   "id": "d40fe795",
   "metadata": {
    "papermill": {
     "duration": 0.024756,
     "end_time": "2024-05-07T17:56:30.845210",
     "exception": false,
     "start_time": "2024-05-07T17:56:30.820454",
     "status": "completed"
    },
    "tags": []
   },
   "source": [
    "Now we are going to calculate the $R^2$ coefficient:"
   ]
  },
  {
   "cell_type": "code",
   "execution_count": 37,
   "id": "4a6ba150",
   "metadata": {
    "execution": {
     "iopub.execute_input": "2024-05-07T17:56:30.896918Z",
     "iopub.status.busy": "2024-05-07T17:56:30.896547Z",
     "iopub.status.idle": "2024-05-07T17:56:30.909996Z",
     "shell.execute_reply": "2024-05-07T17:56:30.908752Z"
    },
    "papermill": {
     "duration": 0.042025,
     "end_time": "2024-05-07T17:56:30.912113",
     "exception": false,
     "start_time": "2024-05-07T17:56:30.870088",
     "status": "completed"
    },
    "tags": []
   },
   "outputs": [
    {
     "name": "stdout",
     "output_type": "stream",
     "text": [
      "R2 score for Simple Model: -0.1973\n",
      "R2 score for Multiple Model: 0.3633\n",
      "R2 score for Interaction Model: 0.3644\n",
      "R2 score for Polynomial Model: 0.3633\n",
      "R2 score for Ridge Model: 0.3631\n",
      "R2 score for Lasso Model: 0.3615\n"
     ]
    }
   ],
   "source": [
    "r2_scores = {}\n",
    "r2_scores['Simple Model'] = r2_score(predictions['Actual Target'], predictions['Simple Model'])\n",
    "r2_scores['Multiple Model'] = r2_score(predictions['Actual Target'], predictions['Multiple Model'])\n",
    "r2_scores['Interaction Model'] = r2_score(predictions['Actual Target'], predictions['Interaction Model'])\n",
    "r2_scores['Polynomial Model'] = r2_score(predictions['Actual Target'], predictions['Polynomial Model'])\n",
    "r2_scores['Ridge Model'] = r2_score(predictions['Actual Target'], predictions['Ridge Model'])\n",
    "r2_scores['Lasso Model'] = r2_score(predictions['Actual Target'], predictions['Lasso Model'])\n",
    "\n",
    "# Print the R2 scores\n",
    "for model, score in r2_scores.items():\n",
    "    print(f\"R2 score for {model}: {score:.4f}\")\n"
   ]
  },
  {
   "cell_type": "markdown",
   "id": "46d642ea",
   "metadata": {
    "papermill": {
     "duration": 0.024551,
     "end_time": "2024-05-07T17:56:30.961381",
     "exception": false,
     "start_time": "2024-05-07T17:56:30.936830",
     "status": "completed"
    },
    "tags": []
   },
   "source": [
    "We can see that the model that includes all the features without transformation is the model that works better. On the other side, model where were transform one feature (interaction and polynomial) are the ones that shows the wors behaviour."
   ]
  },
  {
   "cell_type": "markdown",
   "id": "d0804b4d",
   "metadata": {
    "papermill": {
     "duration": 0.024555,
     "end_time": "2024-05-07T17:56:31.010834",
     "exception": false,
     "start_time": "2024-05-07T17:56:30.986279",
     "status": "completed"
    },
    "tags": []
   },
   "source": [
    "### B. Adjusted coefficient of determination $R^2$\n",
    "\n",
    "**Why to use it?**: When we add more predictiors to the model, $R^2$ always increase (or at least doesn´t decrease). The problem is that adjusted is not as inerpretable than $R^2$.\n",
    "\n",
    "Formula looks like follows:\n",
    "\n",
    "$$\n",
    "R^2 = 1 - \\left( \\frac{SS_{\\text{res}}}{SS_{\\text{total}}} \\right) \\cdot \\left( \\frac{N-1}{N-K-1} \\right)\n",
    "$$\n",
    "\n",
    "Where:\n",
    "\n",
    "* $SS_{\\text{res}}$ and $SS_{\\text{total}}$ are the same as in $R^2$.\n",
    "* **N**: Number of observations in the data.\n",
    "* **K**: Number of features used in the model (excluding the intercept)\n",
    "\n",
    "The second part of the formula is the part that adjust for Degrees of Freedom."
   ]
  },
  {
   "cell_type": "markdown",
   "id": "120e5996",
   "metadata": {
    "papermill": {
     "duration": 0.024456,
     "end_time": "2024-05-07T17:56:31.060059",
     "exception": false,
     "start_time": "2024-05-07T17:56:31.035603",
     "status": "completed"
    },
    "tags": []
   },
   "source": [
    "# 5. Hypothesis tests\n",
    "\n",
    "Two aproximations:\n",
    "\n",
    "* A. See if the model proposed is better than the null model.\n",
    "* B. Test if a particular coefficient is statistical different from 0\n",
    "\n",
    "\n"
   ]
  },
  {
   "cell_type": "markdown",
   "id": "75e6ba38",
   "metadata": {
    "papermill": {
     "duration": 0.024472,
     "end_time": "2024-05-07T17:56:31.109317",
     "exception": false,
     "start_time": "2024-05-07T17:56:31.084845",
     "status": "completed"
    },
    "tags": []
   },
   "source": [
    "### A. Compare with the null model\n",
    "\n",
    "The null model (baseline model) is that one that no use any feature to predict the target.\n",
    "\n",
    "The null hypothesis is that there are no relation between the features and the target.\n",
    "\n",
    "**Null model**: Consist in that model that predict using only the mean or the median\n",
    "\n",
    "$$\n",
    "\\hat{y_i} = \\bar{y_i}:\n",
    "$$\n",
    "\n",
    "Where:\n",
    "\n",
    "* $\\hat{y_i}$: Prediction.\n",
    "* $\\bar{y_i}$: Mean of the target values in the training set.\n",
    "\n",
    "We can follow three strategies:\n",
    "\n",
    "#### a. Difference in $R^2$\n",
    "\n",
    "Compare the values of the coefficient of determination between the null model and an alternative model. Following this we are going to know what model works better, but we can ensure if one works significatilly better than the other. \n",
    "\n",
    "#### b. F-test for nested models (Extra Sum of Squares Test)\n",
    "\n",
    "This approach is used when the alternative modell is equal to the null model plus some additional predictors.\n",
    "\n",
    "We calculate if the explained variance in the full modell is significantly greater than in the null model relative to the increase in degrees of fredoon (number of predictors).\n",
    "\n",
    "Formula:\n",
    "\n",
    "$$\n",
    "F = \\frac{\\frac{(R^2_{\\text{full}} - R^2_{\\text{reduced}})}{p}}{\\frac{(1 - R^2_{\\text{full}})}{(n - p - 1)}} \n",
    "$$\n",
    "\n",
    "\n",
    "Where:\n",
    "* $R^2_{\\text{full}}$ is the R-squared of the full model (with the additional predictors).\n",
    "* $R^2_{\\text{reduced}}$ is the R-squared of the reduced model (null model).\n",
    "* $p$ is the number of extra predictors added to the reduced model to get the full model.\n",
    "* $n$ is the total number of observations.\n",
    "\n",
    "### c. Information Criteria (AIC\\BIC)\n",
    "\n",
    "* **AIC**: Akaike Information Criterion. Focus on selecting the model that most closely approximates the truth. Disadvantage: It can favor mode complex model (risk of overfitting). Use when all model to compare have the same complexity or when the models are nested.\n",
    "* **BIC**: Bayesian Information Criterion. Strong penalty for complexity, often favoring simpler model especially as sample size grows. Preferable when dealing with very large datasets.\n",
    "\n",
    "**Characteristics**:\n",
    "\n",
    "* Meassure the complexity of the model penalizing unnecessary complexity (too much predictors). \n",
    "* Lowe values of AIC and BIC means a better model.\n",
    "* A significant drop in AIC and BIC values when move from null model to the alternative model can suggest that the increase in the model complexity is justified.\n",
    "* Interesting when you are interested in model selection or balancing models.\n",
    "\n",
    "**Interpretation**: There is no way to test if the improvements is significative. However, there is a rule of thumb. We can apply for both, AIC and BIC:\n",
    "\n",
    "* Diferences 2: No siginificative.\n",
    "* Differences between 2 and 6: Some evidence against the model with the higher value of the criterion. This means the model with the lower AIC\\BIC is better.\n",
    "* Differences between 6 and 10: Strong evidence that the model with the lower criterios is better.\n",
    "* Difference > 10. Very strong evidence.\n",
    "\n",
    "### Now we are going to implement these three approachs in Python:\n",
    "\n",
    "#### a.  Difference in $R^2$\n",
    "We are going to create the null value and compare with the other models we have, then we use the F-test approach and finally the Information Criteria approach."
   ]
  },
  {
   "cell_type": "code",
   "execution_count": 38,
   "id": "e00dd6d8",
   "metadata": {
    "execution": {
     "iopub.execute_input": "2024-05-07T17:56:31.161902Z",
     "iopub.status.busy": "2024-05-07T17:56:31.161520Z",
     "iopub.status.idle": "2024-05-07T17:56:31.170359Z",
     "shell.execute_reply": "2024-05-07T17:56:31.169209Z"
    },
    "papermill": {
     "duration": 0.037788,
     "end_time": "2024-05-07T17:56:31.172609",
     "exception": false,
     "start_time": "2024-05-07T17:56:31.134821",
     "status": "completed"
    },
    "tags": []
   },
   "outputs": [
    {
     "name": "stdout",
     "output_type": "stream",
     "text": [
      "[5.6247068 5.6247068 5.6247068 ... 5.6247068 5.6247068 5.6247068]\n"
     ]
    }
   ],
   "source": [
    "# Empty model: Always predict the mean\n",
    "mean_regressor = DummyRegressor(strategy='mean')\n",
    "mean_regressor.fit(df_train_features.sort_index(), df_train_target.sort_index())\n",
    "target_pred_mean = mean_regressor.predict(df_train_target.sort_index())\n",
    "print(target_pred_mean)"
   ]
  },
  {
   "cell_type": "markdown",
   "id": "7a377b5b",
   "metadata": {
    "papermill": {
     "duration": 0.024599,
     "end_time": "2024-05-07T17:56:31.222806",
     "exception": false,
     "start_time": "2024-05-07T17:56:31.198207",
     "status": "completed"
    },
    "tags": []
   },
   "source": [
    "Now, we compute $R^2$ for our nul model:"
   ]
  },
  {
   "cell_type": "code",
   "execution_count": 39,
   "id": "cc14f35f",
   "metadata": {
    "execution": {
     "iopub.execute_input": "2024-05-07T17:56:31.275123Z",
     "iopub.status.busy": "2024-05-07T17:56:31.274709Z",
     "iopub.status.idle": "2024-05-07T17:56:31.281811Z",
     "shell.execute_reply": "2024-05-07T17:56:31.280707Z"
    },
    "papermill": {
     "duration": 0.036109,
     "end_time": "2024-05-07T17:56:31.284194",
     "exception": false,
     "start_time": "2024-05-07T17:56:31.248085",
     "status": "completed"
    },
    "tags": []
   },
   "outputs": [
    {
     "name": "stdout",
     "output_type": "stream",
     "text": [
      "R² del Modelo Vacío: 0.0\n"
     ]
    }
   ],
   "source": [
    "r2_null_model = r2_score(df_train_target, target_pred_mean)\n",
    "print(\"R² del Modelo Vacío:\", r2_null_model)"
   ]
  },
  {
   "cell_type": "markdown",
   "id": "25d79467",
   "metadata": {
    "papermill": {
     "duration": 0.025162,
     "end_time": "2024-05-07T17:56:31.335440",
     "exception": false,
     "start_time": "2024-05-07T17:56:31.310278",
     "status": "completed"
    },
    "tags": []
   },
   "source": [
    "Now compare the $R^2$ of each model:"
   ]
  },
  {
   "cell_type": "code",
   "execution_count": 40,
   "id": "b7a4316f",
   "metadata": {
    "execution": {
     "iopub.execute_input": "2024-05-07T17:56:31.387751Z",
     "iopub.status.busy": "2024-05-07T17:56:31.387010Z",
     "iopub.status.idle": "2024-05-07T17:56:31.396999Z",
     "shell.execute_reply": "2024-05-07T17:56:31.395872Z"
    },
    "papermill": {
     "duration": 0.03888,
     "end_time": "2024-05-07T17:56:31.399347",
     "exception": false,
     "start_time": "2024-05-07T17:56:31.360467",
     "status": "completed"
    },
    "tags": []
   },
   "outputs": [
    {
     "name": "stdout",
     "output_type": "stream",
     "text": [
      "               Model  R-squared\n",
      "0       Simple Model  -0.197251\n",
      "1     Multiple Model   0.363267\n",
      "2  Interaction Model   0.364398\n",
      "3   Polynomial Model   0.363275\n",
      "4        Ridge Model   0.363123\n",
      "5        Lasso Model   0.361542\n",
      "6         Null Model   0.000000\n"
     ]
    }
   ],
   "source": [
    "# Predictions as df\n",
    "df_r2_scores = pd.DataFrame(list(r2_scores.items()), columns=['Model', 'R-squared'])\n",
    "\n",
    "# Add the new column\n",
    "null_model_row = pd.DataFrame({'Model': ['Null Model'], 'R-squared': [r2_null_model]})\n",
    "df_r2_scores = pd.concat([df_r2_scores, null_model_row], ignore_index=True)\n",
    "\n",
    "print(df_r2_scores)"
   ]
  },
  {
   "cell_type": "markdown",
   "id": "19a40765",
   "metadata": {
    "papermill": {
     "duration": 0.024528,
     "end_time": "2024-05-07T17:56:31.449020",
     "exception": false,
     "start_time": "2024-05-07T17:56:31.424492",
     "status": "completed"
    },
    "tags": []
   },
   "source": [
    "As we can see, the all the models predict better than the null model.\n",
    "\n",
    "#### b. F-test for nested models (Extra Sum of Squares Test)\n",
    "\n",
    "In stat model we need to include a constant if we want an intercept in the model."
   ]
  },
  {
   "cell_type": "code",
   "execution_count": 41,
   "id": "991cb74a",
   "metadata": {
    "execution": {
     "iopub.execute_input": "2024-05-07T17:56:31.500866Z",
     "iopub.status.busy": "2024-05-07T17:56:31.500475Z",
     "iopub.status.idle": "2024-05-07T17:56:31.522714Z",
     "shell.execute_reply": "2024-05-07T17:56:31.521555Z"
    },
    "papermill": {
     "duration": 0.051289,
     "end_time": "2024-05-07T17:56:31.525399",
     "exception": false,
     "start_time": "2024-05-07T17:56:31.474110",
     "status": "completed"
    },
    "tags": []
   },
   "outputs": [
    {
     "name": "stdout",
     "output_type": "stream",
     "text": [
      "Null features:\n",
      "       const\n",
      "1594    1.0\n",
      "1595    1.0\n",
      "1596    1.0\n",
      "1597    1.0\n",
      "1598    1.0 \n",
      "Multiple Regression features:\n",
      "       const  fixed acidity  volatile acidity  citric acid  residual sugar  \\\n",
      "1594    1.0            6.2             0.600         0.08             2.0   \n",
      "1595    1.0            5.9             0.550         0.10             2.2   \n",
      "1596    1.0            6.3             0.510         0.13             2.3   \n",
      "1597    1.0            5.9             0.645         0.12             2.0   \n",
      "1598    1.0            6.0             0.310         0.47             3.6   \n",
      "\n",
      "      chlorides  free sulfur dioxide  total sulfur dioxide  density    pH  \\\n",
      "1594      0.090                 32.0                  44.0  0.99490  3.45   \n",
      "1595      0.062                 39.0                  51.0  0.99512  3.52   \n",
      "1596      0.076                 29.0                  40.0  0.99574  3.42   \n",
      "1597      0.075                 32.0                  44.0  0.99547  3.57   \n",
      "1598      0.067                 18.0                  42.0  0.99549  3.39   \n",
      "\n",
      "      sulphates  alcohol  \n",
      "1594       0.58     10.5  \n",
      "1595       0.76     11.2  \n",
      "1596       0.75     11.0  \n",
      "1597       0.71     10.2  \n",
      "1598       0.66     11.0  \n"
     ]
    }
   ],
   "source": [
    "# Creare a df for the null model. As we don´t have predictors, only a constant is present.\n",
    "null_features   = sm.add_constant(pd.DataFrame(index=df_train_features.index)).sort_index()\n",
    "full_features   = sm.add_constant(df_train_features).sort_index()\n",
    "\n",
    "#reduce_model = sm.add_constant(X_reduced)\n",
    "print(\"Null features:\\n\", null_features.tail(5), \"\\nMultiple Regression features:\\n\", full_features.tail(5))"
   ]
  },
  {
   "cell_type": "markdown",
   "id": "bd9114d7",
   "metadata": {
    "papermill": {
     "duration": 0.025572,
     "end_time": "2024-05-07T17:56:31.578676",
     "exception": false,
     "start_time": "2024-05-07T17:56:31.553104",
     "status": "completed"
    },
    "tags": []
   },
   "source": [
    "Use OLS to fit each model:"
   ]
  },
  {
   "cell_type": "code",
   "execution_count": 42,
   "id": "aab1f8c3",
   "metadata": {
    "execution": {
     "iopub.execute_input": "2024-05-07T17:56:31.632496Z",
     "iopub.status.busy": "2024-05-07T17:56:31.632123Z",
     "iopub.status.idle": "2024-05-07T17:56:31.675104Z",
     "shell.execute_reply": "2024-05-07T17:56:31.673917Z"
    },
    "papermill": {
     "duration": 0.074179,
     "end_time": "2024-05-07T17:56:31.679028",
     "exception": false,
     "start_time": "2024-05-07T17:56:31.604849",
     "status": "completed"
    },
    "tags": []
   },
   "outputs": [
    {
     "name": "stdout",
     "output_type": "stream",
     "text": [
      "Null Model Summary:\n",
      "                            OLS Regression Results                            \n",
      "==============================================================================\n",
      "Dep. Variable:                quality   R-squared:                       0.000\n",
      "Model:                            OLS   Adj. R-squared:                  0.000\n",
      "Method:                 Least Squares   F-statistic:                       nan\n",
      "Date:                Tue, 07 May 2024   Prob (F-statistic):                nan\n",
      "Time:                        17:56:31   Log-Likelihood:                -1542.8\n",
      "No. Observations:                1279   AIC:                             3088.\n",
      "Df Residuals:                    1278   BIC:                             3093.\n",
      "Df Model:                           0                                         \n",
      "Covariance Type:            nonrobust                                         \n",
      "==============================================================================\n",
      "                 coef    std err          t      P>|t|      [0.025      0.975]\n",
      "------------------------------------------------------------------------------\n",
      "const          5.6247      0.023    248.733      0.000       5.580       5.669\n",
      "==============================================================================\n",
      "Omnibus:                       18.785   Durbin-Watson:                   1.753\n",
      "Prob(Omnibus):                  0.000   Jarque-Bera (JB):               21.915\n",
      "Skew:                           0.223   Prob(JB):                     1.74e-05\n",
      "Kurtosis:                       3.461   Cond. No.                         1.00\n",
      "==============================================================================\n",
      "\n",
      "Notes:\n",
      "[1] Standard Errors assume that the covariance matrix of the errors is correctly specified.\n",
      "\n",
      "Full Model Summary:\n",
      "                            OLS Regression Results                            \n",
      "==============================================================================\n",
      "Dep. Variable:                quality   R-squared:                       0.363\n",
      "Model:                            OLS   Adj. R-squared:                  0.358\n",
      "Method:                 Least Squares   F-statistic:                     65.71\n",
      "Date:                Tue, 07 May 2024   Prob (F-statistic):          5.38e-116\n",
      "Time:                        17:56:31   Log-Likelihood:                -1254.1\n",
      "No. Observations:                1279   AIC:                             2532.\n",
      "Df Residuals:                    1267   BIC:                             2594.\n",
      "Df Model:                          11                                         \n",
      "Covariance Type:            nonrobust                                         \n",
      "========================================================================================\n",
      "                           coef    std err          t      P>|t|      [0.025      0.975]\n",
      "----------------------------------------------------------------------------------------\n",
      "const                   16.6347     23.706      0.702      0.483     -29.872      63.142\n",
      "fixed acidity            0.0203      0.030      0.688      0.492      -0.038       0.078\n",
      "volatile acidity        -1.0256      0.135     -7.602      0.000      -1.290      -0.761\n",
      "citric acid             -0.1510      0.167     -0.902      0.367      -0.479       0.177\n",
      "residual sugar           0.0116      0.018      0.664      0.507      -0.023       0.046\n",
      "chlorides               -1.4900      0.486     -3.065      0.002      -2.444      -0.536\n",
      "free sulfur dioxide      0.0055      0.002      2.217      0.027       0.001       0.010\n",
      "total sulfur dioxide    -0.0034      0.001     -4.164      0.000      -0.005      -0.002\n",
      "density                -12.3669     24.203     -0.511      0.609     -59.849      35.115\n",
      "pH                      -0.5336      0.213     -2.504      0.012      -0.952      -0.115\n",
      "sulphates                0.8871      0.129      6.899      0.000       0.635       1.139\n",
      "alcohol                  0.2968      0.029     10.114      0.000       0.239       0.354\n",
      "==============================================================================\n",
      "Omnibus:                       26.075   Durbin-Watson:                   1.798\n",
      "Prob(Omnibus):                  0.000   Jarque-Bera (JB):               39.451\n",
      "Skew:                          -0.193   Prob(JB):                     2.71e-09\n",
      "Kurtosis:                       3.769   Cond. No.                     1.14e+05\n",
      "==============================================================================\n",
      "\n",
      "Notes:\n",
      "[1] Standard Errors assume that the covariance matrix of the errors is correctly specified.\n",
      "[2] The condition number is large, 1.14e+05. This might indicate that there are\n",
      "strong multicollinearity or other numerical problems.\n"
     ]
    }
   ],
   "source": [
    "# Fit the models using OLS\n",
    "model_null = sm.OLS(df_train_target.sort_index(), null_features.sort_index()).fit()\n",
    "model_full = sm.OLS(df_train_target.sort_index(), full_features.sort_index()).fit()\n",
    "\n",
    "# Summary of the models\n",
    "print(\"Null Model Summary:\")\n",
    "print(model_null.summary())\n",
    "print(\"\\nFull Model Summary:\")\n",
    "print(model_full.summary())"
   ]
  },
  {
   "cell_type": "markdown",
   "id": "5a4836b9",
   "metadata": {
    "papermill": {
     "duration": 0.042292,
     "end_time": "2024-05-07T17:56:31.765114",
     "exception": false,
     "start_time": "2024-05-07T17:56:31.722822",
     "status": "completed"
    },
    "tags": []
   },
   "source": [
    "Now we compare if full model is nested within null model:"
   ]
  },
  {
   "cell_type": "code",
   "execution_count": 43,
   "id": "15d7304e",
   "metadata": {
    "execution": {
     "iopub.execute_input": "2024-05-07T17:56:31.823629Z",
     "iopub.status.busy": "2024-05-07T17:56:31.822837Z",
     "iopub.status.idle": "2024-05-07T17:56:31.828954Z",
     "shell.execute_reply": "2024-05-07T17:56:31.827891Z"
    },
    "papermill": {
     "duration": 0.034843,
     "end_time": "2024-05-07T17:56:31.831015",
     "exception": false,
     "start_time": "2024-05-07T17:56:31.796172",
     "status": "completed"
    },
    "tags": []
   },
   "outputs": [
    {
     "name": "stdout",
     "output_type": "stream",
     "text": [
      "\n",
      "F-test result: (65.7132919873751, 5.379288480976191e-116, 11.0)\n"
     ]
    }
   ],
   "source": [
    "f_test = model_full.compare_f_test(model_null)\n",
    "print(\"\\nF-test result:\", f_test)"
   ]
  },
  {
   "cell_type": "markdown",
   "id": "99e60f85",
   "metadata": {
    "papermill": {
     "duration": 0.025152,
     "end_time": "2024-05-07T17:56:31.881645",
     "exception": false,
     "start_time": "2024-05-07T17:56:31.856493",
     "status": "completed"
    },
    "tags": []
   },
   "source": [
    "**Results**:\n",
    "\n",
    "* **F statistic value**: 65.713. This is the calculated F-statistic for the test. It represents the ratio of the model fit improvement per added predictor to the error of the larger model (including all predictors). A higher F-statistic indicates that the additional predictors in the full model provide a significant improvement in fit over the reduced model.\n",
    "* **P-value**: 5.379-116 = <0.001. Probability under the null hypothesis of observing the F-statistic, or one more extreme, given that the null hypothesis is true. Here, the null hypothesis typically states that the additional predictors in the full model do not improve the fit of the model meaningfully compared to the reduced model. A very small p-value, as in this case (which is virtually zero), strongly suggests rejecting the null hypothesis. This means that the additional predictors do significantly improve the model.\n",
    "* **Degrees of Freedom**: 11.0. This number represents the degrees of freedom associated with the numerator of the F-statistic, which is generally equal to the number of additional parameters added to the reduced model to get the full model. Here, 11 extra parameters were added to the reduced model to form the full model.\n",
    "\n",
    "**Overall conclusion**: The features in the full model improve the prediction VS the null model."
   ]
  },
  {
   "cell_type": "markdown",
   "id": "b80d7d99",
   "metadata": {
    "papermill": {
     "duration": 0.025489,
     "end_time": "2024-05-07T17:56:31.932558",
     "exception": false,
     "start_time": "2024-05-07T17:56:31.907069",
     "status": "completed"
    },
    "tags": []
   },
   "source": [
    "#### c. Information criteria (AIC/BIC)\n",
    "\n",
    "Same steps as in b to obtain model_null and model_full. As we have these step done yet, we pass to see the AIC and BIC criterials in each model:"
   ]
  },
  {
   "cell_type": "code",
   "execution_count": 44,
   "id": "77f0004c",
   "metadata": {
    "execution": {
     "iopub.execute_input": "2024-05-07T17:56:31.985214Z",
     "iopub.status.busy": "2024-05-07T17:56:31.984504Z",
     "iopub.status.idle": "2024-05-07T17:56:31.990694Z",
     "shell.execute_reply": "2024-05-07T17:56:31.989634Z"
    },
    "papermill": {
     "duration": 0.034891,
     "end_time": "2024-05-07T17:56:31.993051",
     "exception": false,
     "start_time": "2024-05-07T17:56:31.958160",
     "status": "completed"
    },
    "tags": []
   },
   "outputs": [
    {
     "name": "stdout",
     "output_type": "stream",
     "text": [
      "Null model AIC: 3087.592 Full model AIC: 2532.244\n",
      "Null model BIC: 3092.746 Full model BIC: 2594.09\n"
     ]
    }
   ],
   "source": [
    "print(\"Null model AIC:\", round(model_null.aic, 3), \"Full model AIC:\", round(model_full.aic, 3))\n",
    "print(\"Null model BIC:\", round(model_null.bic, 3), \"Full model BIC:\", round(model_full.bic, 3))\n"
   ]
  },
  {
   "cell_type": "markdown",
   "id": "0420590a",
   "metadata": {
    "papermill": {
     "duration": 0.025213,
     "end_time": "2024-05-07T17:56:32.043789",
     "exception": false,
     "start_time": "2024-05-07T17:56:32.018576",
     "status": "completed"
    },
    "tags": []
   },
   "source": [
    "We compute Deltas (differences) to interpretate the results:"
   ]
  },
  {
   "cell_type": "code",
   "execution_count": 45,
   "id": "2fb7a118",
   "metadata": {
    "execution": {
     "iopub.execute_input": "2024-05-07T17:56:32.096933Z",
     "iopub.status.busy": "2024-05-07T17:56:32.096191Z",
     "iopub.status.idle": "2024-05-07T17:56:32.101906Z",
     "shell.execute_reply": "2024-05-07T17:56:32.100974Z"
    },
    "papermill": {
     "duration": 0.034559,
     "end_time": "2024-05-07T17:56:32.104191",
     "exception": false,
     "start_time": "2024-05-07T17:56:32.069632",
     "status": "completed"
    },
    "tags": []
   },
   "outputs": [
    {
     "name": "stdout",
     "output_type": "stream",
     "text": [
      "Delta AIC: 555 \n",
      "Delta BIC: 499\n"
     ]
    }
   ],
   "source": [
    "# Diferences:\n",
    "delta_aic = model_null.aic - model_full.aic\n",
    "delta_bic = model_null.bic - model_full.bic\n",
    "\n",
    "print(\"Delta AIC:\", round(delta_aic), \"\\nDelta BIC:\", round(delta_bic))\n"
   ]
  },
  {
   "cell_type": "markdown",
   "id": "b0af90c7",
   "metadata": {
    "papermill": {
     "duration": 0.025214,
     "end_time": "2024-05-07T17:56:32.154961",
     "exception": false,
     "start_time": "2024-05-07T17:56:32.129747",
     "status": "completed"
    },
    "tags": []
   },
   "source": [
    "As we can see, the differences are large so we can conclude the full model is better making predictions than the null model."
   ]
  },
  {
   "cell_type": "markdown",
   "id": "cad5dd50",
   "metadata": {
    "papermill": {
     "duration": 0.025438,
     "end_time": "2024-05-07T17:56:32.206187",
     "exception": false,
     "start_time": "2024-05-07T17:56:32.180749",
     "status": "completed"
    },
    "tags": []
   },
   "source": [
    "### B. Test if a particular coefficient is statistical different from 0\n",
    "\n",
    "This approach let as know each predictor in the model separately. We can test if a particular predictor have a statistically significant relationship with the target. If the coefficient is statistically different from 0, then wecan conclude there is a relationship.\n",
    "\n",
    "Scikit-learn package has no a direct way to compute it but we can fit the model with Scikit-Learn and then use the statsmodel from package stats to explore the statistical summary.\n",
    "\n",
    "We are going to use the model with all features that we compute in the Multiple linear regression section."
   ]
  },
  {
   "cell_type": "code",
   "execution_count": 46,
   "id": "a094712b",
   "metadata": {
    "execution": {
     "iopub.execute_input": "2024-05-07T17:56:32.259516Z",
     "iopub.status.busy": "2024-05-07T17:56:32.258677Z",
     "iopub.status.idle": "2024-05-07T17:56:32.264730Z",
     "shell.execute_reply": "2024-05-07T17:56:32.263685Z"
    },
    "papermill": {
     "duration": 0.035029,
     "end_time": "2024-05-07T17:56:32.267076",
     "exception": false,
     "start_time": "2024-05-07T17:56:32.232047",
     "status": "completed"
    },
    "tags": []
   },
   "outputs": [
    {
     "name": "stdout",
     "output_type": "stream",
     "text": [
      "16.634693491940222\n",
      "[ 2.03288413e-02 -1.02555421e+00 -1.51014281e-01  1.16167979e-02\n",
      " -1.49002597e+00  5.47302465e-03 -3.37647532e-03 -1.23669162e+01\n",
      " -5.33610421e-01  8.87103957e-01  2.96795462e-01]\n"
     ]
    }
   ],
   "source": [
    "print(model2.intercept_)\n",
    "print(model2.coef_)"
   ]
  },
  {
   "cell_type": "markdown",
   "id": "cc0f5d2e",
   "metadata": {
    "papermill": {
     "duration": 0.025949,
     "end_time": "2024-05-07T17:56:32.319691",
     "exception": false,
     "start_time": "2024-05-07T17:56:32.293742",
     "status": "completed"
    },
    "tags": []
   },
   "source": [
    "Now, we obtain the statistical summary using statsmodels. This summary includes the standard errors, t-statistics and p-values of the coefficients. We had do this in the previous section so:"
   ]
  },
  {
   "cell_type": "code",
   "execution_count": 47,
   "id": "c10bfcf9",
   "metadata": {
    "execution": {
     "iopub.execute_input": "2024-05-07T17:56:32.374615Z",
     "iopub.status.busy": "2024-05-07T17:56:32.374240Z",
     "iopub.status.idle": "2024-05-07T17:56:32.393967Z",
     "shell.execute_reply": "2024-05-07T17:56:32.392932Z"
    },
    "papermill": {
     "duration": 0.049576,
     "end_time": "2024-05-07T17:56:32.396720",
     "exception": false,
     "start_time": "2024-05-07T17:56:32.347144",
     "status": "completed"
    },
    "scrolled": true,
    "tags": []
   },
   "outputs": [
    {
     "name": "stdout",
     "output_type": "stream",
     "text": [
      "                            OLS Regression Results                            \n",
      "==============================================================================\n",
      "Dep. Variable:                quality   R-squared:                       0.363\n",
      "Model:                            OLS   Adj. R-squared:                  0.358\n",
      "Method:                 Least Squares   F-statistic:                     65.71\n",
      "Date:                Tue, 07 May 2024   Prob (F-statistic):          5.38e-116\n",
      "Time:                        17:56:32   Log-Likelihood:                -1254.1\n",
      "No. Observations:                1279   AIC:                             2532.\n",
      "Df Residuals:                    1267   BIC:                             2594.\n",
      "Df Model:                          11                                         \n",
      "Covariance Type:            nonrobust                                         \n",
      "========================================================================================\n",
      "                           coef    std err          t      P>|t|      [0.025      0.975]\n",
      "----------------------------------------------------------------------------------------\n",
      "const                   16.6347     23.706      0.702      0.483     -29.872      63.142\n",
      "fixed acidity            0.0203      0.030      0.688      0.492      -0.038       0.078\n",
      "volatile acidity        -1.0256      0.135     -7.602      0.000      -1.290      -0.761\n",
      "citric acid             -0.1510      0.167     -0.902      0.367      -0.479       0.177\n",
      "residual sugar           0.0116      0.018      0.664      0.507      -0.023       0.046\n",
      "chlorides               -1.4900      0.486     -3.065      0.002      -2.444      -0.536\n",
      "free sulfur dioxide      0.0055      0.002      2.217      0.027       0.001       0.010\n",
      "total sulfur dioxide    -0.0034      0.001     -4.164      0.000      -0.005      -0.002\n",
      "density                -12.3669     24.203     -0.511      0.609     -59.849      35.115\n",
      "pH                      -0.5336      0.213     -2.504      0.012      -0.952      -0.115\n",
      "sulphates                0.8871      0.129      6.899      0.000       0.635       1.139\n",
      "alcohol                  0.2968      0.029     10.114      0.000       0.239       0.354\n",
      "==============================================================================\n",
      "Omnibus:                       26.075   Durbin-Watson:                   1.798\n",
      "Prob(Omnibus):                  0.000   Jarque-Bera (JB):               39.451\n",
      "Skew:                          -0.193   Prob(JB):                     2.71e-09\n",
      "Kurtosis:                       3.769   Cond. No.                     1.14e+05\n",
      "==============================================================================\n",
      "\n",
      "Notes:\n",
      "[1] Standard Errors assume that the covariance matrix of the errors is correctly specified.\n",
      "[2] The condition number is large, 1.14e+05. This might indicate that there are\n",
      "strong multicollinearity or other numerical problems.\n"
     ]
    }
   ],
   "source": [
    "print(model_full.summary())"
   ]
  },
  {
   "cell_type": "markdown",
   "id": "4843b34b",
   "metadata": {
    "papermill": {
     "duration": 0.026068,
     "end_time": "2024-05-07T17:56:32.448918",
     "exception": false,
     "start_time": "2024-05-07T17:56:32.422850",
     "status": "completed"
    },
    "tags": []
   },
   "source": [
    "In the table above we have a list with all the features informations as well as the intercept.\n",
    "\n",
    "**Coefficients statistical significative** at 0.05 level:\n",
    "\n",
    "* Volatile acidity, chlorides,, free sulfur dioxide, total sulfur dioxide, density, pH, sulphates and alcohol.\n",
    "\n",
    "# 6. Standardised coefficients\n",
    "\n",
    "It is usual that our variables (target) have different scales. The unirs of measurement influence on the refression coefficients.\n",
    "\n",
    "\n",
    "**Standardised coefficients**: Coefficients obtained when convert all the variables to standard scores ($z-score$) **BEFORE** run the regression. When we standarized we make the variable have mean 0 and standard deviation 1. \n",
    "When we standarized we make the variable have mean 0 and standard deviation 1. \n",
    "\n",
    "**Reasons to use**:\n",
    "\n",
    "* It is specially important when we want to compare the strenght of different predictors (features).It is specially important when we want to compare the strenght of different predictors (features). An absolute value of $\\beta$ means a stronger relationship with the target.\n",
    "* Coefficients of standardized variables represent the change in the dependent variable for a one standard deviation change in the predictor, making it easier to compare the effects of different variables.Coefficients of standardized variables represent the change in the dependent variable for a one standard deviation change in the predictor, making it easier to compare the effects of different variables.\n",
    "* Moreover, when we use regularization, standarization is crital because it penalize the coefficients base on their size. \n",
    "* Acelerate convergence in algorithms that use gradient descent (like logistic regression or when using regularitation).\n",
    "\n",
    "We will see how to do this in python step by step:\n",
    "\n",
    "Standardize the VariablesStandardize the Variables:"
   ]
  },
  {
   "cell_type": "code",
   "execution_count": 48,
   "id": "1cd95930",
   "metadata": {
    "execution": {
     "iopub.execute_input": "2024-05-07T17:56:32.502706Z",
     "iopub.status.busy": "2024-05-07T17:56:32.502354Z",
     "iopub.status.idle": "2024-05-07T17:56:32.512291Z",
     "shell.execute_reply": "2024-05-07T17:56:32.511033Z"
    },
    "papermill": {
     "duration": 0.039395,
     "end_time": "2024-05-07T17:56:32.514534",
     "exception": false,
     "start_time": "2024-05-07T17:56:32.475139",
     "status": "completed"
    },
    "tags": []
   },
   "outputs": [
    {
     "name": "stdout",
     "output_type": "stream",
     "text": [
      "[[ 2.60795807  0.45617187  2.01631361 ... -1.57286691  0.46003776\n",
      "  -0.39048254]\n",
      " [-0.94220124 -0.40122365 -0.14569554 ...  0.50600336 -0.33343194\n",
      "   0.17137302]\n",
      " [-1.00040058 -0.17996029 -1.32965293 ...  0.57096806 -0.4555042\n",
      "  -0.57776772]\n",
      " ...\n",
      " [-0.59300525  1.67312034 -1.22670012 ...  0.50600336 -1.12690163\n",
      "  -0.76505291]\n",
      " [-0.24380925  1.28590946 -1.38112934 ...  0.11621519  0.15485711\n",
      "   0.4523008 ]\n",
      " [ 0.16358608  0.09661891 -0.91784167 ... -0.53343177 -1.31001003\n",
      "  -0.39048254]]\n"
     ]
    }
   ],
   "source": [
    "scaler = StandardScaler()\n",
    "\n",
    "df_train_features_stand = scaler.fit_transform(df_train_features)\n",
    "print(df_train_features_stand)"
   ]
  },
  {
   "cell_type": "markdown",
   "id": "c59bd054",
   "metadata": {
    "papermill": {
     "duration": 0.028028,
     "end_time": "2024-05-07T17:56:32.569121",
     "exception": false,
     "start_time": "2024-05-07T17:56:32.541093",
     "status": "completed"
    },
    "tags": []
   },
   "source": [
    "To use StandarScaler() it is necessary transform our data into an array. We need to recover the index and the columns names before made the regression"
   ]
  },
  {
   "cell_type": "code",
   "execution_count": 49,
   "id": "29c4a470",
   "metadata": {
    "execution": {
     "iopub.execute_input": "2024-05-07T17:56:32.623049Z",
     "iopub.status.busy": "2024-05-07T17:56:32.622275Z",
     "iopub.status.idle": "2024-05-07T17:56:32.634853Z",
     "shell.execute_reply": "2024-05-07T17:56:32.633651Z"
    },
    "papermill": {
     "duration": 0.042093,
     "end_time": "2024-05-07T17:56:32.637312",
     "exception": false,
     "start_time": "2024-05-07T17:56:32.595219",
     "status": "completed"
    },
    "tags": []
   },
   "outputs": [
    {
     "name": "stdout",
     "output_type": "stream",
     "text": [
      "    fixed acidity  volatile acidity  citric acid  residual sugar  chlorides  \\\n",
      "1       -0.302009          1.922042    -1.381129        0.057825   0.259239   \n",
      "2       -0.302009          1.258252    -1.175224       -0.164495   0.122717   \n",
      "3        1.676769         -1.396909     1.501550       -0.460922  -0.264095   \n",
      "4       -0.534806          0.926357    -1.381129       -0.460922  -0.241342   \n",
      "5       -0.534806          0.705093    -1.381129       -0.535029  -0.264095   \n",
      "6       -0.243809          0.373198    -1.072271       -0.683242  -0.400617   \n",
      "7       -0.593005          0.649777    -1.381129       -0.979669  -0.491632   \n",
      "8       -0.302009          0.262566    -1.278177       -0.386815  -0.309603   \n",
      "9       -0.476607         -0.179960     0.472021        2.651561  -0.355110   \n",
      "11      -0.476607         -0.179960     0.472021        2.651561  -0.355110   \n",
      "12      -1.582394          0.456172    -1.381129       -0.683242   0.054456   \n",
      "\n",
      "    free sulfur dioxide  total sulfur dioxide   density        pH  sulphates  \\\n",
      "1              0.895844              0.613117  0.025094 -0.728326   0.154857   \n",
      "2             -0.081204              0.220697  0.130915 -0.338538  -0.028251   \n",
      "3              0.114205              0.401814  0.660020 -0.988185  -0.455504   \n",
      "4             -0.472024             -0.383027  0.554199  1.285580  -0.577576   \n",
      "5             -0.276614             -0.201910  0.554199  1.285580  -0.577576   \n",
      "6             -0.081204              0.371628 -0.186548 -0.078679  -1.187938   \n",
      "7             -0.081204             -0.775448 -1.138937  0.506003  -1.126902   \n",
      "8             -0.667433             -0.866006  0.025094  0.311109  -0.516540   \n",
      "9              0.114205              1.669634  0.554199  0.246145   0.887291   \n",
      "11             0.114205              1.669634  0.554199  0.246145   0.887291   \n",
      "12             0.016501              0.371628 -1.297668  1.740333  -0.821721   \n",
      "\n",
      "     alcohol  \n",
      "1  -0.577768  \n",
      "2  -0.577768  \n",
      "3  -0.577768  \n",
      "4  -0.952338  \n",
      "5  -0.952338  \n",
      "6  -0.952338  \n",
      "7  -0.390483  \n",
      "8  -0.858696  \n",
      "9   0.077730  \n",
      "11  0.077730  \n",
      "12 -0.484125  \n"
     ]
    }
   ],
   "source": [
    "df_train_features_stand = pd.DataFrame(df_train_features_stand, \n",
    "                                       index=df_train_features.index, \n",
    "                                       columns=df_train_features.columns).sort_index()\n",
    "\n",
    "# Print the standardized features with the DataFrame structure\n",
    "print(df_train_features_stand.head(11))"
   ]
  },
  {
   "cell_type": "markdown",
   "id": "25611166",
   "metadata": {
    "papermill": {
     "duration": 0.026262,
     "end_time": "2024-05-07T17:56:32.689825",
     "exception": false,
     "start_time": "2024-05-07T17:56:32.663563",
     "status": "completed"
    },
    "tags": []
   },
   "source": [
    "Create and fit the model:"
   ]
  },
  {
   "cell_type": "code",
   "execution_count": 50,
   "id": "0892391b",
   "metadata": {
    "execution": {
     "iopub.execute_input": "2024-05-07T17:56:32.744904Z",
     "iopub.status.busy": "2024-05-07T17:56:32.743996Z",
     "iopub.status.idle": "2024-05-07T17:56:32.753942Z",
     "shell.execute_reply": "2024-05-07T17:56:32.752920Z"
    },
    "papermill": {
     "duration": 0.040188,
     "end_time": "2024-05-07T17:56:32.756426",
     "exception": false,
     "start_time": "2024-05-07T17:56:32.716238",
     "status": "completed"
    },
    "tags": []
   },
   "outputs": [],
   "source": [
    "# Create MLRM and fit it\n",
    "regression_stand = LinearRegression()\n",
    "\n",
    "# Fit the model\n",
    "model_stand = regression_stand.fit(df_train_features_stand.sort_index(),\n",
    "                                   df_train_target, \n",
    "                                   ) # Features first then target\n"
   ]
  },
  {
   "cell_type": "markdown",
   "id": "e52a96a4",
   "metadata": {
    "papermill": {
     "duration": 0.025826,
     "end_time": "2024-05-07T17:56:32.808581",
     "exception": false,
     "start_time": "2024-05-07T17:56:32.782755",
     "status": "completed"
    },
    "tags": []
   },
   "source": [
    "Now we can print the intercept and the coefficients:"
   ]
  },
  {
   "cell_type": "code",
   "execution_count": 51,
   "id": "77425196",
   "metadata": {
    "execution": {
     "iopub.execute_input": "2024-05-07T17:56:32.862784Z",
     "iopub.status.busy": "2024-05-07T17:56:32.862414Z",
     "iopub.status.idle": "2024-05-07T17:56:32.868942Z",
     "shell.execute_reply": "2024-05-07T17:56:32.867929Z"
    },
    "papermill": {
     "duration": 0.03638,
     "end_time": "2024-05-07T17:56:32.871398",
     "exception": false,
     "start_time": "2024-05-07T17:56:32.835018",
     "status": "completed"
    },
    "tags": []
   },
   "outputs": [
    {
     "name": "stdout",
     "output_type": "stream",
     "text": [
      "Intercept: 5.62470680218921\n",
      "Coefficients :\n",
      "fixed acidity: 0.035\n",
      "volatile acidity: -0.185\n",
      "citric acid: -0.029\n",
      "residual sugar: 0.016\n",
      "chlorides: -0.065\n",
      "free sulfur dioxide: 0.056\n",
      "total sulfur dioxide: -0.112\n",
      "density: -0.023\n",
      "pH: -0.082\n",
      "sulphates: 0.145\n",
      "alcohol: 0.317\n"
     ]
    }
   ],
   "source": [
    "# Show the equation values:\n",
    "print(\"Intercept:\", model_stand.intercept_)\n",
    "\n",
    "# New way to obtain the coefficients with names and round them to three decimals:\n",
    "feature_names = df_train_features.columns\n",
    "coefficient_dict = dict(zip(feature_names, model_stand.coef_))\n",
    "print(\"Coefficients :\")\n",
    "for feature, coef in coefficient_dict.items():\n",
    "    print(f\"{feature}: {coef:.3f}\")\n",
    "    \n"
   ]
  },
  {
   "cell_type": "markdown",
   "id": "ff0f7e8e",
   "metadata": {
    "papermill": {
     "duration": 0.026381,
     "end_time": "2024-05-07T17:56:32.923834",
     "exception": false,
     "start_time": "2024-05-07T17:56:32.897453",
     "status": "completed"
    },
    "tags": []
   },
   "source": [
    "Now that we have all standarized, we are going to interpretate the intercept and coefficients:\n",
    "\n",
    "* **Intercept**. (5.625). Expected value when all the predictors (features) are 0. This is the same to say that is the value predicted when all the coefficients take their means. If we see above, this is the predicted value in the null model.\n",
    "\n",
    "* **Fixed Acidity**. (0.035): A one standard deviation increase in fixed acidity is associated with a 0.035 standard deviation increase in the response variable.\n",
    "* **Volatile Acidity**. (-0.185): A one standard deviation increase in volatile acidity leads to a 0.185 standard deviation decrease in the response variable, suggesting a negative relationship.\n",
    "* **Citric Acid**. (-0.029):A one standard deviation increase in citric acid results in a 0.029 standard deviation decrease in the response variable.\n",
    "* **Residual Sugar**. (0.016): A one standard deviation increase in residual sugar is associated with a 0.016 standard deviation increase in the response variable.\n",
    "* **Chlorides**. (-0.065): A one standard deviation increase in chlorides results in a 0.065 standard deviation decrease in the response variable.\n",
    "* **Free Sulfur Dioxide**. (0.056): A one standard deviation increase in free sulfur dioxide is linked to a 0.056 standard deviation increase in the response variable.\n",
    "* **Total Sulfur Dioxide**. (-0.112): A one standard deviation increase in total sulfur dioxide leads to a 0.112 standard deviation decrease in the response variable.\n",
    "* **Density**. (-0.023): A one standard deviation increase in density results in a 0.023 standard deviation decrease in the response variable.\n",
    "* **pH**. (-0.082): A one standard deviation increase in pH is associated with a 0.082 standard deviation decrease in the response variable.\n",
    "* **Sulphates**. (0.145): A one standard deviation increase in sulphates leads to a 0.145 standard deviation increase in the response variable.\n",
    "* **Alcohol**. (0.317): A one standard deviation increase in alcohol is associated with a 0.317 standard deviation increase in the response variable, making it the most impactful predictor among those listed.\n"
   ]
  },
  {
   "cell_type": "markdown",
   "id": "d3fc8276",
   "metadata": {
    "papermill": {
     "duration": 0.02595,
     "end_time": "2024-05-07T17:56:32.976076",
     "exception": false,
     "start_time": "2024-05-07T17:56:32.950126",
     "status": "completed"
    },
    "tags": []
   },
   "source": [
    "Now build the equation of the model:\n",
    "\n",
    "$$\n",
    "\\hat{y} = 5.625 + 0.0035 · x_1 -0.185 · x_2 - 0.029 · x_3 + 0.016 · x_4 + - 0.065 · x_5 + 0.056 · x_6 - 0.112 · x_7 - 0.023 · x_8 - 0.082 · x_9 + 0.145 · x_{10} + 0.317 · x_{11} \n",
    "$$\n",
    "\n",
    "\n",
    "As we see,  coefficient take the same signe (positive/negative) that in other models\n",
    "\n",
    "If we replace the features for our first case we obtain this:"
   ]
  }
 ],
 "metadata": {
  "kaggle": {
   "accelerator": "none",
   "dataSources": [
    {
     "datasetId": 4458,
     "sourceId": 8204,
     "sourceType": "datasetVersion"
    }
   ],
   "dockerImageVersionId": 30698,
   "isGpuEnabled": false,
   "isInternetEnabled": false,
   "language": "python",
   "sourceType": "notebook"
  },
  "kernelspec": {
   "display_name": "Python 3",
   "language": "python",
   "name": "python3"
  },
  "language_info": {
   "codemirror_mode": {
    "name": "ipython",
    "version": 3
   },
   "file_extension": ".py",
   "mimetype": "text/x-python",
   "name": "python",
   "nbconvert_exporter": "python",
   "pygments_lexer": "ipython3",
   "version": "3.10.13"
  },
  "papermill": {
   "default_parameters": {},
   "duration": 15.203531,
   "end_time": "2024-05-07T17:56:33.623292",
   "environment_variables": {},
   "exception": null,
   "input_path": "__notebook__.ipynb",
   "output_path": "__notebook__.ipynb",
   "parameters": {},
   "start_time": "2024-05-07T17:56:18.419761",
   "version": "2.5.0"
  }
 },
 "nbformat": 4,
 "nbformat_minor": 5
}
