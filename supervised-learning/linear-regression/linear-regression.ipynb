{
 "cells": [
  {
   "cell_type": "markdown",
   "id": "3fbbfbd6",
   "metadata": {
    "papermill": {
     "duration": 0.01213,
     "end_time": "2024-04-30T13:31:03.186144",
     "exception": false,
     "start_time": "2024-04-30T13:31:03.174014",
     "status": "completed"
    },
    "tags": []
   },
   "source": [
    "# LINEAR REGRESSION\n",
    "\n",
    "In this notebook we are going to explain the principal characterisitcs of linear regression.\n",
    "\n",
    "First of all, linear regression is an algoritm used in machine learning. Specifically, it follows inside the \"supervised learning\". "
   ]
  },
  {
   "cell_type": "markdown",
   "id": "0f0ba2f0",
   "metadata": {
    "papermill": {
     "duration": 0.011432,
     "end_time": "2024-04-30T13:31:03.209823",
     "exception": false,
     "start_time": "2024-04-30T13:31:03.198391",
     "status": "completed"
    },
    "tags": []
   },
   "source": [
    "# Database and language\n",
    "\n",
    "For this notebook we are going to use the database \"red wine quiality\". You can follow the entery description follow this link https://www.kaggle.com/datasets/uciml/red-wine-quality-cortez-et-al-2009.\n",
    "\n",
    "* All the variable in this database are quantitative.\n",
    "* The target variable is \"quiality\". This variable range between 0 and 10.\n",
    "\n",
    "The code of the following lines is developed with python.\n",
    "\n",
    "We are going to import the libraries required to all the futures steps."
   ]
  },
  {
   "cell_type": "code",
   "execution_count": 1,
   "id": "bd9e15fc",
   "metadata": {
    "execution": {
     "iopub.execute_input": "2024-04-30T13:31:03.236414Z",
     "iopub.status.busy": "2024-04-30T13:31:03.235873Z",
     "iopub.status.idle": "2024-04-30T13:31:05.659835Z",
     "shell.execute_reply": "2024-04-30T13:31:05.658737Z"
    },
    "papermill": {
     "duration": 2.440255,
     "end_time": "2024-04-30T13:31:05.662758",
     "exception": false,
     "start_time": "2024-04-30T13:31:03.222503",
     "status": "completed"
    },
    "tags": []
   },
   "outputs": [],
   "source": [
    "import pandas as pd                                  # Read csv\n",
    "from sklearn.linear_model  import LinearRegression\n",
    "from sklearn.preprocessing import PolynomialFeatures # interaction effect, no linear models\n",
    "from sklearn.linear_model  import Ridge, RidgeCV, Lasso, LassoCV # regularizationy, best value of alpha Ridge, reduce features, best value of alpha Lasso\n",
    "from sklearn.preprocessing import StandardScaler # standardization\n",
    "import matplotlib.pyplot as plt                  # plot\n",
    "import numpy as np\n"
   ]
  },
  {
   "cell_type": "markdown",
   "id": "2bce60cd",
   "metadata": {
    "papermill": {
     "duration": 0.010806,
     "end_time": "2024-04-30T13:31:05.684871",
     "exception": false,
     "start_time": "2024-04-30T13:31:05.674065",
     "status": "completed"
    },
    "tags": []
   },
   "source": [
    "Now, we are going to upload the data. As we can see, there are 12 variables: 11 features and 1 target. There are 1,599 rows"
   ]
  },
  {
   "cell_type": "code",
   "execution_count": 2,
   "id": "d81965de",
   "metadata": {
    "execution": {
     "iopub.execute_input": "2024-04-30T13:31:05.709194Z",
     "iopub.status.busy": "2024-04-30T13:31:05.708623Z",
     "iopub.status.idle": "2024-04-30T13:31:05.757339Z",
     "shell.execute_reply": "2024-04-30T13:31:05.755430Z"
    },
    "papermill": {
     "duration": 0.063787,
     "end_time": "2024-04-30T13:31:05.759831",
     "exception": false,
     "start_time": "2024-04-30T13:31:05.696044",
     "status": "completed"
    },
    "tags": []
   },
   "outputs": [
    {
     "name": "stdout",
     "output_type": "stream",
     "text": [
      "Number of rows: 1599\n",
      "   fixed acidity  volatile acidity  citric acid  residual sugar  chlorides  \\\n",
      "0            7.4              0.70         0.00             1.9      0.076   \n",
      "1            7.8              0.88         0.00             2.6      0.098   \n",
      "2            7.8              0.76         0.04             2.3      0.092   \n",
      "3           11.2              0.28         0.56             1.9      0.075   \n",
      "4            7.4              0.70         0.00             1.9      0.076   \n",
      "\n",
      "   free sulfur dioxide  total sulfur dioxide  density    pH  sulphates  \\\n",
      "0                 11.0                  34.0   0.9978  3.51       0.56   \n",
      "1                 25.0                  67.0   0.9968  3.20       0.68   \n",
      "2                 15.0                  54.0   0.9970  3.26       0.65   \n",
      "3                 17.0                  60.0   0.9980  3.16       0.58   \n",
      "4                 11.0                  34.0   0.9978  3.51       0.56   \n",
      "\n",
      "   alcohol  quality  \n",
      "0      9.4        5  \n",
      "1      9.8        5  \n",
      "2      9.8        5  \n",
      "3      9.8        6  \n",
      "4      9.4        5  \n"
     ]
    }
   ],
   "source": [
    "# read csv\n",
    "df = pd.read_csv('/kaggle/input/red-wine-quality-cortez-et-al-2009/winequality-red.csv')\n",
    "print(\"Number of rows:\", len(df))\n",
    "print(df.head())"
   ]
  },
  {
   "cell_type": "markdown",
   "id": "ae8a7725",
   "metadata": {
    "papermill": {
     "duration": 0.010978,
     "end_time": "2024-04-30T13:31:05.782131",
     "exception": false,
     "start_time": "2024-04-30T13:31:05.771153",
     "status": "completed"
    },
    "tags": []
   },
   "source": [
    " Now we are going to split the data into training and test. \n",
    " \n",
    " df_train. Has "
   ]
  },
  {
   "cell_type": "code",
   "execution_count": 3,
   "id": "c69fdcd7",
   "metadata": {
    "execution": {
     "iopub.execute_input": "2024-04-30T13:31:05.808854Z",
     "iopub.status.busy": "2024-04-30T13:31:05.807713Z",
     "iopub.status.idle": "2024-04-30T13:31:05.827628Z",
     "shell.execute_reply": "2024-04-30T13:31:05.826653Z"
    },
    "papermill": {
     "duration": 0.035709,
     "end_time": "2024-04-30T13:31:05.830525",
     "exception": false,
     "start_time": "2024-04-30T13:31:05.794816",
     "status": "completed"
    },
    "tags": []
   },
   "outputs": [
    {
     "name": "stdout",
     "output_type": "stream",
     "text": [
      "df_train has 1279 cases and 12 columns\n",
      "df_train_target has 1279 cases and only has one columns (target)\n",
      "df_train_features has 1279 11 columns that are equal to the number of features\n",
      "df_test has 320 cases and 12 columns\n",
      "If we add the number of cases in train, 1279 ,plus the number of cases in test, 320 , we obtain the total len of the original data 1599\n"
     ]
    }
   ],
   "source": [
    "# Split data into two df one with 80% of data and other with 20%\n",
    "df_train = df.sample(frac=0.8, random_state=200)\n",
    "df_train_target = df_train['quality']\n",
    "df_train_features = df_train.drop('quality', axis=1)\n",
    "\n",
    "df_test = df.drop(df_train.index)\n",
    "\n",
    "print(\"df_train has\", len(df_train), \"cases and\", df_train.shape[1], \"columns\")\n",
    "print(\"df_train_target has\", len(df_train_target), \"cases and only has one columns (target)\")\n",
    "print(\"df_train_features has\", len(df_train_features), df_train_features.shape[1], \"columns that are equal to the number of features\")\n",
    "\n",
    "print(\"df_test has\", len(df_test), \"cases and\", df_test.shape[1], \"columns\")\n",
    "\n",
    "print(\"If we add the number of cases in train,\", len(df_train), \",plus the number of cases in test,\", len(df_test), \", we obtain the total len of the original data\", len(df_train) + len(df_test))"
   ]
  },
  {
   "cell_type": "markdown",
   "id": "2a52596c",
   "metadata": {
    "papermill": {
     "duration": 0.01118,
     "end_time": "2024-04-30T13:31:05.853298",
     "exception": false,
     "start_time": "2024-04-30T13:31:05.842118",
     "status": "completed"
    },
    "tags": []
   },
   "source": [
    "# Introduction\n",
    "\n",
    "The aim of linear regression algorithm is to predict one variable (VD, also know as target) using one or more features (VI).\n",
    "\n",
    "There are two type of models depending on the number of features involve:\n",
    "\n",
    "* Simple Linear Regression. Only one Feature is used to predict the target:\n",
    "\n",
    "$$\n",
    "\\hat{y} = \\hat{\\beta}_0 + \\hat{\\beta}_1 x_1 + \\epsilon\n",
    "$$\n",
    "\n",
    "* Multiple Linear Regression. Two or more features are used to predict the target.\n",
    "\n",
    "$$\n",
    "\\hat{y} = \\hat{\\beta}_0 + \\hat{\\beta}_1 x_1 +  \\hat{\\beta}_2 x_2 + ... + \\hat{\\beta}_n x_n + \\epsilon\n",
    "$$\n",
    "\n",
    "Where:\n",
    "\n",
    "* $ \\hat{y} $: Is the target we predict.\n",
    "* $ \\hat{\\beta}_0 $: Is the intercept or bias.\n",
    "* $ \\hat{\\beta}_1, \\hat{\\beta}_2, ... $: Are the coefficients (weights, effect) associated with each feature. Is the effect of one feature in the target.\n",
    "* $ \\epsilon $: Is the error\n",
    "\n",
    "We assume that the relation between VD and the VI is linear."
   ]
  },
  {
   "cell_type": "markdown",
   "id": "14313176",
   "metadata": {
    "papermill": {
     "duration": 0.011816,
     "end_time": "2024-04-30T13:31:05.876693",
     "exception": false,
     "start_time": "2024-04-30T13:31:05.864877",
     "status": "completed"
    },
    "tags": []
   },
   "source": [
    "### Compute our first simple linear regression model\n",
    "\n",
    "We are going to use trainig data. As we said, our target variable is \"quality\" (stored in df_train_target). To predict the value we are going to use as feature \"alcohol\" (stored in df_train_features with the other features)."
   ]
  },
  {
   "cell_type": "code",
   "execution_count": 4,
   "id": "f1465ab5",
   "metadata": {
    "execution": {
     "iopub.execute_input": "2024-04-30T13:31:05.902225Z",
     "iopub.status.busy": "2024-04-30T13:31:05.901761Z",
     "iopub.status.idle": "2024-04-30T13:31:05.912490Z",
     "shell.execute_reply": "2024-04-30T13:31:05.911057Z"
    },
    "papermill": {
     "duration": 0.026709,
     "end_time": "2024-04-30T13:31:05.915206",
     "exception": false,
     "start_time": "2024-04-30T13:31:05.888497",
     "status": "completed"
    },
    "tags": []
   },
   "outputs": [
    {
     "name": "stdout",
     "output_type": "stream",
     "text": [
      "Target quality \n",
      " 366     7\n",
      "1325    6\n",
      "133     6\n",
      "1418    5\n",
      "1258    6\n",
      "       ..\n",
      "1514    6\n",
      "1027    5\n",
      "732     5\n",
      "1282    6\n",
      "801     5\n",
      "Name: quality, Length: 1279, dtype: int64 \n",
      "\n",
      "Feature alcohol \n",
      "         alcohol\n",
      "366   10.000000\n",
      "1325  10.600000\n",
      "133    9.800000\n",
      "1418   9.800000\n",
      "1258  11.300000\n",
      "...         ...\n",
      "1514   9.233333\n",
      "1027  11.600000\n",
      "732    9.600000\n",
      "1282  10.900000\n",
      "801   10.000000\n",
      "\n",
      "[1279 rows x 1 columns]\n"
     ]
    }
   ],
   "source": [
    "# Select only the feature alcohol\n",
    "df_train_feature_alcohol = df_train[['alcohol']]\n",
    "\n",
    "# Print results\n",
    "print(\"Target quality \\n\", df_train_target, \"\\n\")\n",
    "print(\"Feature alcohol \\n\", df_train_feature_alcohol)"
   ]
  },
  {
   "cell_type": "markdown",
   "id": "b3d90d50",
   "metadata": {
    "papermill": {
     "duration": 0.011542,
     "end_time": "2024-04-30T13:31:05.938489",
     "exception": false,
     "start_time": "2024-04-30T13:31:05.926947",
     "status": "completed"
    },
    "tags": []
   },
   "source": [
    "Now we create the model that put in relation quality and alcohol. Steps:\n",
    "\n",
    "* Create the model.\n",
    "* Fit the model We obtain the coefficients and the intercept here.\n",
    "* Show the values for intercept and coefficients"
   ]
  },
  {
   "cell_type": "code",
   "execution_count": 5,
   "id": "a96fcf80",
   "metadata": {
    "execution": {
     "iopub.execute_input": "2024-04-30T13:31:05.963792Z",
     "iopub.status.busy": "2024-04-30T13:31:05.963342Z",
     "iopub.status.idle": "2024-04-30T13:31:05.985521Z",
     "shell.execute_reply": "2024-04-30T13:31:05.984309Z"
    },
    "papermill": {
     "duration": 0.037968,
     "end_time": "2024-04-30T13:31:05.987978",
     "exception": false,
     "start_time": "2024-04-30T13:31:05.950010",
     "status": "completed"
    },
    "tags": []
   },
   "outputs": [
    {
     "name": "stdout",
     "output_type": "stream",
     "text": [
      "Intercept : 1.8296508402667544\n",
      "Coefficients : [0.36431398]\n"
     ]
    }
   ],
   "source": [
    "# Create SLRM and fit it\n",
    "regression1 = LinearRegression()\n",
    "\n",
    "# Fit the model\n",
    "model1 = regression1.fit(df_train_feature_alcohol, df_train_target) # Features first then target\n",
    "\n",
    "# Show the equation values:\n",
    "print(\"Intercept :\", model1.intercept_ )\n",
    "print(\"Coefficients :\", model1.coef_)"
   ]
  },
  {
   "cell_type": "markdown",
   "id": "7a6d9f11",
   "metadata": {
    "papermill": {
     "duration": 0.011717,
     "end_time": "2024-04-30T13:31:06.011359",
     "exception": false,
     "start_time": "2024-04-30T13:31:05.999642",
     "status": "completed"
    },
    "tags": []
   },
   "source": [
    "Whith this information we can build the equation of the model:\n",
    "\n",
    "$$\n",
    "\\hat{y} = 1.830 + 0.364 · x_1 + \\epsilon\n",
    "$$\n",
    "\n",
    "The error $ \\epsilon $ is the difference between the real value of $ y $ and the predicted value $ \\hat{y} $. We only can know that value when we have the real result but not when we predict.\n",
    "\n",
    "However, we can replace the feature value in the equation. For our first case this value is:"
   ]
  },
  {
   "cell_type": "code",
   "execution_count": 6,
   "id": "3130523a",
   "metadata": {
    "execution": {
     "iopub.execute_input": "2024-04-30T13:31:06.037035Z",
     "iopub.status.busy": "2024-04-30T13:31:06.036505Z",
     "iopub.status.idle": "2024-04-30T13:31:06.044793Z",
     "shell.execute_reply": "2024-04-30T13:31:06.043584Z"
    },
    "papermill": {
     "duration": 0.023856,
     "end_time": "2024-04-30T13:31:06.047352",
     "exception": false,
     "start_time": "2024-04-30T13:31:06.023496",
     "status": "completed"
    },
    "tags": []
   },
   "outputs": [
    {
     "name": "stdout",
     "output_type": "stream",
     "text": [
      "Value of alcohol feature for our first case :      alcohol\n",
      "366     10.0\n"
     ]
    }
   ],
   "source": [
    "print(\"Value of alcohol feature for our first case :\", df_train_feature_alcohol.iloc[0:1])"
   ]
  },
  {
   "cell_type": "markdown",
   "id": "c96def90",
   "metadata": {
    "papermill": {
     "duration": 0.011371,
     "end_time": "2024-04-30T13:31:06.070498",
     "exception": false,
     "start_time": "2024-04-30T13:31:06.059127",
     "status": "completed"
    },
    "tags": []
   },
   "source": [
    "So, the equation for the first case is:\n",
    "\n",
    "$$\n",
    "\\hat{y} = 1.830 + 0.364 · 10 \n",
    "$$\n",
    "\n",
    "So the quality predicted value of our firsy case is:\n",
    "\n",
    "$$\n",
    "\\hat{y} = 1.830 + 0.364 · 10 \\approx 5.473\n",
    "$$\n",
    "\n",
    "We can do this using our script:"
   ]
  },
  {
   "cell_type": "code",
   "execution_count": 7,
   "id": "42b14223",
   "metadata": {
    "execution": {
     "iopub.execute_input": "2024-04-30T13:31:06.095945Z",
     "iopub.status.busy": "2024-04-30T13:31:06.095514Z",
     "iopub.status.idle": "2024-04-30T13:31:06.103656Z",
     "shell.execute_reply": "2024-04-30T13:31:06.102417Z"
    },
    "papermill": {
     "duration": 0.024004,
     "end_time": "2024-04-30T13:31:06.106181",
     "exception": false,
     "start_time": "2024-04-30T13:31:06.082177",
     "status": "completed"
    },
    "tags": []
   },
   "outputs": [
    {
     "name": "stdout",
     "output_type": "stream",
     "text": [
      "Quality predicted value for the frst case: [5.47279063]\n"
     ]
    }
   ],
   "source": [
    "print(\"Quality predicted value for the frst case:\", model1.predict(df_train_feature_alcohol.iloc[0:1]))"
   ]
  },
  {
   "cell_type": "markdown",
   "id": "62592147",
   "metadata": {
    "papermill": {
     "duration": 0.01176,
     "end_time": "2024-04-30T13:31:06.129888",
     "exception": false,
     "start_time": "2024-04-30T13:31:06.118128",
     "status": "completed"
    },
    "tags": []
   },
   "source": [
    "Now, we are going to plot our model. This graphics shows the relation between real values of alcohol (x-exe) and real quality (y-exes). The red line represents the fitted linear regression model. More close the dots to the line, better predictions we made."
   ]
  },
  {
   "cell_type": "code",
   "execution_count": 8,
   "id": "c0b1b86c",
   "metadata": {
    "execution": {
     "iopub.execute_input": "2024-04-30T13:31:06.155515Z",
     "iopub.status.busy": "2024-04-30T13:31:06.155053Z",
     "iopub.status.idle": "2024-04-30T13:31:06.708573Z",
     "shell.execute_reply": "2024-04-30T13:31:06.707330Z"
    },
    "papermill": {
     "duration": 0.569435,
     "end_time": "2024-04-30T13:31:06.711481",
     "exception": false,
     "start_time": "2024-04-30T13:31:06.142046",
     "status": "completed"
    },
    "tags": []
   },
   "outputs": [
    {
     "data": {
      "text/plain": [
       "<matplotlib.legend.Legend at 0x78e138502c50>"
      ]
     },
     "execution_count": 8,
     "metadata": {},
     "output_type": "execute_result"
    },
    {
     "data": {
      "image/png": "[encoded data removed]",
      "text/plain": [
       "<Figure size 1000x600 with 1 Axes>"
      ]
     },
     "metadata": {},
     "output_type": "display_data"
    }
   ],
   "source": [
    "# Plotting the actual data points\n",
    "plt.figure(figsize=(10, 6))\n",
    "plt.scatter(df_train_feature_alcohol, df_train_target, color='blue', label='Actual data')\n",
    "\n",
    "# Plotting the regression line\n",
    "plt.plot(df_train_feature_alcohol, model1.predict(df_train_feature_alcohol), color='red', linewidth=2, label='Fitted line')\n",
    "\n",
    "# Limits of the axes\n",
    "plt.xlim(4, 16)\n",
    "plt.ylim(0, 10)\n",
    "\n",
    "# Adding labels and title\n",
    "plt.ylabel('Quality (real value)')\n",
    "plt.xlabel('Alcohol (feature)')\n",
    "plt.title('Simple Linear Regression Fit')\n",
    "plt.legend()"
   ]
  },
  {
   "cell_type": "markdown",
   "id": "96af271d",
   "metadata": {
    "papermill": {
     "duration": 0.012158,
     "end_time": "2024-04-30T13:31:06.736294",
     "exception": false,
     "start_time": "2024-04-30T13:31:06.724136",
     "status": "completed"
    },
    "tags": []
   },
   "source": [
    "This is what we can conclude only with the plot:\n",
    "\n",
    "* Dots follow the vertical. This indicated that the alcohol is not the unique variable that could explain the quality of the wine.\n",
    "* The prediction line increase. We could translate this as \"more alcohol, more quality of the wine\".\n",
    "* Dots are not very close to the line what means that probably there are other factor that are affecting in the quality."
   ]
  },
  {
   "cell_type": "markdown",
   "id": "e4ffee8b",
   "metadata": {
    "papermill": {
     "duration": 0.012488,
     "end_time": "2024-04-30T13:31:06.761295",
     "exception": false,
     "start_time": "2024-04-30T13:31:06.748807",
     "status": "completed"
    },
    "tags": []
   },
   "source": [
    "### Compute our first multiple linear regression model\n",
    "\n",
    "In this case, we are going to include all the features that we have to predict the quality (target). The steps are as in the simple model."
   ]
  },
  {
   "cell_type": "code",
   "execution_count": 9,
   "id": "8fceddef",
   "metadata": {
    "execution": {
     "iopub.execute_input": "2024-04-30T13:31:06.788873Z",
     "iopub.status.busy": "2024-04-30T13:31:06.788477Z",
     "iopub.status.idle": "2024-04-30T13:31:06.810887Z",
     "shell.execute_reply": "2024-04-30T13:31:06.809519Z"
    },
    "papermill": {
     "duration": 0.040826,
     "end_time": "2024-04-30T13:31:06.814921",
     "exception": false,
     "start_time": "2024-04-30T13:31:06.774095",
     "status": "completed"
    },
    "tags": []
   },
   "outputs": [
    {
     "name": "stdout",
     "output_type": "stream",
     "text": [
      "Intercept : 16.63469349194023\n",
      "Coefficients : [ 2.03288413e-02 -1.02555421e+00 -1.51014281e-01  1.16167979e-02\n",
      " -1.49002597e+00  5.47302465e-03 -3.37647532e-03 -1.23669162e+01\n",
      " -5.33610421e-01  8.87103957e-01  2.96795462e-01]\n"
     ]
    }
   ],
   "source": [
    "# Create MLRM and fit it\n",
    "regression2 = LinearRegression()\n",
    "\n",
    "# Fit the model\n",
    "model2 = regression2.fit(df_train_features, df_train_target) # Features first then target\n",
    "\n",
    "# Show the equation values:\n",
    "print(\"Intercept :\", model2.intercept_ )\n",
    "print(\"Coefficients :\", model2.coef_)"
   ]
  },
  {
   "cell_type": "markdown",
   "id": "cd7b34be",
   "metadata": {
    "papermill": {
     "duration": 0.026255,
     "end_time": "2024-04-30T13:31:06.869109",
     "exception": false,
     "start_time": "2024-04-30T13:31:06.842854",
     "status": "completed"
    },
    "tags": []
   },
   "source": [
    "Whith this information we can build the equation of the model:\n",
    "\n",
    "$$\n",
    "\\hat{y} = 16.635 + 0.020 · x_1 - 1.026 · x_2 - 0.151 · x_3 + 0.012 · x_4 - 1.490 · x_5 + 0.005 · x_6 - 0.003 · x_7 - 12.367 · x_8 - 0.534 · x_9 + 0.887 · x_{10} + 0.298 · x_{11}\n",
    "$$\n",
    "\n",
    "We can see that we have negative and positive values in the coeficients. We interpretate as follow:\n",
    "\n",
    "* **Positive**: A high value in that feature, increase the value of the taarget.\n",
    "* **Negative**: A high value in that feature, decrease the value of the taarget.\n",
    "\n",
    "If we replace the features for our first case we obtain this:"
   ]
  },
  {
   "cell_type": "code",
   "execution_count": 10,
   "id": "a3a47284",
   "metadata": {
    "execution": {
     "iopub.execute_input": "2024-04-30T13:31:06.924451Z",
     "iopub.status.busy": "2024-04-30T13:31:06.924028Z",
     "iopub.status.idle": "2024-04-30T13:31:06.935950Z",
     "shell.execute_reply": "2024-04-30T13:31:06.934334Z"
    },
    "papermill": {
     "duration": 0.042681,
     "end_time": "2024-04-30T13:31:06.938692",
     "exception": false,
     "start_time": "2024-04-30T13:31:06.896011",
     "status": "completed"
    },
    "tags": []
   },
   "outputs": [
    {
     "name": "stdout",
     "output_type": "stream",
     "text": [
      "Value of all features for our first case :      fixed acidity  volatile acidity  citric acid  residual sugar  chlorides  \\\n",
      "366           12.8             0.615         0.66             5.8      0.083   \n",
      "\n",
      "     free sulfur dioxide  total sulfur dioxide  density    pH  sulphates  \\\n",
      "366                  7.0                  42.0   1.0022  3.07       0.73   \n",
      "\n",
      "     alcohol  \n",
      "366     10.0  \n"
     ]
    }
   ],
   "source": [
    "print(\"Value of all features for our first case :\", df_train_features.iloc[0:1])"
   ]
  },
  {
   "cell_type": "markdown",
   "id": "b0df928d",
   "metadata": {
    "papermill": {
     "duration": 0.012541,
     "end_time": "2024-04-30T13:31:06.964461",
     "exception": false,
     "start_time": "2024-04-30T13:31:06.951920",
     "status": "completed"
    },
    "tags": []
   },
   "source": [
    "For the first case the final equation looks like:\n",
    "\n",
    "$$\n",
    "\\hat{y} = 16.634 + 0.020 \\cdot 12.8 - 1.026 \\cdot 0.615 - 0.151 \\cdot 0.66 + 0.012 \\cdot 5.8 - 1.490 \\cdot 0.083 + 0.005 \\cdot 7.0 - 0.003 \\cdot 42.0 - 12.367 \\cdot 1.0022 - 0.534 \\cdot 3.07 + 0.887 \\cdot 0.73 + 0.298 \\cdot 10.0\n",
    "$$\n",
    "\n",
    "And the quality predicted value :\n",
    "\n",
    "$$\n",
    "\\hat{y} \\approx 5.608\n",
    "$$\n",
    "\n",
    "We can do this using our script:"
   ]
  },
  {
   "cell_type": "code",
   "execution_count": 11,
   "id": "635b1e39",
   "metadata": {
    "execution": {
     "iopub.execute_input": "2024-04-30T13:31:06.993593Z",
     "iopub.status.busy": "2024-04-30T13:31:06.992809Z",
     "iopub.status.idle": "2024-04-30T13:31:07.000970Z",
     "shell.execute_reply": "2024-04-30T13:31:06.999853Z"
    },
    "papermill": {
     "duration": 0.025275,
     "end_time": "2024-04-30T13:31:07.003204",
     "exception": false,
     "start_time": "2024-04-30T13:31:06.977929",
     "status": "completed"
    },
    "tags": []
   },
   "outputs": [
    {
     "name": "stdout",
     "output_type": "stream",
     "text": [
      "Quality predicted value for the frst case: [5.58795496]\n"
     ]
    }
   ],
   "source": [
    "print(\"Quality predicted value for the frst case:\", model2.predict(df_train_features.iloc[0:1]))"
   ]
  },
  {
   "cell_type": "markdown",
   "id": "f0e84ff5",
   "metadata": {
    "papermill": {
     "duration": 0.013291,
     "end_time": "2024-04-30T13:31:07.029869",
     "exception": false,
     "start_time": "2024-04-30T13:31:07.016578",
     "status": "completed"
    },
    "tags": []
   },
   "source": [
    "Represent now in a plot"
   ]
  },
  {
   "cell_type": "code",
   "execution_count": 12,
   "id": "907aef99",
   "metadata": {
    "execution": {
     "iopub.execute_input": "2024-04-30T13:31:07.058051Z",
     "iopub.status.busy": "2024-04-30T13:31:07.057306Z",
     "iopub.status.idle": "2024-04-30T13:31:07.507903Z",
     "shell.execute_reply": "2024-04-30T13:31:07.506296Z"
    },
    "papermill": {
     "duration": 0.467821,
     "end_time": "2024-04-30T13:31:07.510762",
     "exception": false,
     "start_time": "2024-04-30T13:31:07.042941",
     "status": "completed"
    },
    "tags": []
   },
   "outputs": [
    {
     "data": {
      "text/plain": [
       "<matplotlib.legend.Legend at 0x78e134163520>"
      ]
     },
     "execution_count": 12,
     "metadata": {},
     "output_type": "execute_result"
    },
    {
     "data": {
      "image/png": "[encoded data removed]",
      "text/plain": [
       "<Figure size 1000x600 with 1 Axes>"
      ]
     },
     "metadata": {},
     "output_type": "display_data"
    }
   ],
   "source": [
    "# Plotting the actual data points\n",
    "plt.figure(figsize=(10, 6))\n",
    "plt.scatter(model2.predict(df_train_features), df_train_target, color='blue', label='Predicted vs Actual data')\n",
    "\n",
    "# Plotting the regression line\n",
    "plt.plot(df_train_target, df_train_target, color='red', linewidth=2, label='Fitted line')\n",
    "\n",
    "# Limits of the axes\n",
    "plt.xlim(0, 10)\n",
    "plt.ylim(0, 10)\n",
    "\n",
    "# Adding labels and title\n",
    "plt.xlabel('Quality (real value)')\n",
    "plt.ylabel('Predicted quality')\n",
    "plt.title('Multiple Linear Regression Fit')\n",
    "plt.legend()"
   ]
  },
  {
   "cell_type": "markdown",
   "id": "ca7adf86",
   "metadata": {
    "papermill": {
     "duration": 0.013964,
     "end_time": "2024-04-30T13:31:07.538586",
     "exception": false,
     "start_time": "2024-04-30T13:31:07.524622",
     "status": "completed"
    },
    "tags": []
   },
   "source": [
    "# Interacction effect\n",
    "\n",
    "Some times, features could not show an effect in the target by it selfs, but the combinations of them does. We can include this type of effect including an interaction term in the model. \n",
    "\n",
    "Including interaction terms in the model allows for the possibility that the relationship between the predictors and the target variable is not additive ($ \\hat{\\beta}_1 · x_1 +  \\hat{\\beta}_2 · x_2 $) but varies depending on the levels of other predictors ($ \\hat{\\beta}_3 · x_1 · x_2 $).\n",
    "\n",
    "Imagine we have an original model with two features: x1 and x2. As we see the introduction, the model will take this form:\n",
    "\n",
    "$$\n",
    "\\hat{y} = \\hat{\\beta}_0 + \\hat{\\beta}_1 x_1 + \\hat{\\beta}_2 x_2 + \\epsilon\n",
    "$$\n",
    "\n",
    "If we suspect some interaction between this two features, we can add the interaction effect as follow:\n",
    "\n",
    "$$\n",
    "\\hat{y} = \\hat{\\beta}_0 + \\hat{\\beta}_1 x_1 + \\hat{\\beta}_2 x_2 + \\hat{\\beta}_3 x_1 x_2 + \\epsilon\n",
    "$$\n",
    "\n",
    "Some relevant things:\n",
    "* We can include as many interaction effects as we want, if there are interesting. However, think in the relevance for include them because we take the risk of overfitting in our model.\n",
    "* An interaction effect could include more than two features. For example ($ \\hat{\\beta}_3 · x_1 · x_2 · x_3 $). If you decide this is interesting in your case, take care about the overfitting and the dificulty of interpreate the interaction.\n",
    "* It is not necessary include interaction for all the features involve in the model. If we have a model with three features, and we thing only the interaction between $ x_1 $ and $ x_2 $ is ineresting, then we can create a model like this: $ \\hat{y} = \\hat{\\beta}_0 + \\hat{\\beta}_1 x_1 + \\hat{\\beta}_2 x_2 + \\hat{\\beta}_3 x_3 + \\hat{\\beta}_4 x_1 x_2 + \\epsilon $\n",
    "\n",
    "The domain knowledge and a visualization that shows the effect in the target using two features could be useful to decide when include an interaction.\n",
    "\n",
    "We will se how to do this in python.\n"
   ]
  },
  {
   "cell_type": "markdown",
   "id": "b6edff54",
   "metadata": {
    "papermill": {
     "duration": 0.014718,
     "end_time": "2024-04-30T13:31:07.567180",
     "exception": false,
     "start_time": "2024-04-30T13:31:07.552462",
     "status": "completed"
    },
    "tags": []
   },
   "source": [
    "### Multi-linear regression model all features plus an interaction between two of them\n",
    "\n",
    "As before, alochol is our target variable. As predictors we include all the feautres plus the interaction between free sulfur dioxide and alochol.\n",
    "\n",
    "First, we create the interaction:\n",
    "\n"
   ]
  },
  {
   "cell_type": "code",
   "execution_count": 13,
   "id": "3529aa0f",
   "metadata": {
    "execution": {
     "iopub.execute_input": "2024-04-30T13:31:07.597355Z",
     "iopub.status.busy": "2024-04-30T13:31:07.596235Z",
     "iopub.status.idle": "2024-04-30T13:31:07.603059Z",
     "shell.execute_reply": "2024-04-30T13:31:07.601265Z"
    },
    "papermill": {
     "duration": 0.024653,
     "end_time": "2024-04-30T13:31:07.605706",
     "exception": false,
     "start_time": "2024-04-30T13:31:07.581053",
     "status": "completed"
    },
    "tags": []
   },
   "outputs": [],
   "source": [
    "interaction = PolynomialFeatures(\n",
    "    degree=2,                    # How many features combinations we want to create\n",
    "    include_bias=False,          # Exclude the bias term \n",
    "    interaction_only=True        # Only include interaction effects (not x^2, x^3, etc.)\n",
    "    )"
   ]
  },
  {
   "cell_type": "markdown",
   "id": "8fb6a139",
   "metadata": {
    "papermill": {
     "duration": 0.015656,
     "end_time": "2024-04-30T13:31:07.635482",
     "exception": false,
     "start_time": "2024-04-30T13:31:07.619826",
     "status": "completed"
    },
    "tags": []
   },
   "source": [
    "Now, we have to transform and fit the interaction between free sulfur dioxide and alcohol:"
   ]
  },
  {
   "cell_type": "code",
   "execution_count": 14,
   "id": "0a504aea",
   "metadata": {
    "execution": {
     "iopub.execute_input": "2024-04-30T13:31:07.665646Z",
     "iopub.status.busy": "2024-04-30T13:31:07.664955Z",
     "iopub.status.idle": "2024-04-30T13:31:07.683892Z",
     "shell.execute_reply": "2024-04-30T13:31:07.682755Z"
    },
    "papermill": {
     "duration": 0.03754,
     "end_time": "2024-04-30T13:31:07.687034",
     "exception": false,
     "start_time": "2024-04-30T13:31:07.649494",
     "status": "completed"
    },
    "tags": []
   },
   "outputs": [
    {
     "name": "stdout",
     "output_type": "stream",
     "text": [
      "    free sulfur dioxide  alcohol  free sulfur dioxide alcohol\n",
      "1                  25.0      9.8                        245.0\n",
      "2                  15.0      9.8                        147.0\n",
      "3                  17.0      9.8                        166.6\n",
      "4                  11.0      9.4                        103.4\n",
      "5                  13.0      9.4                        122.2\n",
      "6                  15.0      9.4                        141.0\n",
      "7                  15.0     10.0                        150.0\n",
      "8                   9.0      9.5                         85.5\n",
      "9                  17.0     10.5                        178.5\n",
      "11                 17.0     10.5                        178.5\n",
      "12                 16.0      9.9                        158.4\n",
      "13                  9.0      9.1                         81.9\n",
      "14                 52.0      9.2                        478.4\n",
      "16                 35.0     10.5                        367.5\n",
      "19                 17.0      9.2                        156.4\n",
      "20                 29.0      9.4                        272.6\n",
      "21                 23.0      9.7                        223.1\n",
      "22                 10.0      9.5                         95.0\n",
      "23                  9.0      9.4                         84.6\n",
      "24                 21.0      9.7                        203.7\n"
     ]
    }
   ],
   "source": [
    "features_interaction = interaction.fit_transform(df_train_features[['free sulfur dioxide', 'alcohol']])\n",
    "\n",
    "# This is not necessary but is good to see the results. Transform the array into a dataframe:\n",
    "features_interaction = pd.DataFrame(features_interaction,\n",
    "                                      columns = interaction.get_feature_names_out(['free sulfur dioxide', 'alcohol']),\n",
    "                                      index=df_train_features.index  # This line ensures the index is carried over. Example, index 10 doesn´t should appear\n",
    "                                   )\n",
    "print(features_interaction.sort_index().head(20))"
   ]
  },
  {
   "cell_type": "markdown",
   "id": "13667a0f",
   "metadata": {
    "papermill": {
     "duration": 0.013914,
     "end_time": "2024-04-30T13:31:07.714925",
     "exception": false,
     "start_time": "2024-04-30T13:31:07.701011",
     "status": "completed"
    },
    "tags": []
   },
   "source": [
    "As we see, the interaction include the simple features (because degree = 2 includes degree = 1 that are the simple effects) and the interaction. We are only interested in the interaction column (free sulfur dioxide alcohol) so we extract only that column and we add it to our original features df: "
   ]
  },
  {
   "cell_type": "code",
   "execution_count": 15,
   "id": "7b15192e",
   "metadata": {
    "execution": {
     "iopub.execute_input": "2024-04-30T13:31:07.745773Z",
     "iopub.status.busy": "2024-04-30T13:31:07.744521Z",
     "iopub.status.idle": "2024-04-30T13:31:07.753943Z",
     "shell.execute_reply": "2024-04-30T13:31:07.752203Z"
    },
    "papermill": {
     "duration": 0.027168,
     "end_time": "2024-04-30T13:31:07.756281",
     "exception": false,
     "start_time": "2024-04-30T13:31:07.729113",
     "status": "completed"
    },
    "tags": []
   },
   "outputs": [
    {
     "name": "stdout",
     "output_type": "stream",
     "text": [
      "      free sulfur dioxide alcohol\n",
      "1514                   147.733333\n",
      "1027                   324.800000\n",
      "732                     96.000000\n",
      "1282                    98.100000\n",
      "801                     80.000000\n"
     ]
    }
   ],
   "source": [
    "interaction_column = features_interaction[['free sulfur dioxide alcohol']]\n",
    "print(interaction_column.tail(5))"
   ]
  },
  {
   "cell_type": "markdown",
   "id": "93c24ebf",
   "metadata": {
    "papermill": {
     "duration": 0.01412,
     "end_time": "2024-04-30T13:31:07.784882",
     "exception": false,
     "start_time": "2024-04-30T13:31:07.770762",
     "status": "completed"
    },
    "tags": []
   },
   "source": [
    "We add the interaction column to our original feature df. We are going to create a new df to show that is a modified version."
   ]
  },
  {
   "cell_type": "code",
   "execution_count": 16,
   "id": "f19e48e4",
   "metadata": {
    "execution": {
     "iopub.execute_input": "2024-04-30T13:31:07.815061Z",
     "iopub.status.busy": "2024-04-30T13:31:07.814391Z",
     "iopub.status.idle": "2024-04-30T13:31:07.835248Z",
     "shell.execute_reply": "2024-04-30T13:31:07.834048Z"
    },
    "papermill": {
     "duration": 0.038969,
     "end_time": "2024-04-30T13:31:07.837793",
     "exception": false,
     "start_time": "2024-04-30T13:31:07.798824",
     "status": "completed"
    },
    "tags": []
   },
   "outputs": [
    {
     "name": "stdout",
     "output_type": "stream",
     "text": [
      "   fixed acidity  volatile acidity  citric acid  residual sugar  chlorides  \\\n",
      "1            7.8              0.88         0.00             2.6      0.098   \n",
      "2            7.8              0.76         0.04             2.3      0.092   \n",
      "3           11.2              0.28         0.56             1.9      0.075   \n",
      "4            7.4              0.70         0.00             1.9      0.076   \n",
      "5            7.4              0.66         0.00             1.8      0.075   \n",
      "\n",
      "   free sulfur dioxide  total sulfur dioxide  density    pH  sulphates  \\\n",
      "1                 25.0                  67.0   0.9968  3.20       0.68   \n",
      "2                 15.0                  54.0   0.9970  3.26       0.65   \n",
      "3                 17.0                  60.0   0.9980  3.16       0.58   \n",
      "4                 11.0                  34.0   0.9978  3.51       0.56   \n",
      "5                 13.0                  40.0   0.9978  3.51       0.56   \n",
      "\n",
      "   alcohol  free sulfur dioxide alcohol  \n",
      "1      9.8                        245.0  \n",
      "2      9.8                        147.0  \n",
      "3      9.8                        166.6  \n",
      "4      9.4                        103.4  \n",
      "5      9.4                        122.2  \n"
     ]
    }
   ],
   "source": [
    "df_train_features_modified = df_train_features.join(interaction_column, how='outer')\n",
    "pd.set_option('display.max_rows', 1600) \n",
    "print(df_train_features_modified.sort_index().head(5))"
   ]
  },
  {
   "cell_type": "markdown",
   "id": "d6da02aa",
   "metadata": {
    "papermill": {
     "duration": 0.01404,
     "end_time": "2024-04-30T13:31:07.865976",
     "exception": false,
     "start_time": "2024-04-30T13:31:07.851936",
     "status": "completed"
    },
    "tags": []
   },
   "source": [
    "Now, we have a new df with all the original features plus one with the interaction (the last one).\n",
    "\n",
    "**!!! Important**. We have done this only for train data. In a normal workflow, this step must be done **before** split the df in test and training. In the final example we are going to see a compleate process.\n",
    "\n",
    "With our final df, features_interaction_modified, we can fit the model and obtain the intercept and coefficients:"
   ]
  },
  {
   "cell_type": "code",
   "execution_count": 17,
   "id": "b1ca049b",
   "metadata": {
    "execution": {
     "iopub.execute_input": "2024-04-30T13:31:07.896118Z",
     "iopub.status.busy": "2024-04-30T13:31:07.895718Z",
     "iopub.status.idle": "2024-04-30T13:31:07.910417Z",
     "shell.execute_reply": "2024-04-30T13:31:07.908854Z"
    },
    "papermill": {
     "duration": 0.03538,
     "end_time": "2024-04-30T13:31:07.915494",
     "exception": false,
     "start_time": "2024-04-30T13:31:07.880114",
     "status": "completed"
    },
    "tags": []
   },
   "outputs": [
    {
     "name": "stdout",
     "output_type": "stream",
     "text": [
      "Intercept : -19.911852177471186\n",
      "Coefficients :\n",
      "fixed acidity: -0.013\n",
      "volatile acidity: -0.239\n",
      "citric acid: 0.199\n",
      "residual sugar: -0.022\n",
      "chlorides: 0.454\n",
      "free sulfur dioxide: 0.007\n",
      "total sulfur dioxide: 0.001\n",
      "density: 24.904\n",
      "pH: 0.136\n",
      "sulphates: -0.257\n",
      "alcohol: 0.054\n",
      "free sulfur dioxide alcohol: -0.000\n"
     ]
    }
   ],
   "source": [
    "# Create MLRM and fit it\n",
    "regression3 = LinearRegression()\n",
    "\n",
    "# Fit the model\n",
    "model3 = regression3.fit(df_train_features_modified, df_train_target) # Features first then target\n",
    "\n",
    "# Show the equation values:\n",
    "print(\"Intercept :\", model3.intercept_ )\n",
    "\n",
    "# New way to obtain the coefficients with names and round them to three decimals:\n",
    "feature_names = df_train_features_modified.columns\n",
    "coefficient_dict = dict(zip(feature_names, model3.coef_))\n",
    "print(\"Coefficients :\")\n",
    "for feature, coef in coefficient_dict.items():\n",
    "    print(f\"{feature}: {coef:.3f}\")"
   ]
  },
  {
   "cell_type": "markdown",
   "id": "3421b7a2",
   "metadata": {
    "papermill": {
     "duration": 0.030172,
     "end_time": "2024-04-30T13:31:07.976734",
     "exception": false,
     "start_time": "2024-04-30T13:31:07.946562",
     "status": "completed"
    },
    "tags": []
   },
   "source": [
    "Now build the equation of the model:\n",
    "\n",
    "$$\n",
    "\\hat{y} = 19.912 -0.013 · x_1 - 0.239 · x_2 + 0.0199 · x_3 - 0.022 · x_4 + 0.454 · x_5 + 0.007 · x_6 + 0.001 · x_7 + 24.904 · x_8 + 0.136 · x_9 - 0.257 · x_{10} + 0.054 · x_{11} - 0.0005 · x_{6} · x_{11}\n",
    "$$\n",
    "\n",
    "As we see, the interaction coefficient is negative. It means that when we have higher levels of alcohol, the effect of free sulfur dioxide in the quality is less positive or negative. However, as we see, the size of the coefficients is ver low.\n",
    "\n",
    "If we replace the features for our first case we obtain this:"
   ]
  },
  {
   "cell_type": "code",
   "execution_count": 18,
   "id": "66da472a",
   "metadata": {
    "execution": {
     "iopub.execute_input": "2024-04-30T13:31:08.034625Z",
     "iopub.status.busy": "2024-04-30T13:31:08.034215Z",
     "iopub.status.idle": "2024-04-30T13:31:08.046608Z",
     "shell.execute_reply": "2024-04-30T13:31:08.045283Z"
    },
    "papermill": {
     "duration": 0.04174,
     "end_time": "2024-04-30T13:31:08.049687",
     "exception": false,
     "start_time": "2024-04-30T13:31:08.007947",
     "status": "completed"
    },
    "tags": []
   },
   "outputs": [
    {
     "name": "stdout",
     "output_type": "stream",
     "text": [
      "Value of all features for our first case :    fixed acidity  volatile acidity  citric acid  residual sugar  chlorides  \\\n",
      "1            7.8              0.88          0.0             2.6      0.098   \n",
      "\n",
      "   free sulfur dioxide  total sulfur dioxide  density   pH  sulphates  \\\n",
      "1                 25.0                  67.0   0.9968  3.2       0.68   \n",
      "\n",
      "   alcohol  free sulfur dioxide alcohol  \n",
      "1      9.8                        245.0  \n"
     ]
    }
   ],
   "source": [
    "# Notice that we use df_train_features_modified\n",
    "print(\"Value of all features for our first case :\", df_train_features_modified.iloc[0:1]) "
   ]
  }
 ],
 "metadata": {
  "kaggle": {
   "accelerator": "none",
   "dataSources": [
    {
     "datasetId": 4458,
     "sourceId": 8204,
     "sourceType": "datasetVersion"
    }
   ],
   "dockerImageVersionId": 30698,
   "isGpuEnabled": false,
   "isInternetEnabled": false,
   "language": "python",
   "sourceType": "notebook"
  },
  "kernelspec": {
   "display_name": "Python 3",
   "language": "python",
   "name": "python3"
  },
  "language_info": {
   "codemirror_mode": {
    "name": "ipython",
    "version": 3
   },
   "file_extension": ".py",
   "mimetype": "text/x-python",
   "name": "python",
   "nbconvert_exporter": "python",
   "pygments_lexer": "ipython3",
   "version": "3.10.13"
  },
  "papermill": {
   "default_parameters": {},
   "duration": 8.593861,
   "end_time": "2024-04-30T13:31:08.685222",
   "environment_variables": {},
   "exception": null,
   "input_path": "__notebook__.ipynb",
   "output_path": "__notebook__.ipynb",
   "parameters": {},
   "start_time": "2024-04-30T13:31:00.091361",
   "version": "2.5.0"
  }
 },
 "nbformat": 4,
 "nbformat_minor": 5
}
