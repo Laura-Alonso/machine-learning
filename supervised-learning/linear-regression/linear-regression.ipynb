{
 "cells": [
  {
   "cell_type": "markdown",
   "id": "5bdadb95",
   "metadata": {
    "papermill": {
     "duration": 0.014334,
     "end_time": "2024-05-05T09:38:19.468143",
     "exception": false,
     "start_time": "2024-05-05T09:38:19.453809",
     "status": "completed"
    },
    "tags": []
   },
   "source": [
    "# LINEAR REGRESSION\n",
    "\n",
    "In this notebook we are going to explain the principal characterisitcs of linear regression.\n",
    "\n",
    "First of all, linear regression is an algoritm used in machine learning. Specifically, it follows inside the \"supervised learning\". "
   ]
  },
  {
   "cell_type": "markdown",
   "id": "1738841a",
   "metadata": {
    "papermill": {
     "duration": 0.013439,
     "end_time": "2024-05-05T09:38:19.495571",
     "exception": false,
     "start_time": "2024-05-05T09:38:19.482132",
     "status": "completed"
    },
    "tags": []
   },
   "source": [
    "# Database and language\n",
    "\n",
    "For this notebook we are going to use the database \"red wine quiality\". You can follow the entery description follow this link https://www.kaggle.com/datasets/uciml/red-wine-quality-cortez-et-al-2009.\n",
    "\n",
    "* All the variable in this database are quantitative.\n",
    "* The target variable is \"quiality\". This variable range between 0 and 10.\n",
    "\n",
    "The code of the following lines is developed with python.\n",
    "\n",
    "We are going to import the libraries required to all the futures steps."
   ]
  },
  {
   "cell_type": "code",
   "execution_count": 1,
   "id": "d593c542",
   "metadata": {
    "execution": {
     "iopub.execute_input": "2024-05-05T09:38:19.529648Z",
     "iopub.status.busy": "2024-05-05T09:38:19.528859Z",
     "iopub.status.idle": "2024-05-05T09:38:21.739427Z",
     "shell.execute_reply": "2024-05-05T09:38:21.737983Z"
    },
    "papermill": {
     "duration": 2.230654,
     "end_time": "2024-05-05T09:38:21.742292",
     "exception": false,
     "start_time": "2024-05-05T09:38:19.511638",
     "status": "completed"
    },
    "tags": []
   },
   "outputs": [],
   "source": [
    "import pandas as pd                                  # Read csv\n",
    "from sklearn.linear_model  import LinearRegression\n",
    "from sklearn.preprocessing import PolynomialFeatures # interaction effect, no linear models\n",
    "from sklearn.linear_model  import Ridge, RidgeCV, Lasso, LassoCV # regularizationy, best value of alpha Ridge, reduce features, best value of alpha Lasso\n",
    "from sklearn.metrics import r2_score, mean_squared_error\n",
    "from sklearn.dummy import DummyRegressor\n",
    "from sklearn.preprocessing import StandardScaler # standardization\n",
    "import matplotlib.pyplot as plt                  # plot\n",
    "import numpy as np\n"
   ]
  },
  {
   "cell_type": "markdown",
   "id": "3bece01c",
   "metadata": {
    "papermill": {
     "duration": 0.013956,
     "end_time": "2024-05-05T09:38:21.770269",
     "exception": false,
     "start_time": "2024-05-05T09:38:21.756313",
     "status": "completed"
    },
    "tags": []
   },
   "source": [
    "Now, we are going to upload the data. As we can see, there are 12 variables: 11 features and 1 target. There are 1,599 rows"
   ]
  },
  {
   "cell_type": "code",
   "execution_count": 2,
   "id": "aa4ad632",
   "metadata": {
    "execution": {
     "iopub.execute_input": "2024-05-05T09:38:21.800630Z",
     "iopub.status.busy": "2024-05-05T09:38:21.800066Z",
     "iopub.status.idle": "2024-05-05T09:38:21.850949Z",
     "shell.execute_reply": "2024-05-05T09:38:21.850062Z"
    },
    "papermill": {
     "duration": 0.069119,
     "end_time": "2024-05-05T09:38:21.853775",
     "exception": false,
     "start_time": "2024-05-05T09:38:21.784656",
     "status": "completed"
    },
    "tags": []
   },
   "outputs": [
    {
     "name": "stdout",
     "output_type": "stream",
     "text": [
      "Number of rows: 1599\n",
      "   fixed acidity  volatile acidity  citric acid  residual sugar  chlorides  \\\n",
      "0            7.4              0.70         0.00             1.9      0.076   \n",
      "1            7.8              0.88         0.00             2.6      0.098   \n",
      "2            7.8              0.76         0.04             2.3      0.092   \n",
      "3           11.2              0.28         0.56             1.9      0.075   \n",
      "4            7.4              0.70         0.00             1.9      0.076   \n",
      "\n",
      "   free sulfur dioxide  total sulfur dioxide  density    pH  sulphates  \\\n",
      "0                 11.0                  34.0   0.9978  3.51       0.56   \n",
      "1                 25.0                  67.0   0.9968  3.20       0.68   \n",
      "2                 15.0                  54.0   0.9970  3.26       0.65   \n",
      "3                 17.0                  60.0   0.9980  3.16       0.58   \n",
      "4                 11.0                  34.0   0.9978  3.51       0.56   \n",
      "\n",
      "   alcohol  quality  \n",
      "0      9.4        5  \n",
      "1      9.8        5  \n",
      "2      9.8        5  \n",
      "3      9.8        6  \n",
      "4      9.4        5  \n"
     ]
    }
   ],
   "source": [
    "# read csv\n",
    "df = pd.read_csv('/kaggle/input/red-wine-quality-cortez-et-al-2009/winequality-red.csv')\n",
    "print(\"Number of rows:\", len(df))\n",
    "print(df.head())"
   ]
  },
  {
   "cell_type": "markdown",
   "id": "1323f89d",
   "metadata": {
    "papermill": {
     "duration": 0.014507,
     "end_time": "2024-05-05T09:38:21.883317",
     "exception": false,
     "start_time": "2024-05-05T09:38:21.868810",
     "status": "completed"
    },
    "tags": []
   },
   "source": [
    " Now we are going to split the data into training and test. \n",
    " \n",
    " df_train. Has "
   ]
  },
  {
   "cell_type": "code",
   "execution_count": 3,
   "id": "9ed18cb5",
   "metadata": {
    "execution": {
     "iopub.execute_input": "2024-05-05T09:38:21.914637Z",
     "iopub.status.busy": "2024-05-05T09:38:21.914258Z",
     "iopub.status.idle": "2024-05-05T09:38:21.933717Z",
     "shell.execute_reply": "2024-05-05T09:38:21.932296Z"
    },
    "papermill": {
     "duration": 0.038043,
     "end_time": "2024-05-05T09:38:21.936149",
     "exception": false,
     "start_time": "2024-05-05T09:38:21.898106",
     "status": "completed"
    },
    "tags": []
   },
   "outputs": [
    {
     "name": "stdout",
     "output_type": "stream",
     "text": [
      "df_train has 1279 cases and 12 columns\n",
      "df_train_target has 1279 cases and only has one columns (target)\n",
      "df_train_features has 1279 11 columns that are equal to the number of features\n",
      "df_test has 320 cases and 12 columns\n",
      "If we add the number of cases in train, 1279 ,plus the number of cases in test, 320 , we obtain the total len of the original data 1599\n"
     ]
    }
   ],
   "source": [
    "# Split data into two df one with 80% of data and other with 20%\n",
    "df_train = df.sample(frac=0.8, random_state=200)\n",
    "df_train_target = df_train['quality']\n",
    "df_train_features = df_train.drop('quality', axis=1)\n",
    "\n",
    "df_test = df.drop(df_train.index)\n",
    "\n",
    "print(\"df_train has\", len(df_train), \"cases and\", df_train.shape[1], \"columns\")\n",
    "print(\"df_train_target has\", len(df_train_target), \"cases and only has one columns (target)\")\n",
    "print(\"df_train_features has\", len(df_train_features), df_train_features.shape[1], \"columns that are equal to the number of features\")\n",
    "\n",
    "print(\"df_test has\", len(df_test), \"cases and\", df_test.shape[1], \"columns\")\n",
    "\n",
    "print(\"If we add the number of cases in train,\", len(df_train), \",plus the number of cases in test,\", len(df_test), \", we obtain the total len of the original data\", len(df_train) + len(df_test))"
   ]
  },
  {
   "cell_type": "markdown",
   "id": "4daca247",
   "metadata": {
    "papermill": {
     "duration": 0.01473,
     "end_time": "2024-05-05T09:38:21.966314",
     "exception": false,
     "start_time": "2024-05-05T09:38:21.951584",
     "status": "completed"
    },
    "tags": []
   },
   "source": [
    "# 1. Introduction\n",
    "\n",
    "The aim of linear regression algorithm is to predict one variable (VD, also know as target) using one or more features (VI).\n",
    "\n",
    "There are two type of models depending on the number of features involve:\n",
    "\n",
    "* Simple Linear Regression. Only one Feature is used to predict the target:\n",
    "\n",
    "$$\n",
    "\\hat{y} = \\hat{\\beta}_0 + \\hat{\\beta}_1 x_1 + \\epsilon\n",
    "$$\n",
    "\n",
    "* Multiple Linear Regression. Two or more features are used to predict the target.\n",
    "\n",
    "$$\n",
    "\\hat{y} = \\hat{\\beta}_0 + \\hat{\\beta}_1 x_1 +  \\hat{\\beta}_2 x_2 + ... + \\hat{\\beta}_n x_n + \\epsilon\n",
    "$$\n",
    "\n",
    "Where:\n",
    "\n",
    "* $ \\hat{y} $: Is the target we predict.\n",
    "* $ \\hat{\\beta}_0 $: Is the intercept or bias.\n",
    "* $ \\hat{\\beta}_1, \\hat{\\beta}_2, ... $: Are the coefficients (weights, effect) associated with each feature. Is the effect of one feature in the target.\n",
    "* $ \\epsilon $: Is the error\n",
    "\n",
    "We assume that the relation between VD and the VI is linear."
   ]
  },
  {
   "cell_type": "markdown",
   "id": "c6e80dd7",
   "metadata": {
    "papermill": {
     "duration": 0.01477,
     "end_time": "2024-05-05T09:38:21.996149",
     "exception": false,
     "start_time": "2024-05-05T09:38:21.981379",
     "status": "completed"
    },
    "tags": []
   },
   "source": [
    "### A. Compute our first simple linear regression model\n",
    "\n",
    "We are going to use trainig data. As we said, our target variable is \"quality\" (stored in df_train_target). To predict the value we are going to use as feature \"alcohol\" (stored in df_train_features with the other features)."
   ]
  },
  {
   "cell_type": "code",
   "execution_count": 4,
   "id": "a350e2f9",
   "metadata": {
    "execution": {
     "iopub.execute_input": "2024-05-05T09:38:22.028910Z",
     "iopub.status.busy": "2024-05-05T09:38:22.028489Z",
     "iopub.status.idle": "2024-05-05T09:38:22.042773Z",
     "shell.execute_reply": "2024-05-05T09:38:22.041427Z"
    },
    "papermill": {
     "duration": 0.033308,
     "end_time": "2024-05-05T09:38:22.045557",
     "exception": false,
     "start_time": "2024-05-05T09:38:22.012249",
     "status": "completed"
    },
    "tags": []
   },
   "outputs": [
    {
     "name": "stdout",
     "output_type": "stream",
     "text": [
      "Target quality \n",
      " 1     5\n",
      "2     5\n",
      "3     6\n",
      "4     5\n",
      "5     5\n",
      "6     5\n",
      "7     7\n",
      "8     7\n",
      "9     5\n",
      "11    5\n",
      "Name: quality, dtype: int64 \n",
      "\n",
      "Feature alcohol \n",
      "     alcohol\n",
      "1       9.8\n",
      "2       9.8\n",
      "3       9.8\n",
      "4       9.4\n",
      "5       9.4\n",
      "6       9.4\n",
      "7      10.0\n",
      "8       9.5\n",
      "9      10.5\n",
      "11     10.5\n"
     ]
    }
   ],
   "source": [
    "# Select only the feature alcohol\n",
    "df_train_feature_alcohol = df_train[['alcohol']]\n",
    "\n",
    "# Print results\n",
    "print(\"Target quality \\n\", df_train_target.sort_index().head(10), \"\\n\")\n",
    "print(\"Feature alcohol \\n\", df_train_feature_alcohol.sort_index().head(10))"
   ]
  },
  {
   "cell_type": "markdown",
   "id": "cb69d85f",
   "metadata": {
    "papermill": {
     "duration": 0.01482,
     "end_time": "2024-05-05T09:38:22.076649",
     "exception": false,
     "start_time": "2024-05-05T09:38:22.061829",
     "status": "completed"
    },
    "tags": []
   },
   "source": [
    "Now we create the model that put in relation quality and alcohol. Steps:\n",
    "\n",
    "* Create the model.\n",
    "* Fit the model We obtain the coefficients and the intercept here.\n",
    "* Show the values for intercept and coefficients"
   ]
  },
  {
   "cell_type": "code",
   "execution_count": 5,
   "id": "47a54c58",
   "metadata": {
    "execution": {
     "iopub.execute_input": "2024-05-05T09:38:22.109401Z",
     "iopub.status.busy": "2024-05-05T09:38:22.108623Z",
     "iopub.status.idle": "2024-05-05T09:38:22.127973Z",
     "shell.execute_reply": "2024-05-05T09:38:22.127163Z"
    },
    "papermill": {
     "duration": 0.038945,
     "end_time": "2024-05-05T09:38:22.130734",
     "exception": false,
     "start_time": "2024-05-05T09:38:22.091789",
     "status": "completed"
    },
    "tags": []
   },
   "outputs": [
    {
     "name": "stdout",
     "output_type": "stream",
     "text": [
      "Intercept : 1.8296508402667544\n",
      "Coefficients : [0.36431398]\n"
     ]
    }
   ],
   "source": [
    "# Create SLRM and fit it\n",
    "regression1 = LinearRegression()\n",
    "\n",
    "# Fit the model\n",
    "model1 = regression1.fit(df_train_feature_alcohol, df_train_target) # Features first then target\n",
    "\n",
    "# Show the equation values:\n",
    "print(\"Intercept :\", model1.intercept_ )\n",
    "print(\"Coefficients :\", model1.coef_)"
   ]
  },
  {
   "cell_type": "markdown",
   "id": "1e61eb51",
   "metadata": {
    "papermill": {
     "duration": 0.015504,
     "end_time": "2024-05-05T09:38:22.161627",
     "exception": false,
     "start_time": "2024-05-05T09:38:22.146123",
     "status": "completed"
    },
    "tags": []
   },
   "source": [
    "Whith this information we can build the equation of the model:\n",
    "\n",
    "$$\n",
    "\\hat{y} = 1.830 + 0.364 · x_1 + \\epsilon\n",
    "$$\n",
    "\n",
    "The error $ \\epsilon $ is the difference between the real value of $ y $ and the predicted value $ \\hat{y} $. We only can know that value when we have the real result but not when we predict.\n",
    "\n",
    "However, we can replace the feature value in the equation. For our first case this value is:"
   ]
  },
  {
   "cell_type": "code",
   "execution_count": 6,
   "id": "c13ca056",
   "metadata": {
    "execution": {
     "iopub.execute_input": "2024-05-05T09:38:22.192913Z",
     "iopub.status.busy": "2024-05-05T09:38:22.192185Z",
     "iopub.status.idle": "2024-05-05T09:38:22.200089Z",
     "shell.execute_reply": "2024-05-05T09:38:22.198736Z"
    },
    "papermill": {
     "duration": 0.026206,
     "end_time": "2024-05-05T09:38:22.202415",
     "exception": false,
     "start_time": "2024-05-05T09:38:22.176209",
     "status": "completed"
    },
    "tags": []
   },
   "outputs": [
    {
     "name": "stdout",
     "output_type": "stream",
     "text": [
      "Value of alcohol feature for our first case :      alcohol\n",
      "366     10.0\n"
     ]
    }
   ],
   "source": [
    "print(\"Value of alcohol feature for our first case :\", df_train_feature_alcohol.iloc[0:1])"
   ]
  },
  {
   "cell_type": "markdown",
   "id": "42653195",
   "metadata": {
    "papermill": {
     "duration": 0.01426,
     "end_time": "2024-05-05T09:38:22.231427",
     "exception": false,
     "start_time": "2024-05-05T09:38:22.217167",
     "status": "completed"
    },
    "tags": []
   },
   "source": [
    "So, the equation for the first case is:\n",
    "\n",
    "$$\n",
    "\\hat{y} = 1.830 + 0.364 · 10 \n",
    "$$\n",
    "\n",
    "So the quality predicted value of our firsy case is:\n",
    "\n",
    "$$\n",
    "\\hat{y} = 1.830 + 0.364 · 10 \\approx 5.473\n",
    "$$\n",
    "\n",
    "We can do this using our script:"
   ]
  },
  {
   "cell_type": "code",
   "execution_count": 7,
   "id": "33168470",
   "metadata": {
    "execution": {
     "iopub.execute_input": "2024-05-05T09:38:22.262880Z",
     "iopub.status.busy": "2024-05-05T09:38:22.262115Z",
     "iopub.status.idle": "2024-05-05T09:38:22.272303Z",
     "shell.execute_reply": "2024-05-05T09:38:22.271140Z"
    },
    "papermill": {
     "duration": 0.028667,
     "end_time": "2024-05-05T09:38:22.274730",
     "exception": false,
     "start_time": "2024-05-05T09:38:22.246063",
     "status": "completed"
    },
    "tags": []
   },
   "outputs": [
    {
     "name": "stdout",
     "output_type": "stream",
     "text": [
      "Quality predicted value for the frst case:    Simple Model\n",
      "1      5.399928\n"
     ]
    }
   ],
   "source": [
    "model1_y = pd.DataFrame(model1.predict(df_train_feature_alcohol), \n",
    "                      index=df_train_feature_alcohol.index, \n",
    "                      columns=['Simple Model'])\n",
    "\n",
    "print(\"Quality predicted value for the frst case:\", model1_y.sort_index().head(1))"
   ]
  },
  {
   "cell_type": "markdown",
   "id": "2aac28dc",
   "metadata": {
    "papermill": {
     "duration": 0.014476,
     "end_time": "2024-05-05T09:38:22.304377",
     "exception": false,
     "start_time": "2024-05-05T09:38:22.289901",
     "status": "completed"
    },
    "tags": []
   },
   "source": [
    "Now, we are going to plot our model. This graphics shows the relation between real values of alcohol (x-exe) and real quality (y-exes). The red line represents the fitted linear regression model. More close the dots to the line, better predictions we made."
   ]
  },
  {
   "cell_type": "code",
   "execution_count": 8,
   "id": "b2acbbf5",
   "metadata": {
    "execution": {
     "iopub.execute_input": "2024-05-05T09:38:22.335782Z",
     "iopub.status.busy": "2024-05-05T09:38:22.335342Z",
     "iopub.status.idle": "2024-05-05T09:38:22.905874Z",
     "shell.execute_reply": "2024-05-05T09:38:22.904273Z"
    },
    "papermill": {
     "duration": 0.589917,
     "end_time": "2024-05-05T09:38:22.908918",
     "exception": false,
     "start_time": "2024-05-05T09:38:22.319001",
     "status": "completed"
    },
    "tags": []
   },
   "outputs": [
    {
     "data": {
      "text/plain": [
       "<matplotlib.legend.Legend at 0x7dd6c3c035b0>"
      ]
     },
     "execution_count": 8,
     "metadata": {},
     "output_type": "execute_result"
    },
    {
     "data": {
      "image/png": "[encoded data removed]",
      "text/plain": [
       "<Figure size 1000x600 with 1 Axes>"
      ]
     },
     "metadata": {},
     "output_type": "display_data"
    }
   ],
   "source": [
    "# Plotting the actual data points\n",
    "plt.figure(figsize=(10, 6))\n",
    "plt.scatter(df_train_feature_alcohol, df_train_target, color='blue', label='Actual data')\n",
    "\n",
    "# Plotting the regression line\n",
    "plt.plot(df_train_feature_alcohol, model1.predict(df_train_feature_alcohol), color='red', linewidth=2, label='Fitted line')\n",
    "\n",
    "# Limits of the axes\n",
    "plt.xlim(4, 16)\n",
    "plt.ylim(0, 10)\n",
    "\n",
    "# Adding labels and title\n",
    "plt.ylabel('Quality (real value)')\n",
    "plt.xlabel('Alcohol (feature)')\n",
    "plt.title('Simple Linear Regression Fit')\n",
    "plt.legend()\n"
   ]
  },
  {
   "cell_type": "markdown",
   "id": "2acc4743",
   "metadata": {
    "papermill": {
     "duration": 0.015432,
     "end_time": "2024-05-05T09:38:22.940389",
     "exception": false,
     "start_time": "2024-05-05T09:38:22.924957",
     "status": "completed"
    },
    "tags": []
   },
   "source": [
    "This is what we can conclude only with the plot:\n",
    "\n",
    "* Dots follow the vertical. This indicated that the alcohol is not the unique variable that could explain the quality of the wine.\n",
    "* The prediction line increase. We could translate this as \"more alcohol, more quality of the wine\".\n",
    "* Dots are not very close to the line what means that probably there are other factor that are affecting in the quality."
   ]
  },
  {
   "cell_type": "markdown",
   "id": "02d800ad",
   "metadata": {
    "papermill": {
     "duration": 0.015137,
     "end_time": "2024-05-05T09:38:22.971551",
     "exception": false,
     "start_time": "2024-05-05T09:38:22.956414",
     "status": "completed"
    },
    "tags": []
   },
   "source": [
    "### B. Compute our first multiple linear regression model\n",
    "\n",
    "In this case, we are going to include all the features that we have to predict the quality (target). The steps are as in the simple model."
   ]
  },
  {
   "cell_type": "code",
   "execution_count": 9,
   "id": "ede7e547",
   "metadata": {
    "execution": {
     "iopub.execute_input": "2024-05-05T09:38:23.064362Z",
     "iopub.status.busy": "2024-05-05T09:38:23.063762Z",
     "iopub.status.idle": "2024-05-05T09:38:23.086336Z",
     "shell.execute_reply": "2024-05-05T09:38:23.085125Z"
    },
    "papermill": {
     "duration": 0.102069,
     "end_time": "2024-05-05T09:38:23.089393",
     "exception": false,
     "start_time": "2024-05-05T09:38:22.987324",
     "status": "completed"
    },
    "tags": []
   },
   "outputs": [
    {
     "name": "stdout",
     "output_type": "stream",
     "text": [
      "Intercept : 16.63469349194023\n",
      "Coefficients : [ 2.03288413e-02 -1.02555421e+00 -1.51014281e-01  1.16167979e-02\n",
      " -1.49002597e+00  5.47302465e-03 -3.37647532e-03 -1.23669162e+01\n",
      " -5.33610421e-01  8.87103957e-01  2.96795462e-01]\n"
     ]
    }
   ],
   "source": [
    "# Create MLRM and fit it\n",
    "regression2 = LinearRegression()\n",
    "\n",
    "# Fit the model\n",
    "model2 = regression2.fit(df_train_features, df_train_target) # Features first then target\n",
    "\n",
    "# Show the equation values:\n",
    "print(\"Intercept :\", model2.intercept_ )\n",
    "print(\"Coefficients :\", model2.coef_)"
   ]
  },
  {
   "cell_type": "markdown",
   "id": "77803703",
   "metadata": {
    "papermill": {
     "duration": 0.02585,
     "end_time": "2024-05-05T09:38:23.141726",
     "exception": false,
     "start_time": "2024-05-05T09:38:23.115876",
     "status": "completed"
    },
    "tags": []
   },
   "source": [
    "Whith this information we can build the equation of the model:\n",
    "\n",
    "$$\n",
    "\\hat{y} = 16.635 + 0.020 · x_1 - 1.026 · x_2 - 0.151 · x_3 + 0.012 · x_4 - 1.490 · x_5 + 0.005 · x_6 - 0.003 · x_7 - 12.367 · x_8 - 0.534 · x_9 + 0.887 · x_{10} + 0.298 · x_{11}\n",
    "$$\n",
    "\n",
    "We can see that we have negative and positive values in the coeficients. We interpretate as follow:\n",
    "\n",
    "* **Positive**: A high value in that feature, increase the value of the taarget.\n",
    "* **Negative**: A high value in that feature, decrease the value of the taarget.\n",
    "\n",
    "If we replace the features for our first case we obtain this:"
   ]
  },
  {
   "cell_type": "code",
   "execution_count": 10,
   "id": "555593cc",
   "metadata": {
    "execution": {
     "iopub.execute_input": "2024-05-05T09:38:23.197486Z",
     "iopub.status.busy": "2024-05-05T09:38:23.196519Z",
     "iopub.status.idle": "2024-05-05T09:38:23.210208Z",
     "shell.execute_reply": "2024-05-05T09:38:23.209147Z"
    },
    "papermill": {
     "duration": 0.044922,
     "end_time": "2024-05-05T09:38:23.212748",
     "exception": false,
     "start_time": "2024-05-05T09:38:23.167826",
     "status": "completed"
    },
    "tags": []
   },
   "outputs": [
    {
     "name": "stdout",
     "output_type": "stream",
     "text": [
      "Value of all features for our first case :      fixed acidity  volatile acidity  citric acid  residual sugar  chlorides  \\\n",
      "366           12.8             0.615         0.66             5.8      0.083   \n",
      "\n",
      "     free sulfur dioxide  total sulfur dioxide  density    pH  sulphates  \\\n",
      "366                  7.0                  42.0   1.0022  3.07       0.73   \n",
      "\n",
      "     alcohol  \n",
      "366     10.0  \n"
     ]
    }
   ],
   "source": [
    "print(\"Value of all features for our first case :\", df_train_features.iloc[0:1])"
   ]
  },
  {
   "cell_type": "markdown",
   "id": "e49338ce",
   "metadata": {
    "papermill": {
     "duration": 0.016816,
     "end_time": "2024-05-05T09:38:23.245798",
     "exception": false,
     "start_time": "2024-05-05T09:38:23.228982",
     "status": "completed"
    },
    "tags": []
   },
   "source": [
    "For the first case the final equation looks like:\n",
    "\n",
    "$$\n",
    "\\hat{y} = 16.634 + 0.020 \\cdot 12.8 - 1.026 \\cdot 0.615 - 0.151 \\cdot 0.66 + 0.012 \\cdot 5.8 - 1.490 \\cdot 0.083 + 0.005 \\cdot 7.0 - 0.003 \\cdot 42.0 - 12.367 \\cdot 1.0022 - 0.534 \\cdot 3.07 + 0.887 \\cdot 0.73 + 0.298 \\cdot 10.0\n",
    "$$\n",
    "\n",
    "And the quality predicted value :\n",
    "\n",
    "$$\n",
    "\\hat{y} \\approx 5.608\n",
    "$$\n",
    "\n",
    "We can do this using our script:"
   ]
  },
  {
   "cell_type": "code",
   "execution_count": 11,
   "id": "b6c00fdc",
   "metadata": {
    "execution": {
     "iopub.execute_input": "2024-05-05T09:38:23.286284Z",
     "iopub.status.busy": "2024-05-05T09:38:23.285228Z",
     "iopub.status.idle": "2024-05-05T09:38:23.303297Z",
     "shell.execute_reply": "2024-05-05T09:38:23.301613Z"
    },
    "papermill": {
     "duration": 0.045588,
     "end_time": "2024-05-05T09:38:23.308700",
     "exception": false,
     "start_time": "2024-05-05T09:38:23.263112",
     "status": "completed"
    },
    "tags": []
   },
   "outputs": [
    {
     "name": "stdout",
     "output_type": "stream",
     "text": [
      "Quality predicted value for the frst case:    Multiple Model\n",
      "1        5.162484\n"
     ]
    }
   ],
   "source": [
    "model2_y = pd.DataFrame(model2.predict(df_train_features), \n",
    "                      index=df_train_features.index, \n",
    "                      columns=['Multiple Model'])\n",
    "\n",
    "print(\"Quality predicted value for the frst case:\", model2_y.sort_index().head(1))"
   ]
  },
  {
   "cell_type": "markdown",
   "id": "48491f68",
   "metadata": {
    "papermill": {
     "duration": 0.037247,
     "end_time": "2024-05-05T09:38:23.380470",
     "exception": false,
     "start_time": "2024-05-05T09:38:23.343223",
     "status": "completed"
    },
    "tags": []
   },
   "source": [
    "Represent now in a plot"
   ]
  },
  {
   "cell_type": "code",
   "execution_count": 12,
   "id": "df5a6949",
   "metadata": {
    "execution": {
     "iopub.execute_input": "2024-05-05T09:38:23.434866Z",
     "iopub.status.busy": "2024-05-05T09:38:23.434173Z",
     "iopub.status.idle": "2024-05-05T09:38:23.862336Z",
     "shell.execute_reply": "2024-05-05T09:38:23.861207Z"
    },
    "papermill": {
     "duration": 0.457357,
     "end_time": "2024-05-05T09:38:23.865176",
     "exception": false,
     "start_time": "2024-05-05T09:38:23.407819",
     "status": "completed"
    },
    "tags": []
   },
   "outputs": [
    {
     "data": {
      "text/plain": [
       "<matplotlib.legend.Legend at 0x7dd6e2d3e320>"
      ]
     },
     "execution_count": 12,
     "metadata": {},
     "output_type": "execute_result"
    },
    {
     "data": {
      "image/png": "[encoded data removed]",
      "text/plain": [
       "<Figure size 1000x600 with 1 Axes>"
      ]
     },
     "metadata": {},
     "output_type": "display_data"
    }
   ],
   "source": [
    "# Plotting the actual data points\n",
    "plt.figure(figsize=(10, 6))\n",
    "plt.scatter(model2.predict(df_train_features), df_train_target, color='blue', label='Predicted vs Actual data')\n",
    "\n",
    "# Plotting the regression line\n",
    "plt.plot(df_train_target, df_train_target, color='red', linewidth=2, label='Fitted line')\n",
    "\n",
    "# Limits of the axes\n",
    "plt.xlim(0, 10)\n",
    "plt.ylim(0, 10)\n",
    "\n",
    "# Adding labels and title\n",
    "plt.xlabel('Quality (real value)')\n",
    "plt.ylabel('Predicted quality')\n",
    "plt.title('Multiple Linear Regression Fit')\n",
    "plt.legend()"
   ]
  },
  {
   "cell_type": "markdown",
   "id": "126c5c32",
   "metadata": {
    "papermill": {
     "duration": 0.01802,
     "end_time": "2024-05-05T09:38:23.900953",
     "exception": false,
     "start_time": "2024-05-05T09:38:23.882933",
     "status": "completed"
    },
    "tags": []
   },
   "source": [
    "# 2. Features modifications \n",
    "\n",
    "### A. Interacction effect\n",
    "\n",
    "Some times, features could not show an effect in the target by it selfs, but the combinations of them does. We can include this type of effect including an interaction term in the model. \n",
    "\n",
    "Including interaction terms in the model allows for the possibility that the relationship between the predictors and the target variable is not additive ($ \\hat{\\beta}_1 · x_1 +  \\hat{\\beta}_2 · x_2 $) but varies depending on the levels of other predictors ($ \\hat{\\beta}_3 · x_1 · x_2 $).\n",
    "\n",
    "Imagine we have an original model with two features: x1 and x2. As we see the introduction, the model will take this form:\n",
    "\n",
    "$$\n",
    "\\hat{y} = \\hat{\\beta}_0 + \\hat{\\beta}_1 x_1 + \\hat{\\beta}_2 x_2 + \\epsilon\n",
    "$$\n",
    "\n",
    "If we suspect some interaction between this two features, we can add the interaction effect as follow:\n",
    "\n",
    "$$\n",
    "\\hat{y} = \\hat{\\beta}_0 + \\hat{\\beta}_1 x_1 + \\hat{\\beta}_2 x_2 + \\hat{\\beta}_3 x_1 x_2 + \\epsilon\n",
    "$$\n",
    "\n",
    "Some relevant things:\n",
    "* We can include as many interaction effects as we want, if there are interesting. However, think in the relevance for include them because we take the risk of overfitting in our model.\n",
    "* An interaction effect could include more than two features. For example ($ \\hat{\\beta}_3 · x_1 · x_2 · x_3 $). If you decide this is interesting in your case, take care about the overfitting and the dificulty of interpreate the interaction.\n",
    "* It is not necessary include interaction for all the features involve in the model. If we have a model with three features, and we thing only the interaction between $ x_1 $ and $ x_2 $ is ineresting, then we can create a model like this: $ \\hat{y} = \\hat{\\beta}_0 + \\hat{\\beta}_1 x_1 + \\hat{\\beta}_2 x_2 + \\hat{\\beta}_3 x_3 + \\hat{\\beta}_4 x_1 x_2 + \\epsilon $\n",
    "\n",
    "The domain knowledge and a visualization that shows the effect in the target using two features could be useful to decide when include an interaction.\n",
    "\n",
    "We will se how to do this in python.\n"
   ]
  },
  {
   "cell_type": "markdown",
   "id": "4e337d23",
   "metadata": {
    "papermill": {
     "duration": 0.018052,
     "end_time": "2024-05-05T09:38:23.938427",
     "exception": false,
     "start_time": "2024-05-05T09:38:23.920375",
     "status": "completed"
    },
    "tags": []
   },
   "source": [
    "### Multi-linear regression model all features plus an interaction between two of them\n",
    "\n",
    "As before, alochol is our target variable. As predictors we include all the feautres plus the interaction between free sulfur dioxide and alochol.\n",
    "\n",
    "First, we create the interaction:\n",
    "\n"
   ]
  },
  {
   "cell_type": "code",
   "execution_count": 13,
   "id": "8c004320",
   "metadata": {
    "execution": {
     "iopub.execute_input": "2024-05-05T09:38:23.976060Z",
     "iopub.status.busy": "2024-05-05T09:38:23.975666Z",
     "iopub.status.idle": "2024-05-05T09:38:23.981727Z",
     "shell.execute_reply": "2024-05-05T09:38:23.980308Z"
    },
    "papermill": {
     "duration": 0.027846,
     "end_time": "2024-05-05T09:38:23.984420",
     "exception": false,
     "start_time": "2024-05-05T09:38:23.956574",
     "status": "completed"
    },
    "tags": []
   },
   "outputs": [],
   "source": [
    "interaction = PolynomialFeatures(\n",
    "    degree=2,                    # How many features combinations we want to create\n",
    "    include_bias=False,          # Exclude the bias term \n",
    "    interaction_only=True        # Only include interaction effects (not x^2, x^3, etc.)\n",
    "    )"
   ]
  },
  {
   "cell_type": "markdown",
   "id": "86a796f1",
   "metadata": {
    "papermill": {
     "duration": 0.02246,
     "end_time": "2024-05-05T09:38:24.027686",
     "exception": false,
     "start_time": "2024-05-05T09:38:24.005226",
     "status": "completed"
    },
    "tags": []
   },
   "source": [
    "Now, we have to transform and fit the interaction between free sulfur dioxide and alcohol:"
   ]
  },
  {
   "cell_type": "code",
   "execution_count": 14,
   "id": "2326aaf4",
   "metadata": {
    "execution": {
     "iopub.execute_input": "2024-05-05T09:38:24.067194Z",
     "iopub.status.busy": "2024-05-05T09:38:24.066107Z",
     "iopub.status.idle": "2024-05-05T09:38:24.083980Z",
     "shell.execute_reply": "2024-05-05T09:38:24.082613Z"
    },
    "papermill": {
     "duration": 0.040264,
     "end_time": "2024-05-05T09:38:24.086529",
     "exception": false,
     "start_time": "2024-05-05T09:38:24.046265",
     "status": "completed"
    },
    "tags": []
   },
   "outputs": [
    {
     "name": "stdout",
     "output_type": "stream",
     "text": [
      "   free sulfur dioxide  alcohol  free sulfur dioxide alcohol\n",
      "1                 25.0      9.8                        245.0\n"
     ]
    }
   ],
   "source": [
    "features_interaction = interaction.fit_transform(df_train_features[['free sulfur dioxide', 'alcohol']])\n",
    "\n",
    "# This is not necessary but is good to see the results. Transform the array into a dataframe:\n",
    "features_interaction = pd.DataFrame(features_interaction,\n",
    "                                      columns = interaction.get_feature_names_out(['free sulfur dioxide', 'alcohol']),\n",
    "                                      index=df_train_features.index  # This line ensures the index is carried over. Example, index 10 doesn´t should appear\n",
    "                                   )\n",
    "print(features_interaction.sort_index().head(1))\n"
   ]
  },
  {
   "cell_type": "markdown",
   "id": "cb602cd8",
   "metadata": {
    "papermill": {
     "duration": 0.017481,
     "end_time": "2024-05-05T09:38:24.122785",
     "exception": false,
     "start_time": "2024-05-05T09:38:24.105304",
     "status": "completed"
    },
    "tags": []
   },
   "source": [
    "As we see, the interaction include the simple features (because degree = 2 includes degree = 1 that are the simple effects) and the interaction. We are only interested in the interaction column (free sulfur dioxide alcohol) so we extract only that column and we add it to our original features df: "
   ]
  },
  {
   "cell_type": "code",
   "execution_count": 15,
   "id": "dff1d93c",
   "metadata": {
    "execution": {
     "iopub.execute_input": "2024-05-05T09:38:24.160511Z",
     "iopub.status.busy": "2024-05-05T09:38:24.160058Z",
     "iopub.status.idle": "2024-05-05T09:38:24.169035Z",
     "shell.execute_reply": "2024-05-05T09:38:24.168182Z"
    },
    "papermill": {
     "duration": 0.030739,
     "end_time": "2024-05-05T09:38:24.171496",
     "exception": false,
     "start_time": "2024-05-05T09:38:24.140757",
     "status": "completed"
    },
    "tags": []
   },
   "outputs": [
    {
     "name": "stdout",
     "output_type": "stream",
     "text": [
      "   free sulfur dioxide alcohol\n",
      "1                        245.0\n",
      "2                        147.0\n",
      "3                        166.6\n",
      "4                        103.4\n",
      "5                        122.2\n"
     ]
    }
   ],
   "source": [
    "interaction_column = features_interaction[['free sulfur dioxide alcohol']]\n",
    "print(interaction_column.sort_index().head(5))"
   ]
  },
  {
   "cell_type": "markdown",
   "id": "3c954896",
   "metadata": {
    "papermill": {
     "duration": 0.018399,
     "end_time": "2024-05-05T09:38:24.208163",
     "exception": false,
     "start_time": "2024-05-05T09:38:24.189764",
     "status": "completed"
    },
    "tags": []
   },
   "source": [
    "We add the interaction column to our original feature df. We are going to create a new df to show that is a modified version."
   ]
  },
  {
   "cell_type": "code",
   "execution_count": 16,
   "id": "849c848c",
   "metadata": {
    "execution": {
     "iopub.execute_input": "2024-05-05T09:38:24.245740Z",
     "iopub.status.busy": "2024-05-05T09:38:24.245265Z",
     "iopub.status.idle": "2024-05-05T09:38:24.267363Z",
     "shell.execute_reply": "2024-05-05T09:38:24.265178Z"
    },
    "papermill": {
     "duration": 0.043258,
     "end_time": "2024-05-05T09:38:24.269815",
     "exception": false,
     "start_time": "2024-05-05T09:38:24.226557",
     "status": "completed"
    },
    "tags": []
   },
   "outputs": [
    {
     "name": "stdout",
     "output_type": "stream",
     "text": [
      "   fixed acidity  volatile acidity  citric acid  residual sugar  chlorides  \\\n",
      "1            7.8              0.88         0.00             2.6      0.098   \n",
      "2            7.8              0.76         0.04             2.3      0.092   \n",
      "3           11.2              0.28         0.56             1.9      0.075   \n",
      "4            7.4              0.70         0.00             1.9      0.076   \n",
      "5            7.4              0.66         0.00             1.8      0.075   \n",
      "\n",
      "   free sulfur dioxide  total sulfur dioxide  density    pH  sulphates  \\\n",
      "1                 25.0                  67.0   0.9968  3.20       0.68   \n",
      "2                 15.0                  54.0   0.9970  3.26       0.65   \n",
      "3                 17.0                  60.0   0.9980  3.16       0.58   \n",
      "4                 11.0                  34.0   0.9978  3.51       0.56   \n",
      "5                 13.0                  40.0   0.9978  3.51       0.56   \n",
      "\n",
      "   alcohol  free sulfur dioxide alcohol  \n",
      "1      9.8                        245.0  \n",
      "2      9.8                        147.0  \n",
      "3      9.8                        166.6  \n",
      "4      9.4                        103.4  \n",
      "5      9.4                        122.2  \n"
     ]
    }
   ],
   "source": [
    "df_train_features_modified = df_train_features.join(interaction_column, how='outer')\n",
    "pd.set_option('display.max_rows', 1600) \n",
    "print(df_train_features_modified.sort_index().head(5))"
   ]
  },
  {
   "cell_type": "markdown",
   "id": "96cd17b1",
   "metadata": {
    "papermill": {
     "duration": 0.018477,
     "end_time": "2024-05-05T09:38:24.305752",
     "exception": false,
     "start_time": "2024-05-05T09:38:24.287275",
     "status": "completed"
    },
    "tags": []
   },
   "source": [
    "Now, we have a new df with all the original features plus one with the interaction (the last one).\n",
    "\n",
    "**!!! Important**. We have done this only for train data. In a normal workflow, this step must be done **before** split the df in test and training. In the final example we are going to see a compleate process.\n",
    "\n",
    "With our final df, features_interaction_modified, we can fit the model and obtain the intercept and coefficients:"
   ]
  },
  {
   "cell_type": "code",
   "execution_count": 17,
   "id": "b87afb5a",
   "metadata": {
    "execution": {
     "iopub.execute_input": "2024-05-05T09:38:24.342593Z",
     "iopub.status.busy": "2024-05-05T09:38:24.342136Z",
     "iopub.status.idle": "2024-05-05T09:38:24.359690Z",
     "shell.execute_reply": "2024-05-05T09:38:24.358313Z"
    },
    "papermill": {
     "duration": 0.039303,
     "end_time": "2024-05-05T09:38:24.362524",
     "exception": false,
     "start_time": "2024-05-05T09:38:24.323221",
     "status": "completed"
    },
    "tags": []
   },
   "outputs": [
    {
     "name": "stdout",
     "output_type": "stream",
     "text": [
      "Intercept : -19.911852177471186\n",
      "Coefficients :\n",
      "fixed acidity: -0.013\n",
      "volatile acidity: -0.239\n",
      "citric acid: 0.199\n",
      "residual sugar: -0.022\n",
      "chlorides: 0.454\n",
      "free sulfur dioxide: 0.007\n",
      "total sulfur dioxide: 0.001\n",
      "density: 24.904\n",
      "pH: 0.136\n",
      "sulphates: -0.257\n",
      "alcohol: 0.054\n",
      "free sulfur dioxide alcohol: -0.000\n"
     ]
    }
   ],
   "source": [
    "# Create MLRM and fit it\n",
    "regression3 = LinearRegression()\n",
    "\n",
    "# Fit the model\n",
    "model3 = regression3.fit(df_train_features_modified, df_train_target) # Features first then target\n",
    "\n",
    "# Show the equation values:\n",
    "print(\"Intercept :\", model3.intercept_ )\n",
    "\n",
    "# New way to obtain the coefficients with names and round them to three decimals:\n",
    "feature_names = df_train_features_modified.columns\n",
    "coefficient_dict = dict(zip(feature_names, model3.coef_))\n",
    "print(\"Coefficients :\")\n",
    "for feature, coef in coefficient_dict.items():\n",
    "    print(f\"{feature}: {coef:.3f}\")"
   ]
  },
  {
   "cell_type": "markdown",
   "id": "8f59c088",
   "metadata": {
    "papermill": {
     "duration": 0.028862,
     "end_time": "2024-05-05T09:38:24.425810",
     "exception": false,
     "start_time": "2024-05-05T09:38:24.396948",
     "status": "completed"
    },
    "tags": []
   },
   "source": [
    "Now build the equation of the model:\n",
    "\n",
    "$$\n",
    "\\hat{y} = -19.912 -0.013 · x_1 - 0.239 · x_2 + 0.199 · x_3 - 0.022 · x_4 + 0.454 · x_5 + 0.007 · x_6 + 0.001 · x_7 + 24.904 · x_8 + 0.136 · x_9 - 0.257 · x_{10} + 0.054 · x_{11} - 0.0005 · x_{6} · x_{11}\n",
    "$$\n",
    "\n",
    "As we see, the interaction coefficient is negative. It means that when we have higher levels of alcohol, the effect of free sulfur dioxide in the quality is less positive or negative. However, as we see, the size of the coefficients is ver low.\n",
    "\n",
    "If we replace the features for our first case we obtain this:"
   ]
  },
  {
   "cell_type": "code",
   "execution_count": 18,
   "id": "42a35386",
   "metadata": {
    "execution": {
     "iopub.execute_input": "2024-05-05T09:38:24.482827Z",
     "iopub.status.busy": "2024-05-05T09:38:24.482362Z",
     "iopub.status.idle": "2024-05-05T09:38:24.494566Z",
     "shell.execute_reply": "2024-05-05T09:38:24.493018Z"
    },
    "papermill": {
     "duration": 0.041587,
     "end_time": "2024-05-05T09:38:24.496780",
     "exception": false,
     "start_time": "2024-05-05T09:38:24.455193",
     "status": "completed"
    },
    "tags": []
   },
   "outputs": [
    {
     "name": "stdout",
     "output_type": "stream",
     "text": [
      "Value of all features for our first case :    fixed acidity  volatile acidity  citric acid  residual sugar  chlorides  \\\n",
      "1            7.8              0.88          0.0             2.6      0.098   \n",
      "\n",
      "   free sulfur dioxide  total sulfur dioxide  density   pH  sulphates  \\\n",
      "1                 25.0                  67.0   0.9968  3.2       0.68   \n",
      "\n",
      "   alcohol  free sulfur dioxide alcohol  \n",
      "1      9.8                        245.0  \n"
     ]
    }
   ],
   "source": [
    "# Notice that we use df_train_features_modified\n",
    "print(\"Value of all features for our first case :\", df_train_features_modified.iloc[0:1]) "
   ]
  },
  {
   "cell_type": "markdown",
   "id": "8ef1c87e",
   "metadata": {
    "papermill": {
     "duration": 0.018054,
     "end_time": "2024-05-05T09:38:24.532714",
     "exception": false,
     "start_time": "2024-05-05T09:38:24.514660",
     "status": "completed"
    },
    "tags": []
   },
   "source": [
    "We replace the variable information:"
   ]
  },
  {
   "cell_type": "markdown",
   "id": "b5c9b286",
   "metadata": {
    "execution": {
     "iopub.execute_input": "2024-04-30T13:45:11.368509Z",
     "iopub.status.busy": "2024-04-30T13:45:11.367516Z",
     "iopub.status.idle": "2024-04-30T13:45:11.379680Z",
     "shell.execute_reply": "2024-04-30T13:45:11.377633Z",
     "shell.execute_reply.started": "2024-04-30T13:45:11.368447Z"
    },
    "papermill": {
     "duration": 0.017771,
     "end_time": "2024-05-05T09:38:24.568385",
     "exception": false,
     "start_time": "2024-05-05T09:38:24.550614",
     "status": "completed"
    },
    "tags": []
   },
   "source": [
    "\n"
   ]
  },
  {
   "cell_type": "code",
   "execution_count": 19,
   "id": "7e3d5cfd",
   "metadata": {
    "execution": {
     "iopub.execute_input": "2024-05-05T09:38:24.606319Z",
     "iopub.status.busy": "2024-05-05T09:38:24.605847Z",
     "iopub.status.idle": "2024-05-05T09:38:24.621721Z",
     "shell.execute_reply": "2024-05-05T09:38:24.620288Z"
    },
    "papermill": {
     "duration": 0.037773,
     "end_time": "2024-05-05T09:38:24.624283",
     "exception": false,
     "start_time": "2024-05-05T09:38:24.586510",
     "status": "completed"
    },
    "tags": []
   },
   "outputs": [
    {
     "name": "stdout",
     "output_type": "stream",
     "text": [
      "Quality predicted value for the frst case:    Interaction Model\n",
      "1           5.482758\n"
     ]
    }
   ],
   "source": [
    "model3_y = pd.DataFrame(model3.predict(df_train_features_modified), \n",
    "                      index=df_train_features_modified.index, \n",
    "                      columns=['Interaction Model'])\n",
    "\n",
    "print(\"Quality predicted value for the frst case:\", model3_y.sort_index().head(1))"
   ]
  },
  {
   "cell_type": "markdown",
   "id": "3ce0a1e7",
   "metadata": {
    "papermill": {
     "duration": 0.021692,
     "end_time": "2024-05-05T09:38:24.663875",
     "exception": false,
     "start_time": "2024-05-05T09:38:24.642183",
     "status": "completed"
    },
    "tags": []
   },
   "source": [
    "An error occurred while committing kernel: ConcurrencyViolation Sequence number must match Draft record: KernelId=55703157, ExpectedSequence=611, ActualSequence=608, AuthorUserId=4700056\n",
    "### B. No linear relations\n",
    "\n",
    "In linear model we expect the relation between target and feature will be constant. When it does't happen the relation is no lineal. For example, imagine a student that is preparing an exam. In general, more hours of study means a better score. However, this relation is not linear. Study one hour doesn't mean obtain a one score in the test, or study seven hour doesn't mean score as seven. The relation is exponencial between the target (score) and the feature (number of hours of study).\n",
    "\n",
    "A model that include a no lineal effect in a feature take this aspect:\n",
    "\n",
    "$$\n",
    "\\hat{y} = \\hat{\\beta}_0 + \\hat{\\beta}_1 x_1 +  \\hat{\\beta}_2 x_1^2 + ... + \\hat{\\beta}_n x_n + \\epsilon\n",
    "$$\n",
    "\n",
    "Where:\n",
    "\n",
    "* $ x_1 $: Is the feature with a lineal efect.\n",
    "* $ x_1^2 $: Is the same feature with a no-linear association. $ ^2 $ are the grades of the polinomio.\n",
    "\n",
    "The procedure is similar to the interaction effect. We are going to create the compleate model including a no linear regression for sulphite feature.\n",
    "\n",
    "We start creating a new feature $ sulphite^2 $ that is the same as $ suphite · sulphite $ (a interaction between the same feature)."
   ]
  },
  {
   "cell_type": "code",
   "execution_count": 20,
   "id": "cfc77b47",
   "metadata": {
    "execution": {
     "iopub.execute_input": "2024-05-05T09:38:24.726719Z",
     "iopub.status.busy": "2024-05-05T09:38:24.725998Z",
     "iopub.status.idle": "2024-05-05T09:38:24.733004Z",
     "shell.execute_reply": "2024-05-05T09:38:24.731764Z"
    },
    "papermill": {
     "duration": 0.041048,
     "end_time": "2024-05-05T09:38:24.735164",
     "exception": false,
     "start_time": "2024-05-05T09:38:24.694116",
     "status": "completed"
    },
    "tags": []
   },
   "outputs": [],
   "source": [
    "polynomial = PolynomialFeatures(\n",
    "    degree=2,                    # We need a interaction with two degrees.\n",
    "    include_bias=False,          # Exclude the bias term \n",
    "    interaction_only=False       # NEW. Include polynomia effects. In our case only x^2 because we are interesting in 2 degrees.\n",
    "    )"
   ]
  },
  {
   "cell_type": "markdown",
   "id": "45d4c436",
   "metadata": {
    "papermill": {
     "duration": 0.017593,
     "end_time": "2024-05-05T09:38:24.770492",
     "exception": false,
     "start_time": "2024-05-05T09:38:24.752899",
     "status": "completed"
    },
    "tags": []
   },
   "source": [
    "Fit the model:"
   ]
  },
  {
   "cell_type": "code",
   "execution_count": 21,
   "id": "75cc101b",
   "metadata": {
    "execution": {
     "iopub.execute_input": "2024-05-05T09:38:24.808518Z",
     "iopub.status.busy": "2024-05-05T09:38:24.807833Z",
     "iopub.status.idle": "2024-05-05T09:38:24.823332Z",
     "shell.execute_reply": "2024-05-05T09:38:24.821373Z"
    },
    "papermill": {
     "duration": 0.038335,
     "end_time": "2024-05-05T09:38:24.826623",
     "exception": false,
     "start_time": "2024-05-05T09:38:24.788288",
     "status": "completed"
    },
    "tags": []
   },
   "outputs": [
    {
     "name": "stdout",
     "output_type": "stream",
     "text": [
      "    sulphates  sulphates^2\n",
      "1        0.68       0.4624\n",
      "2        0.65       0.4225\n",
      "3        0.58       0.3364\n",
      "4        0.56       0.3136\n",
      "5        0.56       0.3136\n",
      "6        0.46       0.2116\n",
      "7        0.47       0.2209\n",
      "8        0.57       0.3249\n",
      "9        0.80       0.6400\n",
      "11       0.80       0.6400\n",
      "12       0.52       0.2704\n",
      "13       1.56       2.4336\n",
      "14       0.88       0.7744\n",
      "16       0.75       0.5625\n",
      "19       1.08       1.1664\n",
      "20       0.53       0.2809\n",
      "21       0.65       0.4225\n",
      "22       0.91       0.8281\n",
      "23       0.53       0.2809\n",
      "24       0.63       0.3969\n"
     ]
    }
   ],
   "source": [
    "features_polynomial = polynomial.fit_transform(df_train_features[['sulphates']])\n",
    "\n",
    "# This is not necessary but is good to see the results. Transform the array into a dataframe:\n",
    "features_polynomial = pd.DataFrame(features_polynomial,\n",
    "                                   columns = polynomial.get_feature_names_out(),\n",
    "                                   index=df_train_features.index  # This line ensures the index is carried over. Example, index 10 doesn´t should appear\n",
    "                                   )\n",
    "print(features_polynomial.sort_index().head(20))"
   ]
  },
  {
   "cell_type": "markdown",
   "id": "0658aa6a",
   "metadata": {
    "papermill": {
     "duration": 0.018427,
     "end_time": "2024-05-05T09:38:24.864993",
     "exception": false,
     "start_time": "2024-05-05T09:38:24.846566",
     "status": "completed"
    },
    "tags": []
   },
   "source": [
    "We need only the $ sulphates^2 $ column. First, we isolete that column and then we add it to the original feature df (we create a new dataframe for this new data)"
   ]
  },
  {
   "cell_type": "code",
   "execution_count": 22,
   "id": "a6a47206",
   "metadata": {
    "execution": {
     "iopub.execute_input": "2024-05-05T09:38:24.904177Z",
     "iopub.status.busy": "2024-05-05T09:38:24.903777Z",
     "iopub.status.idle": "2024-05-05T09:38:24.922897Z",
     "shell.execute_reply": "2024-05-05T09:38:24.921582Z"
    },
    "papermill": {
     "duration": 0.042241,
     "end_time": "2024-05-05T09:38:24.926044",
     "exception": false,
     "start_time": "2024-05-05T09:38:24.883803",
     "status": "completed"
    },
    "tags": []
   },
   "outputs": [
    {
     "name": "stdout",
     "output_type": "stream",
     "text": [
      "   fixed acidity  volatile acidity  citric acid  residual sugar  chlorides  \\\n",
      "1            7.8              0.88         0.00             2.6      0.098   \n",
      "2            7.8              0.76         0.04             2.3      0.092   \n",
      "3           11.2              0.28         0.56             1.9      0.075   \n",
      "4            7.4              0.70         0.00             1.9      0.076   \n",
      "5            7.4              0.66         0.00             1.8      0.075   \n",
      "\n",
      "   free sulfur dioxide  total sulfur dioxide  density    pH  sulphates  \\\n",
      "1                 25.0                  67.0   0.9968  3.20       0.68   \n",
      "2                 15.0                  54.0   0.9970  3.26       0.65   \n",
      "3                 17.0                  60.0   0.9980  3.16       0.58   \n",
      "4                 11.0                  34.0   0.9978  3.51       0.56   \n",
      "5                 13.0                  40.0   0.9978  3.51       0.56   \n",
      "\n",
      "   alcohol  sulphates^2  \n",
      "1      9.8       0.4624  \n",
      "2      9.8       0.4225  \n",
      "3      9.8       0.3364  \n",
      "4      9.4       0.3136  \n",
      "5      9.4       0.3136  \n"
     ]
    }
   ],
   "source": [
    "# Isolate the polynomial feature\n",
    "polynomial_column = features_polynomial[['sulphates^2']]\n",
    "\n",
    "# Add to the other features (and create a new features df)\n",
    "df_train_features_polynomial = df_train_features.join(polynomial_column, how='outer')\n",
    "print(df_train_features_polynomial.sort_index().head(5))"
   ]
  },
  {
   "cell_type": "markdown",
   "id": "c02832f4",
   "metadata": {
    "papermill": {
     "duration": 0.0181,
     "end_time": "2024-05-05T09:38:24.962918",
     "exception": false,
     "start_time": "2024-05-05T09:38:24.944818",
     "status": "completed"
    },
    "tags": []
   },
   "source": [
    "**!!! Important**. We have done this only for train data. In a normal workflow, this step must be done **before** split the df in test and training. In the final example we are going to see a compleate process.\n",
    "\n",
    "With our final df, features_interaction_modified, we can fit the model and obtain the intercept and coefficients:"
   ]
  },
  {
   "cell_type": "code",
   "execution_count": 23,
   "id": "2cddf15b",
   "metadata": {
    "execution": {
     "iopub.execute_input": "2024-05-05T09:38:25.002362Z",
     "iopub.status.busy": "2024-05-05T09:38:25.001322Z",
     "iopub.status.idle": "2024-05-05T09:38:25.019504Z",
     "shell.execute_reply": "2024-05-05T09:38:25.017935Z"
    },
    "papermill": {
     "duration": 0.041558,
     "end_time": "2024-05-05T09:38:25.022676",
     "exception": false,
     "start_time": "2024-05-05T09:38:24.981118",
     "status": "completed"
    },
    "tags": []
   },
   "outputs": [
    {
     "name": "stdout",
     "output_type": "stream",
     "text": [
      "Intercept : -19.002252040862103\n",
      "Coefficients :\n",
      "fixed acidity: -0.014\n",
      "volatile acidity: -0.229\n",
      "citric acid: 0.199\n",
      "residual sugar: -0.021\n",
      "chlorides: 0.467\n",
      "free sulfur dioxide: 0.002\n",
      "total sulfur dioxide: 0.001\n",
      "density: 24.062\n",
      "pH: 0.114\n",
      "sulphates: 0.011\n",
      "alcohol: 0.045\n",
      "sulphates^2: -0.158\n"
     ]
    }
   ],
   "source": [
    "# Create MLRM and fit it\n",
    "regression4 = LinearRegression()\n",
    "\n",
    "# Fit the model\n",
    "model4 = regression4.fit(df_train_features_polynomial, df_train_target) # Features first then target\n",
    "\n",
    "# Show the equation values:\n",
    "print(\"Intercept :\", model4.intercept_ )\n",
    "\n",
    "# New way to obtain the coefficients with names and round them to three decimals:\n",
    "feature_names = df_train_features_polynomial.columns\n",
    "coefficient_dict = dict(zip(feature_names, model4.coef_))\n",
    "print(\"Coefficients :\")\n",
    "for feature, coef in coefficient_dict.items():\n",
    "    print(f\"{feature}: {coef:.3f}\")"
   ]
  },
  {
   "cell_type": "markdown",
   "id": "c9ab342d",
   "metadata": {
    "papermill": {
     "duration": 0.030516,
     "end_time": "2024-05-05T09:38:25.083467",
     "exception": false,
     "start_time": "2024-05-05T09:38:25.052951",
     "status": "completed"
    },
    "tags": []
   },
   "source": [
    "Now build the equation of the model:\n",
    "\n",
    "$$\n",
    "\\hat{y} = -19.002 -0.014 · x_1 - 0.229 · x_2 + 0.199 · x_3 - 0.021 · x_4 + 0.467 · x_5 + 0.002 · x_6 + 0.001 · x_7 + 24.062 · x_8 + 0.114 · x_9 + 0.011 · x_{10} + 0.045 · x_{11} - 0.158 · x_{10}^2\n",
    "$$\n",
    "\n",
    "As we see, the polynomial coefficient is negative. It means that when we have higher levels of sulphates, the level of quality (target) decrees. As is a polynomial feature, it means that the decrising on quality is faster.\n",
    "\n",
    "If we replace the features for our first case we obtain this:"
   ]
  },
  {
   "cell_type": "code",
   "execution_count": 24,
   "id": "e78902a2",
   "metadata": {
    "execution": {
     "iopub.execute_input": "2024-05-05T09:38:25.142401Z",
     "iopub.status.busy": "2024-05-05T09:38:25.141928Z",
     "iopub.status.idle": "2024-05-05T09:38:25.158699Z",
     "shell.execute_reply": "2024-05-05T09:38:25.157362Z"
    },
    "papermill": {
     "duration": 0.051303,
     "end_time": "2024-05-05T09:38:25.165128",
     "exception": false,
     "start_time": "2024-05-05T09:38:25.113825",
     "status": "completed"
    },
    "tags": []
   },
   "outputs": [
    {
     "name": "stdout",
     "output_type": "stream",
     "text": [
      "Quality predicted value for the frst case:    Polinomyal Model\n",
      "1          5.493404\n"
     ]
    }
   ],
   "source": [
    "model4_y = pd.DataFrame(model4.predict(df_train_features_polynomial), \n",
    "                      index=df_train_features_polynomial.index, \n",
    "                      columns=['Polinomyal Model'])\n",
    "\n",
    "print(\"Quality predicted value for the frst case:\", model4_y.sort_index().head(1))"
   ]
  },
  {
   "cell_type": "markdown",
   "id": "c3024d43",
   "metadata": {
    "papermill": {
     "duration": 0.033483,
     "end_time": "2024-05-05T09:38:25.230544",
     "exception": false,
     "start_time": "2024-05-05T09:38:25.197061",
     "status": "completed"
    },
    "tags": []
   },
   "source": [
    "We create a plot comparing the predicted value (x-axe) vs the real on (y-axe). We round our predicted value to 0 decimal because the original scale of quality (target) is an integer with no decimals. As we can see, our model predicts for all wines qualities between 5 and 6 while the original values of qualities range between 3 and 8."
   ]
  },
  {
   "cell_type": "code",
   "execution_count": 25,
   "id": "44fd2654",
   "metadata": {
    "execution": {
     "iopub.execute_input": "2024-05-05T09:38:25.287106Z",
     "iopub.status.busy": "2024-05-05T09:38:25.286641Z",
     "iopub.status.idle": "2024-05-05T09:38:25.589784Z",
     "shell.execute_reply": "2024-05-05T09:38:25.588797Z"
    },
    "papermill": {
     "duration": 0.329466,
     "end_time": "2024-05-05T09:38:25.592180",
     "exception": false,
     "start_time": "2024-05-05T09:38:25.262714",
     "status": "completed"
    },
    "tags": []
   },
   "outputs": [
    {
     "data": {
      "image/png": "[encoded data removed]",
      "text/plain": [
       "<Figure size 1000x600 with 1 Axes>"
      ]
     },
     "metadata": {},
     "output_type": "display_data"
    }
   ],
   "source": [
    "plt.figure(figsize=(10, 6))\n",
    "plt.scatter(np.round(model4.predict(df_train_features_polynomial)), df_train_target, c=df_train_target, cmap='bwr', edgecolors='k', s=100)\n",
    "plt.xlim(0, 10)\n",
    "plt.ylim(0, 10)\n",
    "plt.xlabel('Features')\n",
    "plt.ylabel('Target')\n",
    "plt.title('Logistic Regression with Polynomial Feature')\n",
    "plt.show()"
   ]
  },
  {
   "cell_type": "markdown",
   "id": "9e2fe870",
   "metadata": {
    "papermill": {
     "duration": 0.018739,
     "end_time": "2024-05-05T09:38:25.631488",
     "exception": false,
     "start_time": "2024-05-05T09:38:25.612749",
     "status": "completed"
    },
    "tags": []
   },
   "source": [
    "# 3. Optimization techniques\n",
    "\n",
    "Scikit-learn give a lot of options about what estimator use. The image bellow shows the huge variety this package includes, not only for regression, if not different techniques. You can see more information in https://scikit-learn.org/stable/_static/ml_map\n",
    "\n",
    "<div style=\"text-align:center\">\n",
    "    <img src=\"https://scikit-learn.org/stable/_static/ml_map.png\" alt=\"Scikit-Learn estimators\" width=\"700\" height=\"500\">\n",
    "</div>\n",
    "\n",
    "The **optimization algorithms** are techniques used to find the best solution to a problem, usually trying to fin the minimun or the maximun in a function. Some key concepts:\n",
    "\n",
    "* **Objetive function**: Function we want to optimize.\n",
    "* **Minimun and Maximun**: We look for the minimun when we try to obtain the parameters that minimze the error. We look for the maximun when try to found the features that maximize the gaprofitsins.\n",
    "* **Stopping Conditions**: Criterial that sais when stop to search for the optimal solution. For example, we fix the number of iterations or when the improvements in the objetive function is bellow a specif threshold.\n",
    "* **Optimal point**: Input value that produces the minimum or maximun value of the objetive function.\n",
    "* **Gradient**: Vector that inicates the direction and magnitude of the steepest change in a function.\n",
    "\n",
    "**Residual Sum of Squares (RSS)**: Metric to compute the differences between real values and estimate values. It follows this formula:\n",
    "\n",
    "$$\n",
    "RSS = \\sum_{i=1}^{n} ( y_i - \\hat{y}_i )^2\n",
    "$$\n",
    "\n",
    "Where:\n",
    "\n",
    "* i: is the specific row.\n",
    "* n: is the total sample.\n",
    "* $y_i$ is the real value of the target.\n",
    "* $\\hat{y}_i$: is the estimated value of the target.\n",
    "\n",
    "Regularization model includes some penalization to this RSS."
   ]
  },
  {
   "cell_type": "markdown",
   "id": "655186f7",
   "metadata": {
    "papermill": {
     "duration": 0.018529,
     "end_time": "2024-05-05T09:38:25.669301",
     "exception": false,
     "start_time": "2024-05-05T09:38:25.650772",
     "status": "completed"
    },
    "tags": []
   },
   "source": [
    "### A. Ordinary Least Square (OLS)\n",
    "\n",
    "* The aim is minimize the square sum of the errors (differences between predictions and real values). \n",
    "* Usefull when the errors follows a normal distribution and there are no outliers.\n"
   ]
  },
  {
   "cell_type": "markdown",
   "id": "775eb137",
   "metadata": {
    "papermill": {
     "duration": 0.018909,
     "end_time": "2024-05-05T09:38:25.707145",
     "exception": false,
     "start_time": "2024-05-05T09:38:25.688236",
     "status": "completed"
    },
    "tags": []
   },
   "source": [
    "### B. Grdient Descent\n",
    "\n",
    "* Iterative process to find the optime parameters.\n",
    "* Use all the sample.\n",
    "* Parameter are update in the oposite direction of the gradient of the loss function.\n",
    "* Search the local or global minimun.\n",
    "* Slower than other model when the linear regression problem is simple but is more flexible so it is useful with complex problems."
   ]
  },
  {
   "cell_type": "markdown",
   "id": "ec97ef13",
   "metadata": {
    "papermill": {
     "duration": 0.019518,
     "end_time": "2024-05-05T09:38:25.745615",
     "exception": false,
     "start_time": "2024-05-05T09:38:25.726097",
     "status": "completed"
    },
    "tags": []
   },
   "source": [
    "### C. SGD Regressor (Stochastic Gradient Descent)\n",
    "\n",
    "* Variant od Gradient Descent.\n",
    "* Search for the minimun to update the model parameters.\n",
    "* Use when you have large samples.\n",
    "* Use a random sample of the data in each iteration. This is the reason to use with large datasets (large training samples).\n"
   ]
  },
  {
   "cell_type": "markdown",
   "id": "6ecac004",
   "metadata": {
    "papermill": {
     "duration": 0.018781,
     "end_time": "2024-05-05T09:38:25.783286",
     "exception": false,
     "start_time": "2024-05-05T09:38:25.764505",
     "status": "completed"
    },
    "tags": []
   },
   "source": [
    "### D. Regularization\n",
    "\n",
    "Differences between Lasso and Ridge Regression:\n",
    "\n",
    "| | Ridge Regression | Lasso Regression |\n",
    "|:--:| :--:|:--:|\n",
    "|Penalty term| Proportional to the square of the square of the magnitude of the coefficients: $ \\Theta^2 $ | Proportional to the absolute value of the coefficients $ |\\Theta| $. It could drive some coefficients to 0|\n",
    "|Aim| Reduce the overfit and reduce the complexity of the model| Reduce the complexity and automatically select some features (driven their coefficients to 0, in other words, deleting it)|\n",
    "|Predictions| Better| More interpretable|\n",
    "\n",
    "**$\\alpha$**: Hiperparameter that controls how much is going to be penalize. Higher the value, more simple models. To select the best value, a tuning process must be done. **WARNING** in Lasso, if we pick a large value we can deleate a lot of features because their coefficients will go to 0.\n",
    "\n",
    "#### A. Ridge Regression\n",
    "\n",
    "When use it:\n",
    "* Big correlation between features\n",
    "* Number of features > number of observations (sobredimensional models)\n",
    "* When we want to reduce the overfiting but not the multicollinearity.\n",
    "\n",
    "This model penalizes as follow:\n",
    "\n",
    "$$\n",
    "RSS + \\alpha ·  \\sum_{j=1}^{p} (\\hat{\\beta} _j )^2\n",
    "$$\n",
    "\n",
    "Where:\n",
    "\n",
    "* j: is a specific feature.\n",
    "* p: is total number of features.\n",
    "* $\\beta$ is the coeficient of the feature.\n",
    "* $\\alpha$: is the hiperparameter.\n",
    "\n",
    "#### B. Lasso Regression\n",
    "\n",
    "This model penalizes as follow:\n",
    "\n",
    "$$\n",
    "\\frac{1}{2n}· RSS + \\alpha ·  \\sum_{j=1}^{p} |\\hat{\\beta}_j|\n",
    "$$\n",
    "\n",
    "Where:\n",
    "\n",
    "* j: is a specific feature.\n",
    "* p: is total number of features.\n",
    "* $\\beta$ is the coeficient of the feature.\n",
    "* $\\alpha$: is the hiperparameter.\n",
    "* n: Number of obervations.\n",
    "\n",
    "#### C. Elastic Net\n",
    "\n",
    "Combine Ridge and Lasso.\n"
   ]
  },
  {
   "cell_type": "markdown",
   "id": "c51bd92d",
   "metadata": {
    "papermill": {
     "duration": 0.019056,
     "end_time": "2024-05-05T09:38:25.821906",
     "exception": false,
     "start_time": "2024-05-05T09:38:25.802850",
     "status": "completed"
    },
    "tags": []
   },
   "source": [
    "#### Ridge Regression\n",
    "\n",
    "Create the Ridge Regression Model and select different values for the hiperparameter $\\alpha$"
   ]
  },
  {
   "cell_type": "code",
   "execution_count": 26,
   "id": "d3a89012",
   "metadata": {
    "execution": {
     "iopub.execute_input": "2024-05-05T09:38:25.862348Z",
     "iopub.status.busy": "2024-05-05T09:38:25.861364Z",
     "iopub.status.idle": "2024-05-05T09:38:25.867163Z",
     "shell.execute_reply": "2024-05-05T09:38:25.866047Z"
    },
    "papermill": {
     "duration": 0.02888,
     "end_time": "2024-05-05T09:38:25.869650",
     "exception": false,
     "start_time": "2024-05-05T09:38:25.840770",
     "status": "completed"
    },
    "tags": []
   },
   "outputs": [],
   "source": [
    "# Create the model with different values for alpha\n",
    "ridge_regression = RidgeCV(alphas=[0.001, 0.01, 0.1, 1, 10, 100])\n"
   ]
  },
  {
   "cell_type": "markdown",
   "id": "67425a5b",
   "metadata": {
    "papermill": {
     "duration": 0.018485,
     "end_time": "2024-05-05T09:38:25.907134",
     "exception": false,
     "start_time": "2024-05-05T09:38:25.888649",
     "status": "completed"
    },
    "tags": []
   },
   "source": [
    "Adjust the model:"
   ]
  },
  {
   "cell_type": "code",
   "execution_count": 27,
   "id": "26918287",
   "metadata": {
    "execution": {
     "iopub.execute_input": "2024-05-05T09:38:25.948032Z",
     "iopub.status.busy": "2024-05-05T09:38:25.947582Z",
     "iopub.status.idle": "2024-05-05T09:38:25.970987Z",
     "shell.execute_reply": "2024-05-05T09:38:25.969338Z"
    },
    "papermill": {
     "duration": 0.047005,
     "end_time": "2024-05-05T09:38:25.974064",
     "exception": false,
     "start_time": "2024-05-05T09:38:25.927059",
     "status": "completed"
    },
    "tags": []
   },
   "outputs": [],
   "source": [
    "ridge_model = ridge_regression.fit(df_train_features, df_train_target)"
   ]
  },
  {
   "cell_type": "markdown",
   "id": "b09987a2",
   "metadata": {
    "papermill": {
     "duration": 0.057475,
     "end_time": "2024-05-05T09:38:26.084236",
     "exception": false,
     "start_time": "2024-05-05T09:38:26.026761",
     "status": "completed"
    },
    "tags": []
   },
   "source": [
    "View the coefficients and the best value of $\\alpha$:"
   ]
  },
  {
   "cell_type": "code",
   "execution_count": 28,
   "id": "9368d739",
   "metadata": {
    "execution": {
     "iopub.execute_input": "2024-05-05T09:38:26.127659Z",
     "iopub.status.busy": "2024-05-05T09:38:26.127214Z",
     "iopub.status.idle": "2024-05-05T09:38:26.134935Z",
     "shell.execute_reply": "2024-05-05T09:38:26.133829Z"
    },
    "papermill": {
     "duration": 0.031701,
     "end_time": "2024-05-05T09:38:26.137689",
     "exception": false,
     "start_time": "2024-05-05T09:38:26.105988",
     "status": "completed"
    },
    "tags": []
   },
   "outputs": [
    {
     "name": "stdout",
     "output_type": "stream",
     "text": [
      "Coefficients : 0.1\n",
      "Intercept : 4.573099054855438\n",
      "Coefficients :\n",
      "fixed acidity: 0.009\n",
      "volatile acidity: -1.037\n",
      "citric acid: -0.153\n",
      "residual sugar: 0.006\n",
      "chlorides: -1.427\n",
      "free sulfur dioxide: 0.006\n",
      "total sulfur dioxide: -0.003\n",
      "density: -0.093\n",
      "pH: -0.586\n",
      "sulphates: 0.861\n",
      "alcohol: 0.309\n"
     ]
    }
   ],
   "source": [
    "print(\"Coefficients :\", ridge_model.alpha_)\n",
    "print(\"Intercept :\", ridge_model.intercept_ )\n",
    "\n",
    "feature_names = df_train_features.columns\n",
    "coefficient_dict = dict(zip(feature_names, ridge_model.coef_))\n",
    "print(\"Coefficients :\")\n",
    "for feature, coef in coefficient_dict.items():\n",
    "    print(f\"{feature}: {coef:.3f}\")"
   ]
  },
  {
   "cell_type": "markdown",
   "id": "d3b2840d",
   "metadata": {
    "papermill": {
     "duration": 0.019583,
     "end_time": "2024-05-05T09:38:26.178165",
     "exception": false,
     "start_time": "2024-05-05T09:38:26.158582",
     "status": "completed"
    },
    "tags": []
   },
   "source": [
    "Now build the equation of the model:\n",
    "\n",
    "$$\n",
    "\\hat{y} = 4.573 + 0.009 · x_1 -1.037 · x_2 - 0.153 · x_3 + 0.0011 · x_4 + - 1.427 · x_5 + 0.006 · x_6 - 0.003 · x_7 - 0.093 · x_8 - 0.586 · x_9 + 0.861 · x_{10} + 0.309 · x_{11} \n",
    "$$\n",
    "\n",
    "\n",
    "As we see, the polynomial coefficient is negative. It means that when we have higher levels of sulphates, the level of quality (target) decrees. As is a polynomial feature, it means that the decrising on quality is faster.\n",
    "\n",
    "If we replace the features for our first case we obtain this:"
   ]
  },
  {
   "cell_type": "code",
   "execution_count": 29,
   "id": "449044fd",
   "metadata": {
    "execution": {
     "iopub.execute_input": "2024-05-05T09:38:26.220356Z",
     "iopub.status.busy": "2024-05-05T09:38:26.219294Z",
     "iopub.status.idle": "2024-05-05T09:38:26.230861Z",
     "shell.execute_reply": "2024-05-05T09:38:26.229790Z"
    },
    "papermill": {
     "duration": 0.035391,
     "end_time": "2024-05-05T09:38:26.233406",
     "exception": false,
     "start_time": "2024-05-05T09:38:26.198015",
     "status": "completed"
    },
    "tags": []
   },
   "outputs": [
    {
     "name": "stdout",
     "output_type": "stream",
     "text": [
      "Value of all features for our first case :    fixed acidity  volatile acidity  citric acid  residual sugar  chlorides  \\\n",
      "1            7.8              0.88          0.0             2.6      0.098   \n",
      "\n",
      "   free sulfur dioxide  total sulfur dioxide  density   pH  sulphates  alcohol  \n",
      "1                 25.0                  67.0   0.9968  3.2       0.68      9.8  \n"
     ]
    }
   ],
   "source": [
    "print(\"Value of all features for our first case :\", df_train_features.sort_index().iloc[0:1]) "
   ]
  },
  {
   "cell_type": "markdown",
   "id": "aff292a0",
   "metadata": {
    "papermill": {
     "duration": 0.020569,
     "end_time": "2024-05-05T09:38:26.274588",
     "exception": false,
     "start_time": "2024-05-05T09:38:26.254019",
     "status": "completed"
    },
    "tags": []
   },
   "source": [
    "In the equation:\n",
    "\n",
    "$$\n",
    "\\hat{y} = 4.573 + 0.009 · 7.8 - 1.037 · 0.88 - 0.153 · 0 + 0.001 · 2.6 - 1.427 · 0.098 + 0.006 · 25 - 0.003 · 67 - 0.093 · 0.997 - 0.586 · 3.2 + 0.861 · 0.68 + 0.309 · 9.8 \\approx 5.188\n",
    "$$\n",
    "\n",
    "If we compute in python:"
   ]
  },
  {
   "cell_type": "code",
   "execution_count": 30,
   "id": "61159fe2",
   "metadata": {
    "execution": {
     "iopub.execute_input": "2024-05-05T09:38:26.316642Z",
     "iopub.status.busy": "2024-05-05T09:38:26.316129Z",
     "iopub.status.idle": "2024-05-05T09:38:26.329799Z",
     "shell.execute_reply": "2024-05-05T09:38:26.328280Z"
    },
    "papermill": {
     "duration": 0.038903,
     "end_time": "2024-05-05T09:38:26.332801",
     "exception": false,
     "start_time": "2024-05-05T09:38:26.293898",
     "status": "completed"
    },
    "tags": []
   },
   "outputs": [
    {
     "name": "stdout",
     "output_type": "stream",
     "text": [
      "Quality predicted value for the frst case:    Ridge Model\n",
      "1     5.164368\n"
     ]
    }
   ],
   "source": [
    "ridge_model_y = pd.DataFrame(ridge_model.predict(df_train_features), \n",
    "                      index=df_train_features.index, \n",
    "                      columns=['Ridge Model'])\n",
    "\n",
    "print(\"Quality predicted value for the frst case:\", ridge_model_y.sort_index().head(1))"
   ]
  },
  {
   "cell_type": "markdown",
   "id": "f03dcfc5",
   "metadata": {
    "papermill": {
     "duration": 0.032718,
     "end_time": "2024-05-05T09:38:26.398421",
     "exception": false,
     "start_time": "2024-05-05T09:38:26.365703",
     "status": "completed"
    },
    "tags": []
   },
   "source": [
    "#### Lasso Regression\n",
    "\n",
    "Create the Lasso Regression Model and select different values for the hiperparameter $\\alpha$"
   ]
  },
  {
   "cell_type": "code",
   "execution_count": 31,
   "id": "d59cb10a",
   "metadata": {
    "execution": {
     "iopub.execute_input": "2024-05-05T09:38:26.457920Z",
     "iopub.status.busy": "2024-05-05T09:38:26.457012Z",
     "iopub.status.idle": "2024-05-05T09:38:26.462490Z",
     "shell.execute_reply": "2024-05-05T09:38:26.461581Z"
    },
    "papermill": {
     "duration": 0.03341,
     "end_time": "2024-05-05T09:38:26.464570",
     "exception": false,
     "start_time": "2024-05-05T09:38:26.431160",
     "status": "completed"
    },
    "tags": []
   },
   "outputs": [],
   "source": [
    "lasso_regression = LassoCV(alphas=[0.001, 0.01, 0.1, 1, 10, 100])\n"
   ]
  },
  {
   "cell_type": "markdown",
   "id": "fe83cc9c",
   "metadata": {
    "papermill": {
     "duration": 0.019338,
     "end_time": "2024-05-05T09:38:26.503390",
     "exception": false,
     "start_time": "2024-05-05T09:38:26.484052",
     "status": "completed"
    },
    "tags": []
   },
   "source": [
    "Adjust the model:"
   ]
  },
  {
   "cell_type": "code",
   "execution_count": 32,
   "id": "9ecc2e45",
   "metadata": {
    "execution": {
     "iopub.execute_input": "2024-05-05T09:38:26.545317Z",
     "iopub.status.busy": "2024-05-05T09:38:26.544513Z",
     "iopub.status.idle": "2024-05-05T09:38:26.585820Z",
     "shell.execute_reply": "2024-05-05T09:38:26.584444Z"
    },
    "papermill": {
     "duration": 0.066505,
     "end_time": "2024-05-05T09:38:26.589378",
     "exception": false,
     "start_time": "2024-05-05T09:38:26.522873",
     "status": "completed"
    },
    "tags": []
   },
   "outputs": [],
   "source": [
    "lasso_model = lasso_regression.fit(df_train_features, df_train_target)"
   ]
  },
  {
   "cell_type": "markdown",
   "id": "a3d346f8",
   "metadata": {
    "papermill": {
     "duration": 0.056793,
     "end_time": "2024-05-05T09:38:26.695654",
     "exception": false,
     "start_time": "2024-05-05T09:38:26.638861",
     "status": "completed"
    },
    "tags": []
   },
   "source": [
    "View the coefficients and the best value of $\\alpha$:"
   ]
  },
  {
   "cell_type": "code",
   "execution_count": 33,
   "id": "8afe625b",
   "metadata": {
    "execution": {
     "iopub.execute_input": "2024-05-05T09:38:26.738147Z",
     "iopub.status.busy": "2024-05-05T09:38:26.737640Z",
     "iopub.status.idle": "2024-05-05T09:38:26.744861Z",
     "shell.execute_reply": "2024-05-05T09:38:26.744013Z"
    },
    "papermill": {
     "duration": 0.02987,
     "end_time": "2024-05-05T09:38:26.746704",
     "exception": false,
     "start_time": "2024-05-05T09:38:26.716834",
     "status": "completed"
    },
    "tags": []
   },
   "outputs": [
    {
     "name": "stdout",
     "output_type": "stream",
     "text": [
      "Coefficients : 0.001\n",
      "Intercept : 3.9810386276245433\n",
      "Coefficients :\n",
      "fixed acidity: 0.012\n",
      "volatile acidity: -1.012\n",
      "citric acid: -0.074\n",
      "residual sugar: 0.004\n",
      "chlorides: -0.803\n",
      "free sulfur dioxide: 0.006\n",
      "total sulfur dioxide: -0.003\n",
      "density: -0.000\n",
      "pH: -0.457\n",
      "sulphates: 0.768\n",
      "alcohol: 0.311\n"
     ]
    }
   ],
   "source": [
    "print(\"Coefficients :\", lasso_model.alpha_)\n",
    "print(\"Intercept :\", lasso_model.intercept_ )\n",
    "\n",
    "feature_names = df_train_features.columns\n",
    "coefficient_dict = dict(zip(feature_names, lasso_model.coef_))\n",
    "print(\"Coefficients :\")\n",
    "for feature, coef in coefficient_dict.items():\n",
    "    print(f\"{feature}: {coef:.3f}\")"
   ]
  },
  {
   "cell_type": "markdown",
   "id": "57754778",
   "metadata": {
    "papermill": {
     "duration": 0.019179,
     "end_time": "2024-05-05T09:38:26.785242",
     "exception": false,
     "start_time": "2024-05-05T09:38:26.766063",
     "status": "completed"
    },
    "tags": []
   },
   "source": [
    "Now build the equation of the model:\n",
    "\n",
    "$$\n",
    "\\hat{y} = 3.981 + 0.012 · x_1 -1.012 · x_2 - 0.074 · x_3 + 0.004 · x_4 + - 0.803 · x_5 + 0.006 · x_6 - 0.003 · x_7 - 0 · x_8 - 0.457 · x_9 + 0.768 · x_{10} + 0.311 · x_{11} \n",
    "$$\n",
    "\n",
    "\n",
    "As we see, tthe coefficient for *density* drops to 0\n",
    "\n",
    "If we replace the features for our first case we obtain this:"
   ]
  },
  {
   "cell_type": "code",
   "execution_count": 34,
   "id": "e7d61ba6",
   "metadata": {
    "execution": {
     "iopub.execute_input": "2024-05-05T09:38:26.827511Z",
     "iopub.status.busy": "2024-05-05T09:38:26.825858Z",
     "iopub.status.idle": "2024-05-05T09:38:26.839444Z",
     "shell.execute_reply": "2024-05-05T09:38:26.837795Z"
    },
    "papermill": {
     "duration": 0.03686,
     "end_time": "2024-05-05T09:38:26.841635",
     "exception": false,
     "start_time": "2024-05-05T09:38:26.804775",
     "status": "completed"
    },
    "tags": []
   },
   "outputs": [
    {
     "name": "stdout",
     "output_type": "stream",
     "text": [
      "Value of all features for our first case :    fixed acidity  volatile acidity  citric acid  residual sugar  chlorides  \\\n",
      "1            7.8              0.88          0.0             2.6      0.098   \n",
      "\n",
      "   free sulfur dioxide  total sulfur dioxide  density   pH  sulphates  alcohol  \n",
      "1                 25.0                  67.0   0.9968  3.2       0.68      9.8  \n"
     ]
    }
   ],
   "source": [
    "print(\"Value of all features for our first case :\", df_train_features.sort_index().iloc[0:1]) "
   ]
  },
  {
   "cell_type": "markdown",
   "id": "0e3a88ea",
   "metadata": {
    "papermill": {
     "duration": 0.019281,
     "end_time": "2024-05-05T09:38:26.880595",
     "exception": false,
     "start_time": "2024-05-05T09:38:26.861314",
     "status": "completed"
    },
    "tags": []
   },
   "source": [
    "In the equation:\n",
    "\n",
    "$$\n",
    "\n",
    "\\hat{y} = 3.981 + 0.012 · 7.8 -1.012 · 0.88 - 0.074 · 0 + 0.004 · 2.6 + - 0.803 · 0.098 + 0.006 · 25 - 0.003 · 67 - 0 · 0.997 - 0.457 · 3.2 + 0.768 · 0.68 + 0.311 · 9.8 \\approx 5.172\n",
    "\n",
    "$$\n",
    "\n",
    "If we compute in python:"
   ]
  },
  {
   "cell_type": "code",
   "execution_count": 35,
   "id": "c8316868",
   "metadata": {
    "execution": {
     "iopub.execute_input": "2024-05-05T09:38:26.922248Z",
     "iopub.status.busy": "2024-05-05T09:38:26.921499Z",
     "iopub.status.idle": "2024-05-05T09:38:26.942405Z",
     "shell.execute_reply": "2024-05-05T09:38:26.941276Z"
    },
    "papermill": {
     "duration": 0.044884,
     "end_time": "2024-05-05T09:38:26.945252",
     "exception": false,
     "start_time": "2024-05-05T09:38:26.900368",
     "status": "completed"
    },
    "tags": []
   },
   "outputs": [
    {
     "name": "stdout",
     "output_type": "stream",
     "text": [
      "Quality predicted value for the first case:    Lasso Model\n",
      "1      5.14118\n"
     ]
    }
   ],
   "source": [
    "lasso_model_y = pd.DataFrame(lasso_model.predict(df_train_features), \n",
    "                      index=df_train_features.index, \n",
    "                      columns=['Lasso Model'])\n",
    "\n",
    "print(\"Quality predicted value for the first case:\", lasso_model_y.sort_index().head(1))"
   ]
  },
  {
   "cell_type": "markdown",
   "id": "456da9ab",
   "metadata": {
    "papermill": {
     "duration": 0.032596,
     "end_time": "2024-05-05T09:38:27.011471",
     "exception": false,
     "start_time": "2024-05-05T09:38:26.978875",
     "status": "completed"
    },
    "tags": []
   },
   "source": [
    "# 4. Quantiy the fit\n",
    "\n",
    "### A. Coefficient of determination $R^2$\n",
    "\n",
    "Definition: \"Proportion of target varianze that could be predict using the targeys\".\n",
    "\n",
    "This coefficient is used to compare the efficiency of different models and determine which of them fix better the observate data.\n",
    "\n",
    "The formula is as follow:\n",
    "\n",
    "$$\n",
    "R^2 = 1 - \\frac{SS_{res}}{SS_{total}}\n",
    "$$\n",
    "\n",
    "* Residual Sum Square ($SS_{res}$): \n",
    "\n",
    "$$\n",
    "SS_{res} = \\sum(y_i - \\hat{y_i})^2\n",
    "$$\n",
    "\n",
    "* Total Sum Square ($SS_{total}$): \n",
    "\n",
    "$$\n",
    "SS_{total} = \\sum(y_i - \\bar{y_i})^2\n",
    "$$\n",
    "\n",
    "The nomenclature used in this is formulas:\n",
    "\n",
    "* $y_i$: Real values of the target.\n",
    "* $\\hat{y_i}$: Target values predicted by the model.\n",
    "* $\\bar{y_i}$: Mean of the real values ($y_i$).\n",
    "\n",
    "Interpretation:\n",
    "\n",
    "* $R^2$ = 1. The model is perfect. The features explain all the variability of the target. The residues are minimus.\n",
    "* $R^2$ = 0. The model doesn´t explain the variability in the data. Is not more useful than use the mean of the data as a predictor of each observation.\n",
    "* $R^2$ < 0. The model made worse than using simply the mean.\n",
    "\n",
    "Characteristics:\n",
    "\n",
    "* Although it is odd, the model could be worse than use only the mean.\n",
    "\n",
    "* When the prediction residuals have zero mean, the score is identical to the Explained Variance score.\n",
    "\n",
    "We are going to explore the models that we generate in previous steps:"
   ]
  },
  {
   "cell_type": "code",
   "execution_count": 36,
   "id": "58df159c",
   "metadata": {
    "execution": {
     "iopub.execute_input": "2024-05-05T09:38:27.068531Z",
     "iopub.status.busy": "2024-05-05T09:38:27.068160Z",
     "iopub.status.idle": "2024-05-05T09:38:27.085990Z",
     "shell.execute_reply": "2024-05-05T09:38:27.084907Z"
    },
    "papermill": {
     "duration": 0.043357,
     "end_time": "2024-05-05T09:38:27.088277",
     "exception": false,
     "start_time": "2024-05-05T09:38:27.044920",
     "status": "completed"
    },
    "tags": []
   },
   "outputs": [
    {
     "name": "stdout",
     "output_type": "stream",
     "text": [
      "Indices match successfully!\n",
      "   Actual Target  Simple Model  Multiple Model  Interaction Model  \\\n",
      "1              5      5.399928        5.162484           5.482758   \n",
      "2              5      5.399928        5.213026           5.511647   \n",
      "3              6      5.399928        5.686151           5.725354   \n",
      "4              5      5.254202        4.995446           5.561539   \n",
      "5              5      5.254202        5.027484           5.581478   \n",
      "\n",
      "   Polynomial Model  Ridge Model  Lasso Model  \n",
      "1          5.493404     5.164368     5.141180  \n",
      "2          5.521449     5.216523     5.198900  \n",
      "3          5.721271     5.676837     5.680926  \n",
      "4          5.560102     4.999413     5.005788  \n",
      "5          5.578523     5.032526     5.038046  \n"
     ]
    }
   ],
   "source": [
    "# Sort by index\n",
    "df_train_target = df_train_target.sort_index()\n",
    "model1_y = model1_y.sort_index()\n",
    "model2_y = model2_y.sort_index()\n",
    "model3_y = model3_y.sort_index()\n",
    "model4_y = model4_y.sort_index()\n",
    "ridge_model_y = ridge_model_y.sort_index()\n",
    "lasso_model_y = lasso_model_y.sort_index()\n",
    "\n",
    "# Ensure all preidctions and real observations has the same index:\n",
    "assert df_train_target.index.equals(model1_y.index), \"Indices do not match\"\n",
    "assert df_train_target.index.equals(model2_y.index), \"Indices do not match\"\n",
    "assert df_train_target.index.equals(model3_y.index), \"Indices do not match\"\n",
    "assert df_train_target.index.equals(model4_y.index), \"Indices do not match\"\n",
    "assert df_train_target.index.equals(ridge_model_y.index), \"Indices do not match\"\n",
    "assert df_train_target.index.equals(lasso_model_y.index), \"Indices do not match\"\n",
    "print(\"Indices match successfully!\")\n",
    "\n",
    "predictions = pd.DataFrame({\n",
    "    'Actual Target': np.squeeze(df_train_target), # Real values\n",
    "    'Simple Model': np.squeeze(model1_y),\n",
    "    'Multiple Model': np.squeeze(model2_y),\n",
    "    'Interaction Model': np.squeeze(model3_y),\n",
    "    'Polynomial Model': np.squeeze(model4_y),\n",
    "    'Ridge Model': np.squeeze(ridge_model_y),\n",
    "    'Lasso Model': np.squeeze(lasso_model_y),\n",
    "})\n",
    "\n",
    "print(predictions.head())"
   ]
  },
  {
   "cell_type": "markdown",
   "id": "e77121c3",
   "metadata": {
    "papermill": {
     "duration": 0.019974,
     "end_time": "2024-05-05T09:38:27.129857",
     "exception": false,
     "start_time": "2024-05-05T09:38:27.109883",
     "status": "completed"
    },
    "tags": []
   },
   "source": [
    "Now we are going to calculate the $R^2$ coefficient:"
   ]
  },
  {
   "cell_type": "code",
   "execution_count": 37,
   "id": "1dd55f3b",
   "metadata": {
    "execution": {
     "iopub.execute_input": "2024-05-05T09:38:27.172887Z",
     "iopub.status.busy": "2024-05-05T09:38:27.172154Z",
     "iopub.status.idle": "2024-05-05T09:38:27.184583Z",
     "shell.execute_reply": "2024-05-05T09:38:27.183405Z"
    },
    "papermill": {
     "duration": 0.036635,
     "end_time": "2024-05-05T09:38:27.187429",
     "exception": false,
     "start_time": "2024-05-05T09:38:27.150794",
     "status": "completed"
    },
    "tags": []
   },
   "outputs": [
    {
     "name": "stdout",
     "output_type": "stream",
     "text": [
      "R2 score for Simple Model: 0.2316\n",
      "R2 score for Multiple Model: 0.3633\n",
      "R2 score for Interaction Model: 0.0369\n",
      "R2 score for Polynomial Model: 0.0409\n",
      "R2 score for Ridge Model: 0.3631\n",
      "R2 score for Lasso Model: 0.3615\n"
     ]
    }
   ],
   "source": [
    "r2_scores = {}\n",
    "r2_scores['Simple Model'] = r2_score(predictions['Actual Target'], predictions['Simple Model'])\n",
    "r2_scores['Multiple Model'] = r2_score(predictions['Actual Target'], predictions['Multiple Model'])\n",
    "r2_scores['Interaction Model'] = r2_score(predictions['Actual Target'], predictions['Interaction Model'])\n",
    "r2_scores['Polynomial Model'] = r2_score(predictions['Actual Target'], predictions['Polynomial Model'])\n",
    "r2_scores['Ridge Model'] = r2_score(predictions['Actual Target'], predictions['Ridge Model'])\n",
    "r2_scores['Lasso Model'] = r2_score(predictions['Actual Target'], predictions['Lasso Model'])\n",
    "\n",
    "# Print the R2 scores\n",
    "for model, score in r2_scores.items():\n",
    "    print(f\"R2 score for {model}: {score:.4f}\")\n"
   ]
  },
  {
   "cell_type": "markdown",
   "id": "da0773b5",
   "metadata": {
    "papermill": {
     "duration": 0.021348,
     "end_time": "2024-05-05T09:38:27.229879",
     "exception": false,
     "start_time": "2024-05-05T09:38:27.208531",
     "status": "completed"
    },
    "tags": []
   },
   "source": [
    "We can see that the model that includes all the features without transformation is the model that works better. On the other side, model where were transform one feature (interaction and polynomial) are the ones that shows the wors behaviour."
   ]
  },
  {
   "cell_type": "markdown",
   "id": "8acf2c77",
   "metadata": {
    "papermill": {
     "duration": 0.021285,
     "end_time": "2024-05-05T09:38:27.272239",
     "exception": false,
     "start_time": "2024-05-05T09:38:27.250954",
     "status": "completed"
    },
    "tags": []
   },
   "source": [
    "### B. Adjusted coefficient of determination $R^2$\n",
    "\n",
    "**Why to use it?**: When we add more predictiors to the model, $R^2$ always increase (or at least doesn´t decrease). The problem is that adjusted is not as inerpretable than $R^2$.\n",
    "\n",
    "Formula looks like follows:\n",
    "\n",
    "$$\n",
    "R^2 = 1 - \\left( \\frac{SS_{\\text{res}}}{SS_{\\text{total}}} \\right) \\cdot \\left( \\frac{N-1}{N-K-1} \\right)\n",
    "$$\n",
    "\n",
    "Where:\n",
    "\n",
    "* $SS_{\\text{res}}$ and $SS_{\\text{total}}$ are the same as in $R^2$.\n",
    "* **N**: Number of observations in the data.\n",
    "* **K**: Number of features used in the model (excluding the intercept)\n",
    "\n",
    "The second part of the formula is the part that adjust for Degrees of Freedom."
   ]
  },
  {
   "cell_type": "markdown",
   "id": "8e58b7ba",
   "metadata": {
    "papermill": {
     "duration": 0.021873,
     "end_time": "2024-05-05T09:38:27.314768",
     "exception": false,
     "start_time": "2024-05-05T09:38:27.292895",
     "status": "completed"
    },
    "tags": []
   },
   "source": [
    "# 5. Hypothesis tests\n",
    "\n",
    "Two aproximations:\n",
    "\n",
    "* See if the model proposed is better than the null model.\n",
    "* Test if a particular coefficient is statistical different from 0\n",
    "\n",
    "\n"
   ]
  },
  {
   "cell_type": "markdown",
   "id": "b7e2ebfb",
   "metadata": {
    "papermill": {
     "duration": 0.019736,
     "end_time": "2024-05-05T09:38:27.354529",
     "exception": false,
     "start_time": "2024-05-05T09:38:27.334793",
     "status": "completed"
    },
    "tags": []
   },
   "source": [
    "### A. Compare with the null model\n",
    "\n",
    "The null model (baseline model) is that one that no use any feature to predict the target.\n",
    "\n",
    "The null hypothesis is that there are no relation between the features and the target.\n",
    "\n",
    "**Null model**: Consist in that model that predict using only the mean or the median\n",
    "\n",
    "$$\n",
    "\\hat{y_i} = \\bar{y_i}:\n",
    "$$\n",
    "\n",
    "Where:\n",
    "\n",
    "* $\\hat{y_i}$: Prediction.\n",
    "* $\\bar{y_i}$: Mean of the target values in the training set.\n",
    "\n",
    "We are going to create the null value and compare with the other models we have:"
   ]
  },
  {
   "cell_type": "code",
   "execution_count": 38,
   "id": "3cab044a",
   "metadata": {
    "execution": {
     "iopub.execute_input": "2024-05-05T09:38:27.397019Z",
     "iopub.status.busy": "2024-05-05T09:38:27.396553Z",
     "iopub.status.idle": "2024-05-05T09:38:27.403664Z",
     "shell.execute_reply": "2024-05-05T09:38:27.402196Z"
    },
    "papermill": {
     "duration": 0.031492,
     "end_time": "2024-05-05T09:38:27.406224",
     "exception": false,
     "start_time": "2024-05-05T09:38:27.374732",
     "status": "completed"
    },
    "tags": []
   },
   "outputs": [],
   "source": [
    "# Empty model: Always predict the mean\n",
    "dummy_regressor = DummyRegressor(strategy='mean')\n",
    "dummy_regressor.fit(df_train_features, df_train_target)\n",
    "y_pred_dummy = dummy_regressor.predict(df_train_target)"
   ]
  }
 ],
 "metadata": {
  "kaggle": {
   "accelerator": "none",
   "dataSources": [
    {
     "datasetId": 4458,
     "sourceId": 8204,
     "sourceType": "datasetVersion"
    }
   ],
   "dockerImageVersionId": 30698,
   "isGpuEnabled": false,
   "isInternetEnabled": false,
   "language": "python",
   "sourceType": "notebook"
  },
  "kernelspec": {
   "display_name": "Python 3",
   "language": "python",
   "name": "python3"
  },
  "language_info": {
   "codemirror_mode": {
    "name": "ipython",
    "version": 3
   },
   "file_extension": ".py",
   "mimetype": "text/x-python",
   "name": "python",
   "nbconvert_exporter": "python",
   "pygments_lexer": "ipython3",
   "version": "3.10.13"
  },
  "papermill": {
   "default_parameters": {},
   "duration": 11.340739,
   "end_time": "2024-05-05T09:38:28.047862",
   "environment_variables": {},
   "exception": null,
   "input_path": "__notebook__.ipynb",
   "output_path": "__notebook__.ipynb",
   "parameters": {},
   "start_time": "2024-05-05T09:38:16.707123",
   "version": "2.5.0"
  }
 },
 "nbformat": 4,
 "nbformat_minor": 5
}
